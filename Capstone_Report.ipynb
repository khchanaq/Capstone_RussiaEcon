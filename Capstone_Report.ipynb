{
 "cells": [
  {
   "cell_type": "markdown",
   "metadata": {},
   "source": [
    "# Machine Learning Engineer Nanodegree\n",
    "## Capstone Project - Supervised Learning\n",
    "## Project: Predict *Housing Price* of Russia under different macro environment"
   ]
  },
  {
   "cell_type": "markdown",
   "metadata": {},
   "source": [
    "## Dataset Introduction \n",
    "\n",
    "Quote from https://www.kaggle.com/c/sberbank-russian-housing-market\n",
    "\n",
    "Housing costs demand a significant investment from both consumers and developers. And when it comes to planning a budget—whether personal or corporate—the last thing anyone needs is uncertainty about one of their biggets expenses. Sberbank, Russia’s oldest and largest bank, helps their customers by making predictions about realty prices so renters, developers, and lenders are more confident when they sign a lease or purchase a building.\n",
    "\n",
    "Although the housing market is relatively stable in Russia, the country’s volatile economy makes forecasting prices as a function of apartment characteristics a unique challenge. Complex interactions between housing features such as number of bedrooms and location are enough to make pricing predictions complicated. Adding an unstable economy to the mix means Sberbank and their customers need more than simple regression models in their arsenal.\n",
    "\n",
    "In this competition, Sberbank is challenging Kagglers to develop algorithms which use a broad spectrum of features to predict realty prices. Competitors will rely on a rich dataset that includes housing data and macroeconomic patterns. An accurate forecasting model will allow Sberbank to provide more certainty to their customers in an uncertain economy."
   ]
  },
  {
   "cell_type": "code",
   "execution_count": 1,
   "metadata": {},
   "outputs": [
    {
     "name": "stderr",
     "output_type": "stream",
     "text": [
      "Using TensorFlow backend.\n",
      "/Applications/anaconda/envs/tensorflow/lib/python3.6/site-packages/keras/legacy/interfaces.py:89: DeprecationWarning: inspect.getargspec() is deprecated, use inspect.signature() or inspect.getfullargspec()\n",
      "  wrapper._legacy_support_signature = inspect.getargspec(func)\n",
      "/Applications/anaconda/envs/tensorflow/lib/python3.6/site-packages/keras/legacy/interfaces.py:89: DeprecationWarning: inspect.getargspec() is deprecated, use inspect.signature() or inspect.getfullargspec()\n",
      "  wrapper._legacy_support_signature = inspect.getargspec(func)\n",
      "/Applications/anaconda/envs/tensorflow/lib/python3.6/site-packages/keras/legacy/interfaces.py:89: DeprecationWarning: inspect.getargspec() is deprecated, use inspect.signature() or inspect.getfullargspec()\n",
      "  wrapper._legacy_support_signature = inspect.getargspec(func)\n",
      "/Applications/anaconda/envs/tensorflow/lib/python3.6/site-packages/tensorflow/python/util/deprecation.py:212: DeprecationWarning: inspect.getargspec() is deprecated, use inspect.signature() or inspect.getfullargspec()\n",
      "  arg_spec = inspect.getargspec(func)\n",
      "/Applications/anaconda/envs/tensorflow/lib/python3.6/site-packages/tensorflow/python/util/deprecation.py:212: DeprecationWarning: inspect.getargspec() is deprecated, use inspect.signature() or inspect.getfullargspec()\n",
      "  arg_spec = inspect.getargspec(func)\n",
      "/Applications/anaconda/envs/tensorflow/lib/python3.6/site-packages/tensorflow/python/util/deprecation.py:212: DeprecationWarning: inspect.getargspec() is deprecated, use inspect.signature() or inspect.getfullargspec()\n",
      "  arg_spec = inspect.getargspec(func)\n",
      "/Applications/anaconda/envs/tensorflow/lib/python3.6/site-packages/tensorflow/python/util/deprecation.py:212: DeprecationWarning: inspect.getargspec() is deprecated, use inspect.signature() or inspect.getfullargspec()\n",
      "  arg_spec = inspect.getargspec(func)\n",
      "/Applications/anaconda/envs/tensorflow/lib/python3.6/site-packages/tensorflow/python/util/deprecation.py:212: DeprecationWarning: inspect.getargspec() is deprecated, use inspect.signature() or inspect.getfullargspec()\n",
      "  arg_spec = inspect.getargspec(func)\n",
      "/Applications/anaconda/envs/tensorflow/lib/python3.6/site-packages/tensorflow/contrib/labeled_tensor/python/ops/_typecheck.py:233: DeprecationWarning: inspect.getargspec() is deprecated, use inspect.signature() or inspect.getfullargspec()\n",
      "  spec = inspect.getargspec(f)\n",
      "/Applications/anaconda/envs/tensorflow/lib/python3.6/site-packages/tensorflow/contrib/labeled_tensor/python/ops/_typecheck.py:233: DeprecationWarning: inspect.getargspec() is deprecated, use inspect.signature() or inspect.getfullargspec()\n",
      "  spec = inspect.getargspec(f)\n",
      "/Applications/anaconda/envs/tensorflow/lib/python3.6/site-packages/tensorflow/contrib/labeled_tensor/python/ops/_typecheck.py:233: DeprecationWarning: inspect.getargspec() is deprecated, use inspect.signature() or inspect.getfullargspec()\n",
      "  spec = inspect.getargspec(f)\n",
      "/Applications/anaconda/envs/tensorflow/lib/python3.6/site-packages/tensorflow/contrib/labeled_tensor/python/ops/_typecheck.py:233: DeprecationWarning: inspect.getargspec() is deprecated, use inspect.signature() or inspect.getfullargspec()\n",
      "  spec = inspect.getargspec(f)\n",
      "/Applications/anaconda/envs/tensorflow/lib/python3.6/site-packages/tensorflow/contrib/labeled_tensor/python/ops/_typecheck.py:233: DeprecationWarning: inspect.getargspec() is deprecated, use inspect.signature() or inspect.getfullargspec()\n",
      "  spec = inspect.getargspec(f)\n",
      "/Applications/anaconda/envs/tensorflow/lib/python3.6/site-packages/tensorflow/contrib/labeled_tensor/python/ops/_typecheck.py:233: DeprecationWarning: inspect.getargspec() is deprecated, use inspect.signature() or inspect.getfullargspec()\n",
      "  spec = inspect.getargspec(f)\n",
      "/Applications/anaconda/envs/tensorflow/lib/python3.6/site-packages/tensorflow/contrib/labeled_tensor/python/ops/_typecheck.py:233: DeprecationWarning: inspect.getargspec() is deprecated, use inspect.signature() or inspect.getfullargspec()\n",
      "  spec = inspect.getargspec(f)\n",
      "/Applications/anaconda/envs/tensorflow/lib/python3.6/site-packages/tensorflow/contrib/labeled_tensor/python/ops/_typecheck.py:233: DeprecationWarning: inspect.getargspec() is deprecated, use inspect.signature() or inspect.getfullargspec()\n",
      "  spec = inspect.getargspec(f)\n",
      "/Applications/anaconda/envs/tensorflow/lib/python3.6/site-packages/tensorflow/contrib/labeled_tensor/python/ops/_typecheck.py:233: DeprecationWarning: inspect.getargspec() is deprecated, use inspect.signature() or inspect.getfullargspec()\n",
      "  spec = inspect.getargspec(f)\n",
      "/Applications/anaconda/envs/tensorflow/lib/python3.6/site-packages/tensorflow/contrib/labeled_tensor/python/ops/_typecheck.py:233: DeprecationWarning: inspect.getargspec() is deprecated, use inspect.signature() or inspect.getfullargspec()\n",
      "  spec = inspect.getargspec(f)\n",
      "/Applications/anaconda/envs/tensorflow/lib/python3.6/site-packages/tensorflow/contrib/labeled_tensor/python/ops/_typecheck.py:233: DeprecationWarning: inspect.getargspec() is deprecated, use inspect.signature() or inspect.getfullargspec()\n",
      "  spec = inspect.getargspec(f)\n",
      "/Applications/anaconda/envs/tensorflow/lib/python3.6/site-packages/tensorflow/contrib/labeled_tensor/python/ops/_typecheck.py:233: DeprecationWarning: inspect.getargspec() is deprecated, use inspect.signature() or inspect.getfullargspec()\n",
      "  spec = inspect.getargspec(f)\n",
      "/Applications/anaconda/envs/tensorflow/lib/python3.6/site-packages/tensorflow/contrib/labeled_tensor/python/ops/_typecheck.py:233: DeprecationWarning: inspect.getargspec() is deprecated, use inspect.signature() or inspect.getfullargspec()\n",
      "  spec = inspect.getargspec(f)\n",
      "/Applications/anaconda/envs/tensorflow/lib/python3.6/site-packages/tensorflow/contrib/labeled_tensor/python/ops/_typecheck.py:233: DeprecationWarning: inspect.getargspec() is deprecated, use inspect.signature() or inspect.getfullargspec()\n",
      "  spec = inspect.getargspec(f)\n",
      "/Applications/anaconda/envs/tensorflow/lib/python3.6/site-packages/tensorflow/contrib/labeled_tensor/python/ops/_typecheck.py:233: DeprecationWarning: inspect.getargspec() is deprecated, use inspect.signature() or inspect.getfullargspec()\n",
      "  spec = inspect.getargspec(f)\n",
      "/Applications/anaconda/envs/tensorflow/lib/python3.6/site-packages/tensorflow/contrib/labeled_tensor/python/ops/_typecheck.py:233: DeprecationWarning: inspect.getargspec() is deprecated, use inspect.signature() or inspect.getfullargspec()\n",
      "  spec = inspect.getargspec(f)\n",
      "/Applications/anaconda/envs/tensorflow/lib/python3.6/site-packages/tensorflow/contrib/labeled_tensor/python/ops/_typecheck.py:233: DeprecationWarning: inspect.getargspec() is deprecated, use inspect.signature() or inspect.getfullargspec()\n",
      "  spec = inspect.getargspec(f)\n",
      "/Applications/anaconda/envs/tensorflow/lib/python3.6/site-packages/tensorflow/contrib/labeled_tensor/python/ops/_typecheck.py:233: DeprecationWarning: inspect.getargspec() is deprecated, use inspect.signature() or inspect.getfullargspec()\n",
      "  spec = inspect.getargspec(f)\n",
      "/Applications/anaconda/envs/tensorflow/lib/python3.6/site-packages/tensorflow/contrib/labeled_tensor/python/ops/_typecheck.py:233: DeprecationWarning: inspect.getargspec() is deprecated, use inspect.signature() or inspect.getfullargspec()\n",
      "  spec = inspect.getargspec(f)\n",
      "/Applications/anaconda/envs/tensorflow/lib/python3.6/site-packages/tensorflow/contrib/labeled_tensor/python/ops/_typecheck.py:233: DeprecationWarning: inspect.getargspec() is deprecated, use inspect.signature() or inspect.getfullargspec()\n",
      "  spec = inspect.getargspec(f)\n",
      "/Applications/anaconda/envs/tensorflow/lib/python3.6/site-packages/tensorflow/contrib/labeled_tensor/python/ops/_typecheck.py:233: DeprecationWarning: inspect.getargspec() is deprecated, use inspect.signature() or inspect.getfullargspec()\n",
      "  spec = inspect.getargspec(f)\n",
      "/Applications/anaconda/envs/tensorflow/lib/python3.6/site-packages/tensorflow/contrib/labeled_tensor/python/ops/_typecheck.py:233: DeprecationWarning: inspect.getargspec() is deprecated, use inspect.signature() or inspect.getfullargspec()\n",
      "  spec = inspect.getargspec(f)\n",
      "/Applications/anaconda/envs/tensorflow/lib/python3.6/site-packages/tensorflow/contrib/labeled_tensor/python/ops/_typecheck.py:233: DeprecationWarning: inspect.getargspec() is deprecated, use inspect.signature() or inspect.getfullargspec()\n",
      "  spec = inspect.getargspec(f)\n",
      "/Applications/anaconda/envs/tensorflow/lib/python3.6/site-packages/tensorflow/contrib/labeled_tensor/python/ops/_typecheck.py:233: DeprecationWarning: inspect.getargspec() is deprecated, use inspect.signature() or inspect.getfullargspec()\n",
      "  spec = inspect.getargspec(f)\n",
      "/Applications/anaconda/envs/tensorflow/lib/python3.6/site-packages/tensorflow/contrib/labeled_tensor/python/ops/_typecheck.py:233: DeprecationWarning: inspect.getargspec() is deprecated, use inspect.signature() or inspect.getfullargspec()\n",
      "  spec = inspect.getargspec(f)\n",
      "/Applications/anaconda/envs/tensorflow/lib/python3.6/site-packages/tensorflow/contrib/labeled_tensor/python/ops/_typecheck.py:233: DeprecationWarning: inspect.getargspec() is deprecated, use inspect.signature() or inspect.getfullargspec()\n",
      "  spec = inspect.getargspec(f)\n",
      "/Applications/anaconda/envs/tensorflow/lib/python3.6/site-packages/tensorflow/contrib/labeled_tensor/python/ops/_typecheck.py:233: DeprecationWarning: inspect.getargspec() is deprecated, use inspect.signature() or inspect.getfullargspec()\n",
      "  spec = inspect.getargspec(f)\n",
      "/Applications/anaconda/envs/tensorflow/lib/python3.6/site-packages/tensorflow/contrib/labeled_tensor/python/ops/_typecheck.py:233: DeprecationWarning: inspect.getargspec() is deprecated, use inspect.signature() or inspect.getfullargspec()\n",
      "  spec = inspect.getargspec(f)\n",
      "/Applications/anaconda/envs/tensorflow/lib/python3.6/site-packages/tensorflow/contrib/labeled_tensor/python/ops/_typecheck.py:233: DeprecationWarning: inspect.getargspec() is deprecated, use inspect.signature() or inspect.getfullargspec()\n",
      "  spec = inspect.getargspec(f)\n",
      "/Applications/anaconda/envs/tensorflow/lib/python3.6/site-packages/tensorflow/contrib/labeled_tensor/python/ops/_typecheck.py:233: DeprecationWarning: inspect.getargspec() is deprecated, use inspect.signature() or inspect.getfullargspec()\n",
      "  spec = inspect.getargspec(f)\n",
      "/Applications/anaconda/envs/tensorflow/lib/python3.6/site-packages/tensorflow/contrib/labeled_tensor/python/ops/_typecheck.py:233: DeprecationWarning: inspect.getargspec() is deprecated, use inspect.signature() or inspect.getfullargspec()\n",
      "  spec = inspect.getargspec(f)\n",
      "/Applications/anaconda/envs/tensorflow/lib/python3.6/site-packages/tensorflow/contrib/labeled_tensor/python/ops/_typecheck.py:233: DeprecationWarning: inspect.getargspec() is deprecated, use inspect.signature() or inspect.getfullargspec()\n",
      "  spec = inspect.getargspec(f)\n",
      "/Applications/anaconda/envs/tensorflow/lib/python3.6/site-packages/tensorflow/contrib/labeled_tensor/python/ops/_typecheck.py:233: DeprecationWarning: inspect.getargspec() is deprecated, use inspect.signature() or inspect.getfullargspec()\n",
      "  spec = inspect.getargspec(f)\n",
      "/Applications/anaconda/envs/tensorflow/lib/python3.6/site-packages/tensorflow/contrib/labeled_tensor/python/ops/_typecheck.py:233: DeprecationWarning: inspect.getargspec() is deprecated, use inspect.signature() or inspect.getfullargspec()\n",
      "  spec = inspect.getargspec(f)\n",
      "/Applications/anaconda/envs/tensorflow/lib/python3.6/site-packages/tensorflow/contrib/labeled_tensor/python/ops/_typecheck.py:233: DeprecationWarning: inspect.getargspec() is deprecated, use inspect.signature() or inspect.getfullargspec()\n",
      "  spec = inspect.getargspec(f)\n",
      "/Applications/anaconda/envs/tensorflow/lib/python3.6/site-packages/tensorflow/contrib/labeled_tensor/python/ops/_typecheck.py:233: DeprecationWarning: inspect.getargspec() is deprecated, use inspect.signature() or inspect.getfullargspec()\n",
      "  spec = inspect.getargspec(f)\n",
      "/Applications/anaconda/envs/tensorflow/lib/python3.6/site-packages/tensorflow/contrib/labeled_tensor/python/ops/_typecheck.py:233: DeprecationWarning: inspect.getargspec() is deprecated, use inspect.signature() or inspect.getfullargspec()\n",
      "  spec = inspect.getargspec(f)\n",
      "/Applications/anaconda/envs/tensorflow/lib/python3.6/site-packages/tensorflow/contrib/labeled_tensor/python/ops/_typecheck.py:233: DeprecationWarning: inspect.getargspec() is deprecated, use inspect.signature() or inspect.getfullargspec()\n",
      "  spec = inspect.getargspec(f)\n",
      "/Applications/anaconda/envs/tensorflow/lib/python3.6/site-packages/tensorflow/contrib/labeled_tensor/python/ops/_typecheck.py:233: DeprecationWarning: inspect.getargspec() is deprecated, use inspect.signature() or inspect.getfullargspec()\n",
      "  spec = inspect.getargspec(f)\n",
      "/Applications/anaconda/envs/tensorflow/lib/python3.6/site-packages/tensorflow/contrib/labeled_tensor/python/ops/_typecheck.py:233: DeprecationWarning: inspect.getargspec() is deprecated, use inspect.signature() or inspect.getfullargspec()\n",
      "  spec = inspect.getargspec(f)\n",
      "/Applications/anaconda/envs/tensorflow/lib/python3.6/site-packages/tensorflow/contrib/labeled_tensor/python/ops/_typecheck.py:233: DeprecationWarning: inspect.getargspec() is deprecated, use inspect.signature() or inspect.getfullargspec()\n",
      "  spec = inspect.getargspec(f)\n",
      "/Applications/anaconda/envs/tensorflow/lib/python3.6/site-packages/tensorflow/contrib/labeled_tensor/python/ops/_typecheck.py:233: DeprecationWarning: inspect.getargspec() is deprecated, use inspect.signature() or inspect.getfullargspec()\n",
      "  spec = inspect.getargspec(f)\n",
      "/Applications/anaconda/envs/tensorflow/lib/python3.6/site-packages/tensorflow/contrib/labeled_tensor/python/ops/_typecheck.py:233: DeprecationWarning: inspect.getargspec() is deprecated, use inspect.signature() or inspect.getfullargspec()\n",
      "  spec = inspect.getargspec(f)\n",
      "/Applications/anaconda/envs/tensorflow/lib/python3.6/site-packages/tensorflow/contrib/labeled_tensor/python/ops/_typecheck.py:233: DeprecationWarning: inspect.getargspec() is deprecated, use inspect.signature() or inspect.getfullargspec()\n",
      "  spec = inspect.getargspec(f)\n",
      "/Applications/anaconda/envs/tensorflow/lib/python3.6/site-packages/tensorflow/contrib/labeled_tensor/python/ops/_typecheck.py:233: DeprecationWarning: inspect.getargspec() is deprecated, use inspect.signature() or inspect.getfullargspec()\n",
      "  spec = inspect.getargspec(f)\n",
      "/Applications/anaconda/envs/tensorflow/lib/python3.6/site-packages/tensorflow/contrib/labeled_tensor/python/ops/_typecheck.py:233: DeprecationWarning: inspect.getargspec() is deprecated, use inspect.signature() or inspect.getfullargspec()\n",
      "  spec = inspect.getargspec(f)\n",
      "/Applications/anaconda/envs/tensorflow/lib/python3.6/site-packages/tensorflow/contrib/labeled_tensor/python/ops/_typecheck.py:233: DeprecationWarning: inspect.getargspec() is deprecated, use inspect.signature() or inspect.getfullargspec()\n",
      "  spec = inspect.getargspec(f)\n",
      "/Applications/anaconda/envs/tensorflow/lib/python3.6/site-packages/tensorflow/contrib/labeled_tensor/python/ops/_typecheck.py:233: DeprecationWarning: inspect.getargspec() is deprecated, use inspect.signature() or inspect.getfullargspec()\n",
      "  spec = inspect.getargspec(f)\n",
      "/Applications/anaconda/envs/tensorflow/lib/python3.6/site-packages/tensorflow/contrib/labeled_tensor/python/ops/_typecheck.py:233: DeprecationWarning: inspect.getargspec() is deprecated, use inspect.signature() or inspect.getfullargspec()\n",
      "  spec = inspect.getargspec(f)\n",
      "/Applications/anaconda/envs/tensorflow/lib/python3.6/site-packages/tensorflow/contrib/labeled_tensor/python/ops/_typecheck.py:233: DeprecationWarning: inspect.getargspec() is deprecated, use inspect.signature() or inspect.getfullargspec()\n",
      "  spec = inspect.getargspec(f)\n",
      "/Applications/anaconda/envs/tensorflow/lib/python3.6/site-packages/tensorflow/contrib/labeled_tensor/python/ops/_typecheck.py:233: DeprecationWarning: inspect.getargspec() is deprecated, use inspect.signature() or inspect.getfullargspec()\n",
      "  spec = inspect.getargspec(f)\n",
      "/Applications/anaconda/envs/tensorflow/lib/python3.6/site-packages/tensorflow/contrib/labeled_tensor/python/ops/_typecheck.py:233: DeprecationWarning: inspect.getargspec() is deprecated, use inspect.signature() or inspect.getfullargspec()\n",
      "  spec = inspect.getargspec(f)\n",
      "/Applications/anaconda/envs/tensorflow/lib/python3.6/site-packages/tensorflow/contrib/labeled_tensor/python/ops/_typecheck.py:233: DeprecationWarning: inspect.getargspec() is deprecated, use inspect.signature() or inspect.getfullargspec()\n",
      "  spec = inspect.getargspec(f)\n",
      "/Applications/anaconda/envs/tensorflow/lib/python3.6/site-packages/tensorflow/contrib/labeled_tensor/python/ops/_typecheck.py:233: DeprecationWarning: inspect.getargspec() is deprecated, use inspect.signature() or inspect.getfullargspec()\n",
      "  spec = inspect.getargspec(f)\n",
      "/Applications/anaconda/envs/tensorflow/lib/python3.6/site-packages/tensorflow/contrib/labeled_tensor/python/ops/_typecheck.py:233: DeprecationWarning: inspect.getargspec() is deprecated, use inspect.signature() or inspect.getfullargspec()\n",
      "  spec = inspect.getargspec(f)\n",
      "/Applications/anaconda/envs/tensorflow/lib/python3.6/site-packages/tensorflow/contrib/labeled_tensor/python/ops/_typecheck.py:233: DeprecationWarning: inspect.getargspec() is deprecated, use inspect.signature() or inspect.getfullargspec()\n",
      "  spec = inspect.getargspec(f)\n",
      "/Applications/anaconda/envs/tensorflow/lib/python3.6/site-packages/tensorflow/contrib/labeled_tensor/python/ops/_typecheck.py:233: DeprecationWarning: inspect.getargspec() is deprecated, use inspect.signature() or inspect.getfullargspec()\n",
      "  spec = inspect.getargspec(f)\n",
      "/Applications/anaconda/envs/tensorflow/lib/python3.6/site-packages/tensorflow/contrib/labeled_tensor/python/ops/_typecheck.py:233: DeprecationWarning: inspect.getargspec() is deprecated, use inspect.signature() or inspect.getfullargspec()\n",
      "  spec = inspect.getargspec(f)\n",
      "/Applications/anaconda/envs/tensorflow/lib/python3.6/site-packages/tensorflow/contrib/labeled_tensor/python/ops/_typecheck.py:233: DeprecationWarning: inspect.getargspec() is deprecated, use inspect.signature() or inspect.getfullargspec()\n",
      "  spec = inspect.getargspec(f)\n",
      "/Applications/anaconda/envs/tensorflow/lib/python3.6/site-packages/tensorflow/contrib/labeled_tensor/python/ops/_typecheck.py:233: DeprecationWarning: inspect.getargspec() is deprecated, use inspect.signature() or inspect.getfullargspec()\n",
      "  spec = inspect.getargspec(f)\n",
      "/Applications/anaconda/envs/tensorflow/lib/python3.6/site-packages/tensorflow/contrib/labeled_tensor/python/ops/_typecheck.py:233: DeprecationWarning: inspect.getargspec() is deprecated, use inspect.signature() or inspect.getfullargspec()\n",
      "  spec = inspect.getargspec(f)\n",
      "/Applications/anaconda/envs/tensorflow/lib/python3.6/site-packages/tensorflow/contrib/labeled_tensor/python/ops/_typecheck.py:233: DeprecationWarning: inspect.getargspec() is deprecated, use inspect.signature() or inspect.getfullargspec()\n",
      "  spec = inspect.getargspec(f)\n",
      "/Applications/anaconda/envs/tensorflow/lib/python3.6/site-packages/tensorflow/contrib/labeled_tensor/python/ops/_typecheck.py:233: DeprecationWarning: inspect.getargspec() is deprecated, use inspect.signature() or inspect.getfullargspec()\n",
      "  spec = inspect.getargspec(f)\n",
      "/Applications/anaconda/envs/tensorflow/lib/python3.6/site-packages/tensorflow/contrib/labeled_tensor/python/ops/_typecheck.py:233: DeprecationWarning: inspect.getargspec() is deprecated, use inspect.signature() or inspect.getfullargspec()\n",
      "  spec = inspect.getargspec(f)\n",
      "/Applications/anaconda/envs/tensorflow/lib/python3.6/site-packages/tensorflow/contrib/labeled_tensor/python/ops/_typecheck.py:233: DeprecationWarning: inspect.getargspec() is deprecated, use inspect.signature() or inspect.getfullargspec()\n",
      "  spec = inspect.getargspec(f)\n",
      "/Applications/anaconda/envs/tensorflow/lib/python3.6/site-packages/tensorflow/contrib/labeled_tensor/python/ops/_typecheck.py:233: DeprecationWarning: inspect.getargspec() is deprecated, use inspect.signature() or inspect.getfullargspec()\n",
      "  spec = inspect.getargspec(f)\n",
      "/Applications/anaconda/envs/tensorflow/lib/python3.6/site-packages/tensorflow/contrib/labeled_tensor/python/ops/_typecheck.py:233: DeprecationWarning: inspect.getargspec() is deprecated, use inspect.signature() or inspect.getfullargspec()\n",
      "  spec = inspect.getargspec(f)\n",
      "/Applications/anaconda/envs/tensorflow/lib/python3.6/site-packages/tensorflow/contrib/labeled_tensor/python/ops/_typecheck.py:233: DeprecationWarning: inspect.getargspec() is deprecated, use inspect.signature() or inspect.getfullargspec()\n",
      "  spec = inspect.getargspec(f)\n",
      "/Applications/anaconda/envs/tensorflow/lib/python3.6/site-packages/tensorflow/contrib/labeled_tensor/python/ops/_typecheck.py:233: DeprecationWarning: inspect.getargspec() is deprecated, use inspect.signature() or inspect.getfullargspec()\n",
      "  spec = inspect.getargspec(f)\n",
      "/Applications/anaconda/envs/tensorflow/lib/python3.6/site-packages/tensorflow/contrib/labeled_tensor/python/ops/_typecheck.py:233: DeprecationWarning: inspect.getargspec() is deprecated, use inspect.signature() or inspect.getfullargspec()\n",
      "  spec = inspect.getargspec(f)\n",
      "/Applications/anaconda/envs/tensorflow/lib/python3.6/site-packages/tensorflow/contrib/labeled_tensor/python/ops/_typecheck.py:233: DeprecationWarning: inspect.getargspec() is deprecated, use inspect.signature() or inspect.getfullargspec()\n",
      "  spec = inspect.getargspec(f)\n",
      "/Applications/anaconda/envs/tensorflow/lib/python3.6/site-packages/tensorflow/contrib/labeled_tensor/python/ops/_typecheck.py:233: DeprecationWarning: inspect.getargspec() is deprecated, use inspect.signature() or inspect.getfullargspec()\n",
      "  spec = inspect.getargspec(f)\n",
      "/Applications/anaconda/envs/tensorflow/lib/python3.6/site-packages/tensorflow/contrib/labeled_tensor/python/ops/_typecheck.py:233: DeprecationWarning: inspect.getargspec() is deprecated, use inspect.signature() or inspect.getfullargspec()\n",
      "  spec = inspect.getargspec(f)\n",
      "/Applications/anaconda/envs/tensorflow/lib/python3.6/site-packages/tensorflow/contrib/labeled_tensor/python/ops/_typecheck.py:233: DeprecationWarning: inspect.getargspec() is deprecated, use inspect.signature() or inspect.getfullargspec()\n",
      "  spec = inspect.getargspec(f)\n",
      "/Applications/anaconda/envs/tensorflow/lib/python3.6/site-packages/tensorflow/contrib/labeled_tensor/python/ops/_typecheck.py:233: DeprecationWarning: inspect.getargspec() is deprecated, use inspect.signature() or inspect.getfullargspec()\n",
      "  spec = inspect.getargspec(f)\n",
      "/Applications/anaconda/envs/tensorflow/lib/python3.6/site-packages/tensorflow/contrib/labeled_tensor/python/ops/_typecheck.py:233: DeprecationWarning: inspect.getargspec() is deprecated, use inspect.signature() or inspect.getfullargspec()\n",
      "  spec = inspect.getargspec(f)\n",
      "/Applications/anaconda/envs/tensorflow/lib/python3.6/site-packages/tensorflow/contrib/labeled_tensor/python/ops/_typecheck.py:233: DeprecationWarning: inspect.getargspec() is deprecated, use inspect.signature() or inspect.getfullargspec()\n",
      "  spec = inspect.getargspec(f)\n",
      "/Applications/anaconda/envs/tensorflow/lib/python3.6/site-packages/tensorflow/contrib/labeled_tensor/python/ops/_typecheck.py:233: DeprecationWarning: inspect.getargspec() is deprecated, use inspect.signature() or inspect.getfullargspec()\n",
      "  spec = inspect.getargspec(f)\n",
      "/Applications/anaconda/envs/tensorflow/lib/python3.6/site-packages/tensorflow/contrib/labeled_tensor/python/ops/_typecheck.py:233: DeprecationWarning: inspect.getargspec() is deprecated, use inspect.signature() or inspect.getfullargspec()\n",
      "  spec = inspect.getargspec(f)\n",
      "/Applications/anaconda/envs/tensorflow/lib/python3.6/site-packages/tensorflow/contrib/labeled_tensor/python/ops/_typecheck.py:233: DeprecationWarning: inspect.getargspec() is deprecated, use inspect.signature() or inspect.getfullargspec()\n",
      "  spec = inspect.getargspec(f)\n",
      "/Applications/anaconda/envs/tensorflow/lib/python3.6/site-packages/tensorflow/contrib/labeled_tensor/python/ops/_typecheck.py:233: DeprecationWarning: inspect.getargspec() is deprecated, use inspect.signature() or inspect.getfullargspec()\n",
      "  spec = inspect.getargspec(f)\n",
      "/Applications/anaconda/envs/tensorflow/lib/python3.6/site-packages/tensorflow/contrib/labeled_tensor/python/ops/_typecheck.py:233: DeprecationWarning: inspect.getargspec() is deprecated, use inspect.signature() or inspect.getfullargspec()\n",
      "  spec = inspect.getargspec(f)\n",
      "/Applications/anaconda/envs/tensorflow/lib/python3.6/site-packages/tensorflow/contrib/labeled_tensor/python/ops/_typecheck.py:233: DeprecationWarning: inspect.getargspec() is deprecated, use inspect.signature() or inspect.getfullargspec()\n",
      "  spec = inspect.getargspec(f)\n",
      "/Applications/anaconda/envs/tensorflow/lib/python3.6/site-packages/tensorflow/contrib/labeled_tensor/python/ops/_typecheck.py:233: DeprecationWarning: inspect.getargspec() is deprecated, use inspect.signature() or inspect.getfullargspec()\n",
      "  spec = inspect.getargspec(f)\n",
      "/Applications/anaconda/envs/tensorflow/lib/python3.6/site-packages/tensorflow/contrib/labeled_tensor/python/ops/_typecheck.py:233: DeprecationWarning: inspect.getargspec() is deprecated, use inspect.signature() or inspect.getfullargspec()\n",
      "  spec = inspect.getargspec(f)\n",
      "/Applications/anaconda/envs/tensorflow/lib/python3.6/site-packages/tensorflow/contrib/labeled_tensor/python/ops/_typecheck.py:233: DeprecationWarning: inspect.getargspec() is deprecated, use inspect.signature() or inspect.getfullargspec()\n",
      "  spec = inspect.getargspec(f)\n",
      "/Applications/anaconda/envs/tensorflow/lib/python3.6/site-packages/tensorflow/contrib/labeled_tensor/python/ops/_typecheck.py:233: DeprecationWarning: inspect.getargspec() is deprecated, use inspect.signature() or inspect.getfullargspec()\n",
      "  spec = inspect.getargspec(f)\n",
      "/Applications/anaconda/envs/tensorflow/lib/python3.6/site-packages/tensorflow/contrib/labeled_tensor/python/ops/_typecheck.py:233: DeprecationWarning: inspect.getargspec() is deprecated, use inspect.signature() or inspect.getfullargspec()\n",
      "  spec = inspect.getargspec(f)\n",
      "/Applications/anaconda/envs/tensorflow/lib/python3.6/site-packages/tensorflow/contrib/labeled_tensor/python/ops/_typecheck.py:233: DeprecationWarning: inspect.getargspec() is deprecated, use inspect.signature() or inspect.getfullargspec()\n",
      "  spec = inspect.getargspec(f)\n",
      "/Applications/anaconda/envs/tensorflow/lib/python3.6/site-packages/tensorflow/contrib/labeled_tensor/python/ops/_typecheck.py:233: DeprecationWarning: inspect.getargspec() is deprecated, use inspect.signature() or inspect.getfullargspec()\n",
      "  spec = inspect.getargspec(f)\n",
      "/Applications/anaconda/envs/tensorflow/lib/python3.6/site-packages/tensorflow/contrib/labeled_tensor/python/ops/_typecheck.py:233: DeprecationWarning: inspect.getargspec() is deprecated, use inspect.signature() or inspect.getfullargspec()\n",
      "  spec = inspect.getargspec(f)\n",
      "/Applications/anaconda/envs/tensorflow/lib/python3.6/site-packages/tensorflow/contrib/labeled_tensor/python/ops/_typecheck.py:233: DeprecationWarning: inspect.getargspec() is deprecated, use inspect.signature() or inspect.getfullargspec()\n",
      "  spec = inspect.getargspec(f)\n",
      "/Applications/anaconda/envs/tensorflow/lib/python3.6/site-packages/tensorflow/contrib/labeled_tensor/python/ops/_typecheck.py:233: DeprecationWarning: inspect.getargspec() is deprecated, use inspect.signature() or inspect.getfullargspec()\n",
      "  spec = inspect.getargspec(f)\n",
      "/Applications/anaconda/envs/tensorflow/lib/python3.6/site-packages/tensorflow/contrib/labeled_tensor/python/ops/_typecheck.py:233: DeprecationWarning: inspect.getargspec() is deprecated, use inspect.signature() or inspect.getfullargspec()\n",
      "  spec = inspect.getargspec(f)\n",
      "/Applications/anaconda/envs/tensorflow/lib/python3.6/site-packages/tensorflow/contrib/labeled_tensor/python/ops/_typecheck.py:233: DeprecationWarning: inspect.getargspec() is deprecated, use inspect.signature() or inspect.getfullargspec()\n",
      "  spec = inspect.getargspec(f)\n",
      "/Applications/anaconda/envs/tensorflow/lib/python3.6/site-packages/tensorflow/contrib/labeled_tensor/python/ops/_typecheck.py:233: DeprecationWarning: inspect.getargspec() is deprecated, use inspect.signature() or inspect.getfullargspec()\n",
      "  spec = inspect.getargspec(f)\n",
      "/Applications/anaconda/envs/tensorflow/lib/python3.6/site-packages/tensorflow/contrib/labeled_tensor/python/ops/_typecheck.py:233: DeprecationWarning: inspect.getargspec() is deprecated, use inspect.signature() or inspect.getfullargspec()\n",
      "  spec = inspect.getargspec(f)\n",
      "/Applications/anaconda/envs/tensorflow/lib/python3.6/site-packages/tensorflow/contrib/labeled_tensor/python/ops/_typecheck.py:233: DeprecationWarning: inspect.getargspec() is deprecated, use inspect.signature() or inspect.getfullargspec()\n",
      "  spec = inspect.getargspec(f)\n",
      "/Applications/anaconda/envs/tensorflow/lib/python3.6/site-packages/tensorflow/contrib/labeled_tensor/python/ops/_typecheck.py:233: DeprecationWarning: inspect.getargspec() is deprecated, use inspect.signature() or inspect.getfullargspec()\n",
      "  spec = inspect.getargspec(f)\n",
      "/Applications/anaconda/envs/tensorflow/lib/python3.6/site-packages/tensorflow/contrib/labeled_tensor/python/ops/_typecheck.py:233: DeprecationWarning: inspect.getargspec() is deprecated, use inspect.signature() or inspect.getfullargspec()\n",
      "  spec = inspect.getargspec(f)\n",
      "/Applications/anaconda/envs/tensorflow/lib/python3.6/site-packages/tensorflow/contrib/labeled_tensor/python/ops/_typecheck.py:233: DeprecationWarning: inspect.getargspec() is deprecated, use inspect.signature() or inspect.getfullargspec()\n",
      "  spec = inspect.getargspec(f)\n",
      "/Applications/anaconda/envs/tensorflow/lib/python3.6/site-packages/tensorflow/contrib/labeled_tensor/python/ops/_typecheck.py:233: DeprecationWarning: inspect.getargspec() is deprecated, use inspect.signature() or inspect.getfullargspec()\n",
      "  spec = inspect.getargspec(f)\n",
      "/Applications/anaconda/envs/tensorflow/lib/python3.6/site-packages/tensorflow/contrib/labeled_tensor/python/ops/_typecheck.py:233: DeprecationWarning: inspect.getargspec() is deprecated, use inspect.signature() or inspect.getfullargspec()\n",
      "  spec = inspect.getargspec(f)\n",
      "/Applications/anaconda/envs/tensorflow/lib/python3.6/site-packages/tensorflow/contrib/labeled_tensor/python/ops/_typecheck.py:233: DeprecationWarning: inspect.getargspec() is deprecated, use inspect.signature() or inspect.getfullargspec()\n",
      "  spec = inspect.getargspec(f)\n",
      "/Applications/anaconda/envs/tensorflow/lib/python3.6/site-packages/tensorflow/contrib/labeled_tensor/python/ops/_typecheck.py:233: DeprecationWarning: inspect.getargspec() is deprecated, use inspect.signature() or inspect.getfullargspec()\n",
      "  spec = inspect.getargspec(f)\n",
      "/Applications/anaconda/envs/tensorflow/lib/python3.6/site-packages/tensorflow/contrib/labeled_tensor/python/ops/_typecheck.py:233: DeprecationWarning: inspect.getargspec() is deprecated, use inspect.signature() or inspect.getfullargspec()\n",
      "  spec = inspect.getargspec(f)\n",
      "/Applications/anaconda/envs/tensorflow/lib/python3.6/site-packages/tensorflow/contrib/labeled_tensor/python/ops/_typecheck.py:233: DeprecationWarning: inspect.getargspec() is deprecated, use inspect.signature() or inspect.getfullargspec()\n",
      "  spec = inspect.getargspec(f)\n",
      "/Applications/anaconda/envs/tensorflow/lib/python3.6/site-packages/tensorflow/contrib/labeled_tensor/python/ops/_typecheck.py:233: DeprecationWarning: inspect.getargspec() is deprecated, use inspect.signature() or inspect.getfullargspec()\n",
      "  spec = inspect.getargspec(f)\n",
      "/Applications/anaconda/envs/tensorflow/lib/python3.6/site-packages/tensorflow/contrib/labeled_tensor/python/ops/_typecheck.py:233: DeprecationWarning: inspect.getargspec() is deprecated, use inspect.signature() or inspect.getfullargspec()\n",
      "  spec = inspect.getargspec(f)\n",
      "/Applications/anaconda/envs/tensorflow/lib/python3.6/site-packages/tensorflow/contrib/labeled_tensor/python/ops/_typecheck.py:233: DeprecationWarning: inspect.getargspec() is deprecated, use inspect.signature() or inspect.getfullargspec()\n",
      "  spec = inspect.getargspec(f)\n",
      "/Applications/anaconda/envs/tensorflow/lib/python3.6/site-packages/tensorflow/contrib/labeled_tensor/python/ops/_typecheck.py:233: DeprecationWarning: inspect.getargspec() is deprecated, use inspect.signature() or inspect.getfullargspec()\n",
      "  spec = inspect.getargspec(f)\n",
      "/Applications/anaconda/envs/tensorflow/lib/python3.6/site-packages/tensorflow/contrib/labeled_tensor/python/ops/_typecheck.py:233: DeprecationWarning: inspect.getargspec() is deprecated, use inspect.signature() or inspect.getfullargspec()\n",
      "  spec = inspect.getargspec(f)\n",
      "/Applications/anaconda/envs/tensorflow/lib/python3.6/site-packages/tensorflow/contrib/labeled_tensor/python/ops/_typecheck.py:233: DeprecationWarning: inspect.getargspec() is deprecated, use inspect.signature() or inspect.getfullargspec()\n",
      "  spec = inspect.getargspec(f)\n",
      "/Applications/anaconda/envs/tensorflow/lib/python3.6/site-packages/tensorflow/contrib/labeled_tensor/python/ops/_typecheck.py:233: DeprecationWarning: inspect.getargspec() is deprecated, use inspect.signature() or inspect.getfullargspec()\n",
      "  spec = inspect.getargspec(f)\n",
      "/Applications/anaconda/envs/tensorflow/lib/python3.6/site-packages/tensorflow/contrib/labeled_tensor/python/ops/_typecheck.py:233: DeprecationWarning: inspect.getargspec() is deprecated, use inspect.signature() or inspect.getfullargspec()\n",
      "  spec = inspect.getargspec(f)\n",
      "/Applications/anaconda/envs/tensorflow/lib/python3.6/site-packages/tensorflow/contrib/labeled_tensor/python/ops/_typecheck.py:233: DeprecationWarning: inspect.getargspec() is deprecated, use inspect.signature() or inspect.getfullargspec()\n",
      "  spec = inspect.getargspec(f)\n",
      "/Applications/anaconda/envs/tensorflow/lib/python3.6/site-packages/tensorflow/contrib/labeled_tensor/python/ops/_typecheck.py:233: DeprecationWarning: inspect.getargspec() is deprecated, use inspect.signature() or inspect.getfullargspec()\n",
      "  spec = inspect.getargspec(f)\n",
      "/Applications/anaconda/envs/tensorflow/lib/python3.6/site-packages/tensorflow/contrib/labeled_tensor/python/ops/_typecheck.py:233: DeprecationWarning: inspect.getargspec() is deprecated, use inspect.signature() or inspect.getfullargspec()\n",
      "  spec = inspect.getargspec(f)\n",
      "/Applications/anaconda/envs/tensorflow/lib/python3.6/site-packages/tensorflow/contrib/labeled_tensor/python/ops/_typecheck.py:233: DeprecationWarning: inspect.getargspec() is deprecated, use inspect.signature() or inspect.getfullargspec()\n",
      "  spec = inspect.getargspec(f)\n"
     ]
    },
    {
     "name": "stderr",
     "output_type": "stream",
     "text": [
      "/Applications/anaconda/envs/tensorflow/lib/python3.6/site-packages/keras/legacy/interfaces.py:89: DeprecationWarning: inspect.getargspec() is deprecated, use inspect.signature() or inspect.getfullargspec()\n",
      "  wrapper._legacy_support_signature = inspect.getargspec(func)\n",
      "/Applications/anaconda/envs/tensorflow/lib/python3.6/site-packages/keras/legacy/interfaces.py:89: DeprecationWarning: inspect.getargspec() is deprecated, use inspect.signature() or inspect.getfullargspec()\n",
      "  wrapper._legacy_support_signature = inspect.getargspec(func)\n",
      "/Applications/anaconda/envs/tensorflow/lib/python3.6/site-packages/keras/legacy/interfaces.py:89: DeprecationWarning: inspect.getargspec() is deprecated, use inspect.signature() or inspect.getfullargspec()\n",
      "  wrapper._legacy_support_signature = inspect.getargspec(func)\n",
      "/Applications/anaconda/envs/tensorflow/lib/python3.6/site-packages/keras/legacy/interfaces.py:89: DeprecationWarning: inspect.getargspec() is deprecated, use inspect.signature() or inspect.getfullargspec()\n",
      "  wrapper._legacy_support_signature = inspect.getargspec(func)\n",
      "/Applications/anaconda/envs/tensorflow/lib/python3.6/site-packages/keras/legacy/interfaces.py:89: DeprecationWarning: inspect.getargspec() is deprecated, use inspect.signature() or inspect.getfullargspec()\n",
      "  wrapper._legacy_support_signature = inspect.getargspec(func)\n",
      "/Applications/anaconda/envs/tensorflow/lib/python3.6/site-packages/keras/legacy/interfaces.py:89: DeprecationWarning: inspect.getargspec() is deprecated, use inspect.signature() or inspect.getfullargspec()\n",
      "  wrapper._legacy_support_signature = inspect.getargspec(func)\n",
      "/Applications/anaconda/envs/tensorflow/lib/python3.6/site-packages/keras/legacy/interfaces.py:89: DeprecationWarning: inspect.getargspec() is deprecated, use inspect.signature() or inspect.getfullargspec()\n",
      "  wrapper._legacy_support_signature = inspect.getargspec(func)\n",
      "/Applications/anaconda/envs/tensorflow/lib/python3.6/site-packages/keras/legacy/interfaces.py:89: DeprecationWarning: inspect.getargspec() is deprecated, use inspect.signature() or inspect.getfullargspec()\n",
      "  wrapper._legacy_support_signature = inspect.getargspec(func)\n",
      "/Applications/anaconda/envs/tensorflow/lib/python3.6/site-packages/keras/legacy/interfaces.py:89: DeprecationWarning: inspect.getargspec() is deprecated, use inspect.signature() or inspect.getfullargspec()\n",
      "  wrapper._legacy_support_signature = inspect.getargspec(func)\n",
      "/Applications/anaconda/envs/tensorflow/lib/python3.6/site-packages/keras/legacy/interfaces.py:89: DeprecationWarning: inspect.getargspec() is deprecated, use inspect.signature() or inspect.getfullargspec()\n",
      "  wrapper._legacy_support_signature = inspect.getargspec(func)\n",
      "/Applications/anaconda/envs/tensorflow/lib/python3.6/site-packages/keras/legacy/interfaces.py:89: DeprecationWarning: inspect.getargspec() is deprecated, use inspect.signature() or inspect.getfullargspec()\n",
      "  wrapper._legacy_support_signature = inspect.getargspec(func)\n",
      "/Applications/anaconda/envs/tensorflow/lib/python3.6/site-packages/keras/legacy/interfaces.py:89: DeprecationWarning: inspect.getargspec() is deprecated, use inspect.signature() or inspect.getfullargspec()\n",
      "  wrapper._legacy_support_signature = inspect.getargspec(func)\n",
      "/Applications/anaconda/envs/tensorflow/lib/python3.6/site-packages/keras/legacy/interfaces.py:89: DeprecationWarning: inspect.getargspec() is deprecated, use inspect.signature() or inspect.getfullargspec()\n",
      "  wrapper._legacy_support_signature = inspect.getargspec(func)\n",
      "/Applications/anaconda/envs/tensorflow/lib/python3.6/site-packages/keras/legacy/interfaces.py:89: DeprecationWarning: inspect.getargspec() is deprecated, use inspect.signature() or inspect.getfullargspec()\n",
      "  wrapper._legacy_support_signature = inspect.getargspec(func)\n",
      "/Applications/anaconda/envs/tensorflow/lib/python3.6/site-packages/keras/legacy/interfaces.py:89: DeprecationWarning: inspect.getargspec() is deprecated, use inspect.signature() or inspect.getfullargspec()\n",
      "  wrapper._legacy_support_signature = inspect.getargspec(func)\n",
      "/Applications/anaconda/envs/tensorflow/lib/python3.6/site-packages/keras/legacy/interfaces.py:89: DeprecationWarning: inspect.getargspec() is deprecated, use inspect.signature() or inspect.getfullargspec()\n",
      "  wrapper._legacy_support_signature = inspect.getargspec(func)\n",
      "/Applications/anaconda/envs/tensorflow/lib/python3.6/site-packages/keras/legacy/interfaces.py:89: DeprecationWarning: inspect.getargspec() is deprecated, use inspect.signature() or inspect.getfullargspec()\n",
      "  wrapper._legacy_support_signature = inspect.getargspec(func)\n",
      "/Applications/anaconda/envs/tensorflow/lib/python3.6/site-packages/keras/legacy/interfaces.py:89: DeprecationWarning: inspect.getargspec() is deprecated, use inspect.signature() or inspect.getfullargspec()\n",
      "  wrapper._legacy_support_signature = inspect.getargspec(func)\n",
      "/Applications/anaconda/envs/tensorflow/lib/python3.6/site-packages/keras/legacy/interfaces.py:89: DeprecationWarning: inspect.getargspec() is deprecated, use inspect.signature() or inspect.getfullargspec()\n",
      "  wrapper._legacy_support_signature = inspect.getargspec(func)\n",
      "/Applications/anaconda/envs/tensorflow/lib/python3.6/site-packages/keras/legacy/interfaces.py:89: DeprecationWarning: inspect.getargspec() is deprecated, use inspect.signature() or inspect.getfullargspec()\n",
      "  wrapper._legacy_support_signature = inspect.getargspec(func)\n",
      "/Applications/anaconda/envs/tensorflow/lib/python3.6/site-packages/keras/legacy/interfaces.py:89: DeprecationWarning: inspect.getargspec() is deprecated, use inspect.signature() or inspect.getfullargspec()\n",
      "  wrapper._legacy_support_signature = inspect.getargspec(func)\n",
      "/Applications/anaconda/envs/tensorflow/lib/python3.6/site-packages/keras/legacy/interfaces.py:89: DeprecationWarning: inspect.getargspec() is deprecated, use inspect.signature() or inspect.getfullargspec()\n",
      "  wrapper._legacy_support_signature = inspect.getargspec(func)\n",
      "/Applications/anaconda/envs/tensorflow/lib/python3.6/site-packages/keras/legacy/interfaces.py:89: DeprecationWarning: inspect.getargspec() is deprecated, use inspect.signature() or inspect.getfullargspec()\n",
      "  wrapper._legacy_support_signature = inspect.getargspec(func)\n",
      "/Applications/anaconda/envs/tensorflow/lib/python3.6/site-packages/keras/legacy/interfaces.py:89: DeprecationWarning: inspect.getargspec() is deprecated, use inspect.signature() or inspect.getfullargspec()\n",
      "  wrapper._legacy_support_signature = inspect.getargspec(func)\n",
      "/Applications/anaconda/envs/tensorflow/lib/python3.6/site-packages/keras/legacy/interfaces.py:89: DeprecationWarning: inspect.getargspec() is deprecated, use inspect.signature() or inspect.getfullargspec()\n",
      "  wrapper._legacy_support_signature = inspect.getargspec(func)\n",
      "/Applications/anaconda/envs/tensorflow/lib/python3.6/site-packages/keras/legacy/interfaces.py:89: DeprecationWarning: inspect.getargspec() is deprecated, use inspect.signature() or inspect.getfullargspec()\n",
      "  wrapper._legacy_support_signature = inspect.getargspec(func)\n",
      "/Applications/anaconda/envs/tensorflow/lib/python3.6/site-packages/keras/legacy/interfaces.py:89: DeprecationWarning: inspect.getargspec() is deprecated, use inspect.signature() or inspect.getfullargspec()\n",
      "  wrapper._legacy_support_signature = inspect.getargspec(func)\n",
      "/Applications/anaconda/envs/tensorflow/lib/python3.6/site-packages/keras/legacy/interfaces.py:89: DeprecationWarning: inspect.getargspec() is deprecated, use inspect.signature() or inspect.getfullargspec()\n",
      "  wrapper._legacy_support_signature = inspect.getargspec(func)\n",
      "/Applications/anaconda/envs/tensorflow/lib/python3.6/site-packages/keras/legacy/interfaces.py:89: DeprecationWarning: inspect.getargspec() is deprecated, use inspect.signature() or inspect.getfullargspec()\n",
      "  wrapper._legacy_support_signature = inspect.getargspec(func)\n",
      "/Applications/anaconda/envs/tensorflow/lib/python3.6/site-packages/keras/legacy/interfaces.py:89: DeprecationWarning: inspect.getargspec() is deprecated, use inspect.signature() or inspect.getfullargspec()\n",
      "  wrapper._legacy_support_signature = inspect.getargspec(func)\n",
      "/Applications/anaconda/envs/tensorflow/lib/python3.6/site-packages/keras/legacy/interfaces.py:89: DeprecationWarning: inspect.getargspec() is deprecated, use inspect.signature() or inspect.getfullargspec()\n",
      "  wrapper._legacy_support_signature = inspect.getargspec(func)\n",
      "/Applications/anaconda/envs/tensorflow/lib/python3.6/site-packages/keras/legacy/interfaces.py:89: DeprecationWarning: inspect.getargspec() is deprecated, use inspect.signature() or inspect.getfullargspec()\n",
      "  wrapper._legacy_support_signature = inspect.getargspec(func)\n",
      "/Applications/anaconda/envs/tensorflow/lib/python3.6/site-packages/keras/legacy/interfaces.py:89: DeprecationWarning: inspect.getargspec() is deprecated, use inspect.signature() or inspect.getfullargspec()\n",
      "  wrapper._legacy_support_signature = inspect.getargspec(func)\n",
      "/Applications/anaconda/envs/tensorflow/lib/python3.6/site-packages/keras/legacy/interfaces.py:89: DeprecationWarning: inspect.getargspec() is deprecated, use inspect.signature() or inspect.getfullargspec()\n",
      "  wrapper._legacy_support_signature = inspect.getargspec(func)\n",
      "/Applications/anaconda/envs/tensorflow/lib/python3.6/site-packages/keras/legacy/interfaces.py:89: DeprecationWarning: inspect.getargspec() is deprecated, use inspect.signature() or inspect.getfullargspec()\n",
      "  wrapper._legacy_support_signature = inspect.getargspec(func)\n",
      "/Applications/anaconda/envs/tensorflow/lib/python3.6/site-packages/keras/legacy/interfaces.py:89: DeprecationWarning: inspect.getargspec() is deprecated, use inspect.signature() or inspect.getfullargspec()\n",
      "  wrapper._legacy_support_signature = inspect.getargspec(func)\n",
      "/Applications/anaconda/envs/tensorflow/lib/python3.6/site-packages/keras/legacy/interfaces.py:89: DeprecationWarning: inspect.getargspec() is deprecated, use inspect.signature() or inspect.getfullargspec()\n",
      "  wrapper._legacy_support_signature = inspect.getargspec(func)\n",
      "/Applications/anaconda/envs/tensorflow/lib/python3.6/site-packages/keras/legacy/interfaces.py:89: DeprecationWarning: inspect.getargspec() is deprecated, use inspect.signature() or inspect.getfullargspec()\n",
      "  wrapper._legacy_support_signature = inspect.getargspec(func)\n",
      "/Applications/anaconda/envs/tensorflow/lib/python3.6/site-packages/keras/legacy/interfaces.py:89: DeprecationWarning: inspect.getargspec() is deprecated, use inspect.signature() or inspect.getfullargspec()\n",
      "  wrapper._legacy_support_signature = inspect.getargspec(func)\n",
      "/Applications/anaconda/envs/tensorflow/lib/python3.6/site-packages/keras/legacy/interfaces.py:89: DeprecationWarning: inspect.getargspec() is deprecated, use inspect.signature() or inspect.getfullargspec()\n",
      "  wrapper._legacy_support_signature = inspect.getargspec(func)\n",
      "/Applications/anaconda/envs/tensorflow/lib/python3.6/site-packages/keras/legacy/interfaces.py:89: DeprecationWarning: inspect.getargspec() is deprecated, use inspect.signature() or inspect.getfullargspec()\n",
      "  wrapper._legacy_support_signature = inspect.getargspec(func)\n",
      "/Applications/anaconda/envs/tensorflow/lib/python3.6/site-packages/keras/legacy/interfaces.py:89: DeprecationWarning: inspect.getargspec() is deprecated, use inspect.signature() or inspect.getfullargspec()\n",
      "  wrapper._legacy_support_signature = inspect.getargspec(func)\n",
      "/Applications/anaconda/envs/tensorflow/lib/python3.6/site-packages/keras/legacy/interfaces.py:89: DeprecationWarning: inspect.getargspec() is deprecated, use inspect.signature() or inspect.getfullargspec()\n",
      "  wrapper._legacy_support_signature = inspect.getargspec(func)\n"
     ]
    },
    {
     "name": "stderr",
     "output_type": "stream",
     "text": [
      "/Applications/anaconda/envs/tensorflow/lib/python3.6/site-packages/sklearn/cross_validation.py:44: DeprecationWarning: This module was deprecated in version 0.18 in favor of the model_selection module into which all the refactored classes and functions are moved. Also note that the interface of the new CV iterators are different from that of this module. This module will be removed in 0.20.\n",
      "  \"This module will be removed in 0.20.\", DeprecationWarning)\n"
     ]
    }
   ],
   "source": [
    "#Basic Packages for Data Manipulation \n",
    "import numpy as np\n",
    "import pandas as pd\n",
    "\n",
    "#ML Models that will be used used\n",
    "from sklearn.ensemble import RandomForestRegressor as rfr\n",
    "from sklearn.ensemble import GradientBoostingRegressor as gbr\n",
    "from sklearn.ensemble import ExtraTreesRegressor as etr\n",
    "from sklearn.svm import SVR as svr\n",
    "from sklearn.linear_model import LinearRegression as lr\n",
    "from xgboost import XGBRegressor as xgb\n",
    "from keras.models import Sequential\n",
    "from keras.layers import Dense\n",
    "from keras.wrappers.scikit_learn import KerasRegressor\n",
    "from keras.layers import Dropout\n",
    "\n",
    "#Missing Value fill-in package\n",
    "from sklearn.preprocessing import Imputer\n",
    "from imputer import Imputer as KnnIm\n",
    "\n",
    "#StandardScaler for Feature Scaling\n",
    "from sklearn.preprocessing import StandardScaler\n",
    "\n",
    "#Feature Reduction with PCA package\n",
    "from sklearn.decomposition import PCA\n",
    "\n",
    "# Cross-validation with GridSearch\n",
    "from sklearn.metrics import make_scorer\n",
    "from sklearn.model_selection import GridSearchCV\n",
    "from sklearn.cross_validation import KFold\n",
    "from sklearn.model_selection import cross_val_score\n",
    "\n",
    "# Time for record speed\n",
    "import time"
   ]
  },
  {
   "cell_type": "markdown",
   "metadata": {},
   "source": [
    "----\n",
    "## PART 1: Exploring the Data"
   ]
  },
  {
   "cell_type": "markdown",
   "metadata": {},
   "source": [
    "First we are going to get the data from the dataset and pick some samples for a quick sense of how it look likes."
   ]
  },
  {
   "cell_type": "code",
   "execution_count": 2,
   "metadata": {
    "collapsed": true
   },
   "outputs": [],
   "source": [
    "# Import supplementary visualization code visuals.py\n",
    "import visuals as vs\n",
    "\n",
    "# Pretty display for notebooks\n",
    "%matplotlib inline\n",
    "\n",
    "#Read dataset with pandas\n",
    "train_data = pd.read_csv(\"train.csv\", quoting = 2)\n",
    "test_data = pd.read_csv(\"test.csv\", quoting = 2)\n",
    "macro_data = pd.read_csv(\"macro.csv\", quoting = 2)"
   ]
  },
  {
   "cell_type": "markdown",
   "metadata": {},
   "source": [
    "### Implementation: Data Exploration"
   ]
  },
  {
   "cell_type": "markdown",
   "metadata": {},
   "source": [
    "Shape of the Dataset"
   ]
  },
  {
   "cell_type": "code",
   "execution_count": 3,
   "metadata": {},
   "outputs": [
    {
     "name": "stdout",
     "output_type": "stream",
     "text": [
      "(30471, 292)\n",
      "(7662, 291)\n",
      "(2484, 100)\n"
     ]
    }
   ],
   "source": [
    "print(train_data.shape)\n",
    "print(test_data.shape)\n",
    "print(macro_data.shape)"
   ]
  },
  {
   "cell_type": "markdown",
   "metadata": {},
   "source": [
    "**Check out first few row of train / test / macro data for getting sense**"
   ]
  },
  {
   "cell_type": "code",
   "execution_count": 4,
   "metadata": {},
   "outputs": [
    {
     "data": {
      "text/html": [
       "<div>\n",
       "<style>\n",
       "    .dataframe thead tr:only-child th {\n",
       "        text-align: right;\n",
       "    }\n",
       "\n",
       "    .dataframe thead th {\n",
       "        text-align: left;\n",
       "    }\n",
       "\n",
       "    .dataframe tbody tr th {\n",
       "        vertical-align: top;\n",
       "    }\n",
       "</style>\n",
       "<table border=\"1\" class=\"dataframe\">\n",
       "  <thead>\n",
       "    <tr style=\"text-align: right;\">\n",
       "      <th></th>\n",
       "      <th>0</th>\n",
       "      <th>1</th>\n",
       "      <th>2</th>\n",
       "    </tr>\n",
       "  </thead>\n",
       "  <tbody>\n",
       "    <tr>\n",
       "      <th>id</th>\n",
       "      <td>1</td>\n",
       "      <td>2</td>\n",
       "      <td>3</td>\n",
       "    </tr>\n",
       "    <tr>\n",
       "      <th>timestamp</th>\n",
       "      <td>2011-08-20</td>\n",
       "      <td>2011-08-23</td>\n",
       "      <td>2011-08-27</td>\n",
       "    </tr>\n",
       "    <tr>\n",
       "      <th>full_sq</th>\n",
       "      <td>43</td>\n",
       "      <td>34</td>\n",
       "      <td>43</td>\n",
       "    </tr>\n",
       "    <tr>\n",
       "      <th>life_sq</th>\n",
       "      <td>27</td>\n",
       "      <td>19</td>\n",
       "      <td>29</td>\n",
       "    </tr>\n",
       "    <tr>\n",
       "      <th>floor</th>\n",
       "      <td>4</td>\n",
       "      <td>3</td>\n",
       "      <td>2</td>\n",
       "    </tr>\n",
       "    <tr>\n",
       "      <th>max_floor</th>\n",
       "      <td>NaN</td>\n",
       "      <td>NaN</td>\n",
       "      <td>NaN</td>\n",
       "    </tr>\n",
       "    <tr>\n",
       "      <th>material</th>\n",
       "      <td>NaN</td>\n",
       "      <td>NaN</td>\n",
       "      <td>NaN</td>\n",
       "    </tr>\n",
       "    <tr>\n",
       "      <th>build_year</th>\n",
       "      <td>NaN</td>\n",
       "      <td>NaN</td>\n",
       "      <td>NaN</td>\n",
       "    </tr>\n",
       "    <tr>\n",
       "      <th>num_room</th>\n",
       "      <td>NaN</td>\n",
       "      <td>NaN</td>\n",
       "      <td>NaN</td>\n",
       "    </tr>\n",
       "    <tr>\n",
       "      <th>kitch_sq</th>\n",
       "      <td>NaN</td>\n",
       "      <td>NaN</td>\n",
       "      <td>NaN</td>\n",
       "    </tr>\n",
       "    <tr>\n",
       "      <th>state</th>\n",
       "      <td>NaN</td>\n",
       "      <td>NaN</td>\n",
       "      <td>NaN</td>\n",
       "    </tr>\n",
       "    <tr>\n",
       "      <th>product_type</th>\n",
       "      <td>Investment</td>\n",
       "      <td>Investment</td>\n",
       "      <td>Investment</td>\n",
       "    </tr>\n",
       "    <tr>\n",
       "      <th>sub_area</th>\n",
       "      <td>Bibirevo</td>\n",
       "      <td>Nagatinskij Zaton</td>\n",
       "      <td>Tekstil'shhiki</td>\n",
       "    </tr>\n",
       "    <tr>\n",
       "      <th>area_m</th>\n",
       "      <td>6.40758e+06</td>\n",
       "      <td>9.58934e+06</td>\n",
       "      <td>4.80827e+06</td>\n",
       "    </tr>\n",
       "    <tr>\n",
       "      <th>raion_popul</th>\n",
       "      <td>155572</td>\n",
       "      <td>115352</td>\n",
       "      <td>101708</td>\n",
       "    </tr>\n",
       "    <tr>\n",
       "      <th>green_zone_part</th>\n",
       "      <td>0.189727</td>\n",
       "      <td>0.372602</td>\n",
       "      <td>0.11256</td>\n",
       "    </tr>\n",
       "    <tr>\n",
       "      <th>indust_part</th>\n",
       "      <td>6.99893e-05</td>\n",
       "      <td>0.0496373</td>\n",
       "      <td>0.118537</td>\n",
       "    </tr>\n",
       "    <tr>\n",
       "      <th>children_preschool</th>\n",
       "      <td>9576</td>\n",
       "      <td>6880</td>\n",
       "      <td>5879</td>\n",
       "    </tr>\n",
       "    <tr>\n",
       "      <th>preschool_quota</th>\n",
       "      <td>5001</td>\n",
       "      <td>3119</td>\n",
       "      <td>1463</td>\n",
       "    </tr>\n",
       "    <tr>\n",
       "      <th>preschool_education_centers_raion</th>\n",
       "      <td>5</td>\n",
       "      <td>5</td>\n",
       "      <td>4</td>\n",
       "    </tr>\n",
       "    <tr>\n",
       "      <th>children_school</th>\n",
       "      <td>10309</td>\n",
       "      <td>7759</td>\n",
       "      <td>6207</td>\n",
       "    </tr>\n",
       "    <tr>\n",
       "      <th>school_quota</th>\n",
       "      <td>11065</td>\n",
       "      <td>6237</td>\n",
       "      <td>5580</td>\n",
       "    </tr>\n",
       "    <tr>\n",
       "      <th>school_education_centers_raion</th>\n",
       "      <td>5</td>\n",
       "      <td>8</td>\n",
       "      <td>7</td>\n",
       "    </tr>\n",
       "    <tr>\n",
       "      <th>school_education_centers_top_20_raion</th>\n",
       "      <td>0</td>\n",
       "      <td>0</td>\n",
       "      <td>0</td>\n",
       "    </tr>\n",
       "    <tr>\n",
       "      <th>hospital_beds_raion</th>\n",
       "      <td>240</td>\n",
       "      <td>229</td>\n",
       "      <td>1183</td>\n",
       "    </tr>\n",
       "    <tr>\n",
       "      <th>healthcare_centers_raion</th>\n",
       "      <td>1</td>\n",
       "      <td>1</td>\n",
       "      <td>1</td>\n",
       "    </tr>\n",
       "    <tr>\n",
       "      <th>university_top_20_raion</th>\n",
       "      <td>0</td>\n",
       "      <td>0</td>\n",
       "      <td>0</td>\n",
       "    </tr>\n",
       "    <tr>\n",
       "      <th>sport_objects_raion</th>\n",
       "      <td>7</td>\n",
       "      <td>6</td>\n",
       "      <td>5</td>\n",
       "    </tr>\n",
       "    <tr>\n",
       "      <th>additional_education_raion</th>\n",
       "      <td>3</td>\n",
       "      <td>1</td>\n",
       "      <td>1</td>\n",
       "    </tr>\n",
       "    <tr>\n",
       "      <th>culture_objects_top_25</th>\n",
       "      <td>no</td>\n",
       "      <td>yes</td>\n",
       "      <td>no</td>\n",
       "    </tr>\n",
       "    <tr>\n",
       "      <th>...</th>\n",
       "      <td>...</td>\n",
       "      <td>...</td>\n",
       "      <td>...</td>\n",
       "    </tr>\n",
       "    <tr>\n",
       "      <th>big_church_count_3000</th>\n",
       "      <td>2</td>\n",
       "      <td>1</td>\n",
       "      <td>0</td>\n",
       "    </tr>\n",
       "    <tr>\n",
       "      <th>church_count_3000</th>\n",
       "      <td>4</td>\n",
       "      <td>7</td>\n",
       "      <td>11</td>\n",
       "    </tr>\n",
       "    <tr>\n",
       "      <th>mosque_count_3000</th>\n",
       "      <td>0</td>\n",
       "      <td>0</td>\n",
       "      <td>0</td>\n",
       "    </tr>\n",
       "    <tr>\n",
       "      <th>leisure_count_3000</th>\n",
       "      <td>0</td>\n",
       "      <td>6</td>\n",
       "      <td>0</td>\n",
       "    </tr>\n",
       "    <tr>\n",
       "      <th>sport_count_3000</th>\n",
       "      <td>21</td>\n",
       "      <td>19</td>\n",
       "      <td>20</td>\n",
       "    </tr>\n",
       "    <tr>\n",
       "      <th>market_count_3000</th>\n",
       "      <td>1</td>\n",
       "      <td>1</td>\n",
       "      <td>6</td>\n",
       "    </tr>\n",
       "    <tr>\n",
       "      <th>green_part_5000</th>\n",
       "      <td>13.09</td>\n",
       "      <td>10.26</td>\n",
       "      <td>13.69</td>\n",
       "    </tr>\n",
       "    <tr>\n",
       "      <th>prom_part_5000</th>\n",
       "      <td>13.31</td>\n",
       "      <td>27.47</td>\n",
       "      <td>21.58</td>\n",
       "    </tr>\n",
       "    <tr>\n",
       "      <th>office_count_5000</th>\n",
       "      <td>29</td>\n",
       "      <td>66</td>\n",
       "      <td>43</td>\n",
       "    </tr>\n",
       "    <tr>\n",
       "      <th>office_sqm_5000</th>\n",
       "      <td>807385</td>\n",
       "      <td>2.69046e+06</td>\n",
       "      <td>1.47816e+06</td>\n",
       "    </tr>\n",
       "    <tr>\n",
       "      <th>trc_count_5000</th>\n",
       "      <td>52</td>\n",
       "      <td>40</td>\n",
       "      <td>35</td>\n",
       "    </tr>\n",
       "    <tr>\n",
       "      <th>trc_sqm_5000</th>\n",
       "      <td>4.03662e+06</td>\n",
       "      <td>2.03494e+06</td>\n",
       "      <td>1.57299e+06</td>\n",
       "    </tr>\n",
       "    <tr>\n",
       "      <th>cafe_count_5000</th>\n",
       "      <td>152</td>\n",
       "      <td>177</td>\n",
       "      <td>122</td>\n",
       "    </tr>\n",
       "    <tr>\n",
       "      <th>cafe_sum_5000_min_price_avg</th>\n",
       "      <td>708.57</td>\n",
       "      <td>673.81</td>\n",
       "      <td>702.68</td>\n",
       "    </tr>\n",
       "    <tr>\n",
       "      <th>cafe_sum_5000_max_price_avg</th>\n",
       "      <td>1185.71</td>\n",
       "      <td>1148.81</td>\n",
       "      <td>1196.43</td>\n",
       "    </tr>\n",
       "    <tr>\n",
       "      <th>cafe_avg_price_5000</th>\n",
       "      <td>947.14</td>\n",
       "      <td>911.31</td>\n",
       "      <td>949.55</td>\n",
       "    </tr>\n",
       "    <tr>\n",
       "      <th>cafe_count_5000_na_price</th>\n",
       "      <td>12</td>\n",
       "      <td>9</td>\n",
       "      <td>10</td>\n",
       "    </tr>\n",
       "    <tr>\n",
       "      <th>cafe_count_5000_price_500</th>\n",
       "      <td>39</td>\n",
       "      <td>49</td>\n",
       "      <td>29</td>\n",
       "    </tr>\n",
       "    <tr>\n",
       "      <th>cafe_count_5000_price_1000</th>\n",
       "      <td>48</td>\n",
       "      <td>65</td>\n",
       "      <td>45</td>\n",
       "    </tr>\n",
       "    <tr>\n",
       "      <th>cafe_count_5000_price_1500</th>\n",
       "      <td>40</td>\n",
       "      <td>36</td>\n",
       "      <td>25</td>\n",
       "    </tr>\n",
       "    <tr>\n",
       "      <th>cafe_count_5000_price_2500</th>\n",
       "      <td>9</td>\n",
       "      <td>15</td>\n",
       "      <td>10</td>\n",
       "    </tr>\n",
       "    <tr>\n",
       "      <th>cafe_count_5000_price_4000</th>\n",
       "      <td>4</td>\n",
       "      <td>3</td>\n",
       "      <td>3</td>\n",
       "    </tr>\n",
       "    <tr>\n",
       "      <th>cafe_count_5000_price_high</th>\n",
       "      <td>0</td>\n",
       "      <td>0</td>\n",
       "      <td>0</td>\n",
       "    </tr>\n",
       "    <tr>\n",
       "      <th>big_church_count_5000</th>\n",
       "      <td>13</td>\n",
       "      <td>15</td>\n",
       "      <td>11</td>\n",
       "    </tr>\n",
       "    <tr>\n",
       "      <th>church_count_5000</th>\n",
       "      <td>22</td>\n",
       "      <td>29</td>\n",
       "      <td>27</td>\n",
       "    </tr>\n",
       "    <tr>\n",
       "      <th>mosque_count_5000</th>\n",
       "      <td>1</td>\n",
       "      <td>1</td>\n",
       "      <td>0</td>\n",
       "    </tr>\n",
       "    <tr>\n",
       "      <th>leisure_count_5000</th>\n",
       "      <td>0</td>\n",
       "      <td>10</td>\n",
       "      <td>4</td>\n",
       "    </tr>\n",
       "    <tr>\n",
       "      <th>sport_count_5000</th>\n",
       "      <td>52</td>\n",
       "      <td>66</td>\n",
       "      <td>67</td>\n",
       "    </tr>\n",
       "    <tr>\n",
       "      <th>market_count_5000</th>\n",
       "      <td>4</td>\n",
       "      <td>14</td>\n",
       "      <td>10</td>\n",
       "    </tr>\n",
       "    <tr>\n",
       "      <th>price_doc</th>\n",
       "      <td>5.85e+06</td>\n",
       "      <td>6e+06</td>\n",
       "      <td>5.7e+06</td>\n",
       "    </tr>\n",
       "  </tbody>\n",
       "</table>\n",
       "<p>292 rows × 3 columns</p>\n",
       "</div>"
      ],
      "text/plain": [
       "                                                 0                  1  \\\n",
       "id                                               1                  2   \n",
       "timestamp                               2011-08-20         2011-08-23   \n",
       "full_sq                                         43                 34   \n",
       "life_sq                                         27                 19   \n",
       "floor                                            4                  3   \n",
       "max_floor                                      NaN                NaN   \n",
       "material                                       NaN                NaN   \n",
       "build_year                                     NaN                NaN   \n",
       "num_room                                       NaN                NaN   \n",
       "kitch_sq                                       NaN                NaN   \n",
       "state                                          NaN                NaN   \n",
       "product_type                            Investment         Investment   \n",
       "sub_area                                  Bibirevo  Nagatinskij Zaton   \n",
       "area_m                                 6.40758e+06        9.58934e+06   \n",
       "raion_popul                                 155572             115352   \n",
       "green_zone_part                           0.189727           0.372602   \n",
       "indust_part                            6.99893e-05          0.0496373   \n",
       "children_preschool                            9576               6880   \n",
       "preschool_quota                               5001               3119   \n",
       "preschool_education_centers_raion                5                  5   \n",
       "children_school                              10309               7759   \n",
       "school_quota                                 11065               6237   \n",
       "school_education_centers_raion                   5                  8   \n",
       "school_education_centers_top_20_raion            0                  0   \n",
       "hospital_beds_raion                            240                229   \n",
       "healthcare_centers_raion                         1                  1   \n",
       "university_top_20_raion                          0                  0   \n",
       "sport_objects_raion                              7                  6   \n",
       "additional_education_raion                       3                  1   \n",
       "culture_objects_top_25                          no                yes   \n",
       "...                                            ...                ...   \n",
       "big_church_count_3000                            2                  1   \n",
       "church_count_3000                                4                  7   \n",
       "mosque_count_3000                                0                  0   \n",
       "leisure_count_3000                               0                  6   \n",
       "sport_count_3000                                21                 19   \n",
       "market_count_3000                                1                  1   \n",
       "green_part_5000                              13.09              10.26   \n",
       "prom_part_5000                               13.31              27.47   \n",
       "office_count_5000                               29                 66   \n",
       "office_sqm_5000                             807385        2.69046e+06   \n",
       "trc_count_5000                                  52                 40   \n",
       "trc_sqm_5000                           4.03662e+06        2.03494e+06   \n",
       "cafe_count_5000                                152                177   \n",
       "cafe_sum_5000_min_price_avg                 708.57             673.81   \n",
       "cafe_sum_5000_max_price_avg                1185.71            1148.81   \n",
       "cafe_avg_price_5000                         947.14             911.31   \n",
       "cafe_count_5000_na_price                        12                  9   \n",
       "cafe_count_5000_price_500                       39                 49   \n",
       "cafe_count_5000_price_1000                      48                 65   \n",
       "cafe_count_5000_price_1500                      40                 36   \n",
       "cafe_count_5000_price_2500                       9                 15   \n",
       "cafe_count_5000_price_4000                       4                  3   \n",
       "cafe_count_5000_price_high                       0                  0   \n",
       "big_church_count_5000                           13                 15   \n",
       "church_count_5000                               22                 29   \n",
       "mosque_count_5000                                1                  1   \n",
       "leisure_count_5000                               0                 10   \n",
       "sport_count_5000                                52                 66   \n",
       "market_count_5000                                4                 14   \n",
       "price_doc                                 5.85e+06              6e+06   \n",
       "\n",
       "                                                    2  \n",
       "id                                                  3  \n",
       "timestamp                                  2011-08-27  \n",
       "full_sq                                            43  \n",
       "life_sq                                            29  \n",
       "floor                                               2  \n",
       "max_floor                                         NaN  \n",
       "material                                          NaN  \n",
       "build_year                                        NaN  \n",
       "num_room                                          NaN  \n",
       "kitch_sq                                          NaN  \n",
       "state                                             NaN  \n",
       "product_type                               Investment  \n",
       "sub_area                               Tekstil'shhiki  \n",
       "area_m                                    4.80827e+06  \n",
       "raion_popul                                    101708  \n",
       "green_zone_part                               0.11256  \n",
       "indust_part                                  0.118537  \n",
       "children_preschool                               5879  \n",
       "preschool_quota                                  1463  \n",
       "preschool_education_centers_raion                   4  \n",
       "children_school                                  6207  \n",
       "school_quota                                     5580  \n",
       "school_education_centers_raion                      7  \n",
       "school_education_centers_top_20_raion               0  \n",
       "hospital_beds_raion                              1183  \n",
       "healthcare_centers_raion                            1  \n",
       "university_top_20_raion                             0  \n",
       "sport_objects_raion                                 5  \n",
       "additional_education_raion                          1  \n",
       "culture_objects_top_25                             no  \n",
       "...                                               ...  \n",
       "big_church_count_3000                               0  \n",
       "church_count_3000                                  11  \n",
       "mosque_count_3000                                   0  \n",
       "leisure_count_3000                                  0  \n",
       "sport_count_3000                                   20  \n",
       "market_count_3000                                   6  \n",
       "green_part_5000                                 13.69  \n",
       "prom_part_5000                                  21.58  \n",
       "office_count_5000                                  43  \n",
       "office_sqm_5000                           1.47816e+06  \n",
       "trc_count_5000                                     35  \n",
       "trc_sqm_5000                              1.57299e+06  \n",
       "cafe_count_5000                                   122  \n",
       "cafe_sum_5000_min_price_avg                    702.68  \n",
       "cafe_sum_5000_max_price_avg                   1196.43  \n",
       "cafe_avg_price_5000                            949.55  \n",
       "cafe_count_5000_na_price                           10  \n",
       "cafe_count_5000_price_500                          29  \n",
       "cafe_count_5000_price_1000                         45  \n",
       "cafe_count_5000_price_1500                         25  \n",
       "cafe_count_5000_price_2500                         10  \n",
       "cafe_count_5000_price_4000                          3  \n",
       "cafe_count_5000_price_high                          0  \n",
       "big_church_count_5000                              11  \n",
       "church_count_5000                                  27  \n",
       "mosque_count_5000                                   0  \n",
       "leisure_count_5000                                  4  \n",
       "sport_count_5000                                   67  \n",
       "market_count_5000                                  10  \n",
       "price_doc                                     5.7e+06  \n",
       "\n",
       "[292 rows x 3 columns]"
      ]
     },
     "execution_count": 4,
     "metadata": {},
     "output_type": "execute_result"
    }
   ],
   "source": [
    "train_data.head(3).transpose()"
   ]
  },
  {
   "cell_type": "code",
   "execution_count": 5,
   "metadata": {},
   "outputs": [
    {
     "data": {
      "text/html": [
       "<div>\n",
       "<style>\n",
       "    .dataframe thead tr:only-child th {\n",
       "        text-align: right;\n",
       "    }\n",
       "\n",
       "    .dataframe thead th {\n",
       "        text-align: left;\n",
       "    }\n",
       "\n",
       "    .dataframe tbody tr th {\n",
       "        vertical-align: top;\n",
       "    }\n",
       "</style>\n",
       "<table border=\"1\" class=\"dataframe\">\n",
       "  <thead>\n",
       "    <tr style=\"text-align: right;\">\n",
       "      <th></th>\n",
       "      <th>0</th>\n",
       "      <th>1</th>\n",
       "      <th>2</th>\n",
       "    </tr>\n",
       "  </thead>\n",
       "  <tbody>\n",
       "    <tr>\n",
       "      <th>id</th>\n",
       "      <td>30474</td>\n",
       "      <td>30475</td>\n",
       "      <td>30476</td>\n",
       "    </tr>\n",
       "    <tr>\n",
       "      <th>timestamp</th>\n",
       "      <td>2015-07-01</td>\n",
       "      <td>2015-07-01</td>\n",
       "      <td>2015-07-01</td>\n",
       "    </tr>\n",
       "    <tr>\n",
       "      <th>full_sq</th>\n",
       "      <td>39</td>\n",
       "      <td>79.2</td>\n",
       "      <td>40.5</td>\n",
       "    </tr>\n",
       "    <tr>\n",
       "      <th>life_sq</th>\n",
       "      <td>20.7</td>\n",
       "      <td>NaN</td>\n",
       "      <td>25.1</td>\n",
       "    </tr>\n",
       "    <tr>\n",
       "      <th>floor</th>\n",
       "      <td>2</td>\n",
       "      <td>8</td>\n",
       "      <td>3</td>\n",
       "    </tr>\n",
       "    <tr>\n",
       "      <th>max_floor</th>\n",
       "      <td>9</td>\n",
       "      <td>17</td>\n",
       "      <td>5</td>\n",
       "    </tr>\n",
       "    <tr>\n",
       "      <th>material</th>\n",
       "      <td>1</td>\n",
       "      <td>1</td>\n",
       "      <td>2</td>\n",
       "    </tr>\n",
       "    <tr>\n",
       "      <th>build_year</th>\n",
       "      <td>1998</td>\n",
       "      <td>0</td>\n",
       "      <td>1960</td>\n",
       "    </tr>\n",
       "    <tr>\n",
       "      <th>num_room</th>\n",
       "      <td>1</td>\n",
       "      <td>3</td>\n",
       "      <td>2</td>\n",
       "    </tr>\n",
       "    <tr>\n",
       "      <th>kitch_sq</th>\n",
       "      <td>8.9</td>\n",
       "      <td>1</td>\n",
       "      <td>4.8</td>\n",
       "    </tr>\n",
       "    <tr>\n",
       "      <th>state</th>\n",
       "      <td>3</td>\n",
       "      <td>1</td>\n",
       "      <td>2</td>\n",
       "    </tr>\n",
       "    <tr>\n",
       "      <th>product_type</th>\n",
       "      <td>Investment</td>\n",
       "      <td>OwnerOccupier</td>\n",
       "      <td>Investment</td>\n",
       "    </tr>\n",
       "    <tr>\n",
       "      <th>sub_area</th>\n",
       "      <td>Juzhnoe Butovo</td>\n",
       "      <td>Poselenie Vnukovskoe</td>\n",
       "      <td>Perovo</td>\n",
       "    </tr>\n",
       "    <tr>\n",
       "      <th>area_m</th>\n",
       "      <td>2.61551e+07</td>\n",
       "      <td>2.55363e+07</td>\n",
       "      <td>9.94634e+06</td>\n",
       "    </tr>\n",
       "    <tr>\n",
       "      <th>raion_popul</th>\n",
       "      <td>178264</td>\n",
       "      <td>4001</td>\n",
       "      <td>139322</td>\n",
       "    </tr>\n",
       "    <tr>\n",
       "      <th>green_zone_part</th>\n",
       "      <td>0.137846</td>\n",
       "      <td>0.496315</td>\n",
       "      <td>0.0654088</td>\n",
       "    </tr>\n",
       "    <tr>\n",
       "      <th>indust_part</th>\n",
       "      <td>0.0411164</td>\n",
       "      <td>0.00712232</td>\n",
       "      <td>0.225825</td>\n",
       "    </tr>\n",
       "    <tr>\n",
       "      <th>children_preschool</th>\n",
       "      <td>14080</td>\n",
       "      <td>275</td>\n",
       "      <td>6400</td>\n",
       "    </tr>\n",
       "    <tr>\n",
       "      <th>preschool_quota</th>\n",
       "      <td>11926</td>\n",
       "      <td>NaN</td>\n",
       "      <td>2232</td>\n",
       "    </tr>\n",
       "    <tr>\n",
       "      <th>preschool_education_centers_raion</th>\n",
       "      <td>11</td>\n",
       "      <td>0</td>\n",
       "      <td>7</td>\n",
       "    </tr>\n",
       "    <tr>\n",
       "      <th>children_school</th>\n",
       "      <td>14892</td>\n",
       "      <td>264</td>\n",
       "      <td>6558</td>\n",
       "    </tr>\n",
       "    <tr>\n",
       "      <th>school_quota</th>\n",
       "      <td>24750</td>\n",
       "      <td>NaN</td>\n",
       "      <td>7966</td>\n",
       "    </tr>\n",
       "    <tr>\n",
       "      <th>school_education_centers_raion</th>\n",
       "      <td>13</td>\n",
       "      <td>0</td>\n",
       "      <td>7</td>\n",
       "    </tr>\n",
       "    <tr>\n",
       "      <th>school_education_centers_top_20_raion</th>\n",
       "      <td>1</td>\n",
       "      <td>0</td>\n",
       "      <td>0</td>\n",
       "    </tr>\n",
       "    <tr>\n",
       "      <th>hospital_beds_raion</th>\n",
       "      <td>NaN</td>\n",
       "      <td>NaN</td>\n",
       "      <td>1548</td>\n",
       "    </tr>\n",
       "    <tr>\n",
       "      <th>healthcare_centers_raion</th>\n",
       "      <td>1</td>\n",
       "      <td>0</td>\n",
       "      <td>3</td>\n",
       "    </tr>\n",
       "    <tr>\n",
       "      <th>university_top_20_raion</th>\n",
       "      <td>0</td>\n",
       "      <td>0</td>\n",
       "      <td>0</td>\n",
       "    </tr>\n",
       "    <tr>\n",
       "      <th>sport_objects_raion</th>\n",
       "      <td>13</td>\n",
       "      <td>0</td>\n",
       "      <td>13</td>\n",
       "    </tr>\n",
       "    <tr>\n",
       "      <th>additional_education_raion</th>\n",
       "      <td>4</td>\n",
       "      <td>0</td>\n",
       "      <td>0</td>\n",
       "    </tr>\n",
       "    <tr>\n",
       "      <th>culture_objects_top_25</th>\n",
       "      <td>no</td>\n",
       "      <td>no</td>\n",
       "      <td>no</td>\n",
       "    </tr>\n",
       "    <tr>\n",
       "      <th>...</th>\n",
       "      <td>...</td>\n",
       "      <td>...</td>\n",
       "      <td>...</td>\n",
       "    </tr>\n",
       "    <tr>\n",
       "      <th>cafe_count_3000_price_high</th>\n",
       "      <td>0</td>\n",
       "      <td>0</td>\n",
       "      <td>0</td>\n",
       "    </tr>\n",
       "    <tr>\n",
       "      <th>big_church_count_3000</th>\n",
       "      <td>1</td>\n",
       "      <td>1</td>\n",
       "      <td>2</td>\n",
       "    </tr>\n",
       "    <tr>\n",
       "      <th>church_count_3000</th>\n",
       "      <td>3</td>\n",
       "      <td>5</td>\n",
       "      <td>3</td>\n",
       "    </tr>\n",
       "    <tr>\n",
       "      <th>mosque_count_3000</th>\n",
       "      <td>1</td>\n",
       "      <td>0</td>\n",
       "      <td>0</td>\n",
       "    </tr>\n",
       "    <tr>\n",
       "      <th>leisure_count_3000</th>\n",
       "      <td>0</td>\n",
       "      <td>0</td>\n",
       "      <td>5</td>\n",
       "    </tr>\n",
       "    <tr>\n",
       "      <th>sport_count_3000</th>\n",
       "      <td>7</td>\n",
       "      <td>7</td>\n",
       "      <td>22</td>\n",
       "    </tr>\n",
       "    <tr>\n",
       "      <th>market_count_3000</th>\n",
       "      <td>0</td>\n",
       "      <td>0</td>\n",
       "      <td>4</td>\n",
       "    </tr>\n",
       "    <tr>\n",
       "      <th>green_part_5000</th>\n",
       "      <td>21.58</td>\n",
       "      <td>39.1</td>\n",
       "      <td>25.62</td>\n",
       "    </tr>\n",
       "    <tr>\n",
       "      <th>prom_part_5000</th>\n",
       "      <td>4.69</td>\n",
       "      <td>7.7</td>\n",
       "      <td>13.59</td>\n",
       "    </tr>\n",
       "    <tr>\n",
       "      <th>office_count_5000</th>\n",
       "      <td>1</td>\n",
       "      <td>2</td>\n",
       "      <td>27</td>\n",
       "    </tr>\n",
       "    <tr>\n",
       "      <th>office_sqm_5000</th>\n",
       "      <td>37550</td>\n",
       "      <td>177300</td>\n",
       "      <td>427889</td>\n",
       "    </tr>\n",
       "    <tr>\n",
       "      <th>trc_count_5000</th>\n",
       "      <td>8</td>\n",
       "      <td>6</td>\n",
       "      <td>26</td>\n",
       "    </tr>\n",
       "    <tr>\n",
       "      <th>trc_sqm_5000</th>\n",
       "      <td>299166</td>\n",
       "      <td>231300</td>\n",
       "      <td>1.02443e+06</td>\n",
       "    </tr>\n",
       "    <tr>\n",
       "      <th>cafe_count_5000</th>\n",
       "      <td>19</td>\n",
       "      <td>20</td>\n",
       "      <td>179</td>\n",
       "    </tr>\n",
       "    <tr>\n",
       "      <th>cafe_sum_5000_min_price_avg</th>\n",
       "      <td>676.47</td>\n",
       "      <td>733.33</td>\n",
       "      <td>668.97</td>\n",
       "    </tr>\n",
       "    <tr>\n",
       "      <th>cafe_sum_5000_max_price_avg</th>\n",
       "      <td>1088.24</td>\n",
       "      <td>1250</td>\n",
       "      <td>1132.18</td>\n",
       "    </tr>\n",
       "    <tr>\n",
       "      <th>cafe_avg_price_5000</th>\n",
       "      <td>882.35</td>\n",
       "      <td>991.67</td>\n",
       "      <td>900.57</td>\n",
       "    </tr>\n",
       "    <tr>\n",
       "      <th>cafe_count_5000_na_price</th>\n",
       "      <td>2</td>\n",
       "      <td>2</td>\n",
       "      <td>5</td>\n",
       "    </tr>\n",
       "    <tr>\n",
       "      <th>cafe_count_5000_price_500</th>\n",
       "      <td>5</td>\n",
       "      <td>4</td>\n",
       "      <td>53</td>\n",
       "    </tr>\n",
       "    <tr>\n",
       "      <th>cafe_count_5000_price_1000</th>\n",
       "      <td>4</td>\n",
       "      <td>8</td>\n",
       "      <td>64</td>\n",
       "    </tr>\n",
       "    <tr>\n",
       "      <th>cafe_count_5000_price_1500</th>\n",
       "      <td>8</td>\n",
       "      <td>4</td>\n",
       "      <td>42</td>\n",
       "    </tr>\n",
       "    <tr>\n",
       "      <th>cafe_count_5000_price_2500</th>\n",
       "      <td>0</td>\n",
       "      <td>1</td>\n",
       "      <td>11</td>\n",
       "    </tr>\n",
       "    <tr>\n",
       "      <th>cafe_count_5000_price_4000</th>\n",
       "      <td>0</td>\n",
       "      <td>1</td>\n",
       "      <td>4</td>\n",
       "    </tr>\n",
       "    <tr>\n",
       "      <th>cafe_count_5000_price_high</th>\n",
       "      <td>0</td>\n",
       "      <td>0</td>\n",
       "      <td>0</td>\n",
       "    </tr>\n",
       "    <tr>\n",
       "      <th>big_church_count_5000</th>\n",
       "      <td>1</td>\n",
       "      <td>2</td>\n",
       "      <td>10</td>\n",
       "    </tr>\n",
       "    <tr>\n",
       "      <th>church_count_5000</th>\n",
       "      <td>10</td>\n",
       "      <td>11</td>\n",
       "      <td>21</td>\n",
       "    </tr>\n",
       "    <tr>\n",
       "      <th>mosque_count_5000</th>\n",
       "      <td>1</td>\n",
       "      <td>0</td>\n",
       "      <td>0</td>\n",
       "    </tr>\n",
       "    <tr>\n",
       "      <th>leisure_count_5000</th>\n",
       "      <td>0</td>\n",
       "      <td>1</td>\n",
       "      <td>10</td>\n",
       "    </tr>\n",
       "    <tr>\n",
       "      <th>sport_count_5000</th>\n",
       "      <td>14</td>\n",
       "      <td>12</td>\n",
       "      <td>71</td>\n",
       "    </tr>\n",
       "    <tr>\n",
       "      <th>market_count_5000</th>\n",
       "      <td>1</td>\n",
       "      <td>1</td>\n",
       "      <td>11</td>\n",
       "    </tr>\n",
       "  </tbody>\n",
       "</table>\n",
       "<p>291 rows × 3 columns</p>\n",
       "</div>"
      ],
      "text/plain": [
       "                                                    0                     1  \\\n",
       "id                                              30474                 30475   \n",
       "timestamp                                  2015-07-01            2015-07-01   \n",
       "full_sq                                            39                  79.2   \n",
       "life_sq                                          20.7                   NaN   \n",
       "floor                                               2                     8   \n",
       "max_floor                                           9                    17   \n",
       "material                                            1                     1   \n",
       "build_year                                       1998                     0   \n",
       "num_room                                            1                     3   \n",
       "kitch_sq                                          8.9                     1   \n",
       "state                                               3                     1   \n",
       "product_type                               Investment         OwnerOccupier   \n",
       "sub_area                               Juzhnoe Butovo  Poselenie Vnukovskoe   \n",
       "area_m                                    2.61551e+07           2.55363e+07   \n",
       "raion_popul                                    178264                  4001   \n",
       "green_zone_part                              0.137846              0.496315   \n",
       "indust_part                                 0.0411164            0.00712232   \n",
       "children_preschool                              14080                   275   \n",
       "preschool_quota                                 11926                   NaN   \n",
       "preschool_education_centers_raion                  11                     0   \n",
       "children_school                                 14892                   264   \n",
       "school_quota                                    24750                   NaN   \n",
       "school_education_centers_raion                     13                     0   \n",
       "school_education_centers_top_20_raion               1                     0   \n",
       "hospital_beds_raion                               NaN                   NaN   \n",
       "healthcare_centers_raion                            1                     0   \n",
       "university_top_20_raion                             0                     0   \n",
       "sport_objects_raion                                13                     0   \n",
       "additional_education_raion                          4                     0   \n",
       "culture_objects_top_25                             no                    no   \n",
       "...                                               ...                   ...   \n",
       "cafe_count_3000_price_high                          0                     0   \n",
       "big_church_count_3000                               1                     1   \n",
       "church_count_3000                                   3                     5   \n",
       "mosque_count_3000                                   1                     0   \n",
       "leisure_count_3000                                  0                     0   \n",
       "sport_count_3000                                    7                     7   \n",
       "market_count_3000                                   0                     0   \n",
       "green_part_5000                                 21.58                  39.1   \n",
       "prom_part_5000                                   4.69                   7.7   \n",
       "office_count_5000                                   1                     2   \n",
       "office_sqm_5000                                 37550                177300   \n",
       "trc_count_5000                                      8                     6   \n",
       "trc_sqm_5000                                   299166                231300   \n",
       "cafe_count_5000                                    19                    20   \n",
       "cafe_sum_5000_min_price_avg                    676.47                733.33   \n",
       "cafe_sum_5000_max_price_avg                   1088.24                  1250   \n",
       "cafe_avg_price_5000                            882.35                991.67   \n",
       "cafe_count_5000_na_price                            2                     2   \n",
       "cafe_count_5000_price_500                           5                     4   \n",
       "cafe_count_5000_price_1000                          4                     8   \n",
       "cafe_count_5000_price_1500                          8                     4   \n",
       "cafe_count_5000_price_2500                          0                     1   \n",
       "cafe_count_5000_price_4000                          0                     1   \n",
       "cafe_count_5000_price_high                          0                     0   \n",
       "big_church_count_5000                               1                     2   \n",
       "church_count_5000                                  10                    11   \n",
       "mosque_count_5000                                   1                     0   \n",
       "leisure_count_5000                                  0                     1   \n",
       "sport_count_5000                                   14                    12   \n",
       "market_count_5000                                   1                     1   \n",
       "\n",
       "                                                 2  \n",
       "id                                           30476  \n",
       "timestamp                               2015-07-01  \n",
       "full_sq                                       40.5  \n",
       "life_sq                                       25.1  \n",
       "floor                                            3  \n",
       "max_floor                                        5  \n",
       "material                                         2  \n",
       "build_year                                    1960  \n",
       "num_room                                         2  \n",
       "kitch_sq                                       4.8  \n",
       "state                                            2  \n",
       "product_type                            Investment  \n",
       "sub_area                                    Perovo  \n",
       "area_m                                 9.94634e+06  \n",
       "raion_popul                                 139322  \n",
       "green_zone_part                          0.0654088  \n",
       "indust_part                               0.225825  \n",
       "children_preschool                            6400  \n",
       "preschool_quota                               2232  \n",
       "preschool_education_centers_raion                7  \n",
       "children_school                               6558  \n",
       "school_quota                                  7966  \n",
       "school_education_centers_raion                   7  \n",
       "school_education_centers_top_20_raion            0  \n",
       "hospital_beds_raion                           1548  \n",
       "healthcare_centers_raion                         3  \n",
       "university_top_20_raion                          0  \n",
       "sport_objects_raion                             13  \n",
       "additional_education_raion                       0  \n",
       "culture_objects_top_25                          no  \n",
       "...                                            ...  \n",
       "cafe_count_3000_price_high                       0  \n",
       "big_church_count_3000                            2  \n",
       "church_count_3000                                3  \n",
       "mosque_count_3000                                0  \n",
       "leisure_count_3000                               5  \n",
       "sport_count_3000                                22  \n",
       "market_count_3000                                4  \n",
       "green_part_5000                              25.62  \n",
       "prom_part_5000                               13.59  \n",
       "office_count_5000                               27  \n",
       "office_sqm_5000                             427889  \n",
       "trc_count_5000                                  26  \n",
       "trc_sqm_5000                           1.02443e+06  \n",
       "cafe_count_5000                                179  \n",
       "cafe_sum_5000_min_price_avg                 668.97  \n",
       "cafe_sum_5000_max_price_avg                1132.18  \n",
       "cafe_avg_price_5000                         900.57  \n",
       "cafe_count_5000_na_price                         5  \n",
       "cafe_count_5000_price_500                       53  \n",
       "cafe_count_5000_price_1000                      64  \n",
       "cafe_count_5000_price_1500                      42  \n",
       "cafe_count_5000_price_2500                      11  \n",
       "cafe_count_5000_price_4000                       4  \n",
       "cafe_count_5000_price_high                       0  \n",
       "big_church_count_5000                           10  \n",
       "church_count_5000                               21  \n",
       "mosque_count_5000                                0  \n",
       "leisure_count_5000                              10  \n",
       "sport_count_5000                                71  \n",
       "market_count_5000                               11  \n",
       "\n",
       "[291 rows x 3 columns]"
      ]
     },
     "execution_count": 5,
     "metadata": {},
     "output_type": "execute_result"
    }
   ],
   "source": [
    "test_data.head(3).transpose()"
   ]
  },
  {
   "cell_type": "code",
   "execution_count": 6,
   "metadata": {},
   "outputs": [
    {
     "data": {
      "text/html": [
       "<div>\n",
       "<style>\n",
       "    .dataframe thead tr:only-child th {\n",
       "        text-align: right;\n",
       "    }\n",
       "\n",
       "    .dataframe thead th {\n",
       "        text-align: left;\n",
       "    }\n",
       "\n",
       "    .dataframe tbody tr th {\n",
       "        vertical-align: top;\n",
       "    }\n",
       "</style>\n",
       "<table border=\"1\" class=\"dataframe\">\n",
       "  <thead>\n",
       "    <tr style=\"text-align: right;\">\n",
       "      <th></th>\n",
       "      <th>0</th>\n",
       "      <th>1</th>\n",
       "      <th>2</th>\n",
       "    </tr>\n",
       "  </thead>\n",
       "  <tbody>\n",
       "    <tr>\n",
       "      <th>timestamp</th>\n",
       "      <td>2010-01-01</td>\n",
       "      <td>2010-01-02</td>\n",
       "      <td>2010-01-03</td>\n",
       "    </tr>\n",
       "    <tr>\n",
       "      <th>oil_urals</th>\n",
       "      <td>76.1</td>\n",
       "      <td>76.1</td>\n",
       "      <td>76.1</td>\n",
       "    </tr>\n",
       "    <tr>\n",
       "      <th>gdp_quart</th>\n",
       "      <td>NaN</td>\n",
       "      <td>NaN</td>\n",
       "      <td>NaN</td>\n",
       "    </tr>\n",
       "    <tr>\n",
       "      <th>gdp_quart_growth</th>\n",
       "      <td>NaN</td>\n",
       "      <td>NaN</td>\n",
       "      <td>NaN</td>\n",
       "    </tr>\n",
       "    <tr>\n",
       "      <th>cpi</th>\n",
       "      <td>NaN</td>\n",
       "      <td>NaN</td>\n",
       "      <td>NaN</td>\n",
       "    </tr>\n",
       "    <tr>\n",
       "      <th>ppi</th>\n",
       "      <td>NaN</td>\n",
       "      <td>NaN</td>\n",
       "      <td>NaN</td>\n",
       "    </tr>\n",
       "    <tr>\n",
       "      <th>gdp_deflator</th>\n",
       "      <td>NaN</td>\n",
       "      <td>NaN</td>\n",
       "      <td>NaN</td>\n",
       "    </tr>\n",
       "    <tr>\n",
       "      <th>balance_trade</th>\n",
       "      <td>NaN</td>\n",
       "      <td>NaN</td>\n",
       "      <td>NaN</td>\n",
       "    </tr>\n",
       "    <tr>\n",
       "      <th>balance_trade_growth</th>\n",
       "      <td>NaN</td>\n",
       "      <td>NaN</td>\n",
       "      <td>NaN</td>\n",
       "    </tr>\n",
       "    <tr>\n",
       "      <th>usdrub</th>\n",
       "      <td>NaN</td>\n",
       "      <td>NaN</td>\n",
       "      <td>NaN</td>\n",
       "    </tr>\n",
       "    <tr>\n",
       "      <th>eurrub</th>\n",
       "      <td>NaN</td>\n",
       "      <td>NaN</td>\n",
       "      <td>NaN</td>\n",
       "    </tr>\n",
       "    <tr>\n",
       "      <th>brent</th>\n",
       "      <td>NaN</td>\n",
       "      <td>NaN</td>\n",
       "      <td>NaN</td>\n",
       "    </tr>\n",
       "    <tr>\n",
       "      <th>net_capital_export</th>\n",
       "      <td>NaN</td>\n",
       "      <td>NaN</td>\n",
       "      <td>NaN</td>\n",
       "    </tr>\n",
       "    <tr>\n",
       "      <th>gdp_annual</th>\n",
       "      <td>38807.2</td>\n",
       "      <td>38807.2</td>\n",
       "      <td>38807.2</td>\n",
       "    </tr>\n",
       "    <tr>\n",
       "      <th>gdp_annual_growth</th>\n",
       "      <td>-0.0782086</td>\n",
       "      <td>-0.0782086</td>\n",
       "      <td>-0.0782086</td>\n",
       "    </tr>\n",
       "    <tr>\n",
       "      <th>average_provision_of_build_contract</th>\n",
       "      <td>5</td>\n",
       "      <td>5</td>\n",
       "      <td>5</td>\n",
       "    </tr>\n",
       "    <tr>\n",
       "      <th>average_provision_of_build_contract_moscow</th>\n",
       "      <td>NaN</td>\n",
       "      <td>NaN</td>\n",
       "      <td>NaN</td>\n",
       "    </tr>\n",
       "    <tr>\n",
       "      <th>rts</th>\n",
       "      <td>NaN</td>\n",
       "      <td>NaN</td>\n",
       "      <td>NaN</td>\n",
       "    </tr>\n",
       "    <tr>\n",
       "      <th>micex</th>\n",
       "      <td>NaN</td>\n",
       "      <td>NaN</td>\n",
       "      <td>NaN</td>\n",
       "    </tr>\n",
       "    <tr>\n",
       "      <th>micex_rgbi_tr</th>\n",
       "      <td>NaN</td>\n",
       "      <td>NaN</td>\n",
       "      <td>NaN</td>\n",
       "    </tr>\n",
       "    <tr>\n",
       "      <th>micex_cbi_tr</th>\n",
       "      <td>NaN</td>\n",
       "      <td>175.15</td>\n",
       "      <td>178.66</td>\n",
       "    </tr>\n",
       "    <tr>\n",
       "      <th>deposits_value</th>\n",
       "      <td>7.48497e+06</td>\n",
       "      <td>7.48497e+06</td>\n",
       "      <td>7.48497e+06</td>\n",
       "    </tr>\n",
       "    <tr>\n",
       "      <th>deposits_growth</th>\n",
       "      <td>NaN</td>\n",
       "      <td>NaN</td>\n",
       "      <td>NaN</td>\n",
       "    </tr>\n",
       "    <tr>\n",
       "      <th>deposits_rate</th>\n",
       "      <td>NaN</td>\n",
       "      <td>NaN</td>\n",
       "      <td>NaN</td>\n",
       "    </tr>\n",
       "    <tr>\n",
       "      <th>mortgage_value</th>\n",
       "      <td>142968</td>\n",
       "      <td>142968</td>\n",
       "      <td>142968</td>\n",
       "    </tr>\n",
       "    <tr>\n",
       "      <th>mortgage_growth</th>\n",
       "      <td>NaN</td>\n",
       "      <td>NaN</td>\n",
       "      <td>NaN</td>\n",
       "    </tr>\n",
       "    <tr>\n",
       "      <th>mortgage_rate</th>\n",
       "      <td>13.72</td>\n",
       "      <td>13.72</td>\n",
       "      <td>13.72</td>\n",
       "    </tr>\n",
       "    <tr>\n",
       "      <th>grp</th>\n",
       "      <td>8375.86</td>\n",
       "      <td>8375.86</td>\n",
       "      <td>8375.86</td>\n",
       "    </tr>\n",
       "    <tr>\n",
       "      <th>grp_growth</th>\n",
       "      <td>NaN</td>\n",
       "      <td>NaN</td>\n",
       "      <td>NaN</td>\n",
       "    </tr>\n",
       "    <tr>\n",
       "      <th>income_per_cap</th>\n",
       "      <td>30789.2</td>\n",
       "      <td>30789.2</td>\n",
       "      <td>30789.2</td>\n",
       "    </tr>\n",
       "    <tr>\n",
       "      <th>...</th>\n",
       "      <td>...</td>\n",
       "      <td>...</td>\n",
       "      <td>...</td>\n",
       "    </tr>\n",
       "    <tr>\n",
       "      <th>rent_price_4+room_bus</th>\n",
       "      <td>NaN</td>\n",
       "      <td>NaN</td>\n",
       "      <td>NaN</td>\n",
       "    </tr>\n",
       "    <tr>\n",
       "      <th>rent_price_3room_bus</th>\n",
       "      <td>NaN</td>\n",
       "      <td>NaN</td>\n",
       "      <td>NaN</td>\n",
       "    </tr>\n",
       "    <tr>\n",
       "      <th>rent_price_2room_bus</th>\n",
       "      <td>NaN</td>\n",
       "      <td>NaN</td>\n",
       "      <td>NaN</td>\n",
       "    </tr>\n",
       "    <tr>\n",
       "      <th>rent_price_1room_bus</th>\n",
       "      <td>NaN</td>\n",
       "      <td>NaN</td>\n",
       "      <td>NaN</td>\n",
       "    </tr>\n",
       "    <tr>\n",
       "      <th>rent_price_3room_eco</th>\n",
       "      <td>NaN</td>\n",
       "      <td>NaN</td>\n",
       "      <td>NaN</td>\n",
       "    </tr>\n",
       "    <tr>\n",
       "      <th>rent_price_2room_eco</th>\n",
       "      <td>NaN</td>\n",
       "      <td>NaN</td>\n",
       "      <td>NaN</td>\n",
       "    </tr>\n",
       "    <tr>\n",
       "      <th>rent_price_1room_eco</th>\n",
       "      <td>NaN</td>\n",
       "      <td>NaN</td>\n",
       "      <td>NaN</td>\n",
       "    </tr>\n",
       "    <tr>\n",
       "      <th>load_of_teachers_preschool_per_teacher</th>\n",
       "      <td>721.478</td>\n",
       "      <td>721.478</td>\n",
       "      <td>721.478</td>\n",
       "    </tr>\n",
       "    <tr>\n",
       "      <th>child_on_acc_pre_school</th>\n",
       "      <td>45,713</td>\n",
       "      <td>45,713</td>\n",
       "      <td>45,713</td>\n",
       "    </tr>\n",
       "    <tr>\n",
       "      <th>load_of_teachers_school_per_teacher</th>\n",
       "      <td>1356.11</td>\n",
       "      <td>1356.11</td>\n",
       "      <td>1356.11</td>\n",
       "    </tr>\n",
       "    <tr>\n",
       "      <th>students_state_oneshift</th>\n",
       "      <td>NaN</td>\n",
       "      <td>NaN</td>\n",
       "      <td>NaN</td>\n",
       "    </tr>\n",
       "    <tr>\n",
       "      <th>modern_education_share</th>\n",
       "      <td>NaN</td>\n",
       "      <td>NaN</td>\n",
       "      <td>NaN</td>\n",
       "    </tr>\n",
       "    <tr>\n",
       "      <th>old_education_build_share</th>\n",
       "      <td>NaN</td>\n",
       "      <td>NaN</td>\n",
       "      <td>NaN</td>\n",
       "    </tr>\n",
       "    <tr>\n",
       "      <th>provision_doctors</th>\n",
       "      <td>18</td>\n",
       "      <td>18</td>\n",
       "      <td>18</td>\n",
       "    </tr>\n",
       "    <tr>\n",
       "      <th>provision_nurse</th>\n",
       "      <td>99.4</td>\n",
       "      <td>99.4</td>\n",
       "      <td>99.4</td>\n",
       "    </tr>\n",
       "    <tr>\n",
       "      <th>load_on_doctors</th>\n",
       "      <td>7872.85</td>\n",
       "      <td>7872.85</td>\n",
       "      <td>7872.85</td>\n",
       "    </tr>\n",
       "    <tr>\n",
       "      <th>power_clinics</th>\n",
       "      <td>162.9</td>\n",
       "      <td>162.9</td>\n",
       "      <td>162.9</td>\n",
       "    </tr>\n",
       "    <tr>\n",
       "      <th>hospital_beds_available_per_cap</th>\n",
       "      <td>NaN</td>\n",
       "      <td>NaN</td>\n",
       "      <td>NaN</td>\n",
       "    </tr>\n",
       "    <tr>\n",
       "      <th>hospital_bed_occupancy_per_year</th>\n",
       "      <td>NaN</td>\n",
       "      <td>NaN</td>\n",
       "      <td>NaN</td>\n",
       "    </tr>\n",
       "    <tr>\n",
       "      <th>provision_retail_space_sqm</th>\n",
       "      <td>NaN</td>\n",
       "      <td>NaN</td>\n",
       "      <td>NaN</td>\n",
       "    </tr>\n",
       "    <tr>\n",
       "      <th>provision_retail_space_modern_sqm</th>\n",
       "      <td>690</td>\n",
       "      <td>690</td>\n",
       "      <td>690</td>\n",
       "    </tr>\n",
       "    <tr>\n",
       "      <th>turnover_catering_per_cap</th>\n",
       "      <td>6221</td>\n",
       "      <td>6221</td>\n",
       "      <td>6221</td>\n",
       "    </tr>\n",
       "    <tr>\n",
       "      <th>theaters_viewers_per_1000_cap</th>\n",
       "      <td>527</td>\n",
       "      <td>527</td>\n",
       "      <td>527</td>\n",
       "    </tr>\n",
       "    <tr>\n",
       "      <th>seats_theather_rfmin_per_100000_cap</th>\n",
       "      <td>0.41</td>\n",
       "      <td>0.41</td>\n",
       "      <td>0.41</td>\n",
       "    </tr>\n",
       "    <tr>\n",
       "      <th>museum_visitis_per_100_cap</th>\n",
       "      <td>993</td>\n",
       "      <td>993</td>\n",
       "      <td>993</td>\n",
       "    </tr>\n",
       "    <tr>\n",
       "      <th>bandwidth_sports</th>\n",
       "      <td>NaN</td>\n",
       "      <td>NaN</td>\n",
       "      <td>NaN</td>\n",
       "    </tr>\n",
       "    <tr>\n",
       "      <th>population_reg_sports_share</th>\n",
       "      <td>NaN</td>\n",
       "      <td>NaN</td>\n",
       "      <td>NaN</td>\n",
       "    </tr>\n",
       "    <tr>\n",
       "      <th>students_reg_sports_share</th>\n",
       "      <td>63.03</td>\n",
       "      <td>63.03</td>\n",
       "      <td>63.03</td>\n",
       "    </tr>\n",
       "    <tr>\n",
       "      <th>apartment_build</th>\n",
       "      <td>22825</td>\n",
       "      <td>22825</td>\n",
       "      <td>22825</td>\n",
       "    </tr>\n",
       "    <tr>\n",
       "      <th>apartment_fund_sqm</th>\n",
       "      <td>NaN</td>\n",
       "      <td>NaN</td>\n",
       "      <td>NaN</td>\n",
       "    </tr>\n",
       "  </tbody>\n",
       "</table>\n",
       "<p>100 rows × 3 columns</p>\n",
       "</div>"
      ],
      "text/plain": [
       "                                                      0            1  \\\n",
       "timestamp                                    2010-01-01   2010-01-02   \n",
       "oil_urals                                          76.1         76.1   \n",
       "gdp_quart                                           NaN          NaN   \n",
       "gdp_quart_growth                                    NaN          NaN   \n",
       "cpi                                                 NaN          NaN   \n",
       "ppi                                                 NaN          NaN   \n",
       "gdp_deflator                                        NaN          NaN   \n",
       "balance_trade                                       NaN          NaN   \n",
       "balance_trade_growth                                NaN          NaN   \n",
       "usdrub                                              NaN          NaN   \n",
       "eurrub                                              NaN          NaN   \n",
       "brent                                               NaN          NaN   \n",
       "net_capital_export                                  NaN          NaN   \n",
       "gdp_annual                                      38807.2      38807.2   \n",
       "gdp_annual_growth                            -0.0782086   -0.0782086   \n",
       "average_provision_of_build_contract                   5            5   \n",
       "average_provision_of_build_contract_moscow          NaN          NaN   \n",
       "rts                                                 NaN          NaN   \n",
       "micex                                               NaN          NaN   \n",
       "micex_rgbi_tr                                       NaN          NaN   \n",
       "micex_cbi_tr                                        NaN       175.15   \n",
       "deposits_value                              7.48497e+06  7.48497e+06   \n",
       "deposits_growth                                     NaN          NaN   \n",
       "deposits_rate                                       NaN          NaN   \n",
       "mortgage_value                                   142968       142968   \n",
       "mortgage_growth                                     NaN          NaN   \n",
       "mortgage_rate                                     13.72        13.72   \n",
       "grp                                             8375.86      8375.86   \n",
       "grp_growth                                          NaN          NaN   \n",
       "income_per_cap                                  30789.2      30789.2   \n",
       "...                                                 ...          ...   \n",
       "rent_price_4+room_bus                               NaN          NaN   \n",
       "rent_price_3room_bus                                NaN          NaN   \n",
       "rent_price_2room_bus                                NaN          NaN   \n",
       "rent_price_1room_bus                                NaN          NaN   \n",
       "rent_price_3room_eco                                NaN          NaN   \n",
       "rent_price_2room_eco                                NaN          NaN   \n",
       "rent_price_1room_eco                                NaN          NaN   \n",
       "load_of_teachers_preschool_per_teacher          721.478      721.478   \n",
       "child_on_acc_pre_school                          45,713       45,713   \n",
       "load_of_teachers_school_per_teacher             1356.11      1356.11   \n",
       "students_state_oneshift                             NaN          NaN   \n",
       "modern_education_share                              NaN          NaN   \n",
       "old_education_build_share                           NaN          NaN   \n",
       "provision_doctors                                    18           18   \n",
       "provision_nurse                                    99.4         99.4   \n",
       "load_on_doctors                                 7872.85      7872.85   \n",
       "power_clinics                                     162.9        162.9   \n",
       "hospital_beds_available_per_cap                     NaN          NaN   \n",
       "hospital_bed_occupancy_per_year                     NaN          NaN   \n",
       "provision_retail_space_sqm                          NaN          NaN   \n",
       "provision_retail_space_modern_sqm                   690          690   \n",
       "turnover_catering_per_cap                          6221         6221   \n",
       "theaters_viewers_per_1000_cap                       527          527   \n",
       "seats_theather_rfmin_per_100000_cap                0.41         0.41   \n",
       "museum_visitis_per_100_cap                          993          993   \n",
       "bandwidth_sports                                    NaN          NaN   \n",
       "population_reg_sports_share                         NaN          NaN   \n",
       "students_reg_sports_share                         63.03        63.03   \n",
       "apartment_build                                   22825        22825   \n",
       "apartment_fund_sqm                                  NaN          NaN   \n",
       "\n",
       "                                                      2  \n",
       "timestamp                                    2010-01-03  \n",
       "oil_urals                                          76.1  \n",
       "gdp_quart                                           NaN  \n",
       "gdp_quart_growth                                    NaN  \n",
       "cpi                                                 NaN  \n",
       "ppi                                                 NaN  \n",
       "gdp_deflator                                        NaN  \n",
       "balance_trade                                       NaN  \n",
       "balance_trade_growth                                NaN  \n",
       "usdrub                                              NaN  \n",
       "eurrub                                              NaN  \n",
       "brent                                               NaN  \n",
       "net_capital_export                                  NaN  \n",
       "gdp_annual                                      38807.2  \n",
       "gdp_annual_growth                            -0.0782086  \n",
       "average_provision_of_build_contract                   5  \n",
       "average_provision_of_build_contract_moscow          NaN  \n",
       "rts                                                 NaN  \n",
       "micex                                               NaN  \n",
       "micex_rgbi_tr                                       NaN  \n",
       "micex_cbi_tr                                     178.66  \n",
       "deposits_value                              7.48497e+06  \n",
       "deposits_growth                                     NaN  \n",
       "deposits_rate                                       NaN  \n",
       "mortgage_value                                   142968  \n",
       "mortgage_growth                                     NaN  \n",
       "mortgage_rate                                     13.72  \n",
       "grp                                             8375.86  \n",
       "grp_growth                                          NaN  \n",
       "income_per_cap                                  30789.2  \n",
       "...                                                 ...  \n",
       "rent_price_4+room_bus                               NaN  \n",
       "rent_price_3room_bus                                NaN  \n",
       "rent_price_2room_bus                                NaN  \n",
       "rent_price_1room_bus                                NaN  \n",
       "rent_price_3room_eco                                NaN  \n",
       "rent_price_2room_eco                                NaN  \n",
       "rent_price_1room_eco                                NaN  \n",
       "load_of_teachers_preschool_per_teacher          721.478  \n",
       "child_on_acc_pre_school                          45,713  \n",
       "load_of_teachers_school_per_teacher             1356.11  \n",
       "students_state_oneshift                             NaN  \n",
       "modern_education_share                              NaN  \n",
       "old_education_build_share                           NaN  \n",
       "provision_doctors                                    18  \n",
       "provision_nurse                                    99.4  \n",
       "load_on_doctors                                 7872.85  \n",
       "power_clinics                                     162.9  \n",
       "hospital_beds_available_per_cap                     NaN  \n",
       "hospital_bed_occupancy_per_year                     NaN  \n",
       "provision_retail_space_sqm                          NaN  \n",
       "provision_retail_space_modern_sqm                   690  \n",
       "turnover_catering_per_cap                          6221  \n",
       "theaters_viewers_per_1000_cap                       527  \n",
       "seats_theather_rfmin_per_100000_cap                0.41  \n",
       "museum_visitis_per_100_cap                          993  \n",
       "bandwidth_sports                                    NaN  \n",
       "population_reg_sports_share                         NaN  \n",
       "students_reg_sports_share                         63.03  \n",
       "apartment_build                                   22825  \n",
       "apartment_fund_sqm                                  NaN  \n",
       "\n",
       "[100 rows x 3 columns]"
      ]
     },
     "execution_count": 6,
     "metadata": {},
     "output_type": "execute_result"
    }
   ],
   "source": [
    "macro_data.head(3).transpose()"
   ]
  },
  {
   "cell_type": "markdown",
   "metadata": {},
   "source": [
    "**Observation:**\n",
    "1. Data are separated in two files => Need to merge the two dataset (individual train data & macro environment data\n",
    "2. Features with Categorial Values => Need to encode them into dummy variables for machine learning\n",
    "3. Features with Missing Value => We need to fill-up the missing part given ANN doesn't support missing value"
   ]
  },
  {
   "cell_type": "markdown",
   "metadata": {},
   "source": [
    "### Implementation: Data Preprocessing"
   ]
  },
  {
   "cell_type": "markdown",
   "metadata": {},
   "source": [
    "Join different dataset into single X & remove useless info\n",
    "1. Separate X, y from train data (price_doc is y while rest of features are X)\n",
    "2. Given micro environment with unique id \"timestamp\", so we will join the macro data with train data by using \"timestamp\" \n",
    "3. Remove non-related data such as id & timestamp in column 0"
   ]
  },
  {
   "cell_type": "code",
   "execution_count": 7,
   "metadata": {
    "collapsed": true
   },
   "outputs": [],
   "source": [
    "train_data_y = train_data.iloc[:,-1]\n",
    "train_data_X = train_data.iloc[:,1:-1]\n",
    "test_data_X = test_data.iloc[:,1:]\n",
    "train_data_X = pd.merge(train_data_X, macro_data, on='timestamp');\n",
    "train_data_X = train_data_X.iloc[:,1:]\n",
    "test_data_X = pd.merge(test_data_X, macro_data, on='timestamp');\n",
    "test_data_X = test_data_X.iloc[:,1:]"
   ]
  },
  {
   "cell_type": "markdown",
   "metadata": {},
   "source": [
    "Encode categorial features into dummy variables , to avoid new categorial values happening in testset not being captured, we will merge the dataset before converting"
   ]
  },
  {
   "cell_type": "code",
   "execution_count": 8,
   "metadata": {
    "collapsed": true
   },
   "outputs": [],
   "source": [
    "mixed_data_X = train_data_X.append(test_data_X, ignore_index=True)\n",
    "length_train = len(train_data_X)\n",
    "mixed_data_X = pd.get_dummies(mixed_data_X)"
   ]
  },
  {
   "cell_type": "markdown",
   "metadata": {},
   "source": [
    "**Check out the data of mixed_data_X**"
   ]
  },
  {
   "cell_type": "markdown",
   "metadata": {},
   "source": [
    "Shape of the mixed dataset"
   ]
  },
  {
   "cell_type": "code",
   "execution_count": 9,
   "metadata": {},
   "outputs": [
    {
     "name": "stdout",
     "output_type": "stream",
     "text": [
      "(38133, 557)\n"
     ]
    }
   ],
   "source": [
    "print(mixed_data_X.shape)"
   ]
  },
  {
   "cell_type": "markdown",
   "metadata": {},
   "source": [
    "**Check out first few row of mixed data for getting sense**"
   ]
  },
  {
   "cell_type": "code",
   "execution_count": 10,
   "metadata": {},
   "outputs": [
    {
     "data": {
      "text/html": [
       "<div>\n",
       "<style>\n",
       "    .dataframe thead tr:only-child th {\n",
       "        text-align: right;\n",
       "    }\n",
       "\n",
       "    .dataframe thead th {\n",
       "        text-align: left;\n",
       "    }\n",
       "\n",
       "    .dataframe tbody tr th {\n",
       "        vertical-align: top;\n",
       "    }\n",
       "</style>\n",
       "<table border=\"1\" class=\"dataframe\">\n",
       "  <thead>\n",
       "    <tr style=\"text-align: right;\">\n",
       "      <th></th>\n",
       "      <th>0</th>\n",
       "      <th>1</th>\n",
       "      <th>2</th>\n",
       "    </tr>\n",
       "  </thead>\n",
       "  <tbody>\n",
       "    <tr>\n",
       "      <th>full_sq</th>\n",
       "      <td>4.300000e+01</td>\n",
       "      <td>3.400000e+01</td>\n",
       "      <td>4.300000e+01</td>\n",
       "    </tr>\n",
       "    <tr>\n",
       "      <th>life_sq</th>\n",
       "      <td>2.700000e+01</td>\n",
       "      <td>1.900000e+01</td>\n",
       "      <td>2.900000e+01</td>\n",
       "    </tr>\n",
       "    <tr>\n",
       "      <th>floor</th>\n",
       "      <td>4.000000e+00</td>\n",
       "      <td>3.000000e+00</td>\n",
       "      <td>2.000000e+00</td>\n",
       "    </tr>\n",
       "    <tr>\n",
       "      <th>max_floor</th>\n",
       "      <td>NaN</td>\n",
       "      <td>NaN</td>\n",
       "      <td>NaN</td>\n",
       "    </tr>\n",
       "    <tr>\n",
       "      <th>material</th>\n",
       "      <td>NaN</td>\n",
       "      <td>NaN</td>\n",
       "      <td>NaN</td>\n",
       "    </tr>\n",
       "    <tr>\n",
       "      <th>build_year</th>\n",
       "      <td>NaN</td>\n",
       "      <td>NaN</td>\n",
       "      <td>NaN</td>\n",
       "    </tr>\n",
       "    <tr>\n",
       "      <th>num_room</th>\n",
       "      <td>NaN</td>\n",
       "      <td>NaN</td>\n",
       "      <td>NaN</td>\n",
       "    </tr>\n",
       "    <tr>\n",
       "      <th>kitch_sq</th>\n",
       "      <td>NaN</td>\n",
       "      <td>NaN</td>\n",
       "      <td>NaN</td>\n",
       "    </tr>\n",
       "    <tr>\n",
       "      <th>state</th>\n",
       "      <td>NaN</td>\n",
       "      <td>NaN</td>\n",
       "      <td>NaN</td>\n",
       "    </tr>\n",
       "    <tr>\n",
       "      <th>area_m</th>\n",
       "      <td>6.407578e+06</td>\n",
       "      <td>9.589337e+06</td>\n",
       "      <td>4.808270e+06</td>\n",
       "    </tr>\n",
       "    <tr>\n",
       "      <th>raion_popul</th>\n",
       "      <td>1.555720e+05</td>\n",
       "      <td>1.153520e+05</td>\n",
       "      <td>1.017080e+05</td>\n",
       "    </tr>\n",
       "    <tr>\n",
       "      <th>green_zone_part</th>\n",
       "      <td>1.897271e-01</td>\n",
       "      <td>3.726020e-01</td>\n",
       "      <td>1.125596e-01</td>\n",
       "    </tr>\n",
       "    <tr>\n",
       "      <th>indust_part</th>\n",
       "      <td>6.998930e-05</td>\n",
       "      <td>4.963726e-02</td>\n",
       "      <td>1.185374e-01</td>\n",
       "    </tr>\n",
       "    <tr>\n",
       "      <th>children_preschool</th>\n",
       "      <td>9.576000e+03</td>\n",
       "      <td>6.880000e+03</td>\n",
       "      <td>5.879000e+03</td>\n",
       "    </tr>\n",
       "    <tr>\n",
       "      <th>preschool_quota</th>\n",
       "      <td>5.001000e+03</td>\n",
       "      <td>3.119000e+03</td>\n",
       "      <td>1.463000e+03</td>\n",
       "    </tr>\n",
       "    <tr>\n",
       "      <th>preschool_education_centers_raion</th>\n",
       "      <td>5.000000e+00</td>\n",
       "      <td>5.000000e+00</td>\n",
       "      <td>4.000000e+00</td>\n",
       "    </tr>\n",
       "    <tr>\n",
       "      <th>children_school</th>\n",
       "      <td>1.030900e+04</td>\n",
       "      <td>7.759000e+03</td>\n",
       "      <td>6.207000e+03</td>\n",
       "    </tr>\n",
       "    <tr>\n",
       "      <th>school_quota</th>\n",
       "      <td>1.106500e+04</td>\n",
       "      <td>6.237000e+03</td>\n",
       "      <td>5.580000e+03</td>\n",
       "    </tr>\n",
       "    <tr>\n",
       "      <th>school_education_centers_raion</th>\n",
       "      <td>5.000000e+00</td>\n",
       "      <td>8.000000e+00</td>\n",
       "      <td>7.000000e+00</td>\n",
       "    </tr>\n",
       "    <tr>\n",
       "      <th>school_education_centers_top_20_raion</th>\n",
       "      <td>0.000000e+00</td>\n",
       "      <td>0.000000e+00</td>\n",
       "      <td>0.000000e+00</td>\n",
       "    </tr>\n",
       "    <tr>\n",
       "      <th>hospital_beds_raion</th>\n",
       "      <td>2.400000e+02</td>\n",
       "      <td>2.290000e+02</td>\n",
       "      <td>1.183000e+03</td>\n",
       "    </tr>\n",
       "    <tr>\n",
       "      <th>healthcare_centers_raion</th>\n",
       "      <td>1.000000e+00</td>\n",
       "      <td>1.000000e+00</td>\n",
       "      <td>1.000000e+00</td>\n",
       "    </tr>\n",
       "    <tr>\n",
       "      <th>university_top_20_raion</th>\n",
       "      <td>0.000000e+00</td>\n",
       "      <td>0.000000e+00</td>\n",
       "      <td>0.000000e+00</td>\n",
       "    </tr>\n",
       "    <tr>\n",
       "      <th>sport_objects_raion</th>\n",
       "      <td>7.000000e+00</td>\n",
       "      <td>6.000000e+00</td>\n",
       "      <td>5.000000e+00</td>\n",
       "    </tr>\n",
       "    <tr>\n",
       "      <th>additional_education_raion</th>\n",
       "      <td>3.000000e+00</td>\n",
       "      <td>1.000000e+00</td>\n",
       "      <td>1.000000e+00</td>\n",
       "    </tr>\n",
       "    <tr>\n",
       "      <th>culture_objects_top_25_raion</th>\n",
       "      <td>0.000000e+00</td>\n",
       "      <td>1.000000e+00</td>\n",
       "      <td>0.000000e+00</td>\n",
       "    </tr>\n",
       "    <tr>\n",
       "      <th>shopping_centers_raion</th>\n",
       "      <td>1.600000e+01</td>\n",
       "      <td>3.000000e+00</td>\n",
       "      <td>0.000000e+00</td>\n",
       "    </tr>\n",
       "    <tr>\n",
       "      <th>office_raion</th>\n",
       "      <td>1.000000e+00</td>\n",
       "      <td>0.000000e+00</td>\n",
       "      <td>1.000000e+00</td>\n",
       "    </tr>\n",
       "    <tr>\n",
       "      <th>full_all</th>\n",
       "      <td>8.620600e+04</td>\n",
       "      <td>7.628400e+04</td>\n",
       "      <td>1.019820e+05</td>\n",
       "    </tr>\n",
       "    <tr>\n",
       "      <th>male_f</th>\n",
       "      <td>4.047700e+04</td>\n",
       "      <td>3.420000e+04</td>\n",
       "      <td>4.607600e+04</td>\n",
       "    </tr>\n",
       "    <tr>\n",
       "      <th>...</th>\n",
       "      <td>...</td>\n",
       "      <td>...</td>\n",
       "      <td>...</td>\n",
       "    </tr>\n",
       "    <tr>\n",
       "      <th>radiation_raion_yes</th>\n",
       "      <td>0.000000e+00</td>\n",
       "      <td>0.000000e+00</td>\n",
       "      <td>1.000000e+00</td>\n",
       "    </tr>\n",
       "    <tr>\n",
       "      <th>railroad_terminal_raion_no</th>\n",
       "      <td>1.000000e+00</td>\n",
       "      <td>1.000000e+00</td>\n",
       "      <td>1.000000e+00</td>\n",
       "    </tr>\n",
       "    <tr>\n",
       "      <th>railroad_terminal_raion_yes</th>\n",
       "      <td>0.000000e+00</td>\n",
       "      <td>0.000000e+00</td>\n",
       "      <td>0.000000e+00</td>\n",
       "    </tr>\n",
       "    <tr>\n",
       "      <th>big_market_raion_no</th>\n",
       "      <td>1.000000e+00</td>\n",
       "      <td>1.000000e+00</td>\n",
       "      <td>1.000000e+00</td>\n",
       "    </tr>\n",
       "    <tr>\n",
       "      <th>big_market_raion_yes</th>\n",
       "      <td>0.000000e+00</td>\n",
       "      <td>0.000000e+00</td>\n",
       "      <td>0.000000e+00</td>\n",
       "    </tr>\n",
       "    <tr>\n",
       "      <th>nuclear_reactor_raion_no</th>\n",
       "      <td>1.000000e+00</td>\n",
       "      <td>1.000000e+00</td>\n",
       "      <td>1.000000e+00</td>\n",
       "    </tr>\n",
       "    <tr>\n",
       "      <th>nuclear_reactor_raion_yes</th>\n",
       "      <td>0.000000e+00</td>\n",
       "      <td>0.000000e+00</td>\n",
       "      <td>0.000000e+00</td>\n",
       "    </tr>\n",
       "    <tr>\n",
       "      <th>detention_facility_raion_no</th>\n",
       "      <td>1.000000e+00</td>\n",
       "      <td>1.000000e+00</td>\n",
       "      <td>1.000000e+00</td>\n",
       "    </tr>\n",
       "    <tr>\n",
       "      <th>detention_facility_raion_yes</th>\n",
       "      <td>0.000000e+00</td>\n",
       "      <td>0.000000e+00</td>\n",
       "      <td>0.000000e+00</td>\n",
       "    </tr>\n",
       "    <tr>\n",
       "      <th>water_1line_no</th>\n",
       "      <td>1.000000e+00</td>\n",
       "      <td>1.000000e+00</td>\n",
       "      <td>1.000000e+00</td>\n",
       "    </tr>\n",
       "    <tr>\n",
       "      <th>water_1line_yes</th>\n",
       "      <td>0.000000e+00</td>\n",
       "      <td>0.000000e+00</td>\n",
       "      <td>0.000000e+00</td>\n",
       "    </tr>\n",
       "    <tr>\n",
       "      <th>big_road1_1line_no</th>\n",
       "      <td>1.000000e+00</td>\n",
       "      <td>1.000000e+00</td>\n",
       "      <td>1.000000e+00</td>\n",
       "    </tr>\n",
       "    <tr>\n",
       "      <th>big_road1_1line_yes</th>\n",
       "      <td>0.000000e+00</td>\n",
       "      <td>0.000000e+00</td>\n",
       "      <td>0.000000e+00</td>\n",
       "    </tr>\n",
       "    <tr>\n",
       "      <th>railroad_1line_no</th>\n",
       "      <td>1.000000e+00</td>\n",
       "      <td>1.000000e+00</td>\n",
       "      <td>1.000000e+00</td>\n",
       "    </tr>\n",
       "    <tr>\n",
       "      <th>railroad_1line_yes</th>\n",
       "      <td>0.000000e+00</td>\n",
       "      <td>0.000000e+00</td>\n",
       "      <td>0.000000e+00</td>\n",
       "    </tr>\n",
       "    <tr>\n",
       "      <th>ecology_excellent</th>\n",
       "      <td>0.000000e+00</td>\n",
       "      <td>1.000000e+00</td>\n",
       "      <td>0.000000e+00</td>\n",
       "    </tr>\n",
       "    <tr>\n",
       "      <th>ecology_good</th>\n",
       "      <td>1.000000e+00</td>\n",
       "      <td>0.000000e+00</td>\n",
       "      <td>0.000000e+00</td>\n",
       "    </tr>\n",
       "    <tr>\n",
       "      <th>ecology_no data</th>\n",
       "      <td>0.000000e+00</td>\n",
       "      <td>0.000000e+00</td>\n",
       "      <td>0.000000e+00</td>\n",
       "    </tr>\n",
       "    <tr>\n",
       "      <th>ecology_poor</th>\n",
       "      <td>0.000000e+00</td>\n",
       "      <td>0.000000e+00</td>\n",
       "      <td>1.000000e+00</td>\n",
       "    </tr>\n",
       "    <tr>\n",
       "      <th>ecology_satisfactory</th>\n",
       "      <td>0.000000e+00</td>\n",
       "      <td>0.000000e+00</td>\n",
       "      <td>0.000000e+00</td>\n",
       "    </tr>\n",
       "    <tr>\n",
       "      <th>child_on_acc_pre_school_#!</th>\n",
       "      <td>1.000000e+00</td>\n",
       "      <td>1.000000e+00</td>\n",
       "      <td>1.000000e+00</td>\n",
       "    </tr>\n",
       "    <tr>\n",
       "      <th>child_on_acc_pre_school_16,765</th>\n",
       "      <td>0.000000e+00</td>\n",
       "      <td>0.000000e+00</td>\n",
       "      <td>0.000000e+00</td>\n",
       "    </tr>\n",
       "    <tr>\n",
       "      <th>child_on_acc_pre_school_3,013</th>\n",
       "      <td>0.000000e+00</td>\n",
       "      <td>0.000000e+00</td>\n",
       "      <td>0.000000e+00</td>\n",
       "    </tr>\n",
       "    <tr>\n",
       "      <th>child_on_acc_pre_school_7,311</th>\n",
       "      <td>0.000000e+00</td>\n",
       "      <td>0.000000e+00</td>\n",
       "      <td>0.000000e+00</td>\n",
       "    </tr>\n",
       "    <tr>\n",
       "      <th>modern_education_share_90,92</th>\n",
       "      <td>0.000000e+00</td>\n",
       "      <td>0.000000e+00</td>\n",
       "      <td>0.000000e+00</td>\n",
       "    </tr>\n",
       "    <tr>\n",
       "      <th>modern_education_share_93,08</th>\n",
       "      <td>0.000000e+00</td>\n",
       "      <td>0.000000e+00</td>\n",
       "      <td>0.000000e+00</td>\n",
       "    </tr>\n",
       "    <tr>\n",
       "      <th>modern_education_share_95,4918</th>\n",
       "      <td>0.000000e+00</td>\n",
       "      <td>0.000000e+00</td>\n",
       "      <td>0.000000e+00</td>\n",
       "    </tr>\n",
       "    <tr>\n",
       "      <th>old_education_build_share_23,14</th>\n",
       "      <td>0.000000e+00</td>\n",
       "      <td>0.000000e+00</td>\n",
       "      <td>0.000000e+00</td>\n",
       "    </tr>\n",
       "    <tr>\n",
       "      <th>old_education_build_share_25,47</th>\n",
       "      <td>0.000000e+00</td>\n",
       "      <td>0.000000e+00</td>\n",
       "      <td>0.000000e+00</td>\n",
       "    </tr>\n",
       "    <tr>\n",
       "      <th>old_education_build_share_8,2517</th>\n",
       "      <td>0.000000e+00</td>\n",
       "      <td>0.000000e+00</td>\n",
       "      <td>0.000000e+00</td>\n",
       "    </tr>\n",
       "  </tbody>\n",
       "</table>\n",
       "<p>557 rows × 3 columns</p>\n",
       "</div>"
      ],
      "text/plain": [
       "                                                  0             1  \\\n",
       "full_sq                                4.300000e+01  3.400000e+01   \n",
       "life_sq                                2.700000e+01  1.900000e+01   \n",
       "floor                                  4.000000e+00  3.000000e+00   \n",
       "max_floor                                       NaN           NaN   \n",
       "material                                        NaN           NaN   \n",
       "build_year                                      NaN           NaN   \n",
       "num_room                                        NaN           NaN   \n",
       "kitch_sq                                        NaN           NaN   \n",
       "state                                           NaN           NaN   \n",
       "area_m                                 6.407578e+06  9.589337e+06   \n",
       "raion_popul                            1.555720e+05  1.153520e+05   \n",
       "green_zone_part                        1.897271e-01  3.726020e-01   \n",
       "indust_part                            6.998930e-05  4.963726e-02   \n",
       "children_preschool                     9.576000e+03  6.880000e+03   \n",
       "preschool_quota                        5.001000e+03  3.119000e+03   \n",
       "preschool_education_centers_raion      5.000000e+00  5.000000e+00   \n",
       "children_school                        1.030900e+04  7.759000e+03   \n",
       "school_quota                           1.106500e+04  6.237000e+03   \n",
       "school_education_centers_raion         5.000000e+00  8.000000e+00   \n",
       "school_education_centers_top_20_raion  0.000000e+00  0.000000e+00   \n",
       "hospital_beds_raion                    2.400000e+02  2.290000e+02   \n",
       "healthcare_centers_raion               1.000000e+00  1.000000e+00   \n",
       "university_top_20_raion                0.000000e+00  0.000000e+00   \n",
       "sport_objects_raion                    7.000000e+00  6.000000e+00   \n",
       "additional_education_raion             3.000000e+00  1.000000e+00   \n",
       "culture_objects_top_25_raion           0.000000e+00  1.000000e+00   \n",
       "shopping_centers_raion                 1.600000e+01  3.000000e+00   \n",
       "office_raion                           1.000000e+00  0.000000e+00   \n",
       "full_all                               8.620600e+04  7.628400e+04   \n",
       "male_f                                 4.047700e+04  3.420000e+04   \n",
       "...                                             ...           ...   \n",
       "radiation_raion_yes                    0.000000e+00  0.000000e+00   \n",
       "railroad_terminal_raion_no             1.000000e+00  1.000000e+00   \n",
       "railroad_terminal_raion_yes            0.000000e+00  0.000000e+00   \n",
       "big_market_raion_no                    1.000000e+00  1.000000e+00   \n",
       "big_market_raion_yes                   0.000000e+00  0.000000e+00   \n",
       "nuclear_reactor_raion_no               1.000000e+00  1.000000e+00   \n",
       "nuclear_reactor_raion_yes              0.000000e+00  0.000000e+00   \n",
       "detention_facility_raion_no            1.000000e+00  1.000000e+00   \n",
       "detention_facility_raion_yes           0.000000e+00  0.000000e+00   \n",
       "water_1line_no                         1.000000e+00  1.000000e+00   \n",
       "water_1line_yes                        0.000000e+00  0.000000e+00   \n",
       "big_road1_1line_no                     1.000000e+00  1.000000e+00   \n",
       "big_road1_1line_yes                    0.000000e+00  0.000000e+00   \n",
       "railroad_1line_no                      1.000000e+00  1.000000e+00   \n",
       "railroad_1line_yes                     0.000000e+00  0.000000e+00   \n",
       "ecology_excellent                      0.000000e+00  1.000000e+00   \n",
       "ecology_good                           1.000000e+00  0.000000e+00   \n",
       "ecology_no data                        0.000000e+00  0.000000e+00   \n",
       "ecology_poor                           0.000000e+00  0.000000e+00   \n",
       "ecology_satisfactory                   0.000000e+00  0.000000e+00   \n",
       "child_on_acc_pre_school_#!             1.000000e+00  1.000000e+00   \n",
       "child_on_acc_pre_school_16,765         0.000000e+00  0.000000e+00   \n",
       "child_on_acc_pre_school_3,013          0.000000e+00  0.000000e+00   \n",
       "child_on_acc_pre_school_7,311          0.000000e+00  0.000000e+00   \n",
       "modern_education_share_90,92           0.000000e+00  0.000000e+00   \n",
       "modern_education_share_93,08           0.000000e+00  0.000000e+00   \n",
       "modern_education_share_95,4918         0.000000e+00  0.000000e+00   \n",
       "old_education_build_share_23,14        0.000000e+00  0.000000e+00   \n",
       "old_education_build_share_25,47        0.000000e+00  0.000000e+00   \n",
       "old_education_build_share_8,2517       0.000000e+00  0.000000e+00   \n",
       "\n",
       "                                                  2  \n",
       "full_sq                                4.300000e+01  \n",
       "life_sq                                2.900000e+01  \n",
       "floor                                  2.000000e+00  \n",
       "max_floor                                       NaN  \n",
       "material                                        NaN  \n",
       "build_year                                      NaN  \n",
       "num_room                                        NaN  \n",
       "kitch_sq                                        NaN  \n",
       "state                                           NaN  \n",
       "area_m                                 4.808270e+06  \n",
       "raion_popul                            1.017080e+05  \n",
       "green_zone_part                        1.125596e-01  \n",
       "indust_part                            1.185374e-01  \n",
       "children_preschool                     5.879000e+03  \n",
       "preschool_quota                        1.463000e+03  \n",
       "preschool_education_centers_raion      4.000000e+00  \n",
       "children_school                        6.207000e+03  \n",
       "school_quota                           5.580000e+03  \n",
       "school_education_centers_raion         7.000000e+00  \n",
       "school_education_centers_top_20_raion  0.000000e+00  \n",
       "hospital_beds_raion                    1.183000e+03  \n",
       "healthcare_centers_raion               1.000000e+00  \n",
       "university_top_20_raion                0.000000e+00  \n",
       "sport_objects_raion                    5.000000e+00  \n",
       "additional_education_raion             1.000000e+00  \n",
       "culture_objects_top_25_raion           0.000000e+00  \n",
       "shopping_centers_raion                 0.000000e+00  \n",
       "office_raion                           1.000000e+00  \n",
       "full_all                               1.019820e+05  \n",
       "male_f                                 4.607600e+04  \n",
       "...                                             ...  \n",
       "radiation_raion_yes                    1.000000e+00  \n",
       "railroad_terminal_raion_no             1.000000e+00  \n",
       "railroad_terminal_raion_yes            0.000000e+00  \n",
       "big_market_raion_no                    1.000000e+00  \n",
       "big_market_raion_yes                   0.000000e+00  \n",
       "nuclear_reactor_raion_no               1.000000e+00  \n",
       "nuclear_reactor_raion_yes              0.000000e+00  \n",
       "detention_facility_raion_no            1.000000e+00  \n",
       "detention_facility_raion_yes           0.000000e+00  \n",
       "water_1line_no                         1.000000e+00  \n",
       "water_1line_yes                        0.000000e+00  \n",
       "big_road1_1line_no                     1.000000e+00  \n",
       "big_road1_1line_yes                    0.000000e+00  \n",
       "railroad_1line_no                      1.000000e+00  \n",
       "railroad_1line_yes                     0.000000e+00  \n",
       "ecology_excellent                      0.000000e+00  \n",
       "ecology_good                           0.000000e+00  \n",
       "ecology_no data                        0.000000e+00  \n",
       "ecology_poor                           1.000000e+00  \n",
       "ecology_satisfactory                   0.000000e+00  \n",
       "child_on_acc_pre_school_#!             1.000000e+00  \n",
       "child_on_acc_pre_school_16,765         0.000000e+00  \n",
       "child_on_acc_pre_school_3,013          0.000000e+00  \n",
       "child_on_acc_pre_school_7,311          0.000000e+00  \n",
       "modern_education_share_90,92           0.000000e+00  \n",
       "modern_education_share_93,08           0.000000e+00  \n",
       "modern_education_share_95,4918         0.000000e+00  \n",
       "old_education_build_share_23,14        0.000000e+00  \n",
       "old_education_build_share_25,47        0.000000e+00  \n",
       "old_education_build_share_8,2517       0.000000e+00  \n",
       "\n",
       "[557 rows x 3 columns]"
      ]
     },
     "execution_count": 10,
     "metadata": {},
     "output_type": "execute_result"
    }
   ],
   "source": [
    "mixed_data_X.head(3).transpose()"
   ]
  },
  {
   "cell_type": "markdown",
   "metadata": {},
   "source": [
    "**Fill up missing value**"
   ]
  },
  {
   "cell_type": "markdown",
   "metadata": {},
   "source": [
    "Check out which column has missing value and mark it in array"
   ]
  },
  {
   "cell_type": "code",
   "execution_count": 11,
   "metadata": {
    "collapsed": true
   },
   "outputs": [],
   "source": [
    "def findMissingValue(X):\n",
    "    #Check out Empty Data\n",
    "    EmptyDataList = []\n",
    "    for i in range(0, len(X.iloc[0])):\n",
    "        if(np.any(np.isnan(X.iloc[:,i]))):\n",
    "            EmptyDataList.append(i)\n",
    "\n",
    "    return EmptyDataList"
   ]
  },
  {
   "cell_type": "markdown",
   "metadata": {},
   "source": [
    "Fill in Missing Value with different tactics (e.g. random forest = rfr, mean = take the mean of the column, knn = K nearest neighbour)"
   ]
  },
  {
   "cell_type": "code",
   "execution_count": 12,
   "metadata": {
    "collapsed": true
   },
   "outputs": [],
   "source": [
    "def fillMissingValue(df, fy, WaytoFillNan):\n",
    "    train_data_temp = df[df.iloc[:,fy].notnull()]  \n",
    "    test_data_temp = df[df.iloc[:,fy].isnull()]  \n",
    "    train_y=train_data_temp.iloc[:,fy]\n",
    "    train_X=train_data_temp.copy()\n",
    "    train_X = train_X.drop(train_X.columns[fy], axis = 1)\n",
    "    test_X = test_data_temp.copy()\n",
    "    test_X = test_X.drop(test_X.columns[fy], axis =1)\n",
    "    mixed_X = Imputer().fit_transform(train_X.append(test_X, ignore_index=True))\n",
    "    length_train = len(train_X)\n",
    "    train_X = mixed_X[:length_train,:]\n",
    "    test_X = mixed_X[length_train:,:]\n",
    "    \n",
    "    if (WaytoFillNan == 'rfr'):\n",
    "        print (\"Try to fill-up value with rfr\")\n",
    "        rfr_regressor=rfr(n_estimators=100, verbose = 5, n_jobs = -1)\n",
    "        rfr_regressor.fit(train_X,train_y)\n",
    "        y_pred = rfr_regressor.predict(test_X)\n",
    "        print (y_pred)\n",
    "        df.iloc[:,fy] = df.iloc[:,fy].fillna(value = pd.Series(data = y_pred))\n",
    "\n",
    "    elif (WaytoFillNan == 'mean'):\n",
    "        print (\"Try to fill-up value with mean\")\n",
    "        df.iloc[:,fy] = df.iloc[:,fy].fillna(value = np.mean(df.iloc[:,fy]))\n",
    "        \n",
    "    elif (WaytoFillNan == 'ffill'):\n",
    "        df.iloc[:,fy] = df.iloc[:,fy].fillna(method = 'ffill')\n",
    "\n",
    "    elif (WaytoFillNan == 'bfill'):\n",
    "        df.iloc[:,fy] = df.iloc[:,fy].fillna(method = 'bfill')\n",
    "\n",
    "    elif (WaytoFillNan == 'knn'):\n",
    "        impute = KnnIm()\n",
    "        df.iloc[:,fy] = (impute.knn(X=df, column=fy, k=10))[:,fy]\n",
    "    \n",
    "    return df"
   ]
  },
  {
   "cell_type": "markdown",
   "metadata": {},
   "source": [
    "Fill up column by column and save to hdd per column to avoid running all over again if we stop in the middle"
   ]
  },
  {
   "cell_type": "code",
   "execution_count": 13,
   "metadata": {},
   "outputs": [
    {
     "name": "stdout",
     "output_type": "stream",
     "text": [
      "Filling-up column : 1\n",
      "Wrote to hdd til column : 1\n",
      "Filling-up column : 2\n",
      "Wrote to hdd til column : 2\n",
      "Filling-up column : 3\n",
      "Wrote to hdd til column : 3\n",
      "Filling-up column : 4\n",
      "Wrote to hdd til column : 4\n",
      "Filling-up column : 5\n",
      "Wrote to hdd til column : 5\n",
      "Filling-up column : 6\n",
      "Wrote to hdd til column : 6\n",
      "Filling-up column : 7\n",
      "Wrote to hdd til column : 7\n",
      "Filling-up column : 8\n",
      "Wrote to hdd til column : 8\n",
      "Filling-up column : 14\n",
      "Wrote to hdd til column : 14\n",
      "Filling-up column : 17\n",
      "Wrote to hdd til column : 17\n",
      "Filling-up column : 20\n",
      "Wrote to hdd til column : 20\n",
      "Filling-up column : 55\n",
      "Wrote to hdd til column : 55\n",
      "Filling-up column : 56\n",
      "Wrote to hdd til column : 56\n",
      "Filling-up column : 57\n",
      "Wrote to hdd til column : 57\n",
      "Filling-up column : 58\n",
      "Wrote to hdd til column : 58\n",
      "Filling-up column : 59\n",
      "Wrote to hdd til column : 59\n",
      "Filling-up column : 60\n",
      "Wrote to hdd til column : 60\n",
      "Filling-up column : 61\n",
      "Wrote to hdd til column : 61\n",
      "Filling-up column : 62\n",
      "Wrote to hdd til column : 62\n",
      "Filling-up column : 63\n",
      "Wrote to hdd til column : 63\n",
      "Filling-up column : 64\n",
      "Wrote to hdd til column : 64\n",
      "Filling-up column : 65\n",
      "Wrote to hdd til column : 65\n",
      "Filling-up column : 66\n",
      "Wrote to hdd til column : 66\n",
      "Filling-up column : 67\n",
      "Wrote to hdd til column : 67\n",
      "Filling-up column : 68\n",
      "Wrote to hdd til column : 68\n",
      "Filling-up column : 69\n",
      "Wrote to hdd til column : 69\n",
      "Filling-up column : 70\n",
      "Wrote to hdd til column : 70\n",
      "Filling-up column : 74\n",
      "Wrote to hdd til column : 74\n",
      "Filling-up column : 75\n",
      "Wrote to hdd til column : 75\n",
      "Filling-up column : 84\n",
      "Wrote to hdd til column : 84\n",
      "Filling-up column : 85\n",
      "Wrote to hdd til column : 85\n",
      "Filling-up column : 86\n",
      "Wrote to hdd til column : 86\n",
      "Filling-up column : 143\n",
      "Wrote to hdd til column : 143\n",
      "Filling-up column : 144\n",
      "Wrote to hdd til column : 144\n",
      "Filling-up column : 145\n",
      "Wrote to hdd til column : 145\n",
      "Filling-up column : 166\n",
      "Wrote to hdd til column : 166\n",
      "Filling-up column : 167\n",
      "Wrote to hdd til column : 167\n",
      "Filling-up column : 168\n",
      "Wrote to hdd til column : 168\n",
      "Filling-up column : 189\n",
      "Wrote to hdd til column : 189\n",
      "Filling-up column : 190\n",
      "Wrote to hdd til column : 190\n",
      "Filling-up column : 191\n",
      "Wrote to hdd til column : 191\n",
      "Filling-up column : 205\n",
      "Wrote to hdd til column : 205\n",
      "Filling-up column : 212\n",
      "Wrote to hdd til column : 212\n",
      "Filling-up column : 213\n",
      "Wrote to hdd til column : 213\n",
      "Filling-up column : 214\n",
      "Wrote to hdd til column : 214\n",
      "Filling-up column : 235\n",
      "Wrote to hdd til column : 235\n",
      "Filling-up column : 236\n",
      "Wrote to hdd til column : 236\n",
      "Filling-up column : 237\n",
      "Wrote to hdd til column : 237\n",
      "Filling-up column : 252\n",
      "Wrote to hdd til column : 252\n",
      "Filling-up column : 258\n",
      "Wrote to hdd til column : 258\n",
      "Filling-up column : 259\n",
      "Wrote to hdd til column : 259\n",
      "Filling-up column : 260\n",
      "Wrote to hdd til column : 260\n",
      "Filling-up column : 300\n",
      "Wrote to hdd til column : 300\n",
      "Filling-up column : 301\n",
      "Wrote to hdd til column : 301\n",
      "Filling-up column : 302\n",
      "Wrote to hdd til column : 302\n",
      "Filling-up column : 303\n",
      "Wrote to hdd til column : 303\n",
      "Filling-up column : 304\n",
      "Wrote to hdd til column : 304\n",
      "Filling-up column : 305\n",
      "Wrote to hdd til column : 305\n",
      "Filling-up column : 307\n",
      "Wrote to hdd til column : 307\n",
      "Filling-up column : 308\n",
      "Wrote to hdd til column : 308\n",
      "Filling-up column : 309\n",
      "Wrote to hdd til column : 309\n",
      "Filling-up column : 310\n",
      "Wrote to hdd til column : 310\n",
      "Filling-up column : 311\n",
      "Wrote to hdd til column : 311\n",
      "Filling-up column : 312\n",
      "Wrote to hdd til column : 312\n",
      "Filling-up column : 313\n",
      "Wrote to hdd til column : 313\n",
      "Filling-up column : 314\n",
      "Wrote to hdd til column : 314\n",
      "Filling-up column : 315\n",
      "Wrote to hdd til column : 315\n",
      "Filling-up column : 316\n",
      "Wrote to hdd til column : 316\n",
      "Filling-up column : 317\n",
      "Wrote to hdd til column : 317\n",
      "Filling-up column : 318\n",
      "Wrote to hdd til column : 318\n",
      "Filling-up column : 319\n",
      "Wrote to hdd til column : 319\n",
      "Filling-up column : 320\n",
      "Wrote to hdd til column : 320\n",
      "Filling-up column : 321\n",
      "Wrote to hdd til column : 321\n",
      "Filling-up column : 322\n",
      "Wrote to hdd til column : 322\n",
      "Filling-up column : 323\n",
      "Wrote to hdd til column : 323\n",
      "Filling-up column : 324\n",
      "Wrote to hdd til column : 324\n",
      "Filling-up column : 325\n",
      "Wrote to hdd til column : 325\n",
      "Filling-up column : 326\n",
      "Wrote to hdd til column : 326\n",
      "Filling-up column : 327\n",
      "Wrote to hdd til column : 327\n",
      "Filling-up column : 328\n",
      "Wrote to hdd til column : 328\n",
      "Filling-up column : 329\n",
      "Wrote to hdd til column : 329\n",
      "Filling-up column : 330\n",
      "Wrote to hdd til column : 330\n",
      "Filling-up column : 331\n",
      "Wrote to hdd til column : 331\n",
      "Filling-up column : 332\n",
      "Wrote to hdd til column : 332\n",
      "Filling-up column : 333\n",
      "Wrote to hdd til column : 333\n",
      "Filling-up column : 334\n",
      "Wrote to hdd til column : 334\n",
      "Filling-up column : 335\n",
      "Wrote to hdd til column : 335\n",
      "Filling-up column : 336\n",
      "Wrote to hdd til column : 336\n",
      "Filling-up column : 337\n",
      "Wrote to hdd til column : 337\n",
      "Filling-up column : 338\n",
      "Wrote to hdd til column : 338\n",
      "Filling-up column : 339\n",
      "Wrote to hdd til column : 339\n",
      "Filling-up column : 340\n",
      "Wrote to hdd til column : 340\n",
      "Filling-up column : 341\n",
      "Wrote to hdd til column : 341\n",
      "Filling-up column : 342\n",
      "Wrote to hdd til column : 342\n",
      "Filling-up column : 350\n",
      "Wrote to hdd til column : 350\n",
      "Filling-up column : 351\n",
      "Wrote to hdd til column : 351\n",
      "Filling-up column : 352\n",
      "Wrote to hdd til column : 352\n",
      "Filling-up column : 353\n",
      "Wrote to hdd til column : 353\n",
      "Filling-up column : 354\n",
      "Wrote to hdd til column : 354\n",
      "Filling-up column : 355\n",
      "Wrote to hdd til column : 355\n",
      "Filling-up column : 356\n",
      "Wrote to hdd til column : 356\n",
      "Filling-up column : 357\n",
      "Wrote to hdd til column : 357\n",
      "Filling-up column : 358\n",
      "Wrote to hdd til column : 358\n",
      "Filling-up column : 359\n",
      "Wrote to hdd til column : 359\n",
      "Filling-up column : 360\n",
      "Wrote to hdd til column : 360\n",
      "Filling-up column : 361\n",
      "Wrote to hdd til column : 361\n",
      "Filling-up column : 362\n",
      "Wrote to hdd til column : 362\n",
      "Filling-up column : 363\n",
      "Wrote to hdd til column : 363\n",
      "Filling-up column : 364\n",
      "Wrote to hdd til column : 364\n",
      "Filling-up column : 365\n",
      "Wrote to hdd til column : 365\n",
      "Filling-up column : 366\n",
      "Wrote to hdd til column : 366\n",
      "Filling-up column : 367\n",
      "Wrote to hdd til column : 367\n",
      "Filling-up column : 368\n",
      "Wrote to hdd til column : 368\n",
      "Filling-up column : 369\n",
      "Wrote to hdd til column : 369\n"
     ]
    }
   ],
   "source": [
    "emptyList_mix = findMissingValue(mixed_data_X)\n",
    "\n",
    "for i in emptyList_mix:\n",
    "    print (\"Filling-up column : \" + str(i))\n",
    "    mixed_data_X = fillMissingValue(mixed_data_X, i, 'knn')\n",
    "    if(np.isnan(np.min(mixed_data_X.iloc[:,i])) == False):\n",
    "        train_data_X = mixed_data_X.iloc[:length_train,:]\n",
    "        test_data_X = mixed_data_X.iloc[length_train:,:]\n",
    "        pd.DataFrame(train_data_X).to_csv(\"./training/train_data_X_for_capstone.csv\", index=False)\n",
    "        pd.DataFrame(test_data_X).to_csv(\"./training/test_data_X_for_capstone.csv\", index=False)\n",
    "        print (\"Wrote to hdd til column : \" + str(i))"
   ]
  },
  {
   "cell_type": "markdown",
   "metadata": {},
   "source": [
    "Safe check on whether all the columns have been filled up or not"
   ]
  },
  {
   "cell_type": "code",
   "execution_count": 17,
   "metadata": {},
   "outputs": [
    {
     "name": "stdout",
     "output_type": "stream",
     "text": [
      "False\n",
      "False\n",
      "False\n",
      "30471\n",
      "7662\n"
     ]
    }
   ],
   "source": [
    "print (np.any(np.isnan(mixed_data_X)))\n",
    "print (np.any(np.isnan(train_data_X)))\n",
    "print (np.any(np.isnan(test_data_X)))\n",
    "print (len(train_data_X))\n",
    "print (len(test_data_X))"
   ]
  },
  {
   "cell_type": "markdown",
   "metadata": {},
   "source": [
    "**Feature Scaling**\n",
    "Improve the speed of ANN with standard scaling"
   ]
  },
  {
   "cell_type": "code",
   "execution_count": 18,
   "metadata": {
    "collapsed": true
   },
   "outputs": [],
   "source": [
    "sc_X = StandardScaler()\n",
    "train_data_X = sc_X.fit_transform(train_data_X)\n",
    "test_data_X = sc_X.transform(test_data_X)"
   ]
  },
  {
   "cell_type": "markdown",
   "metadata": {},
   "source": [
    "----\n",
    "## PART 2: Measurement of Model"
   ]
  },
  {
   "cell_type": "markdown",
   "metadata": {},
   "source": [
    "### Metrics and the Naive Predictor\n",
    "*CharityML*, equipped with their research, knows individuals that make more than \\$50,000 are most likely to donate to their charity. Because of this, *CharityML* is particularly interested in predicting who makes more than \\$50,000 accurately. It would seem that using **accuracy** as a metric for evaluating a particular model's performace would be appropriate. Additionally, identifying someone that *does not* make more than \\$50,000 as someone who does would be detrimental to *CharityML*, since they are looking to find individuals willing to donate. Therefore, a model's ability to precisely predict those that make more than \\$50,000 is *more important* than the model's ability to **recall** those individuals. We can use **F-beta score** as a metric that considers both precision and recall:\n",
    "\n",
    "$$ F_{\\beta} = (1 + \\beta^2) \\cdot \\frac{precision \\cdot recall}{\\left( \\beta^2 \\cdot precision \\right) + recall} $$\n",
    "\n",
    "In particular, when $\\beta = 0.5$, more emphasis is placed on precision. This is called the **F$_{0.5}$ score** (or F-score for simplicity).\n",
    "\n",
    "Looking at the distribution of classes (those who make at most \\$50,000, and those who make more), it's clear most individuals do not make more than \\$50,000. This can greatly affect **accuracy**, since we could simply say *\"this person does not make more than \\$50,000\"* and generally be right, without ever looking at the data! Making such a statement would be called **naive**, since we have not considered any information to substantiate the claim. It is always important to consider the *naive prediction* for your data, to help establish a benchmark for whether a model is performing well. That been said, using that prediction would be pointless: If we predicted all people made less than \\$50,000, *CharityML* would identify no one as donors. "
   ]
  },
  {
   "cell_type": "code",
   "execution_count": 21,
   "metadata": {
    "collapsed": true
   },
   "outputs": [],
   "source": [
    "def rmsle(predicted, actual):\n",
    "    return np.sqrt(np.nansum(np.square(np.log(predicted + 1) - np.log(actual + 1)))/float(len(predicted)))"
   ]
  },
  {
   "cell_type": "code",
   "execution_count": 23,
   "metadata": {},
   "outputs": [],
   "source": [
    "from sklearn.metrics import make_scorer\n",
    "scorer = make_scorer(rmsle, greater_is_better=False)"
   ]
  },
  {
   "cell_type": "markdown",
   "metadata": {},
   "source": [
    "----\n",
    "## PART 3: Model Implementation - XGBoost / ANN"
   ]
  },
  {
   "cell_type": "code",
   "execution_count": 28,
   "metadata": {
    "collapsed": true
   },
   "outputs": [],
   "source": [
    "def ann_model(dropout_rate=0.0, length = 557):\n",
    "    # create model\n",
    "    model = Sequential()\n",
    "    model.add(Dense(378, input_dim=length, kernel_initializer='normal', activation='relu'))\n",
    "    model.add(Dropout(dropout_rate))\n",
    "    model.add(Dense(169, kernel_initializer='normal', activation='relu'))\n",
    "    model.add(Dropout(dropout_rate))    \n",
    "    model.add(Dense(84, kernel_initializer='normal', activation='relu'))\n",
    "    model.add(Dropout(dropout_rate))\n",
    "    model.add(Dense(172, kernel_initializer='normal', activation='relu'))\n",
    "    model.add(Dropout(dropout_rate))\n",
    "    model.add(Dense(85, kernel_initializer='normal', activation='relu'))\n",
    "    model.add(Dropout(dropout_rate))\n",
    "    model.add(Dense(45, kernel_initializer='normal', activation='relu'))\n",
    "    model.add(Dropout(dropout_rate))\n",
    "    model.add(Dense(1, kernel_initializer='normal'))\n",
    "    # Compile model\n",
    "    model.compile(loss='mean_squared_logarithmic_error', optimizer='adam')\n",
    "    return model"
   ]
  },
  {
   "cell_type": "code",
   "execution_count": 29,
   "metadata": {},
   "outputs": [
    {
     "name": "stderr",
     "output_type": "stream",
     "text": [
      "/Applications/anaconda/envs/tensorflow/lib/python3.6/site-packages/keras/wrappers/scikit_learn.py:80: DeprecationWarning: inspect.getargspec() is deprecated, use inspect.signature() or inspect.getfullargspec()\n",
      "  legal_params += inspect.getargspec(fn)[0]\n",
      "/Applications/anaconda/envs/tensorflow/lib/python3.6/site-packages/keras/wrappers/scikit_learn.py:80: DeprecationWarning: inspect.getargspec() is deprecated, use inspect.signature() or inspect.getfullargspec()\n",
      "  legal_params += inspect.getargspec(fn)[0]\n",
      "/Applications/anaconda/envs/tensorflow/lib/python3.6/site-packages/keras/wrappers/scikit_learn.py:80: DeprecationWarning: inspect.getargspec() is deprecated, use inspect.signature() or inspect.getfullargspec()\n",
      "  legal_params += inspect.getargspec(fn)[0]\n",
      "/Applications/anaconda/envs/tensorflow/lib/python3.6/site-packages/keras/wrappers/scikit_learn.py:80: DeprecationWarning: inspect.getargspec() is deprecated, use inspect.signature() or inspect.getfullargspec()\n",
      "  legal_params += inspect.getargspec(fn)[0]\n",
      "/Applications/anaconda/envs/tensorflow/lib/python3.6/site-packages/keras/wrappers/scikit_learn.py:80: DeprecationWarning: inspect.getargspec() is deprecated, use inspect.signature() or inspect.getfullargspec()\n",
      "  legal_params += inspect.getargspec(fn)[0]\n"
     ]
    }
   ],
   "source": [
    "ann_regressor = KerasRegressor(build_fn=ann_model, epochs=30, batch_size=10, verbose=1)"
   ]
  },
  {
   "cell_type": "code",
   "execution_count": 30,
   "metadata": {},
   "outputs": [
    {
     "name": "stderr",
     "output_type": "stream",
     "text": [
      "/Applications/anaconda/envs/tensorflow/lib/python3.6/site-packages/keras/wrappers/scikit_learn.py:80: DeprecationWarning: inspect.getargspec() is deprecated, use inspect.signature() or inspect.getfullargspec()\n",
      "  legal_params += inspect.getargspec(fn)[0]\n",
      "/Applications/anaconda/envs/tensorflow/lib/python3.6/site-packages/keras/wrappers/scikit_learn.py:80: DeprecationWarning: inspect.getargspec() is deprecated, use inspect.signature() or inspect.getfullargspec()\n",
      "  legal_params += inspect.getargspec(fn)[0]\n",
      "/Applications/anaconda/envs/tensorflow/lib/python3.6/site-packages/keras/wrappers/scikit_learn.py:80: DeprecationWarning: inspect.getargspec() is deprecated, use inspect.signature() or inspect.getfullargspec()\n",
      "  legal_params += inspect.getargspec(fn)[0]\n",
      "/Applications/anaconda/envs/tensorflow/lib/python3.6/site-packages/keras/wrappers/scikit_learn.py:80: DeprecationWarning: inspect.getargspec() is deprecated, use inspect.signature() or inspect.getfullargspec()\n",
      "  legal_params += inspect.getargspec(fn)[0]\n",
      "/Applications/anaconda/envs/tensorflow/lib/python3.6/site-packages/keras/wrappers/scikit_learn.py:80: DeprecationWarning: inspect.getargspec() is deprecated, use inspect.signature() or inspect.getfullargspec()\n",
      "  legal_params += inspect.getargspec(fn)[0]\n"
     ]
    },
    {
     "name": "stdout",
     "output_type": "stream",
     "text": [
      "[CV]  ................................................................\n"
     ]
    },
    {
     "name": "stderr",
     "output_type": "stream",
     "text": [
      "/Applications/anaconda/envs/tensorflow/lib/python3.6/site-packages/keras/wrappers/scikit_learn.py:166: DeprecationWarning: inspect.getargspec() is deprecated, use inspect.signature() or inspect.getfullargspec()\n",
      "  fn_args = inspect.getargspec(fn)[0]\n",
      "/Applications/anaconda/envs/tensorflow/lib/python3.6/site-packages/keras/utils/generic_utils.py:135: DeprecationWarning: inspect.getargspec() is deprecated, use inspect.signature() or inspect.getfullargspec()\n",
      "  arg_spec = inspect.getargspec(cls.from_config)\n",
      "/Applications/anaconda/envs/tensorflow/lib/python3.6/site-packages/keras/utils/generic_utils.py:135: DeprecationWarning: inspect.getargspec() is deprecated, use inspect.signature() or inspect.getfullargspec()\n",
      "  arg_spec = inspect.getargspec(cls.from_config)\n",
      "/Applications/anaconda/envs/tensorflow/lib/python3.6/site-packages/keras/utils/generic_utils.py:135: DeprecationWarning: inspect.getargspec() is deprecated, use inspect.signature() or inspect.getfullargspec()\n",
      "  arg_spec = inspect.getargspec(cls.from_config)\n",
      "/Applications/anaconda/envs/tensorflow/lib/python3.6/site-packages/keras/utils/generic_utils.py:135: DeprecationWarning: inspect.getargspec() is deprecated, use inspect.signature() or inspect.getfullargspec()\n",
      "  arg_spec = inspect.getargspec(cls.from_config)\n",
      "/Applications/anaconda/envs/tensorflow/lib/python3.6/site-packages/keras/utils/generic_utils.py:135: DeprecationWarning: inspect.getargspec() is deprecated, use inspect.signature() or inspect.getfullargspec()\n",
      "  arg_spec = inspect.getargspec(cls.from_config)\n",
      "/Applications/anaconda/envs/tensorflow/lib/python3.6/site-packages/keras/utils/generic_utils.py:135: DeprecationWarning: inspect.getargspec() is deprecated, use inspect.signature() or inspect.getfullargspec()\n",
      "  arg_spec = inspect.getargspec(cls.from_config)\n",
      "/Applications/anaconda/envs/tensorflow/lib/python3.6/site-packages/keras/utils/generic_utils.py:135: DeprecationWarning: inspect.getargspec() is deprecated, use inspect.signature() or inspect.getfullargspec()\n",
      "  arg_spec = inspect.getargspec(cls.from_config)\n",
      "/Applications/anaconda/envs/tensorflow/lib/python3.6/site-packages/keras/utils/generic_utils.py:135: DeprecationWarning: inspect.getargspec() is deprecated, use inspect.signature() or inspect.getfullargspec()\n",
      "  arg_spec = inspect.getargspec(cls.from_config)\n",
      "/Applications/anaconda/envs/tensorflow/lib/python3.6/site-packages/keras/utils/generic_utils.py:135: DeprecationWarning: inspect.getargspec() is deprecated, use inspect.signature() or inspect.getfullargspec()\n",
      "  arg_spec = inspect.getargspec(cls.from_config)\n",
      "/Applications/anaconda/envs/tensorflow/lib/python3.6/site-packages/keras/utils/generic_utils.py:135: DeprecationWarning: inspect.getargspec() is deprecated, use inspect.signature() or inspect.getfullargspec()\n",
      "  arg_spec = inspect.getargspec(cls.from_config)\n",
      "/Applications/anaconda/envs/tensorflow/lib/python3.6/site-packages/keras/utils/generic_utils.py:135: DeprecationWarning: inspect.getargspec() is deprecated, use inspect.signature() or inspect.getfullargspec()\n",
      "  arg_spec = inspect.getargspec(cls.from_config)\n",
      "/Applications/anaconda/envs/tensorflow/lib/python3.6/site-packages/keras/utils/generic_utils.py:135: DeprecationWarning: inspect.getargspec() is deprecated, use inspect.signature() or inspect.getfullargspec()\n",
      "  arg_spec = inspect.getargspec(cls.from_config)\n",
      "/Applications/anaconda/envs/tensorflow/lib/python3.6/site-packages/keras/utils/generic_utils.py:135: DeprecationWarning: inspect.getargspec() is deprecated, use inspect.signature() or inspect.getfullargspec()\n",
      "  arg_spec = inspect.getargspec(cls.from_config)\n",
      "/Applications/anaconda/envs/tensorflow/lib/python3.6/site-packages/keras/utils/generic_utils.py:135: DeprecationWarning: inspect.getargspec() is deprecated, use inspect.signature() or inspect.getfullargspec()\n",
      "  arg_spec = inspect.getargspec(cls.from_config)\n",
      "/Applications/anaconda/envs/tensorflow/lib/python3.6/site-packages/keras/utils/generic_utils.py:135: DeprecationWarning: inspect.getargspec() is deprecated, use inspect.signature() or inspect.getfullargspec()\n",
      "  arg_spec = inspect.getargspec(cls.from_config)\n",
      "/Applications/anaconda/envs/tensorflow/lib/python3.6/site-packages/keras/wrappers/scikit_learn.py:166: DeprecationWarning: inspect.getargspec() is deprecated, use inspect.signature() or inspect.getfullargspec()\n",
      "  fn_args = inspect.getargspec(fn)[0]\n"
     ]
    },
    {
     "name": "stdout",
     "output_type": "stream",
     "text": [
      "Epoch 1/30\n",
      "24376/24376 [==============================] - 24s - loss: 4.2384    \n",
      "Epoch 2/30\n",
      "24376/24376 [==============================] - 23s - loss: 0.2282    \n",
      "Epoch 3/30\n",
      "24376/24376 [==============================] - 22s - loss: 0.2119    \n",
      "Epoch 4/30\n",
      "24376/24376 [==============================] - 20s - loss: 0.2058    \n",
      "Epoch 5/30\n",
      "24376/24376 [==============================] - 20s - loss: 0.2014    \n",
      "Epoch 6/30\n",
      "24376/24376 [==============================] - 21s - loss: 0.1985    \n",
      "Epoch 7/30\n",
      "24376/24376 [==============================] - 24s - loss: 0.1958    \n",
      "Epoch 8/30\n",
      "24376/24376 [==============================] - 27s - loss: 0.1926    \n",
      "Epoch 9/30\n",
      "24376/24376 [==============================] - 23s - loss: 0.1913    \n",
      "Epoch 10/30\n",
      "24376/24376 [==============================] - 23s - loss: 0.1896    \n",
      "Epoch 11/30\n",
      "24376/24376 [==============================] - 23s - loss: 0.1876    \n",
      "Epoch 12/30\n",
      "24376/24376 [==============================] - 22s - loss: 0.1857    \n",
      "Epoch 13/30\n",
      "24376/24376 [==============================] - 22s - loss: 0.1839    \n",
      "Epoch 14/30\n",
      "24376/24376 [==============================] - 22s - loss: 0.1819    \n",
      "Epoch 15/30\n",
      "24376/24376 [==============================] - 23s - loss: 0.1803    \n",
      "Epoch 16/30\n",
      "24376/24376 [==============================] - 22s - loss: 0.1778    \n",
      "Epoch 17/30\n",
      "24376/24376 [==============================] - 23s - loss: 0.1761    \n",
      "Epoch 18/30\n",
      "24376/24376 [==============================] - 23s - loss: 0.1745    \n",
      "Epoch 19/30\n",
      "24376/24376 [==============================] - 21s - loss: 0.1706    \n",
      "Epoch 20/30\n",
      "24376/24376 [==============================] - 21s - loss: 0.1669    \n",
      "Epoch 21/30\n",
      "24376/24376 [==============================] - 21s - loss: 0.1632    \n",
      "Epoch 22/30\n",
      "24376/24376 [==============================] - 21s - loss: 0.1590    \n",
      "Epoch 23/30\n",
      "24376/24376 [==============================] - 21s - loss: 0.1546    \n",
      "Epoch 24/30\n",
      "24376/24376 [==============================] - 21s - loss: 0.1503    \n",
      "Epoch 25/30\n",
      "24376/24376 [==============================] - 21s - loss: 0.1447    \n",
      "Epoch 26/30\n",
      "24376/24376 [==============================] - 23s - loss: 0.1403    \n",
      "Epoch 27/30\n",
      "24376/24376 [==============================] - 22s - loss: 0.1339    \n",
      "Epoch 28/30\n",
      "24376/24376 [==============================] - 25s - loss: 0.1292    \n",
      "Epoch 29/30\n",
      "24376/24376 [==============================] - 26s - loss: 0.1237    \n",
      "Epoch 30/30\n",
      "24376/24376 [==============================] - 23s - loss: 0.1210    \n",
      " 560/6095 [=>............................] - ETA: \r"
     ]
    },
    {
     "name": "stderr",
     "output_type": "stream",
     "text": [
      "/Applications/anaconda/envs/tensorflow/lib/python3.6/site-packages/keras/wrappers/scikit_learn.py:166: DeprecationWarning: inspect.getargspec() is deprecated, use inspect.signature() or inspect.getfullargspec()\n",
      "  fn_args = inspect.getargspec(fn)[0]\n"
     ]
    },
    {
     "name": "stdout",
     "output_type": "stream",
     "text": [
      "6000/6095 [============================>.] - ETA: 0s[CV] ................................ , score=-0.828213, total=11.6min\n",
      "[CV]  ................................................................\n"
     ]
    },
    {
     "name": "stderr",
     "output_type": "stream",
     "text": [
      "[Parallel(n_jobs=1)]: Done   1 out of   1 | elapsed: 11.6min remaining:    0.0s\n",
      "/Applications/anaconda/envs/tensorflow/lib/python3.6/site-packages/keras/wrappers/scikit_learn.py:80: DeprecationWarning: inspect.getargspec() is deprecated, use inspect.signature() or inspect.getfullargspec()\n",
      "  legal_params += inspect.getargspec(fn)[0]\n",
      "/Applications/anaconda/envs/tensorflow/lib/python3.6/site-packages/keras/wrappers/scikit_learn.py:80: DeprecationWarning: inspect.getargspec() is deprecated, use inspect.signature() or inspect.getfullargspec()\n",
      "  legal_params += inspect.getargspec(fn)[0]\n",
      "/Applications/anaconda/envs/tensorflow/lib/python3.6/site-packages/keras/wrappers/scikit_learn.py:80: DeprecationWarning: inspect.getargspec() is deprecated, use inspect.signature() or inspect.getfullargspec()\n",
      "  legal_params += inspect.getargspec(fn)[0]\n",
      "/Applications/anaconda/envs/tensorflow/lib/python3.6/site-packages/keras/wrappers/scikit_learn.py:80: DeprecationWarning: inspect.getargspec() is deprecated, use inspect.signature() or inspect.getfullargspec()\n",
      "  legal_params += inspect.getargspec(fn)[0]\n",
      "/Applications/anaconda/envs/tensorflow/lib/python3.6/site-packages/keras/wrappers/scikit_learn.py:80: DeprecationWarning: inspect.getargspec() is deprecated, use inspect.signature() or inspect.getfullargspec()\n",
      "  legal_params += inspect.getargspec(fn)[0]\n",
      "/Applications/anaconda/envs/tensorflow/lib/python3.6/site-packages/keras/wrappers/scikit_learn.py:166: DeprecationWarning: inspect.getargspec() is deprecated, use inspect.signature() or inspect.getfullargspec()\n",
      "  fn_args = inspect.getargspec(fn)[0]\n",
      "/Applications/anaconda/envs/tensorflow/lib/python3.6/site-packages/keras/utils/generic_utils.py:135: DeprecationWarning: inspect.getargspec() is deprecated, use inspect.signature() or inspect.getfullargspec()\n",
      "  arg_spec = inspect.getargspec(cls.from_config)\n",
      "/Applications/anaconda/envs/tensorflow/lib/python3.6/site-packages/keras/utils/generic_utils.py:135: DeprecationWarning: inspect.getargspec() is deprecated, use inspect.signature() or inspect.getfullargspec()\n",
      "  arg_spec = inspect.getargspec(cls.from_config)\n",
      "/Applications/anaconda/envs/tensorflow/lib/python3.6/site-packages/keras/utils/generic_utils.py:135: DeprecationWarning: inspect.getargspec() is deprecated, use inspect.signature() or inspect.getfullargspec()\n",
      "  arg_spec = inspect.getargspec(cls.from_config)\n",
      "/Applications/anaconda/envs/tensorflow/lib/python3.6/site-packages/keras/utils/generic_utils.py:135: DeprecationWarning: inspect.getargspec() is deprecated, use inspect.signature() or inspect.getfullargspec()\n",
      "  arg_spec = inspect.getargspec(cls.from_config)\n",
      "/Applications/anaconda/envs/tensorflow/lib/python3.6/site-packages/keras/utils/generic_utils.py:135: DeprecationWarning: inspect.getargspec() is deprecated, use inspect.signature() or inspect.getfullargspec()\n",
      "  arg_spec = inspect.getargspec(cls.from_config)\n",
      "/Applications/anaconda/envs/tensorflow/lib/python3.6/site-packages/keras/utils/generic_utils.py:135: DeprecationWarning: inspect.getargspec() is deprecated, use inspect.signature() or inspect.getfullargspec()\n",
      "  arg_spec = inspect.getargspec(cls.from_config)\n",
      "/Applications/anaconda/envs/tensorflow/lib/python3.6/site-packages/keras/utils/generic_utils.py:135: DeprecationWarning: inspect.getargspec() is deprecated, use inspect.signature() or inspect.getfullargspec()\n",
      "  arg_spec = inspect.getargspec(cls.from_config)\n",
      "/Applications/anaconda/envs/tensorflow/lib/python3.6/site-packages/keras/utils/generic_utils.py:135: DeprecationWarning: inspect.getargspec() is deprecated, use inspect.signature() or inspect.getfullargspec()\n",
      "  arg_spec = inspect.getargspec(cls.from_config)\n",
      "/Applications/anaconda/envs/tensorflow/lib/python3.6/site-packages/keras/utils/generic_utils.py:135: DeprecationWarning: inspect.getargspec() is deprecated, use inspect.signature() or inspect.getfullargspec()\n",
      "  arg_spec = inspect.getargspec(cls.from_config)\n",
      "/Applications/anaconda/envs/tensorflow/lib/python3.6/site-packages/keras/utils/generic_utils.py:135: DeprecationWarning: inspect.getargspec() is deprecated, use inspect.signature() or inspect.getfullargspec()\n",
      "  arg_spec = inspect.getargspec(cls.from_config)\n",
      "/Applications/anaconda/envs/tensorflow/lib/python3.6/site-packages/keras/utils/generic_utils.py:135: DeprecationWarning: inspect.getargspec() is deprecated, use inspect.signature() or inspect.getfullargspec()\n",
      "  arg_spec = inspect.getargspec(cls.from_config)\n",
      "/Applications/anaconda/envs/tensorflow/lib/python3.6/site-packages/keras/utils/generic_utils.py:135: DeprecationWarning: inspect.getargspec() is deprecated, use inspect.signature() or inspect.getfullargspec()\n",
      "  arg_spec = inspect.getargspec(cls.from_config)\n",
      "/Applications/anaconda/envs/tensorflow/lib/python3.6/site-packages/keras/utils/generic_utils.py:135: DeprecationWarning: inspect.getargspec() is deprecated, use inspect.signature() or inspect.getfullargspec()\n",
      "  arg_spec = inspect.getargspec(cls.from_config)\n",
      "/Applications/anaconda/envs/tensorflow/lib/python3.6/site-packages/keras/utils/generic_utils.py:135: DeprecationWarning: inspect.getargspec() is deprecated, use inspect.signature() or inspect.getfullargspec()\n",
      "  arg_spec = inspect.getargspec(cls.from_config)\n",
      "/Applications/anaconda/envs/tensorflow/lib/python3.6/site-packages/keras/utils/generic_utils.py:135: DeprecationWarning: inspect.getargspec() is deprecated, use inspect.signature() or inspect.getfullargspec()\n",
      "  arg_spec = inspect.getargspec(cls.from_config)\n",
      "/Applications/anaconda/envs/tensorflow/lib/python3.6/site-packages/keras/wrappers/scikit_learn.py:166: DeprecationWarning: inspect.getargspec() is deprecated, use inspect.signature() or inspect.getfullargspec()\n",
      "  fn_args = inspect.getargspec(fn)[0]\n"
     ]
    },
    {
     "name": "stdout",
     "output_type": "stream",
     "text": [
      "Epoch 1/30\n",
      "24377/24377 [==============================] - 24s - loss: 3.9014    \n",
      "Epoch 2/30\n",
      "24377/24377 [==============================] - 21s - loss: 0.2610    \n",
      "Epoch 3/30\n",
      "24377/24377 [==============================] - 22s - loss: 0.2456    \n",
      "Epoch 4/30\n",
      "24377/24377 [==============================] - 20s - loss: 0.2392    \n",
      "Epoch 5/30\n",
      "24377/24377 [==============================] - 21s - loss: 0.2352    \n",
      "Epoch 6/30\n",
      "24377/24377 [==============================] - 20s - loss: 0.2319    \n",
      "Epoch 7/30\n",
      "24377/24377 [==============================] - 22s - loss: 0.2296    \n",
      "Epoch 8/30\n",
      "24377/24377 [==============================] - 26s - loss: 0.2260    \n",
      "Epoch 9/30\n",
      "24377/24377 [==============================] - 25s - loss: 0.2246    \n",
      "Epoch 10/30\n",
      "24377/24377 [==============================] - 22s - loss: 0.2223    \n",
      "Epoch 11/30\n",
      "24377/24377 [==============================] - 22s - loss: 0.2196    \n",
      "Epoch 12/30\n",
      "24377/24377 [==============================] - 22s - loss: 0.2180    \n",
      "Epoch 13/30\n",
      "24377/24377 [==============================] - 23s - loss: 0.2162    \n",
      "Epoch 14/30\n",
      "24377/24377 [==============================] - 22s - loss: 0.2144    \n",
      "Epoch 15/30\n",
      "24377/24377 [==============================] - 22s - loss: 0.2130    \n",
      "Epoch 16/30\n",
      "24377/24377 [==============================] - 23s - loss: 0.2100    \n",
      "Epoch 17/30\n",
      "24377/24377 [==============================] - 21s - loss: 0.2079    \n",
      "Epoch 18/30\n",
      "24377/24377 [==============================] - 21s - loss: 0.2042    \n",
      "Epoch 19/30\n",
      "24377/24377 [==============================] - 22s - loss: 0.2019    \n",
      "Epoch 20/30\n",
      "24377/24377 [==============================] - 24s - loss: 0.1992    \n",
      "Epoch 21/30\n",
      "24377/24377 [==============================] - 22s - loss: 0.1949    \n",
      "Epoch 22/30\n",
      "24377/24377 [==============================] - 22s - loss: 0.1916    \n",
      "Epoch 23/30\n",
      "24377/24377 [==============================] - 22s - loss: 0.1869    \n",
      "Epoch 24/30\n",
      "24377/24377 [==============================] - 21s - loss: 0.1825    \n",
      "Epoch 25/30\n",
      "24377/24377 [==============================] - 22s - loss: 0.1760    \n",
      "Epoch 26/30\n",
      "24377/24377 [==============================] - 20s - loss: 0.1720    \n",
      "Epoch 27/30\n",
      "24377/24377 [==============================] - 22s - loss: 0.1674    \n",
      "Epoch 28/30\n",
      "24377/24377 [==============================] - 22s - loss: 0.1614    \n",
      "Epoch 29/30\n",
      "24377/24377 [==============================] - 22s - loss: 0.1562    \n",
      "Epoch 30/30\n",
      "24377/24377 [==============================] - 22s - loss: 0.1515    \n",
      " 520/6094 [=>............................] - ETA: 1s"
     ]
    },
    {
     "name": "stderr",
     "output_type": "stream",
     "text": [
      "/Applications/anaconda/envs/tensorflow/lib/python3.6/site-packages/keras/wrappers/scikit_learn.py:166: DeprecationWarning: inspect.getargspec() is deprecated, use inspect.signature() or inspect.getfullargspec()\n",
      "  fn_args = inspect.getargspec(fn)[0]\n"
     ]
    },
    {
     "name": "stdout",
     "output_type": "stream",
     "text": [
      "5970/6094 [============================>.] - ETA: 0s[CV] ................................ , score=-0.504084, total=11.3min\n",
      "[CV]  ................................................................\n"
     ]
    },
    {
     "name": "stderr",
     "output_type": "stream",
     "text": [
      "[Parallel(n_jobs=1)]: Done   2 out of   2 | elapsed: 22.9min remaining:    0.0s\n",
      "/Applications/anaconda/envs/tensorflow/lib/python3.6/site-packages/keras/wrappers/scikit_learn.py:80: DeprecationWarning: inspect.getargspec() is deprecated, use inspect.signature() or inspect.getfullargspec()\n",
      "  legal_params += inspect.getargspec(fn)[0]\n",
      "/Applications/anaconda/envs/tensorflow/lib/python3.6/site-packages/keras/wrappers/scikit_learn.py:80: DeprecationWarning: inspect.getargspec() is deprecated, use inspect.signature() or inspect.getfullargspec()\n",
      "  legal_params += inspect.getargspec(fn)[0]\n",
      "/Applications/anaconda/envs/tensorflow/lib/python3.6/site-packages/keras/wrappers/scikit_learn.py:80: DeprecationWarning: inspect.getargspec() is deprecated, use inspect.signature() or inspect.getfullargspec()\n",
      "  legal_params += inspect.getargspec(fn)[0]\n",
      "/Applications/anaconda/envs/tensorflow/lib/python3.6/site-packages/keras/wrappers/scikit_learn.py:80: DeprecationWarning: inspect.getargspec() is deprecated, use inspect.signature() or inspect.getfullargspec()\n",
      "  legal_params += inspect.getargspec(fn)[0]\n",
      "/Applications/anaconda/envs/tensorflow/lib/python3.6/site-packages/keras/wrappers/scikit_learn.py:80: DeprecationWarning: inspect.getargspec() is deprecated, use inspect.signature() or inspect.getfullargspec()\n",
      "  legal_params += inspect.getargspec(fn)[0]\n",
      "/Applications/anaconda/envs/tensorflow/lib/python3.6/site-packages/keras/wrappers/scikit_learn.py:166: DeprecationWarning: inspect.getargspec() is deprecated, use inspect.signature() or inspect.getfullargspec()\n",
      "  fn_args = inspect.getargspec(fn)[0]\n",
      "/Applications/anaconda/envs/tensorflow/lib/python3.6/site-packages/keras/utils/generic_utils.py:135: DeprecationWarning: inspect.getargspec() is deprecated, use inspect.signature() or inspect.getfullargspec()\n",
      "  arg_spec = inspect.getargspec(cls.from_config)\n",
      "/Applications/anaconda/envs/tensorflow/lib/python3.6/site-packages/keras/utils/generic_utils.py:135: DeprecationWarning: inspect.getargspec() is deprecated, use inspect.signature() or inspect.getfullargspec()\n",
      "  arg_spec = inspect.getargspec(cls.from_config)\n",
      "/Applications/anaconda/envs/tensorflow/lib/python3.6/site-packages/keras/utils/generic_utils.py:135: DeprecationWarning: inspect.getargspec() is deprecated, use inspect.signature() or inspect.getfullargspec()\n",
      "  arg_spec = inspect.getargspec(cls.from_config)\n",
      "/Applications/anaconda/envs/tensorflow/lib/python3.6/site-packages/keras/utils/generic_utils.py:135: DeprecationWarning: inspect.getargspec() is deprecated, use inspect.signature() or inspect.getfullargspec()\n",
      "  arg_spec = inspect.getargspec(cls.from_config)\n",
      "/Applications/anaconda/envs/tensorflow/lib/python3.6/site-packages/keras/utils/generic_utils.py:135: DeprecationWarning: inspect.getargspec() is deprecated, use inspect.signature() or inspect.getfullargspec()\n",
      "  arg_spec = inspect.getargspec(cls.from_config)\n",
      "/Applications/anaconda/envs/tensorflow/lib/python3.6/site-packages/keras/utils/generic_utils.py:135: DeprecationWarning: inspect.getargspec() is deprecated, use inspect.signature() or inspect.getfullargspec()\n",
      "  arg_spec = inspect.getargspec(cls.from_config)\n",
      "/Applications/anaconda/envs/tensorflow/lib/python3.6/site-packages/keras/utils/generic_utils.py:135: DeprecationWarning: inspect.getargspec() is deprecated, use inspect.signature() or inspect.getfullargspec()\n",
      "  arg_spec = inspect.getargspec(cls.from_config)\n",
      "/Applications/anaconda/envs/tensorflow/lib/python3.6/site-packages/keras/utils/generic_utils.py:135: DeprecationWarning: inspect.getargspec() is deprecated, use inspect.signature() or inspect.getfullargspec()\n",
      "  arg_spec = inspect.getargspec(cls.from_config)\n",
      "/Applications/anaconda/envs/tensorflow/lib/python3.6/site-packages/keras/utils/generic_utils.py:135: DeprecationWarning: inspect.getargspec() is deprecated, use inspect.signature() or inspect.getfullargspec()\n",
      "  arg_spec = inspect.getargspec(cls.from_config)\n",
      "/Applications/anaconda/envs/tensorflow/lib/python3.6/site-packages/keras/utils/generic_utils.py:135: DeprecationWarning: inspect.getargspec() is deprecated, use inspect.signature() or inspect.getfullargspec()\n",
      "  arg_spec = inspect.getargspec(cls.from_config)\n",
      "/Applications/anaconda/envs/tensorflow/lib/python3.6/site-packages/keras/utils/generic_utils.py:135: DeprecationWarning: inspect.getargspec() is deprecated, use inspect.signature() or inspect.getfullargspec()\n",
      "  arg_spec = inspect.getargspec(cls.from_config)\n",
      "/Applications/anaconda/envs/tensorflow/lib/python3.6/site-packages/keras/utils/generic_utils.py:135: DeprecationWarning: inspect.getargspec() is deprecated, use inspect.signature() or inspect.getfullargspec()\n",
      "  arg_spec = inspect.getargspec(cls.from_config)\n",
      "/Applications/anaconda/envs/tensorflow/lib/python3.6/site-packages/keras/utils/generic_utils.py:135: DeprecationWarning: inspect.getargspec() is deprecated, use inspect.signature() or inspect.getfullargspec()\n",
      "  arg_spec = inspect.getargspec(cls.from_config)\n",
      "/Applications/anaconda/envs/tensorflow/lib/python3.6/site-packages/keras/utils/generic_utils.py:135: DeprecationWarning: inspect.getargspec() is deprecated, use inspect.signature() or inspect.getfullargspec()\n",
      "  arg_spec = inspect.getargspec(cls.from_config)\n",
      "/Applications/anaconda/envs/tensorflow/lib/python3.6/site-packages/keras/utils/generic_utils.py:135: DeprecationWarning: inspect.getargspec() is deprecated, use inspect.signature() or inspect.getfullargspec()\n",
      "  arg_spec = inspect.getargspec(cls.from_config)\n",
      "/Applications/anaconda/envs/tensorflow/lib/python3.6/site-packages/keras/wrappers/scikit_learn.py:166: DeprecationWarning: inspect.getargspec() is deprecated, use inspect.signature() or inspect.getfullargspec()\n",
      "  fn_args = inspect.getargspec(fn)[0]\n"
     ]
    },
    {
     "name": "stdout",
     "output_type": "stream",
     "text": [
      "Epoch 1/30\n",
      "24377/24377 [==============================] - 23s - loss: 4.1073    \n",
      "Epoch 2/30\n",
      "24377/24377 [==============================] - 22s - loss: 0.2573    \n",
      "Epoch 3/30\n",
      "24377/24377 [==============================] - 23s - loss: 0.2348    \n",
      "Epoch 4/30\n",
      "24377/24377 [==============================] - 22s - loss: 0.2297    \n",
      "Epoch 5/30\n",
      "24377/24377 [==============================] - 22s - loss: 0.2249    \n",
      "Epoch 6/30\n",
      "24377/24377 [==============================] - 22s - loss: 0.2213    \n",
      "Epoch 7/30\n",
      "24377/24377 [==============================] - 21s - loss: 0.2183    \n",
      "Epoch 8/30\n",
      "24377/24377 [==============================] - 22s - loss: 0.2155    \n",
      "Epoch 9/30\n",
      "24377/24377 [==============================] - 22s - loss: 0.2135    \n",
      "Epoch 10/30\n",
      "24377/24377 [==============================] - 23s - loss: 0.2116    \n",
      "Epoch 11/30\n",
      "24377/24377 [==============================] - 22s - loss: 0.2100    \n",
      "Epoch 12/30\n",
      "24377/24377 [==============================] - 22s - loss: 0.2075    \n",
      "Epoch 13/30\n",
      "24377/24377 [==============================] - 23s - loss: 0.2053    \n",
      "Epoch 14/30\n",
      "24377/24377 [==============================] - 22s - loss: 0.2038    \n",
      "Epoch 15/30\n",
      "24377/24377 [==============================] - 21s - loss: 0.2026    \n",
      "Epoch 16/30\n",
      "24377/24377 [==============================] - 22s - loss: 0.2002    \n",
      "Epoch 17/30\n",
      "24377/24377 [==============================] - 22s - loss: 0.1977    \n",
      "Epoch 18/30\n",
      "24377/24377 [==============================] - 21s - loss: 0.1956    \n",
      "Epoch 19/30\n",
      "24377/24377 [==============================] - 21s - loss: 0.1928    \n",
      "Epoch 20/30\n",
      "24377/24377 [==============================] - 22s - loss: 0.1887    \n",
      "Epoch 21/30\n",
      "24377/24377 [==============================] - 22s - loss: 0.1852    \n",
      "Epoch 22/30\n",
      "24377/24377 [==============================] - 22s - loss: 0.1826    \n",
      "Epoch 23/30\n",
      "24377/24377 [==============================] - 22s - loss: 0.1779    \n",
      "Epoch 24/30\n",
      "24377/24377 [==============================] - 21s - loss: 0.1733    \n",
      "Epoch 25/30\n",
      "24377/24377 [==============================] - 22s - loss: 0.1707    \n",
      "Epoch 26/30\n",
      "24377/24377 [==============================] - 21s - loss: 0.1654    \n",
      "Epoch 27/30\n",
      "24377/24377 [==============================] - 22s - loss: 0.1617    \n",
      "Epoch 28/30\n",
      "24377/24377 [==============================] - 22s - loss: 0.1567    \n",
      "Epoch 29/30\n",
      "24377/24377 [==============================] - 21s - loss: 0.1527    \n",
      "Epoch 30/30\n",
      "24377/24377 [==============================] - 21s - loss: 0.1480    \n",
      " 290/6094 [>.............................] - ETA: 3s "
     ]
    },
    {
     "name": "stderr",
     "output_type": "stream",
     "text": [
      "/Applications/anaconda/envs/tensorflow/lib/python3.6/site-packages/keras/wrappers/scikit_learn.py:166: DeprecationWarning: inspect.getargspec() is deprecated, use inspect.signature() or inspect.getfullargspec()\n",
      "  fn_args = inspect.getargspec(fn)[0]\n"
     ]
    },
    {
     "name": "stdout",
     "output_type": "stream",
     "text": [
      "6010/6094 [============================>.] - ETA: 0s[CV] ................................ , score=-0.524133, total=11.2min\n",
      "[CV]  ................................................................\n"
     ]
    },
    {
     "name": "stderr",
     "output_type": "stream",
     "text": [
      "[Parallel(n_jobs=1)]: Done   3 out of   3 | elapsed: 34.1min remaining:    0.0s\n",
      "/Applications/anaconda/envs/tensorflow/lib/python3.6/site-packages/keras/wrappers/scikit_learn.py:80: DeprecationWarning: inspect.getargspec() is deprecated, use inspect.signature() or inspect.getfullargspec()\n",
      "  legal_params += inspect.getargspec(fn)[0]\n",
      "/Applications/anaconda/envs/tensorflow/lib/python3.6/site-packages/keras/wrappers/scikit_learn.py:80: DeprecationWarning: inspect.getargspec() is deprecated, use inspect.signature() or inspect.getfullargspec()\n",
      "  legal_params += inspect.getargspec(fn)[0]\n",
      "/Applications/anaconda/envs/tensorflow/lib/python3.6/site-packages/keras/wrappers/scikit_learn.py:80: DeprecationWarning: inspect.getargspec() is deprecated, use inspect.signature() or inspect.getfullargspec()\n",
      "  legal_params += inspect.getargspec(fn)[0]\n",
      "/Applications/anaconda/envs/tensorflow/lib/python3.6/site-packages/keras/wrappers/scikit_learn.py:80: DeprecationWarning: inspect.getargspec() is deprecated, use inspect.signature() or inspect.getfullargspec()\n",
      "  legal_params += inspect.getargspec(fn)[0]\n",
      "/Applications/anaconda/envs/tensorflow/lib/python3.6/site-packages/keras/wrappers/scikit_learn.py:80: DeprecationWarning: inspect.getargspec() is deprecated, use inspect.signature() or inspect.getfullargspec()\n",
      "  legal_params += inspect.getargspec(fn)[0]\n",
      "/Applications/anaconda/envs/tensorflow/lib/python3.6/site-packages/keras/wrappers/scikit_learn.py:166: DeprecationWarning: inspect.getargspec() is deprecated, use inspect.signature() or inspect.getfullargspec()\n",
      "  fn_args = inspect.getargspec(fn)[0]\n",
      "/Applications/anaconda/envs/tensorflow/lib/python3.6/site-packages/keras/utils/generic_utils.py:135: DeprecationWarning: inspect.getargspec() is deprecated, use inspect.signature() or inspect.getfullargspec()\n",
      "  arg_spec = inspect.getargspec(cls.from_config)\n",
      "/Applications/anaconda/envs/tensorflow/lib/python3.6/site-packages/keras/utils/generic_utils.py:135: DeprecationWarning: inspect.getargspec() is deprecated, use inspect.signature() or inspect.getfullargspec()\n",
      "  arg_spec = inspect.getargspec(cls.from_config)\n",
      "/Applications/anaconda/envs/tensorflow/lib/python3.6/site-packages/keras/utils/generic_utils.py:135: DeprecationWarning: inspect.getargspec() is deprecated, use inspect.signature() or inspect.getfullargspec()\n",
      "  arg_spec = inspect.getargspec(cls.from_config)\n",
      "/Applications/anaconda/envs/tensorflow/lib/python3.6/site-packages/keras/utils/generic_utils.py:135: DeprecationWarning: inspect.getargspec() is deprecated, use inspect.signature() or inspect.getfullargspec()\n",
      "  arg_spec = inspect.getargspec(cls.from_config)\n",
      "/Applications/anaconda/envs/tensorflow/lib/python3.6/site-packages/keras/utils/generic_utils.py:135: DeprecationWarning: inspect.getargspec() is deprecated, use inspect.signature() or inspect.getfullargspec()\n",
      "  arg_spec = inspect.getargspec(cls.from_config)\n",
      "/Applications/anaconda/envs/tensorflow/lib/python3.6/site-packages/keras/utils/generic_utils.py:135: DeprecationWarning: inspect.getargspec() is deprecated, use inspect.signature() or inspect.getfullargspec()\n",
      "  arg_spec = inspect.getargspec(cls.from_config)\n",
      "/Applications/anaconda/envs/tensorflow/lib/python3.6/site-packages/keras/utils/generic_utils.py:135: DeprecationWarning: inspect.getargspec() is deprecated, use inspect.signature() or inspect.getfullargspec()\n",
      "  arg_spec = inspect.getargspec(cls.from_config)\n",
      "/Applications/anaconda/envs/tensorflow/lib/python3.6/site-packages/keras/utils/generic_utils.py:135: DeprecationWarning: inspect.getargspec() is deprecated, use inspect.signature() or inspect.getfullargspec()\n",
      "  arg_spec = inspect.getargspec(cls.from_config)\n",
      "/Applications/anaconda/envs/tensorflow/lib/python3.6/site-packages/keras/utils/generic_utils.py:135: DeprecationWarning: inspect.getargspec() is deprecated, use inspect.signature() or inspect.getfullargspec()\n",
      "  arg_spec = inspect.getargspec(cls.from_config)\n",
      "/Applications/anaconda/envs/tensorflow/lib/python3.6/site-packages/keras/utils/generic_utils.py:135: DeprecationWarning: inspect.getargspec() is deprecated, use inspect.signature() or inspect.getfullargspec()\n",
      "  arg_spec = inspect.getargspec(cls.from_config)\n",
      "/Applications/anaconda/envs/tensorflow/lib/python3.6/site-packages/keras/utils/generic_utils.py:135: DeprecationWarning: inspect.getargspec() is deprecated, use inspect.signature() or inspect.getfullargspec()\n",
      "  arg_spec = inspect.getargspec(cls.from_config)\n",
      "/Applications/anaconda/envs/tensorflow/lib/python3.6/site-packages/keras/utils/generic_utils.py:135: DeprecationWarning: inspect.getargspec() is deprecated, use inspect.signature() or inspect.getfullargspec()\n",
      "  arg_spec = inspect.getargspec(cls.from_config)\n",
      "/Applications/anaconda/envs/tensorflow/lib/python3.6/site-packages/keras/utils/generic_utils.py:135: DeprecationWarning: inspect.getargspec() is deprecated, use inspect.signature() or inspect.getfullargspec()\n",
      "  arg_spec = inspect.getargspec(cls.from_config)\n",
      "/Applications/anaconda/envs/tensorflow/lib/python3.6/site-packages/keras/utils/generic_utils.py:135: DeprecationWarning: inspect.getargspec() is deprecated, use inspect.signature() or inspect.getfullargspec()\n",
      "  arg_spec = inspect.getargspec(cls.from_config)\n",
      "/Applications/anaconda/envs/tensorflow/lib/python3.6/site-packages/keras/utils/generic_utils.py:135: DeprecationWarning: inspect.getargspec() is deprecated, use inspect.signature() or inspect.getfullargspec()\n",
      "  arg_spec = inspect.getargspec(cls.from_config)\n",
      "/Applications/anaconda/envs/tensorflow/lib/python3.6/site-packages/keras/wrappers/scikit_learn.py:166: DeprecationWarning: inspect.getargspec() is deprecated, use inspect.signature() or inspect.getfullargspec()\n",
      "  fn_args = inspect.getargspec(fn)[0]\n"
     ]
    },
    {
     "name": "stdout",
     "output_type": "stream",
     "text": [
      "Epoch 1/30\n",
      "24377/24377 [==============================] - 24s - loss: 4.0044    \n",
      "Epoch 2/30\n",
      "24377/24377 [==============================] - 21s - loss: 0.2580    \n",
      "Epoch 3/30\n",
      "24377/24377 [==============================] - 21s - loss: 0.2389    \n",
      "Epoch 4/30\n",
      "24377/24377 [==============================] - 21s - loss: 0.2331    \n",
      "Epoch 5/30\n",
      "24377/24377 [==============================] - 21s - loss: 0.2287    \n",
      "Epoch 6/30\n",
      "24377/24377 [==============================] - 24s - loss: 0.2243    \n",
      "Epoch 7/30\n",
      "24377/24377 [==============================] - 21s - loss: 0.2219    \n",
      "Epoch 8/30\n",
      "24377/24377 [==============================] - 21s - loss: 0.2186    \n",
      "Epoch 9/30\n",
      "24377/24377 [==============================] - 21s - loss: 0.2163    \n",
      "Epoch 10/30\n",
      "24377/24377 [==============================] - 21s - loss: 0.2140    \n",
      "Epoch 11/30\n",
      "24377/24377 [==============================] - 22s - loss: 0.2119    \n",
      "Epoch 12/30\n",
      "24377/24377 [==============================] - 21s - loss: 0.2100    \n",
      "Epoch 13/30\n",
      "24377/24377 [==============================] - 22s - loss: 0.2075    \n",
      "Epoch 14/30\n",
      "24377/24377 [==============================] - 24s - loss: 0.2062    \n",
      "Epoch 15/30\n",
      "24377/24377 [==============================] - 22s - loss: 0.2035    \n",
      "Epoch 16/30\n",
      "24377/24377 [==============================] - 23s - loss: 0.2011    \n",
      "Epoch 17/30\n",
      "24377/24377 [==============================] - 22s - loss: 0.1990    \n",
      "Epoch 18/30\n",
      "24377/24377 [==============================] - 22s - loss: 0.1968    \n",
      "Epoch 19/30\n",
      "24377/24377 [==============================] - 24s - loss: 0.1935    \n",
      "Epoch 20/30\n",
      "24377/24377 [==============================] - 23s - loss: 0.1903    \n",
      "Epoch 21/30\n",
      "24377/24377 [==============================] - 23s - loss: 0.1873    \n",
      "Epoch 22/30\n",
      "24377/24377 [==============================] - 25s - loss: 0.1845    \n",
      "Epoch 23/30\n",
      "24377/24377 [==============================] - 29s - loss: 0.1795    \n",
      "Epoch 24/30\n",
      "24377/24377 [==============================] - 23s - loss: 0.1763    \n",
      "Epoch 25/30\n",
      "24377/24377 [==============================] - 21s - loss: 0.1723    \n",
      "Epoch 26/30\n",
      "24377/24377 [==============================] - 21s - loss: 0.1678    \n",
      "Epoch 27/30\n",
      "24377/24377 [==============================] - 21s - loss: 0.1628    \n",
      "Epoch 28/30\n",
      "24377/24377 [==============================] - 21s - loss: 0.1583    \n",
      "Epoch 29/30\n",
      "24377/24377 [==============================] - 21s - loss: 0.1533    \n",
      "Epoch 30/30\n",
      "24377/24377 [==============================] - 21s - loss: 0.1477    \n",
      " 280/6094 [>.............................] - ETA: 3s "
     ]
    },
    {
     "name": "stderr",
     "output_type": "stream",
     "text": [
      "/Applications/anaconda/envs/tensorflow/lib/python3.6/site-packages/keras/wrappers/scikit_learn.py:166: DeprecationWarning: inspect.getargspec() is deprecated, use inspect.signature() or inspect.getfullargspec()\n",
      "  fn_args = inspect.getargspec(fn)[0]\n"
     ]
    },
    {
     "name": "stdout",
     "output_type": "stream",
     "text": [
      "6000/6094 [============================>.] - ETA: 0s[CV] ................................ , score=-0.504037, total=11.5min\n",
      "[CV]  ................................................................\n"
     ]
    },
    {
     "name": "stderr",
     "output_type": "stream",
     "text": [
      "[Parallel(n_jobs=1)]: Done   4 out of   4 | elapsed: 45.6min remaining:    0.0s\n",
      "/Applications/anaconda/envs/tensorflow/lib/python3.6/site-packages/keras/wrappers/scikit_learn.py:80: DeprecationWarning: inspect.getargspec() is deprecated, use inspect.signature() or inspect.getfullargspec()\n",
      "  legal_params += inspect.getargspec(fn)[0]\n",
      "/Applications/anaconda/envs/tensorflow/lib/python3.6/site-packages/keras/wrappers/scikit_learn.py:80: DeprecationWarning: inspect.getargspec() is deprecated, use inspect.signature() or inspect.getfullargspec()\n",
      "  legal_params += inspect.getargspec(fn)[0]\n",
      "/Applications/anaconda/envs/tensorflow/lib/python3.6/site-packages/keras/wrappers/scikit_learn.py:80: DeprecationWarning: inspect.getargspec() is deprecated, use inspect.signature() or inspect.getfullargspec()\n",
      "  legal_params += inspect.getargspec(fn)[0]\n",
      "/Applications/anaconda/envs/tensorflow/lib/python3.6/site-packages/keras/wrappers/scikit_learn.py:80: DeprecationWarning: inspect.getargspec() is deprecated, use inspect.signature() or inspect.getfullargspec()\n",
      "  legal_params += inspect.getargspec(fn)[0]\n",
      "/Applications/anaconda/envs/tensorflow/lib/python3.6/site-packages/keras/wrappers/scikit_learn.py:80: DeprecationWarning: inspect.getargspec() is deprecated, use inspect.signature() or inspect.getfullargspec()\n",
      "  legal_params += inspect.getargspec(fn)[0]\n",
      "/Applications/anaconda/envs/tensorflow/lib/python3.6/site-packages/keras/wrappers/scikit_learn.py:166: DeprecationWarning: inspect.getargspec() is deprecated, use inspect.signature() or inspect.getfullargspec()\n",
      "  fn_args = inspect.getargspec(fn)[0]\n",
      "/Applications/anaconda/envs/tensorflow/lib/python3.6/site-packages/keras/utils/generic_utils.py:135: DeprecationWarning: inspect.getargspec() is deprecated, use inspect.signature() or inspect.getfullargspec()\n",
      "  arg_spec = inspect.getargspec(cls.from_config)\n",
      "/Applications/anaconda/envs/tensorflow/lib/python3.6/site-packages/keras/utils/generic_utils.py:135: DeprecationWarning: inspect.getargspec() is deprecated, use inspect.signature() or inspect.getfullargspec()\n",
      "  arg_spec = inspect.getargspec(cls.from_config)\n",
      "/Applications/anaconda/envs/tensorflow/lib/python3.6/site-packages/keras/utils/generic_utils.py:135: DeprecationWarning: inspect.getargspec() is deprecated, use inspect.signature() or inspect.getfullargspec()\n",
      "  arg_spec = inspect.getargspec(cls.from_config)\n",
      "/Applications/anaconda/envs/tensorflow/lib/python3.6/site-packages/keras/utils/generic_utils.py:135: DeprecationWarning: inspect.getargspec() is deprecated, use inspect.signature() or inspect.getfullargspec()\n",
      "  arg_spec = inspect.getargspec(cls.from_config)\n",
      "/Applications/anaconda/envs/tensorflow/lib/python3.6/site-packages/keras/utils/generic_utils.py:135: DeprecationWarning: inspect.getargspec() is deprecated, use inspect.signature() or inspect.getfullargspec()\n",
      "  arg_spec = inspect.getargspec(cls.from_config)\n",
      "/Applications/anaconda/envs/tensorflow/lib/python3.6/site-packages/keras/utils/generic_utils.py:135: DeprecationWarning: inspect.getargspec() is deprecated, use inspect.signature() or inspect.getfullargspec()\n",
      "  arg_spec = inspect.getargspec(cls.from_config)\n",
      "/Applications/anaconda/envs/tensorflow/lib/python3.6/site-packages/keras/utils/generic_utils.py:135: DeprecationWarning: inspect.getargspec() is deprecated, use inspect.signature() or inspect.getfullargspec()\n",
      "  arg_spec = inspect.getargspec(cls.from_config)\n",
      "/Applications/anaconda/envs/tensorflow/lib/python3.6/site-packages/keras/utils/generic_utils.py:135: DeprecationWarning: inspect.getargspec() is deprecated, use inspect.signature() or inspect.getfullargspec()\n",
      "  arg_spec = inspect.getargspec(cls.from_config)\n",
      "/Applications/anaconda/envs/tensorflow/lib/python3.6/site-packages/keras/utils/generic_utils.py:135: DeprecationWarning: inspect.getargspec() is deprecated, use inspect.signature() or inspect.getfullargspec()\n",
      "  arg_spec = inspect.getargspec(cls.from_config)\n",
      "/Applications/anaconda/envs/tensorflow/lib/python3.6/site-packages/keras/utils/generic_utils.py:135: DeprecationWarning: inspect.getargspec() is deprecated, use inspect.signature() or inspect.getfullargspec()\n",
      "  arg_spec = inspect.getargspec(cls.from_config)\n",
      "/Applications/anaconda/envs/tensorflow/lib/python3.6/site-packages/keras/utils/generic_utils.py:135: DeprecationWarning: inspect.getargspec() is deprecated, use inspect.signature() or inspect.getfullargspec()\n",
      "  arg_spec = inspect.getargspec(cls.from_config)\n",
      "/Applications/anaconda/envs/tensorflow/lib/python3.6/site-packages/keras/utils/generic_utils.py:135: DeprecationWarning: inspect.getargspec() is deprecated, use inspect.signature() or inspect.getfullargspec()\n",
      "  arg_spec = inspect.getargspec(cls.from_config)\n",
      "/Applications/anaconda/envs/tensorflow/lib/python3.6/site-packages/keras/utils/generic_utils.py:135: DeprecationWarning: inspect.getargspec() is deprecated, use inspect.signature() or inspect.getfullargspec()\n",
      "  arg_spec = inspect.getargspec(cls.from_config)\n",
      "/Applications/anaconda/envs/tensorflow/lib/python3.6/site-packages/keras/utils/generic_utils.py:135: DeprecationWarning: inspect.getargspec() is deprecated, use inspect.signature() or inspect.getfullargspec()\n",
      "  arg_spec = inspect.getargspec(cls.from_config)\n",
      "/Applications/anaconda/envs/tensorflow/lib/python3.6/site-packages/keras/utils/generic_utils.py:135: DeprecationWarning: inspect.getargspec() is deprecated, use inspect.signature() or inspect.getfullargspec()\n",
      "  arg_spec = inspect.getargspec(cls.from_config)\n",
      "/Applications/anaconda/envs/tensorflow/lib/python3.6/site-packages/keras/wrappers/scikit_learn.py:166: DeprecationWarning: inspect.getargspec() is deprecated, use inspect.signature() or inspect.getfullargspec()\n",
      "  fn_args = inspect.getargspec(fn)[0]\n"
     ]
    },
    {
     "name": "stdout",
     "output_type": "stream",
     "text": [
      "Epoch 1/30\n",
      "24377/24377 [==============================] - 21s - loss: 3.9517    \n",
      "Epoch 2/30\n",
      "24377/24377 [==============================] - 20s - loss: 0.2684    \n",
      "Epoch 3/30\n",
      "24377/24377 [==============================] - 21s - loss: 0.2489    \n",
      "Epoch 4/30\n",
      "24377/24377 [==============================] - 20s - loss: 0.2418    \n",
      "Epoch 5/30\n",
      "24377/24377 [==============================] - 21s - loss: 0.2376    \n",
      "Epoch 6/30\n",
      "24377/24377 [==============================] - 20s - loss: 0.2331    \n",
      "Epoch 7/30\n",
      "24377/24377 [==============================] - 20s - loss: 0.2312    \n",
      "Epoch 8/30\n",
      "24377/24377 [==============================] - 21s - loss: 0.2274    \n",
      "Epoch 9/30\n",
      "24377/24377 [==============================] - 21s - loss: 0.2251    \n",
      "Epoch 10/30\n",
      "24377/24377 [==============================] - 22s - loss: 0.2232    \n",
      "Epoch 11/30\n",
      "24377/24377 [==============================] - 22s - loss: 0.2212    \n",
      "Epoch 12/30\n",
      "24377/24377 [==============================] - 21s - loss: 0.2188    \n",
      "Epoch 13/30\n",
      "24377/24377 [==============================] - 20s - loss: 0.2173    \n",
      "Epoch 14/30\n",
      "24377/24377 [==============================] - 21s - loss: 0.2156    \n",
      "Epoch 15/30\n",
      "24377/24377 [==============================] - 21s - loss: 0.2134    \n",
      "Epoch 16/30\n",
      "24377/24377 [==============================] - 22s - loss: 0.2113    \n",
      "Epoch 17/30\n",
      "24377/24377 [==============================] - 21s - loss: 0.2092    \n",
      "Epoch 18/30\n",
      "24377/24377 [==============================] - 22s - loss: 0.2064    \n",
      "Epoch 19/30\n",
      "24377/24377 [==============================] - 26s - loss: 0.2045    \n",
      "Epoch 20/30\n",
      "24377/24377 [==============================] - 24s - loss: 0.2003    \n",
      "Epoch 21/30\n",
      "24377/24377 [==============================] - 22s - loss: 0.1972    \n",
      "Epoch 22/30\n",
      "24377/24377 [==============================] - 20s - loss: 0.1934    \n",
      "Epoch 23/30\n",
      "24377/24377 [==============================] - 20s - loss: 0.1893    \n",
      "Epoch 24/30\n",
      "24377/24377 [==============================] - 21s - loss: 0.1851    \n",
      "Epoch 25/30\n",
      "24377/24377 [==============================] - 20s - loss: 0.1791    \n",
      "Epoch 26/30\n",
      "24377/24377 [==============================] - 23s - loss: 0.1746    \n",
      "Epoch 27/30\n",
      "24377/24377 [==============================] - 22s - loss: 0.1693    \n",
      "Epoch 28/30\n",
      "24377/24377 [==============================] - 22s - loss: 0.1647    \n",
      "Epoch 29/30\n",
      "24377/24377 [==============================] - 28s - loss: 0.1594    \n",
      "Epoch 30/30\n",
      "24377/24377 [==============================] - 31s - loss: 0.1528    \n"
     ]
    },
    {
     "name": "stderr",
     "output_type": "stream",
     "text": [
      "/Applications/anaconda/envs/tensorflow/lib/python3.6/site-packages/keras/wrappers/scikit_learn.py:166: DeprecationWarning: inspect.getargspec() is deprecated, use inspect.signature() or inspect.getfullargspec()\n",
      "  fn_args = inspect.getargspec(fn)[0]\n"
     ]
    },
    {
     "name": "stdout",
     "output_type": "stream",
     "text": [
      "5860/6094 [===========================>..] - ETA: 0s[CV] ................................ , score=-0.593090, total=11.3min\n"
     ]
    },
    {
     "name": "stderr",
     "output_type": "stream",
     "text": [
      "[Parallel(n_jobs=1)]: Done   5 out of   5 | elapsed: 56.9min remaining:    0.0s\n",
      "[Parallel(n_jobs=1)]: Done   5 out of   5 | elapsed: 56.9min finished\n"
     ]
    }
   ],
   "source": [
    "ann_score = cross_val_score(ann_regressor, train_data_X, train_data_y, cv = 5, verbose = 10, scoring = scorer)\n",
    "ann_score = np.mean(ann_score)"
   ]
  },
  {
   "cell_type": "code",
   "execution_count": 31,
   "metadata": {},
   "outputs": [
    {
     "name": "stdout",
     "output_type": "stream",
     "text": [
      "ANN without optimization will have rmsle score of : -0.590711383088\n"
     ]
    }
   ],
   "source": [
    "print (\"ANN without optimization will have rmsle score of : \" + str(ann_score))"
   ]
  },
  {
   "cell_type": "code",
   "execution_count": 32,
   "metadata": {
    "collapsed": true
   },
   "outputs": [],
   "source": [
    "xgb_regressor = xgb(verbose = 1, random_state = 2017, n_jobs = -1)"
   ]
  },
  {
   "cell_type": "code",
   "execution_count": 33,
   "metadata": {},
   "outputs": [
    {
     "name": "stdout",
     "output_type": "stream",
     "text": [
      "[CV]  ................................................................\n",
      "[CV] ................................ , score=-0.606609, total=  49.7s\n",
      "[CV]  ................................................................\n"
     ]
    },
    {
     "name": "stderr",
     "output_type": "stream",
     "text": [
      "[Parallel(n_jobs=1)]: Done   1 out of   1 | elapsed:   49.7s remaining:    0.0s\n"
     ]
    },
    {
     "name": "stdout",
     "output_type": "stream",
     "text": [
      "[CV] ................................ , score=-0.431028, total=  52.5s\n",
      "[CV]  ................................................................\n"
     ]
    },
    {
     "name": "stderr",
     "output_type": "stream",
     "text": [
      "[Parallel(n_jobs=1)]: Done   2 out of   2 | elapsed:  1.7min remaining:    0.0s\n"
     ]
    },
    {
     "name": "stdout",
     "output_type": "stream",
     "text": [
      "[CV] ................................ , score=-0.481119, total=  58.3s\n",
      "[CV]  ................................................................\n"
     ]
    },
    {
     "name": "stderr",
     "output_type": "stream",
     "text": [
      "[Parallel(n_jobs=1)]: Done   3 out of   3 | elapsed:  2.7min remaining:    0.0s\n"
     ]
    },
    {
     "name": "stdout",
     "output_type": "stream",
     "text": [
      "[CV] ................................ , score=-0.458049, total=  46.8s\n",
      "[CV]  ................................................................\n"
     ]
    },
    {
     "name": "stderr",
     "output_type": "stream",
     "text": [
      "[Parallel(n_jobs=1)]: Done   4 out of   4 | elapsed:  3.5min remaining:    0.0s\n"
     ]
    },
    {
     "name": "stdout",
     "output_type": "stream",
     "text": [
      "[CV] ................................ , score=-0.426416, total=  50.7s\n"
     ]
    },
    {
     "name": "stderr",
     "output_type": "stream",
     "text": [
      "[Parallel(n_jobs=1)]: Done   5 out of   5 | elapsed:  4.3min remaining:    0.0s\n",
      "[Parallel(n_jobs=1)]: Done   5 out of   5 | elapsed:  4.3min finished\n"
     ]
    }
   ],
   "source": [
    "xgb_score = cross_val_score(xgb_regressor, train_data_X, train_data_y, cv = 5, verbose = 10, scoring = scorer)\n",
    "xgb_score = np.mean(xgb_score)"
   ]
  },
  {
   "cell_type": "code",
   "execution_count": 34,
   "metadata": {},
   "outputs": [
    {
     "name": "stdout",
     "output_type": "stream",
     "text": [
      "XBoost without optimization will have rmsle score of : -0.480643999869\n"
     ]
    }
   ],
   "source": [
    "print (\"XBoost without optimization will have rmsle score of : \" + str(xgb_score))"
   ]
  },
  {
   "cell_type": "markdown",
   "metadata": {},
   "source": [
    "----\n",
    "## PART 4: Model Optimization "
   ]
  },
  {
   "cell_type": "code",
   "execution_count": 37,
   "metadata": {
    "collapsed": true
   },
   "outputs": [],
   "source": [
    "def AutoGridSearch(parameters, regressor, train_data_X, train_data_y):\n",
    "\n",
    "    scorer = make_scorer(rmsle, greater_is_better=False)\n",
    "#    while True:\n",
    "    \n",
    "    #Perform grid search on the classifier using 'scorer' as the scoring method\n",
    "    grid_obj = GridSearchCV(estimator = regressor,\n",
    "                               param_grid = parameters,\n",
    "                               scoring = scorer,\n",
    "                               cv = 5,\n",
    "                               verbose=10,\n",
    "                               n_jobs = -1)\n",
    "    \n",
    "    #Fit the grid search object to the training data and find the optimal parameters\n",
    "    grid_fit = grid_obj.fit(train_data_X, train_data_y)\n",
    "    \n",
    "    #if(best_score < grid_fit.best_score_):\n",
    "    best_score = grid_fit.best_score_\n",
    "\n",
    "    best_parameters = grid_fit.best_params_\n",
    "    \n",
    "    best_estimator = grid_fit.best_estimator_\n",
    "    \n",
    "    print(\"Best: %f using %s\" % (grid_fit.best_score_, grid_fit.best_params_))\n",
    "    for params, mean_score, scores in grid_fit.grid_scores_:\n",
    "        print(\"%f (%f) with: %r\" % (scores.mean(), scores.std(), params))\n",
    "    \n",
    "    return best_score, best_parameters, best_estimator"
   ]
  },
  {
   "cell_type": "markdown",
   "metadata": {},
   "source": [
    "**ANN with parameter optimization**"
   ]
  },
  {
   "cell_type": "code",
   "execution_count": null,
   "metadata": {},
   "outputs": [],
   "source": [
    "dropout_rate = [0.0, 0.001, 0.01]\n",
    "ann_parameters = dict(dropout_rate=dropout_rate)\n",
    "ann_score, best_parameters, best_ann_model = AutoGridSearch(ann_parameters,ann_regressor, train_data_X, train_data_y)"
   ]
  },
  {
   "cell_type": "markdown",
   "metadata": {},
   "source": [
    "**XGBoost with parameter optimization**"
   ]
  },
  {
   "cell_type": "code",
   "execution_count": 44,
   "metadata": {},
   "outputs": [
    {
     "name": "stdout",
     "output_type": "stream",
     "text": [
      "Fitting 5 folds for each of 81 candidates, totalling 405 fits\n",
      "[CV] learning_rate=0.7, max_depth=5, min_child_weight=1, subsample=0.6 \n",
      "[CV] learning_rate=0.7, max_depth=5, min_child_weight=1, subsample=0.6 \n",
      "[CV] learning_rate=0.7, max_depth=5, min_child_weight=1, subsample=0.6 \n",
      "[CV] learning_rate=0.7, max_depth=5, min_child_weight=1, subsample=0.6 \n"
     ]
    },
    {
     "name": "stderr",
     "output_type": "stream",
     "text": [
      "/Applications/anaconda/envs/tensorflow/lib/python3.6/site-packages/ipykernel_launcher.py:2: RuntimeWarning: invalid value encountered in log\n",
      "  \n"
     ]
    },
    {
     "name": "stdout",
     "output_type": "stream",
     "text": [
      "[CV]  learning_rate=0.7, max_depth=5, min_child_weight=1, subsample=0.6, score=-0.706416, total= 5.1min\n",
      "[CV] learning_rate=0.7, max_depth=5, min_child_weight=1, subsample=0.6 \n"
     ]
    },
    {
     "name": "stderr",
     "output_type": "stream",
     "text": [
      "/Applications/anaconda/envs/tensorflow/lib/python3.6/site-packages/ipykernel_launcher.py:2: RuntimeWarning: invalid value encountered in log\n",
      "  \n",
      "/Applications/anaconda/envs/tensorflow/lib/python3.6/site-packages/ipykernel_launcher.py:2: RuntimeWarning: invalid value encountered in log\n",
      "  \n",
      "/Applications/anaconda/envs/tensorflow/lib/python3.6/site-packages/ipykernel_launcher.py:2: RuntimeWarning: invalid value encountered in log\n",
      "  \n"
     ]
    },
    {
     "name": "stdout",
     "output_type": "stream",
     "text": [
      "[CV]  learning_rate=0.7, max_depth=5, min_child_weight=1, subsample=0.6, score=-0.548933, total= 5.3min\n",
      "[CV]  learning_rate=0.7, max_depth=5, min_child_weight=1, subsample=0.6, score=-0.524764, total= 5.2min\n",
      "[CV] learning_rate=0.7, max_depth=5, min_child_weight=1, subsample=0.8 \n",
      "[CV]  learning_rate=0.7, max_depth=5, min_child_weight=1, subsample=0.6, score=-0.515202, total= 5.3min\n",
      "[CV] learning_rate=0.7, max_depth=5, min_child_weight=1, subsample=0.8 \n",
      "[CV] learning_rate=0.7, max_depth=5, min_child_weight=1, subsample=0.8 \n"
     ]
    },
    {
     "name": "stderr",
     "output_type": "stream",
     "text": [
      "/Applications/anaconda/envs/tensorflow/lib/python3.6/site-packages/ipykernel_launcher.py:2: RuntimeWarning: invalid value encountered in log\n",
      "  \n",
      "/Applications/anaconda/envs/tensorflow/lib/python3.6/site-packages/ipykernel_launcher.py:2: RuntimeWarning: invalid value encountered in log\n",
      "  \n"
     ]
    },
    {
     "name": "stdout",
     "output_type": "stream",
     "text": [
      "[CV]  learning_rate=0.7, max_depth=5, min_child_weight=1, subsample=0.6, score=-0.503431, total= 4.4min\n",
      "[CV] learning_rate=0.7, max_depth=5, min_child_weight=1, subsample=0.8 \n"
     ]
    },
    {
     "name": "stderr",
     "output_type": "stream",
     "text": [
      "[Parallel(n_jobs=-1)]: Done   5 tasks      | elapsed:  9.7min\n",
      "/Applications/anaconda/envs/tensorflow/lib/python3.6/site-packages/ipykernel_launcher.py:2: RuntimeWarning: invalid value encountered in log\n",
      "  \n"
     ]
    },
    {
     "name": "stdout",
     "output_type": "stream",
     "text": [
      "[CV]  learning_rate=0.7, max_depth=5, min_child_weight=1, subsample=0.8, score=-0.665552, total= 4.3min\n",
      "[CV] learning_rate=0.7, max_depth=5, min_child_weight=1, subsample=0.8 \n",
      "[CV]  learning_rate=0.7, max_depth=5, min_child_weight=1, subsample=0.8, score=-0.522407, total= 4.3min\n",
      "[CV] learning_rate=0.7, max_depth=5, min_child_weight=1, subsample=1.0 \n"
     ]
    },
    {
     "name": "stderr",
     "output_type": "stream",
     "text": [
      "/Applications/anaconda/envs/tensorflow/lib/python3.6/site-packages/ipykernel_launcher.py:2: RuntimeWarning: invalid value encountered in log\n",
      "  \n"
     ]
    },
    {
     "name": "stdout",
     "output_type": "stream",
     "text": [
      "[CV]  learning_rate=0.7, max_depth=5, min_child_weight=1, subsample=0.8, score=-0.489009, total= 4.5min\n",
      "[CV] learning_rate=0.7, max_depth=5, min_child_weight=1, subsample=1.0 \n"
     ]
    },
    {
     "name": "stderr",
     "output_type": "stream",
     "text": [
      "/Applications/anaconda/envs/tensorflow/lib/python3.6/site-packages/ipykernel_launcher.py:2: RuntimeWarning: invalid value encountered in log\n",
      "  \n",
      "/Applications/anaconda/envs/tensorflow/lib/python3.6/site-packages/ipykernel_launcher.py:2: RuntimeWarning: invalid value encountered in log\n",
      "  \n"
     ]
    },
    {
     "name": "stdout",
     "output_type": "stream",
     "text": [
      "[CV]  learning_rate=0.7, max_depth=5, min_child_weight=1, subsample=0.8, score=-0.494773, total= 4.9min\n",
      "[CV] learning_rate=0.7, max_depth=5, min_child_weight=1, subsample=1.0 \n"
     ]
    },
    {
     "name": "stderr",
     "output_type": "stream",
     "text": [
      "/Applications/anaconda/envs/tensorflow/lib/python3.6/site-packages/ipykernel_launcher.py:2: RuntimeWarning: invalid value encountered in log\n",
      "  \n"
     ]
    },
    {
     "name": "stdout",
     "output_type": "stream",
     "text": [
      "[CV]  learning_rate=0.7, max_depth=5, min_child_weight=1, subsample=0.8, score=-0.499783, total= 4.9min\n",
      "[CV] learning_rate=0.7, max_depth=5, min_child_weight=1, subsample=1.0 \n"
     ]
    },
    {
     "name": "stderr",
     "output_type": "stream",
     "text": [
      "[Parallel(n_jobs=-1)]: Done  10 tasks      | elapsed: 14.7min\n"
     ]
    },
    {
     "name": "stdout",
     "output_type": "stream",
     "text": [
      "[CV]  learning_rate=0.7, max_depth=5, min_child_weight=1, subsample=1.0, score=-0.653315, total= 4.8min\n",
      "[CV] learning_rate=0.7, max_depth=5, min_child_weight=1, subsample=1.0 \n"
     ]
    },
    {
     "name": "stderr",
     "output_type": "stream",
     "text": [
      "/Applications/anaconda/envs/tensorflow/lib/python3.6/site-packages/ipykernel_launcher.py:2: RuntimeWarning: invalid value encountered in log\n",
      "  \n"
     ]
    },
    {
     "name": "stdout",
     "output_type": "stream",
     "text": [
      "[CV]  learning_rate=0.7, max_depth=5, min_child_weight=1, subsample=1.0, score=-0.471800, total= 4.7min\n",
      "[CV] learning_rate=0.7, max_depth=5, min_child_weight=3, subsample=0.6 \n"
     ]
    },
    {
     "name": "stderr",
     "output_type": "stream",
     "text": [
      "/Applications/anaconda/envs/tensorflow/lib/python3.6/site-packages/ipykernel_launcher.py:2: RuntimeWarning: invalid value encountered in log\n",
      "  \n",
      "/Applications/anaconda/envs/tensorflow/lib/python3.6/site-packages/ipykernel_launcher.py:2: RuntimeWarning: invalid value encountered in log\n",
      "  \n",
      "/Applications/anaconda/envs/tensorflow/lib/python3.6/site-packages/ipykernel_launcher.py:2: RuntimeWarning: invalid value encountered in log\n",
      "  \n"
     ]
    },
    {
     "name": "stdout",
     "output_type": "stream",
     "text": [
      "[CV]  learning_rate=0.7, max_depth=5, min_child_weight=1, subsample=1.0, score=-0.514306, total= 3.8min\n",
      "[CV] learning_rate=0.7, max_depth=5, min_child_weight=3, subsample=0.6 \n",
      "[CV]  learning_rate=0.7, max_depth=5, min_child_weight=3, subsample=0.6, score=-0.659375, total= 3.7min\n"
     ]
    },
    {
     "name": "stderr",
     "output_type": "stream",
     "text": [
      "/Applications/anaconda/envs/tensorflow/lib/python3.6/site-packages/ipykernel_launcher.py:2: RuntimeWarning: invalid value encountered in log\n",
      "  \n"
     ]
    },
    {
     "name": "stdout",
     "output_type": "stream",
     "text": [
      "[CV] learning_rate=0.7, max_depth=5, min_child_weight=3, subsample=0.6 \n",
      "[CV]  learning_rate=0.7, max_depth=5, min_child_weight=1, subsample=1.0, score=-0.487690, total= 3.8min\n",
      "[CV] learning_rate=0.7, max_depth=5, min_child_weight=3, subsample=0.6 \n",
      "[CV]  learning_rate=0.7, max_depth=5, min_child_weight=1, subsample=1.0, score=-0.465803, total= 3.8min\n",
      "[CV] learning_rate=0.7, max_depth=5, min_child_weight=3, subsample=0.6 \n"
     ]
    },
    {
     "name": "stderr",
     "output_type": "stream",
     "text": [
      "/Applications/anaconda/envs/tensorflow/lib/python3.6/site-packages/ipykernel_launcher.py:2: RuntimeWarning: invalid value encountered in log\n",
      "  \n",
      "/Applications/anaconda/envs/tensorflow/lib/python3.6/site-packages/ipykernel_launcher.py:2: RuntimeWarning: invalid value encountered in log\n",
      "  \n",
      "/Applications/anaconda/envs/tensorflow/lib/python3.6/site-packages/ipykernel_launcher.py:2: RuntimeWarning: invalid value encountered in log\n",
      "  \n"
     ]
    },
    {
     "name": "stdout",
     "output_type": "stream",
     "text": [
      "[CV]  learning_rate=0.7, max_depth=5, min_child_weight=3, subsample=0.6, score=-0.562150, total= 3.4min\n",
      "[CV]  learning_rate=0.7, max_depth=5, min_child_weight=3, subsample=0.6, score=-0.493761, total= 3.5min\n",
      "[CV] learning_rate=0.7, max_depth=5, min_child_weight=3, subsample=0.8 \n",
      "[CV]  learning_rate=0.7, max_depth=5, min_child_weight=3, subsample=0.6, score=-0.537644, total= 3.4min\n"
     ]
    },
    {
     "name": "stderr",
     "output_type": "stream",
     "text": [
      "[Parallel(n_jobs=-1)]: Done  17 tasks      | elapsed: 22.0min\n"
     ]
    },
    {
     "name": "stdout",
     "output_type": "stream",
     "text": [
      "[CV] learning_rate=0.7, max_depth=5, min_child_weight=3, subsample=0.8 \n",
      "[CV] learning_rate=0.7, max_depth=5, min_child_weight=3, subsample=0.8 \n"
     ]
    },
    {
     "name": "stderr",
     "output_type": "stream",
     "text": [
      "/Applications/anaconda/envs/tensorflow/lib/python3.6/site-packages/ipykernel_launcher.py:2: RuntimeWarning: invalid value encountered in log\n",
      "  \n"
     ]
    },
    {
     "name": "stdout",
     "output_type": "stream",
     "text": [
      "[CV]  learning_rate=0.7, max_depth=5, min_child_weight=3, subsample=0.6, score=-0.505772, total= 3.5min\n",
      "[CV] learning_rate=0.7, max_depth=5, min_child_weight=3, subsample=0.8 \n"
     ]
    },
    {
     "name": "stderr",
     "output_type": "stream",
     "text": [
      "/Applications/anaconda/envs/tensorflow/lib/python3.6/site-packages/ipykernel_launcher.py:2: RuntimeWarning: invalid value encountered in log\n",
      "  \n"
     ]
    },
    {
     "name": "stdout",
     "output_type": "stream",
     "text": [
      "[CV]  learning_rate=0.7, max_depth=5, min_child_weight=3, subsample=0.8, score=-0.662770, total= 3.2min\n",
      "[CV] learning_rate=0.7, max_depth=5, min_child_weight=3, subsample=0.8 \n"
     ]
    },
    {
     "name": "stderr",
     "output_type": "stream",
     "text": [
      "/Applications/anaconda/envs/tensorflow/lib/python3.6/site-packages/ipykernel_launcher.py:2: RuntimeWarning: invalid value encountered in log\n",
      "  \n",
      "/Applications/anaconda/envs/tensorflow/lib/python3.6/site-packages/ipykernel_launcher.py:2: RuntimeWarning: invalid value encountered in log\n",
      "  \n"
     ]
    },
    {
     "name": "stdout",
     "output_type": "stream",
     "text": [
      "[CV]  learning_rate=0.7, max_depth=5, min_child_weight=3, subsample=0.8, score=-0.534964, total= 3.2min\n",
      "[CV] learning_rate=0.7, max_depth=5, min_child_weight=3, subsample=1.0 \n",
      "[CV]  learning_rate=0.7, max_depth=5, min_child_weight=3, subsample=0.8, score=-0.492132, total= 3.2min\n",
      "[CV] learning_rate=0.7, max_depth=5, min_child_weight=3, subsample=1.0 \n"
     ]
    },
    {
     "name": "stderr",
     "output_type": "stream",
     "text": [
      "/Applications/anaconda/envs/tensorflow/lib/python3.6/site-packages/ipykernel_launcher.py:2: RuntimeWarning: invalid value encountered in log\n",
      "  \n"
     ]
    },
    {
     "name": "stdout",
     "output_type": "stream",
     "text": [
      "[CV]  learning_rate=0.7, max_depth=5, min_child_weight=3, subsample=0.8, score=-0.503121, total= 3.2min\n",
      "[CV] learning_rate=0.7, max_depth=5, min_child_weight=3, subsample=1.0 \n"
     ]
    },
    {
     "name": "stderr",
     "output_type": "stream",
     "text": [
      "[Parallel(n_jobs=-1)]: Done  24 tasks      | elapsed: 25.4min\n",
      "/Applications/anaconda/envs/tensorflow/lib/python3.6/site-packages/ipykernel_launcher.py:2: RuntimeWarning: invalid value encountered in log\n",
      "  \n"
     ]
    },
    {
     "name": "stdout",
     "output_type": "stream",
     "text": [
      "[CV]  learning_rate=0.7, max_depth=5, min_child_weight=3, subsample=0.8, score=-0.484757, total= 3.7min\n",
      "[CV] learning_rate=0.7, max_depth=5, min_child_weight=3, subsample=1.0 \n"
     ]
    },
    {
     "name": "stderr",
     "output_type": "stream",
     "text": [
      "/Applications/anaconda/envs/tensorflow/lib/python3.6/site-packages/ipykernel_launcher.py:2: RuntimeWarning: invalid value encountered in log\n",
      "  \n"
     ]
    },
    {
     "name": "stdout",
     "output_type": "stream",
     "text": [
      "[CV]  learning_rate=0.7, max_depth=5, min_child_weight=3, subsample=1.0, score=-0.643909, total= 3.7min\n",
      "[CV] learning_rate=0.7, max_depth=5, min_child_weight=3, subsample=1.0 \n"
     ]
    },
    {
     "name": "stderr",
     "output_type": "stream",
     "text": [
      "/Applications/anaconda/envs/tensorflow/lib/python3.6/site-packages/ipykernel_launcher.py:2: RuntimeWarning: invalid value encountered in log\n",
      "  \n",
      "/Applications/anaconda/envs/tensorflow/lib/python3.6/site-packages/ipykernel_launcher.py:2: RuntimeWarning: invalid value encountered in log\n",
      "  \n"
     ]
    },
    {
     "name": "stdout",
     "output_type": "stream",
     "text": [
      "[CV]  learning_rate=0.7, max_depth=5, min_child_weight=3, subsample=1.0, score=-0.485786, total= 3.7min\n",
      "[CV] learning_rate=0.7, max_depth=5, min_child_weight=5, subsample=0.6 \n",
      "[CV]  learning_rate=0.7, max_depth=5, min_child_weight=3, subsample=1.0, score=-0.520147, total= 3.6min\n",
      "[CV] learning_rate=0.7, max_depth=5, min_child_weight=5, subsample=0.6 \n"
     ]
    },
    {
     "name": "stderr",
     "output_type": "stream",
     "text": [
      "/Applications/anaconda/envs/tensorflow/lib/python3.6/site-packages/ipykernel_launcher.py:2: RuntimeWarning: invalid value encountered in log\n",
      "  \n"
     ]
    },
    {
     "name": "stdout",
     "output_type": "stream",
     "text": [
      "[CV]  learning_rate=0.7, max_depth=5, min_child_weight=3, subsample=1.0, score=-0.484509, total=10.5min\n"
     ]
    },
    {
     "name": "stderr",
     "output_type": "stream",
     "text": [
      "/Applications/anaconda/envs/tensorflow/lib/python3.6/site-packages/ipykernel_launcher.py:2: RuntimeWarning: invalid value encountered in log\n",
      "  \n"
     ]
    },
    {
     "name": "stdout",
     "output_type": "stream",
     "text": [
      "[CV] learning_rate=0.7, max_depth=5, min_child_weight=5, subsample=0.6 \n"
     ]
    },
    {
     "name": "stderr",
     "output_type": "stream",
     "text": [
      "/Applications/anaconda/envs/tensorflow/lib/python3.6/site-packages/ipykernel_launcher.py:2: RuntimeWarning: invalid value encountered in log\n",
      "  \n"
     ]
    },
    {
     "name": "stdout",
     "output_type": "stream",
     "text": [
      "[CV]  learning_rate=0.7, max_depth=5, min_child_weight=5, subsample=0.6, score=-0.674013, total=10.5min\n",
      "[CV] learning_rate=0.7, max_depth=5, min_child_weight=5, subsample=0.6 \n",
      "[CV]  learning_rate=0.7, max_depth=5, min_child_weight=3, subsample=1.0, score=-0.497591, total=10.6min\n"
     ]
    },
    {
     "name": "stderr",
     "output_type": "stream",
     "text": [
      "/Applications/anaconda/envs/tensorflow/lib/python3.6/site-packages/ipykernel_launcher.py:2: RuntimeWarning: invalid value encountered in log\n",
      "  \n"
     ]
    },
    {
     "name": "stdout",
     "output_type": "stream",
     "text": [
      "[CV] learning_rate=0.7, max_depth=5, min_child_weight=5, subsample=0.6 \n",
      "[CV]  learning_rate=0.7, max_depth=5, min_child_weight=5, subsample=0.6, score=-0.501461, total=10.7min\n",
      "[CV] learning_rate=0.7, max_depth=5, min_child_weight=5, subsample=0.8 \n"
     ]
    },
    {
     "name": "stderr",
     "output_type": "stream",
     "text": [
      "/Applications/anaconda/envs/tensorflow/lib/python3.6/site-packages/ipykernel_launcher.py:2: RuntimeWarning: invalid value encountered in log\n",
      "  \n",
      "/Applications/anaconda/envs/tensorflow/lib/python3.6/site-packages/ipykernel_launcher.py:2: RuntimeWarning: invalid value encountered in log\n",
      "  \n"
     ]
    },
    {
     "name": "stdout",
     "output_type": "stream",
     "text": [
      "[CV]  learning_rate=0.7, max_depth=5, min_child_weight=5, subsample=0.6, score=-0.503965, total= 7.7min\n"
     ]
    },
    {
     "name": "stderr",
     "output_type": "stream",
     "text": [
      "[Parallel(n_jobs=-1)]: Done  33 tasks      | elapsed: 47.5min\n"
     ]
    },
    {
     "name": "stdout",
     "output_type": "stream",
     "text": [
      "[CV] learning_rate=0.7, max_depth=5, min_child_weight=5, subsample=0.8 \n",
      "[CV]  learning_rate=0.7, max_depth=5, min_child_weight=5, subsample=0.6, score=-0.531796, total= 7.8min\n"
     ]
    },
    {
     "name": "stderr",
     "output_type": "stream",
     "text": [
      "/Applications/anaconda/envs/tensorflow/lib/python3.6/site-packages/ipykernel_launcher.py:2: RuntimeWarning: invalid value encountered in log\n",
      "  \n",
      "/Applications/anaconda/envs/tensorflow/lib/python3.6/site-packages/ipykernel_launcher.py:2: RuntimeWarning: invalid value encountered in log\n",
      "  \n"
     ]
    },
    {
     "name": "stdout",
     "output_type": "stream",
     "text": [
      "[CV] learning_rate=0.7, max_depth=5, min_child_weight=5, subsample=0.8 \n",
      "[CV]  learning_rate=0.7, max_depth=5, min_child_weight=5, subsample=0.6, score=-0.565981, total= 7.7min\n",
      "[CV] learning_rate=0.7, max_depth=5, min_child_weight=5, subsample=0.8 \n",
      "[CV]  learning_rate=0.7, max_depth=5, min_child_weight=5, subsample=0.8, score=-0.657753, total= 7.5min\n",
      "[CV] learning_rate=0.7, max_depth=5, min_child_weight=5, subsample=0.8 \n"
     ]
    },
    {
     "name": "stderr",
     "output_type": "stream",
     "text": [
      "/Applications/anaconda/envs/tensorflow/lib/python3.6/site-packages/ipykernel_launcher.py:2: RuntimeWarning: invalid value encountered in log\n",
      "  \n",
      "/Applications/anaconda/envs/tensorflow/lib/python3.6/site-packages/ipykernel_launcher.py:2: RuntimeWarning: invalid value encountered in log\n",
      "  \n",
      "/Applications/anaconda/envs/tensorflow/lib/python3.6/site-packages/ipykernel_launcher.py:2: RuntimeWarning: invalid value encountered in log\n",
      "  \n",
      "/Applications/anaconda/envs/tensorflow/lib/python3.6/site-packages/ipykernel_launcher.py:2: RuntimeWarning: invalid value encountered in log\n",
      "  \n"
     ]
    },
    {
     "name": "stdout",
     "output_type": "stream",
     "text": [
      "[CV]  learning_rate=0.7, max_depth=5, min_child_weight=5, subsample=0.8, score=-0.522838, total= 4.5min\n",
      "[CV] learning_rate=0.7, max_depth=5, min_child_weight=5, subsample=1.0 \n",
      "[CV]  learning_rate=0.7, max_depth=5, min_child_weight=5, subsample=0.8, score=-0.480081, total= 4.6min\n",
      "[CV]  learning_rate=0.7, max_depth=5, min_child_weight=5, subsample=0.8, score=-0.527640, total= 4.5min\n",
      "[CV]  learning_rate=0.7, max_depth=5, min_child_weight=5, subsample=0.8, score=-0.471302, total= 4.5min\n",
      "[CV] learning_rate=0.7, max_depth=5, min_child_weight=5, subsample=1.0 \n",
      "[CV] learning_rate=0.7, max_depth=5, min_child_weight=5, subsample=1.0 \n",
      "[CV] learning_rate=0.7, max_depth=5, min_child_weight=5, subsample=1.0 \n"
     ]
    },
    {
     "name": "stderr",
     "output_type": "stream",
     "text": [
      "/Applications/anaconda/envs/tensorflow/lib/python3.6/site-packages/ipykernel_launcher.py:2: RuntimeWarning: invalid value encountered in log\n",
      "  \n",
      "/Applications/anaconda/envs/tensorflow/lib/python3.6/site-packages/ipykernel_launcher.py:2: RuntimeWarning: invalid value encountered in log\n",
      "  \n",
      "/Applications/anaconda/envs/tensorflow/lib/python3.6/site-packages/ipykernel_launcher.py:2: RuntimeWarning: invalid value encountered in log\n",
      "  \n"
     ]
    },
    {
     "name": "stdout",
     "output_type": "stream",
     "text": [
      "[CV]  learning_rate=0.7, max_depth=5, min_child_weight=5, subsample=1.0, score=-0.508516, total= 3.8min\n",
      "[CV] learning_rate=0.7, max_depth=5, min_child_weight=5, subsample=1.0 \n",
      "[CV]  learning_rate=0.7, max_depth=5, min_child_weight=5, subsample=1.0, score=-0.500432, total= 3.8min\n",
      "[CV]  learning_rate=0.7, max_depth=5, min_child_weight=5, subsample=1.0, score=-0.679754, total= 3.9min\n"
     ]
    },
    {
     "name": "stderr",
     "output_type": "stream",
     "text": [
      "[Parallel(n_jobs=-1)]: Done  42 tasks      | elapsed: 56.1min\n"
     ]
    },
    {
     "name": "stdout",
     "output_type": "stream",
     "text": [
      "[CV] learning_rate=0.7, max_depth=7, min_child_weight=1, subsample=0.6 \n",
      "[CV] learning_rate=0.7, max_depth=7, min_child_weight=1, subsample=0.6 \n"
     ]
    },
    {
     "name": "stderr",
     "output_type": "stream",
     "text": [
      "/Applications/anaconda/envs/tensorflow/lib/python3.6/site-packages/ipykernel_launcher.py:2: RuntimeWarning: invalid value encountered in log\n",
      "  \n"
     ]
    },
    {
     "name": "stdout",
     "output_type": "stream",
     "text": [
      "[CV]  learning_rate=0.7, max_depth=5, min_child_weight=5, subsample=1.0, score=-0.463128, total= 3.9min\n",
      "[CV] learning_rate=0.7, max_depth=7, min_child_weight=1, subsample=0.6 \n"
     ]
    },
    {
     "name": "stderr",
     "output_type": "stream",
     "text": [
      "/Applications/anaconda/envs/tensorflow/lib/python3.6/site-packages/ipykernel_launcher.py:2: RuntimeWarning: invalid value encountered in log\n",
      "  \n"
     ]
    },
    {
     "name": "stdout",
     "output_type": "stream",
     "text": [
      "[CV]  learning_rate=0.7, max_depth=5, min_child_weight=5, subsample=1.0, score=-0.471652, total= 3.3min\n",
      "[CV] learning_rate=0.7, max_depth=7, min_child_weight=1, subsample=0.6 \n"
     ]
    },
    {
     "name": "stderr",
     "output_type": "stream",
     "text": [
      "/Applications/anaconda/envs/tensorflow/lib/python3.6/site-packages/ipykernel_launcher.py:2: RuntimeWarning: invalid value encountered in log\n",
      "  \n",
      "/Applications/anaconda/envs/tensorflow/lib/python3.6/site-packages/ipykernel_launcher.py:2: RuntimeWarning: invalid value encountered in log\n",
      "  \n"
     ]
    },
    {
     "name": "stdout",
     "output_type": "stream",
     "text": [
      "[CV]  learning_rate=0.7, max_depth=7, min_child_weight=1, subsample=0.6, score=-0.748035, total= 4.5min\n",
      "[CV] learning_rate=0.7, max_depth=7, min_child_weight=1, subsample=0.6 \n",
      "[CV]  learning_rate=0.7, max_depth=7, min_child_weight=1, subsample=0.6, score=-0.531670, total= 4.5min\n",
      "[CV] learning_rate=0.7, max_depth=7, min_child_weight=1, subsample=0.8 \n"
     ]
    },
    {
     "name": "stderr",
     "output_type": "stream",
     "text": [
      "/Applications/anaconda/envs/tensorflow/lib/python3.6/site-packages/ipykernel_launcher.py:2: RuntimeWarning: invalid value encountered in log\n",
      "  \n"
     ]
    },
    {
     "name": "stdout",
     "output_type": "stream",
     "text": [
      "[CV]  learning_rate=0.7, max_depth=7, min_child_weight=1, subsample=0.6, score=-0.578626, total= 4.5min\n",
      "[CV] learning_rate=0.7, max_depth=7, min_child_weight=1, subsample=0.8 \n"
     ]
    },
    {
     "name": "stderr",
     "output_type": "stream",
     "text": [
      "/Applications/anaconda/envs/tensorflow/lib/python3.6/site-packages/ipykernel_launcher.py:2: RuntimeWarning: invalid value encountered in log\n",
      "  \n"
     ]
    },
    {
     "name": "stdout",
     "output_type": "stream",
     "text": [
      "[CV]  learning_rate=0.7, max_depth=7, min_child_weight=1, subsample=0.6, score=-0.554045, total= 4.3min\n",
      "[CV] learning_rate=0.7, max_depth=7, min_child_weight=1, subsample=0.8 \n"
     ]
    },
    {
     "name": "stderr",
     "output_type": "stream",
     "text": [
      "/Applications/anaconda/envs/tensorflow/lib/python3.6/site-packages/ipykernel_launcher.py:2: RuntimeWarning: invalid value encountered in log\n",
      "  \n"
     ]
    },
    {
     "name": "stdout",
     "output_type": "stream",
     "text": [
      "[CV]  learning_rate=0.7, max_depth=7, min_child_weight=1, subsample=0.6, score=-0.629804, total= 4.2min\n",
      "[CV] learning_rate=0.7, max_depth=7, min_child_weight=1, subsample=0.8 \n"
     ]
    },
    {
     "name": "stderr",
     "output_type": "stream",
     "text": [
      "/Applications/anaconda/envs/tensorflow/lib/python3.6/site-packages/ipykernel_launcher.py:2: RuntimeWarning: invalid value encountered in log\n",
      "  \n"
     ]
    },
    {
     "name": "stdout",
     "output_type": "stream",
     "text": [
      "[CV]  learning_rate=0.7, max_depth=7, min_child_weight=1, subsample=0.8, score=-0.721467, total= 4.3min\n",
      "[CV] learning_rate=0.7, max_depth=7, min_child_weight=1, subsample=0.8 \n"
     ]
    },
    {
     "name": "stderr",
     "output_type": "stream",
     "text": [
      "/Applications/anaconda/envs/tensorflow/lib/python3.6/site-packages/ipykernel_launcher.py:2: RuntimeWarning: invalid value encountered in log\n",
      "  \n"
     ]
    },
    {
     "name": "stdout",
     "output_type": "stream",
     "text": [
      "[CV]  learning_rate=0.7, max_depth=7, min_child_weight=1, subsample=0.8, score=-0.508379, total= 4.2min\n",
      "[CV] learning_rate=0.7, max_depth=7, min_child_weight=1, subsample=1.0 \n"
     ]
    },
    {
     "name": "stderr",
     "output_type": "stream",
     "text": [
      "/Applications/anaconda/envs/tensorflow/lib/python3.6/site-packages/ipykernel_launcher.py:2: RuntimeWarning: invalid value encountered in log\n",
      "  \n"
     ]
    },
    {
     "name": "stdout",
     "output_type": "stream",
     "text": [
      "[CV]  learning_rate=0.7, max_depth=7, min_child_weight=1, subsample=0.8, score=-0.565279, total= 4.0min\n",
      "[CV] learning_rate=0.7, max_depth=7, min_child_weight=1, subsample=1.0 \n"
     ]
    },
    {
     "name": "stderr",
     "output_type": "stream",
     "text": [
      "[Parallel(n_jobs=-1)]: Done  53 tasks      | elapsed: 67.7min\n",
      "/Applications/anaconda/envs/tensorflow/lib/python3.6/site-packages/ipykernel_launcher.py:2: RuntimeWarning: invalid value encountered in log\n",
      "  \n"
     ]
    },
    {
     "name": "stdout",
     "output_type": "stream",
     "text": [
      "[CV]  learning_rate=0.7, max_depth=7, min_child_weight=1, subsample=0.8, score=-0.528263, total= 3.7min\n",
      "[CV] learning_rate=0.7, max_depth=7, min_child_weight=1, subsample=1.0 \n"
     ]
    },
    {
     "name": "stderr",
     "output_type": "stream",
     "text": [
      "/Applications/anaconda/envs/tensorflow/lib/python3.6/site-packages/ipykernel_launcher.py:2: RuntimeWarning: invalid value encountered in log\n",
      "  \n"
     ]
    },
    {
     "name": "stdout",
     "output_type": "stream",
     "text": [
      "[CV]  learning_rate=0.7, max_depth=7, min_child_weight=1, subsample=0.8, score=-0.590464, total= 3.8min\n",
      "[CV] learning_rate=0.7, max_depth=7, min_child_weight=1, subsample=1.0 \n"
     ]
    },
    {
     "name": "stderr",
     "output_type": "stream",
     "text": [
      "/Applications/anaconda/envs/tensorflow/lib/python3.6/site-packages/ipykernel_launcher.py:2: RuntimeWarning: invalid value encountered in log\n",
      "  \n"
     ]
    },
    {
     "name": "stdout",
     "output_type": "stream",
     "text": [
      "[CV]  learning_rate=0.7, max_depth=7, min_child_weight=1, subsample=1.0, score=-0.703528, total= 3.8min\n",
      "[CV] learning_rate=0.7, max_depth=7, min_child_weight=1, subsample=1.0 \n"
     ]
    },
    {
     "name": "stderr",
     "output_type": "stream",
     "text": [
      "/Applications/anaconda/envs/tensorflow/lib/python3.6/site-packages/ipykernel_launcher.py:2: RuntimeWarning: invalid value encountered in log\n",
      "  \n"
     ]
    },
    {
     "name": "stdout",
     "output_type": "stream",
     "text": [
      "[CV]  learning_rate=0.7, max_depth=7, min_child_weight=1, subsample=1.0, score=-0.485852, total= 3.4min\n",
      "[CV] learning_rate=0.7, max_depth=7, min_child_weight=3, subsample=0.6 \n"
     ]
    },
    {
     "name": "stderr",
     "output_type": "stream",
     "text": [
      "/Applications/anaconda/envs/tensorflow/lib/python3.6/site-packages/ipykernel_launcher.py:2: RuntimeWarning: invalid value encountered in log\n",
      "  \n"
     ]
    },
    {
     "name": "stdout",
     "output_type": "stream",
     "text": [
      "[CV]  learning_rate=0.7, max_depth=7, min_child_weight=1, subsample=1.0, score=-0.525924, total= 3.3min\n",
      "[CV] learning_rate=0.7, max_depth=7, min_child_weight=3, subsample=0.6 \n"
     ]
    },
    {
     "name": "stderr",
     "output_type": "stream",
     "text": [
      "/Applications/anaconda/envs/tensorflow/lib/python3.6/site-packages/ipykernel_launcher.py:2: RuntimeWarning: invalid value encountered in log\n",
      "  \n"
     ]
    },
    {
     "name": "stdout",
     "output_type": "stream",
     "text": [
      "[CV]  learning_rate=0.7, max_depth=7, min_child_weight=1, subsample=1.0, score=-0.513335, total= 3.3min\n",
      "[CV] learning_rate=0.7, max_depth=7, min_child_weight=3, subsample=0.6 \n"
     ]
    },
    {
     "name": "stderr",
     "output_type": "stream",
     "text": [
      "/Applications/anaconda/envs/tensorflow/lib/python3.6/site-packages/ipykernel_launcher.py:2: RuntimeWarning: invalid value encountered in log\n",
      "  \n"
     ]
    },
    {
     "name": "stdout",
     "output_type": "stream",
     "text": [
      "[CV]  learning_rate=0.7, max_depth=7, min_child_weight=1, subsample=1.0, score=-0.538672, total= 3.3min\n",
      "[CV] learning_rate=0.7, max_depth=7, min_child_weight=3, subsample=0.6 \n"
     ]
    },
    {
     "name": "stderr",
     "output_type": "stream",
     "text": [
      "/Applications/anaconda/envs/tensorflow/lib/python3.6/site-packages/ipykernel_launcher.py:2: RuntimeWarning: invalid value encountered in log\n",
      "  \n"
     ]
    },
    {
     "name": "stdout",
     "output_type": "stream",
     "text": [
      "[CV]  learning_rate=0.7, max_depth=7, min_child_weight=3, subsample=0.6, score=-0.731304, total= 3.3min\n",
      "[CV] learning_rate=0.7, max_depth=7, min_child_weight=3, subsample=0.6 \n"
     ]
    },
    {
     "name": "stderr",
     "output_type": "stream",
     "text": [
      "/Applications/anaconda/envs/tensorflow/lib/python3.6/site-packages/ipykernel_launcher.py:2: RuntimeWarning: invalid value encountered in log\n",
      "  \n"
     ]
    },
    {
     "name": "stdout",
     "output_type": "stream",
     "text": [
      "[CV]  learning_rate=0.7, max_depth=7, min_child_weight=3, subsample=0.6, score=-0.547286, total= 3.3min\n",
      "[CV] learning_rate=0.7, max_depth=7, min_child_weight=3, subsample=0.8 \n"
     ]
    },
    {
     "name": "stderr",
     "output_type": "stream",
     "text": [
      "/Applications/anaconda/envs/tensorflow/lib/python3.6/site-packages/ipykernel_launcher.py:2: RuntimeWarning: invalid value encountered in log\n",
      "  \n"
     ]
    },
    {
     "name": "stdout",
     "output_type": "stream",
     "text": [
      "[CV]  learning_rate=0.7, max_depth=7, min_child_weight=3, subsample=0.6, score=-0.588240, total= 3.3min\n",
      "[CV] learning_rate=0.7, max_depth=7, min_child_weight=3, subsample=0.8 \n"
     ]
    },
    {
     "name": "stderr",
     "output_type": "stream",
     "text": [
      "/Applications/anaconda/envs/tensorflow/lib/python3.6/site-packages/ipykernel_launcher.py:2: RuntimeWarning: invalid value encountered in log\n",
      "  \n"
     ]
    },
    {
     "name": "stdout",
     "output_type": "stream",
     "text": [
      "[CV]  learning_rate=0.7, max_depth=7, min_child_weight=3, subsample=0.6, score=-0.543853, total= 3.3min\n",
      "[CV] learning_rate=0.7, max_depth=7, min_child_weight=3, subsample=0.8 \n"
     ]
    },
    {
     "name": "stderr",
     "output_type": "stream",
     "text": [
      "[Parallel(n_jobs=-1)]: Done  64 tasks      | elapsed: 75.4min\n",
      "/Applications/anaconda/envs/tensorflow/lib/python3.6/site-packages/ipykernel_launcher.py:2: RuntimeWarning: invalid value encountered in log\n",
      "  \n"
     ]
    },
    {
     "name": "stdout",
     "output_type": "stream",
     "text": [
      "[CV]  learning_rate=0.7, max_depth=7, min_child_weight=3, subsample=0.6, score=-0.603996, total= 3.2min\n",
      "[CV] learning_rate=0.7, max_depth=7, min_child_weight=3, subsample=0.8 \n"
     ]
    },
    {
     "name": "stderr",
     "output_type": "stream",
     "text": [
      "/Applications/anaconda/envs/tensorflow/lib/python3.6/site-packages/ipykernel_launcher.py:2: RuntimeWarning: invalid value encountered in log\n",
      "  \n"
     ]
    },
    {
     "name": "stdout",
     "output_type": "stream",
     "text": [
      "[CV]  learning_rate=0.7, max_depth=7, min_child_weight=3, subsample=0.8, score=-0.684832, total= 3.3min\n",
      "[CV] learning_rate=0.7, max_depth=7, min_child_weight=3, subsample=0.8 \n"
     ]
    },
    {
     "name": "stderr",
     "output_type": "stream",
     "text": [
      "/Applications/anaconda/envs/tensorflow/lib/python3.6/site-packages/ipykernel_launcher.py:2: RuntimeWarning: invalid value encountered in log\n",
      "  \n"
     ]
    },
    {
     "name": "stdout",
     "output_type": "stream",
     "text": [
      "[CV]  learning_rate=0.7, max_depth=7, min_child_weight=3, subsample=0.8, score=-0.518720, total= 3.3min\n",
      "[CV] learning_rate=0.7, max_depth=7, min_child_weight=3, subsample=1.0 \n"
     ]
    },
    {
     "name": "stderr",
     "output_type": "stream",
     "text": [
      "/Applications/anaconda/envs/tensorflow/lib/python3.6/site-packages/ipykernel_launcher.py:2: RuntimeWarning: invalid value encountered in log\n",
      "  \n"
     ]
    },
    {
     "name": "stdout",
     "output_type": "stream",
     "text": [
      "[CV]  learning_rate=0.7, max_depth=7, min_child_weight=3, subsample=0.8, score=-0.556475, total= 3.3min\n",
      "[CV] learning_rate=0.7, max_depth=7, min_child_weight=3, subsample=1.0 \n"
     ]
    },
    {
     "name": "stderr",
     "output_type": "stream",
     "text": [
      "/Applications/anaconda/envs/tensorflow/lib/python3.6/site-packages/ipykernel_launcher.py:2: RuntimeWarning: invalid value encountered in log\n",
      "  \n"
     ]
    },
    {
     "name": "stdout",
     "output_type": "stream",
     "text": [
      "[CV]  learning_rate=0.7, max_depth=7, min_child_weight=3, subsample=0.8, score=-0.548112, total= 3.3min\n",
      "[CV] learning_rate=0.7, max_depth=7, min_child_weight=3, subsample=1.0 \n"
     ]
    },
    {
     "name": "stderr",
     "output_type": "stream",
     "text": [
      "/Applications/anaconda/envs/tensorflow/lib/python3.6/site-packages/ipykernel_launcher.py:2: RuntimeWarning: invalid value encountered in log\n",
      "  \n"
     ]
    },
    {
     "name": "stdout",
     "output_type": "stream",
     "text": [
      "[CV]  learning_rate=0.7, max_depth=7, min_child_weight=3, subsample=0.8, score=-0.572957, total= 3.3min\n",
      "[CV] learning_rate=0.7, max_depth=7, min_child_weight=3, subsample=1.0 \n"
     ]
    },
    {
     "name": "stderr",
     "output_type": "stream",
     "text": [
      "/Applications/anaconda/envs/tensorflow/lib/python3.6/site-packages/ipykernel_launcher.py:2: RuntimeWarning: invalid value encountered in log\n",
      "  \n"
     ]
    },
    {
     "name": "stdout",
     "output_type": "stream",
     "text": [
      "[CV]  learning_rate=0.7, max_depth=7, min_child_weight=3, subsample=1.0, score=-0.698851, total= 3.3min\n",
      "[CV] learning_rate=0.7, max_depth=7, min_child_weight=3, subsample=1.0 \n"
     ]
    },
    {
     "name": "stderr",
     "output_type": "stream",
     "text": [
      "/Applications/anaconda/envs/tensorflow/lib/python3.6/site-packages/ipykernel_launcher.py:2: RuntimeWarning: invalid value encountered in log\n",
      "  \n"
     ]
    },
    {
     "name": "stdout",
     "output_type": "stream",
     "text": [
      "[CV]  learning_rate=0.7, max_depth=7, min_child_weight=3, subsample=1.0, score=-0.503381, total= 3.3min\n",
      "[CV] learning_rate=0.7, max_depth=7, min_child_weight=5, subsample=0.6 \n"
     ]
    },
    {
     "name": "stderr",
     "output_type": "stream",
     "text": [
      "/Applications/anaconda/envs/tensorflow/lib/python3.6/site-packages/ipykernel_launcher.py:2: RuntimeWarning: invalid value encountered in log\n",
      "  \n"
     ]
    },
    {
     "name": "stdout",
     "output_type": "stream",
     "text": [
      "[CV]  learning_rate=0.7, max_depth=7, min_child_weight=3, subsample=1.0, score=-0.538012, total= 3.3min\n",
      "[CV] learning_rate=0.7, max_depth=7, min_child_weight=5, subsample=0.6 \n"
     ]
    },
    {
     "name": "stderr",
     "output_type": "stream",
     "text": [
      "/Applications/anaconda/envs/tensorflow/lib/python3.6/site-packages/ipykernel_launcher.py:2: RuntimeWarning: invalid value encountered in log\n",
      "  \n"
     ]
    },
    {
     "name": "stdout",
     "output_type": "stream",
     "text": [
      "[CV]  learning_rate=0.7, max_depth=7, min_child_weight=3, subsample=1.0, score=-0.505440, total= 3.2min\n",
      "[CV] learning_rate=0.7, max_depth=7, min_child_weight=5, subsample=0.6 \n"
     ]
    },
    {
     "name": "stderr",
     "output_type": "stream",
     "text": [
      "/Applications/anaconda/envs/tensorflow/lib/python3.6/site-packages/ipykernel_launcher.py:2: RuntimeWarning: invalid value encountered in log\n",
      "  \n",
      "/Applications/anaconda/envs/tensorflow/lib/python3.6/site-packages/ipykernel_launcher.py:2: RuntimeWarning: invalid value encountered in log\n",
      "  \n"
     ]
    },
    {
     "name": "stdout",
     "output_type": "stream",
     "text": [
      "[CV]  learning_rate=0.7, max_depth=7, min_child_weight=3, subsample=1.0, score=-0.525631, total= 3.2min\n",
      "[CV] learning_rate=0.7, max_depth=7, min_child_weight=5, subsample=0.6 \n",
      "[CV]  learning_rate=0.7, max_depth=7, min_child_weight=5, subsample=0.6, score=-0.697887, total= 3.2min\n",
      "[CV] learning_rate=0.7, max_depth=7, min_child_weight=5, subsample=0.6 \n"
     ]
    },
    {
     "name": "stderr",
     "output_type": "stream",
     "text": [
      "/Applications/anaconda/envs/tensorflow/lib/python3.6/site-packages/ipykernel_launcher.py:2: RuntimeWarning: invalid value encountered in log\n",
      "  \n"
     ]
    },
    {
     "name": "stdout",
     "output_type": "stream",
     "text": [
      "[CV]  learning_rate=0.7, max_depth=7, min_child_weight=5, subsample=0.6, score=-0.555421, total= 3.2min\n",
      "[CV] learning_rate=0.7, max_depth=7, min_child_weight=5, subsample=0.8 \n"
     ]
    },
    {
     "name": "stderr",
     "output_type": "stream",
     "text": [
      "[Parallel(n_jobs=-1)]: Done  77 tasks      | elapsed: 87.5min\n",
      "/Applications/anaconda/envs/tensorflow/lib/python3.6/site-packages/ipykernel_launcher.py:2: RuntimeWarning: invalid value encountered in log\n",
      "  \n"
     ]
    },
    {
     "name": "stdout",
     "output_type": "stream",
     "text": [
      "[CV]  learning_rate=0.7, max_depth=7, min_child_weight=5, subsample=0.6, score=-0.602965, total= 3.2min\n",
      "[CV] learning_rate=0.7, max_depth=7, min_child_weight=5, subsample=0.8 \n"
     ]
    },
    {
     "name": "stderr",
     "output_type": "stream",
     "text": [
      "/Applications/anaconda/envs/tensorflow/lib/python3.6/site-packages/ipykernel_launcher.py:2: RuntimeWarning: invalid value encountered in log\n",
      "  \n"
     ]
    },
    {
     "name": "stdout",
     "output_type": "stream",
     "text": [
      "[CV]  learning_rate=0.7, max_depth=7, min_child_weight=5, subsample=0.6, score=-0.555184, total= 3.2min\n",
      "[CV] learning_rate=0.7, max_depth=7, min_child_weight=5, subsample=0.8 \n"
     ]
    },
    {
     "name": "stderr",
     "output_type": "stream",
     "text": [
      "/Applications/anaconda/envs/tensorflow/lib/python3.6/site-packages/ipykernel_launcher.py:2: RuntimeWarning: invalid value encountered in log\n",
      "  \n"
     ]
    },
    {
     "name": "stdout",
     "output_type": "stream",
     "text": [
      "[CV]  learning_rate=0.7, max_depth=7, min_child_weight=5, subsample=0.6, score=-0.587410, total= 3.2min\n",
      "[CV] learning_rate=0.7, max_depth=7, min_child_weight=5, subsample=0.8 \n"
     ]
    },
    {
     "name": "stderr",
     "output_type": "stream",
     "text": [
      "/Applications/anaconda/envs/tensorflow/lib/python3.6/site-packages/ipykernel_launcher.py:2: RuntimeWarning: invalid value encountered in log\n",
      "  \n"
     ]
    },
    {
     "name": "stdout",
     "output_type": "stream",
     "text": [
      "[CV]  learning_rate=0.7, max_depth=7, min_child_weight=5, subsample=0.8, score=-0.686022, total= 3.1min\n",
      "[CV] learning_rate=0.7, max_depth=7, min_child_weight=5, subsample=0.8 \n"
     ]
    },
    {
     "name": "stderr",
     "output_type": "stream",
     "text": [
      "/Applications/anaconda/envs/tensorflow/lib/python3.6/site-packages/ipykernel_launcher.py:2: RuntimeWarning: invalid value encountered in log\n",
      "  \n"
     ]
    },
    {
     "name": "stdout",
     "output_type": "stream",
     "text": [
      "[CV]  learning_rate=0.7, max_depth=7, min_child_weight=5, subsample=0.8, score=-0.520333, total= 3.2min\n",
      "[CV] learning_rate=0.7, max_depth=7, min_child_weight=5, subsample=1.0 \n"
     ]
    },
    {
     "name": "stderr",
     "output_type": "stream",
     "text": [
      "/Applications/anaconda/envs/tensorflow/lib/python3.6/site-packages/ipykernel_launcher.py:2: RuntimeWarning: invalid value encountered in log\n",
      "  \n"
     ]
    },
    {
     "name": "stdout",
     "output_type": "stream",
     "text": [
      "[CV]  learning_rate=0.7, max_depth=7, min_child_weight=5, subsample=0.8, score=-0.563696, total= 3.2min\n",
      "[CV] learning_rate=0.7, max_depth=7, min_child_weight=5, subsample=1.0 \n"
     ]
    },
    {
     "name": "stderr",
     "output_type": "stream",
     "text": [
      "/Applications/anaconda/envs/tensorflow/lib/python3.6/site-packages/ipykernel_launcher.py:2: RuntimeWarning: invalid value encountered in log\n",
      "  \n"
     ]
    },
    {
     "name": "stdout",
     "output_type": "stream",
     "text": [
      "[CV]  learning_rate=0.7, max_depth=7, min_child_weight=5, subsample=0.8, score=-0.526700, total= 3.2min\n",
      "[CV] learning_rate=0.7, max_depth=7, min_child_weight=5, subsample=1.0 \n"
     ]
    },
    {
     "name": "stderr",
     "output_type": "stream",
     "text": [
      "/Applications/anaconda/envs/tensorflow/lib/python3.6/site-packages/ipykernel_launcher.py:2: RuntimeWarning: invalid value encountered in log\n",
      "  \n"
     ]
    },
    {
     "name": "stdout",
     "output_type": "stream",
     "text": [
      "[CV]  learning_rate=0.7, max_depth=7, min_child_weight=5, subsample=0.8, score=-0.549990, total= 3.2min\n",
      "[CV] learning_rate=0.7, max_depth=7, min_child_weight=5, subsample=1.0 \n"
     ]
    },
    {
     "name": "stderr",
     "output_type": "stream",
     "text": [
      "/Applications/anaconda/envs/tensorflow/lib/python3.6/site-packages/ipykernel_launcher.py:2: RuntimeWarning: invalid value encountered in log\n",
      "  \n"
     ]
    },
    {
     "name": "stdout",
     "output_type": "stream",
     "text": [
      "[CV]  learning_rate=0.7, max_depth=7, min_child_weight=5, subsample=1.0, score=-0.666131, total= 3.1min\n",
      "[CV] learning_rate=0.7, max_depth=7, min_child_weight=5, subsample=1.0 \n"
     ]
    },
    {
     "name": "stderr",
     "output_type": "stream",
     "text": [
      "/Applications/anaconda/envs/tensorflow/lib/python3.6/site-packages/ipykernel_launcher.py:2: RuntimeWarning: invalid value encountered in log\n",
      "  \n"
     ]
    },
    {
     "name": "stdout",
     "output_type": "stream",
     "text": [
      "[CV]  learning_rate=0.7, max_depth=7, min_child_weight=5, subsample=1.0, score=-0.483136, total= 3.1min\n"
     ]
    },
    {
     "name": "stderr",
     "output_type": "stream",
     "text": [
      "/Applications/anaconda/envs/tensorflow/lib/python3.6/site-packages/ipykernel_launcher.py:2: RuntimeWarning: invalid value encountered in log\n",
      "  \n"
     ]
    },
    {
     "name": "stdout",
     "output_type": "stream",
     "text": [
      "[CV] learning_rate=0.7, max_depth=9, min_child_weight=1, subsample=0.6 \n",
      "[CV]  learning_rate=0.7, max_depth=7, min_child_weight=5, subsample=1.0, score=-0.537685, total= 3.1min\n",
      "[CV] learning_rate=0.7, max_depth=9, min_child_weight=1, subsample=0.6 \n"
     ]
    },
    {
     "name": "stderr",
     "output_type": "stream",
     "text": [
      "/Applications/anaconda/envs/tensorflow/lib/python3.6/site-packages/ipykernel_launcher.py:2: RuntimeWarning: invalid value encountered in log\n",
      "  \n"
     ]
    },
    {
     "name": "stdout",
     "output_type": "stream",
     "text": [
      "[CV]  learning_rate=0.7, max_depth=7, min_child_weight=5, subsample=1.0, score=-0.517578, total= 3.1min\n",
      "[CV] learning_rate=0.7, max_depth=9, min_child_weight=1, subsample=0.6 \n"
     ]
    },
    {
     "name": "stderr",
     "output_type": "stream",
     "text": [
      "/Applications/anaconda/envs/tensorflow/lib/python3.6/site-packages/ipykernel_launcher.py:2: RuntimeWarning: invalid value encountered in log\n",
      "  \n"
     ]
    },
    {
     "name": "stdout",
     "output_type": "stream",
     "text": [
      "[CV]  learning_rate=0.7, max_depth=7, min_child_weight=5, subsample=1.0, score=-0.518240, total= 3.2min\n",
      "[CV] learning_rate=0.7, max_depth=9, min_child_weight=1, subsample=0.6 \n"
     ]
    },
    {
     "name": "stderr",
     "output_type": "stream",
     "text": [
      "[Parallel(n_jobs=-1)]: Done  90 tasks      | elapsed: 97.9min\n",
      "/Applications/anaconda/envs/tensorflow/lib/python3.6/site-packages/ipykernel_launcher.py:2: RuntimeWarning: invalid value encountered in log\n",
      "  \n"
     ]
    },
    {
     "name": "stdout",
     "output_type": "stream",
     "text": [
      "[CV]  learning_rate=0.7, max_depth=9, min_child_weight=1, subsample=0.6, score=-0.749537, total= 4.0min\n",
      "[CV] learning_rate=0.7, max_depth=9, min_child_weight=1, subsample=0.6 \n"
     ]
    },
    {
     "name": "stderr",
     "output_type": "stream",
     "text": [
      "/Applications/anaconda/envs/tensorflow/lib/python3.6/site-packages/ipykernel_launcher.py:2: RuntimeWarning: invalid value encountered in log\n",
      "  \n"
     ]
    },
    {
     "name": "stdout",
     "output_type": "stream",
     "text": [
      "[CV]  learning_rate=0.7, max_depth=9, min_child_weight=1, subsample=0.6, score=-0.584656, total= 4.1min\n",
      "[CV] learning_rate=0.7, max_depth=9, min_child_weight=1, subsample=0.8 \n"
     ]
    },
    {
     "name": "stderr",
     "output_type": "stream",
     "text": [
      "/Applications/anaconda/envs/tensorflow/lib/python3.6/site-packages/ipykernel_launcher.py:2: RuntimeWarning: invalid value encountered in log\n",
      "  \n"
     ]
    },
    {
     "name": "stdout",
     "output_type": "stream",
     "text": [
      "[CV]  learning_rate=0.7, max_depth=9, min_child_weight=1, subsample=0.6, score=-0.608690, total= 4.0min\n",
      "[CV] learning_rate=0.7, max_depth=9, min_child_weight=1, subsample=0.8 \n"
     ]
    },
    {
     "name": "stderr",
     "output_type": "stream",
     "text": [
      "/Applications/anaconda/envs/tensorflow/lib/python3.6/site-packages/ipykernel_launcher.py:2: RuntimeWarning: invalid value encountered in log\n",
      "  \n"
     ]
    },
    {
     "name": "stdout",
     "output_type": "stream",
     "text": [
      "[CV]  learning_rate=0.7, max_depth=9, min_child_weight=1, subsample=0.6, score=-0.563572, total= 4.0min\n",
      "[CV] learning_rate=0.7, max_depth=9, min_child_weight=1, subsample=0.8 \n"
     ]
    },
    {
     "name": "stderr",
     "output_type": "stream",
     "text": [
      "/Applications/anaconda/envs/tensorflow/lib/python3.6/site-packages/ipykernel_launcher.py:2: RuntimeWarning: invalid value encountered in log\n",
      "  \n"
     ]
    },
    {
     "name": "stdout",
     "output_type": "stream",
     "text": [
      "[CV]  learning_rate=0.7, max_depth=9, min_child_weight=1, subsample=0.6, score=-0.659657, total= 4.0min\n",
      "[CV] learning_rate=0.7, max_depth=9, min_child_weight=1, subsample=0.8 \n"
     ]
    },
    {
     "name": "stderr",
     "output_type": "stream",
     "text": [
      "/Applications/anaconda/envs/tensorflow/lib/python3.6/site-packages/ipykernel_launcher.py:2: RuntimeWarning: invalid value encountered in log\n",
      "  \n"
     ]
    },
    {
     "name": "stdout",
     "output_type": "stream",
     "text": [
      "[CV]  learning_rate=0.7, max_depth=9, min_child_weight=1, subsample=0.8, score=-0.703791, total= 4.1min\n",
      "[CV] learning_rate=0.7, max_depth=9, min_child_weight=1, subsample=0.8 \n"
     ]
    },
    {
     "name": "stderr",
     "output_type": "stream",
     "text": [
      "/Applications/anaconda/envs/tensorflow/lib/python3.6/site-packages/ipykernel_launcher.py:2: RuntimeWarning: invalid value encountered in log\n",
      "  \n"
     ]
    },
    {
     "name": "stdout",
     "output_type": "stream",
     "text": [
      "[CV]  learning_rate=0.7, max_depth=9, min_child_weight=1, subsample=0.8, score=-0.543661, total= 4.1min\n",
      "[CV] learning_rate=0.7, max_depth=9, min_child_weight=1, subsample=1.0 \n"
     ]
    },
    {
     "name": "stderr",
     "output_type": "stream",
     "text": [
      "/Applications/anaconda/envs/tensorflow/lib/python3.6/site-packages/ipykernel_launcher.py:2: RuntimeWarning: invalid value encountered in log\n",
      "  \n"
     ]
    },
    {
     "name": "stdout",
     "output_type": "stream",
     "text": [
      "[CV]  learning_rate=0.7, max_depth=9, min_child_weight=1, subsample=0.8, score=-0.580765, total= 4.0min\n",
      "[CV] learning_rate=0.7, max_depth=9, min_child_weight=1, subsample=1.0 \n"
     ]
    },
    {
     "name": "stderr",
     "output_type": "stream",
     "text": [
      "/Applications/anaconda/envs/tensorflow/lib/python3.6/site-packages/ipykernel_launcher.py:2: RuntimeWarning: invalid value encountered in log\n",
      "  \n"
     ]
    },
    {
     "name": "stdout",
     "output_type": "stream",
     "text": [
      "[CV]  learning_rate=0.7, max_depth=9, min_child_weight=1, subsample=0.8, score=-0.556536, total= 4.1min\n",
      "[CV] learning_rate=0.7, max_depth=9, min_child_weight=1, subsample=1.0 \n"
     ]
    },
    {
     "name": "stderr",
     "output_type": "stream",
     "text": [
      "/Applications/anaconda/envs/tensorflow/lib/python3.6/site-packages/ipykernel_launcher.py:2: RuntimeWarning: invalid value encountered in log\n",
      "  \n"
     ]
    },
    {
     "name": "stdout",
     "output_type": "stream",
     "text": [
      "[CV]  learning_rate=0.7, max_depth=9, min_child_weight=1, subsample=0.8, score=-0.578419, total= 4.1min\n",
      "[CV] learning_rate=0.7, max_depth=9, min_child_weight=1, subsample=1.0 \n"
     ]
    },
    {
     "name": "stderr",
     "output_type": "stream",
     "text": [
      "/Applications/anaconda/envs/tensorflow/lib/python3.6/site-packages/ipykernel_launcher.py:2: RuntimeWarning: invalid value encountered in log\n",
      "  \n"
     ]
    },
    {
     "name": "stdout",
     "output_type": "stream",
     "text": [
      "[CV]  learning_rate=0.7, max_depth=9, min_child_weight=1, subsample=1.0, score=-0.708764, total= 4.0min\n",
      "[CV] learning_rate=0.7, max_depth=9, min_child_weight=1, subsample=1.0 \n"
     ]
    },
    {
     "name": "stderr",
     "output_type": "stream",
     "text": [
      "/Applications/anaconda/envs/tensorflow/lib/python3.6/site-packages/ipykernel_launcher.py:2: RuntimeWarning: invalid value encountered in log\n",
      "  \n"
     ]
    },
    {
     "name": "stdout",
     "output_type": "stream",
     "text": [
      "[CV]  learning_rate=0.7, max_depth=9, min_child_weight=1, subsample=1.0, score=-0.507024, total= 4.1min\n",
      "[CV] learning_rate=0.7, max_depth=9, min_child_weight=3, subsample=0.6 \n"
     ]
    },
    {
     "name": "stderr",
     "output_type": "stream",
     "text": [
      "/Applications/anaconda/envs/tensorflow/lib/python3.6/site-packages/ipykernel_launcher.py:2: RuntimeWarning: invalid value encountered in log\n",
      "  \n"
     ]
    },
    {
     "name": "stdout",
     "output_type": "stream",
     "text": [
      "[CV]  learning_rate=0.7, max_depth=9, min_child_weight=1, subsample=1.0, score=-0.540664, total= 4.0min\n",
      "[CV] learning_rate=0.7, max_depth=9, min_child_weight=3, subsample=0.6 \n"
     ]
    },
    {
     "name": "stderr",
     "output_type": "stream",
     "text": [
      "/Applications/anaconda/envs/tensorflow/lib/python3.6/site-packages/ipykernel_launcher.py:2: RuntimeWarning: invalid value encountered in log\n",
      "  \n"
     ]
    },
    {
     "name": "stdout",
     "output_type": "stream",
     "text": [
      "[CV]  learning_rate=0.7, max_depth=9, min_child_weight=1, subsample=1.0, score=-0.521210, total= 4.0min\n",
      "[CV] learning_rate=0.7, max_depth=9, min_child_weight=3, subsample=0.6 \n"
     ]
    },
    {
     "name": "stderr",
     "output_type": "stream",
     "text": [
      "/Applications/anaconda/envs/tensorflow/lib/python3.6/site-packages/ipykernel_launcher.py:2: RuntimeWarning: invalid value encountered in log\n",
      "  \n"
     ]
    },
    {
     "name": "stdout",
     "output_type": "stream",
     "text": [
      "[CV]  learning_rate=0.7, max_depth=9, min_child_weight=1, subsample=1.0, score=-0.556933, total= 4.1min\n",
      "[CV] learning_rate=0.7, max_depth=9, min_child_weight=3, subsample=0.6 \n"
     ]
    },
    {
     "name": "stderr",
     "output_type": "stream",
     "text": [
      "[Parallel(n_jobs=-1)]: Done 105 tasks      | elapsed: 113.4min\n",
      "/Applications/anaconda/envs/tensorflow/lib/python3.6/site-packages/ipykernel_launcher.py:2: RuntimeWarning: invalid value encountered in log\n",
      "  \n"
     ]
    },
    {
     "name": "stdout",
     "output_type": "stream",
     "text": [
      "[CV]  learning_rate=0.7, max_depth=9, min_child_weight=3, subsample=0.6, score=-0.752507, total= 4.0min\n",
      "[CV] learning_rate=0.7, max_depth=9, min_child_weight=3, subsample=0.6 \n"
     ]
    },
    {
     "name": "stderr",
     "output_type": "stream",
     "text": [
      "/Applications/anaconda/envs/tensorflow/lib/python3.6/site-packages/ipykernel_launcher.py:2: RuntimeWarning: invalid value encountered in log\n",
      "  \n"
     ]
    },
    {
     "name": "stdout",
     "output_type": "stream",
     "text": [
      "[CV]  learning_rate=0.7, max_depth=9, min_child_weight=3, subsample=0.6, score=-0.586798, total= 4.0min\n",
      "[CV] learning_rate=0.7, max_depth=9, min_child_weight=3, subsample=0.8 \n"
     ]
    },
    {
     "name": "stderr",
     "output_type": "stream",
     "text": [
      "/Applications/anaconda/envs/tensorflow/lib/python3.6/site-packages/ipykernel_launcher.py:2: RuntimeWarning: invalid value encountered in log\n",
      "  \n"
     ]
    },
    {
     "name": "stdout",
     "output_type": "stream",
     "text": [
      "[CV]  learning_rate=0.7, max_depth=9, min_child_weight=3, subsample=0.6, score=-0.603316, total= 4.0min\n",
      "[CV] learning_rate=0.7, max_depth=9, min_child_weight=3, subsample=0.8 \n"
     ]
    },
    {
     "name": "stderr",
     "output_type": "stream",
     "text": [
      "/Applications/anaconda/envs/tensorflow/lib/python3.6/site-packages/ipykernel_launcher.py:2: RuntimeWarning: invalid value encountered in log\n",
      "  \n"
     ]
    },
    {
     "name": "stdout",
     "output_type": "stream",
     "text": [
      "[CV]  learning_rate=0.7, max_depth=9, min_child_weight=3, subsample=0.6, score=-0.568787, total= 4.0min\n",
      "[CV] learning_rate=0.7, max_depth=9, min_child_weight=3, subsample=0.8 \n"
     ]
    },
    {
     "name": "stderr",
     "output_type": "stream",
     "text": [
      "/Applications/anaconda/envs/tensorflow/lib/python3.6/site-packages/ipykernel_launcher.py:2: RuntimeWarning: invalid value encountered in log\n",
      "  \n"
     ]
    },
    {
     "name": "stdout",
     "output_type": "stream",
     "text": [
      "[CV]  learning_rate=0.7, max_depth=9, min_child_weight=3, subsample=0.6, score=-0.596748, total= 4.0min\n",
      "[CV] learning_rate=0.7, max_depth=9, min_child_weight=3, subsample=0.8 \n"
     ]
    },
    {
     "name": "stderr",
     "output_type": "stream",
     "text": [
      "/Applications/anaconda/envs/tensorflow/lib/python3.6/site-packages/ipykernel_launcher.py:2: RuntimeWarning: invalid value encountered in log\n",
      "  \n"
     ]
    },
    {
     "name": "stdout",
     "output_type": "stream",
     "text": [
      "[CV]  learning_rate=0.7, max_depth=9, min_child_weight=3, subsample=0.8, score=-0.729646, total= 4.1min\n",
      "[CV] learning_rate=0.7, max_depth=9, min_child_weight=3, subsample=0.8 \n"
     ]
    },
    {
     "name": "stderr",
     "output_type": "stream",
     "text": [
      "/Applications/anaconda/envs/tensorflow/lib/python3.6/site-packages/ipykernel_launcher.py:2: RuntimeWarning: invalid value encountered in log\n",
      "  \n"
     ]
    },
    {
     "name": "stdout",
     "output_type": "stream",
     "text": [
      "[CV]  learning_rate=0.7, max_depth=9, min_child_weight=3, subsample=0.8, score=-0.530246, total= 4.0min\n",
      "[CV] learning_rate=0.7, max_depth=9, min_child_weight=3, subsample=1.0 \n"
     ]
    },
    {
     "name": "stderr",
     "output_type": "stream",
     "text": [
      "/Applications/anaconda/envs/tensorflow/lib/python3.6/site-packages/ipykernel_launcher.py:2: RuntimeWarning: invalid value encountered in log\n",
      "  \n"
     ]
    },
    {
     "name": "stdout",
     "output_type": "stream",
     "text": [
      "[CV]  learning_rate=0.7, max_depth=9, min_child_weight=3, subsample=0.8, score=-0.576507, total= 4.1min\n",
      "[CV] learning_rate=0.7, max_depth=9, min_child_weight=3, subsample=1.0 \n"
     ]
    },
    {
     "name": "stderr",
     "output_type": "stream",
     "text": [
      "/Applications/anaconda/envs/tensorflow/lib/python3.6/site-packages/ipykernel_launcher.py:2: RuntimeWarning: invalid value encountered in log\n",
      "  \n"
     ]
    },
    {
     "name": "stdout",
     "output_type": "stream",
     "text": [
      "[CV]  learning_rate=0.7, max_depth=9, min_child_weight=3, subsample=0.8, score=-0.537990, total= 4.1min\n",
      "[CV] learning_rate=0.7, max_depth=9, min_child_weight=3, subsample=1.0 \n"
     ]
    },
    {
     "name": "stderr",
     "output_type": "stream",
     "text": [
      "/Applications/anaconda/envs/tensorflow/lib/python3.6/site-packages/ipykernel_launcher.py:2: RuntimeWarning: invalid value encountered in log\n",
      "  \n"
     ]
    },
    {
     "name": "stdout",
     "output_type": "stream",
     "text": [
      "[CV]  learning_rate=0.7, max_depth=9, min_child_weight=3, subsample=0.8, score=-0.567629, total= 4.7min\n",
      "[CV] learning_rate=0.7, max_depth=9, min_child_weight=3, subsample=1.0 \n"
     ]
    },
    {
     "name": "stderr",
     "output_type": "stream",
     "text": [
      "/Applications/anaconda/envs/tensorflow/lib/python3.6/site-packages/ipykernel_launcher.py:2: RuntimeWarning: invalid value encountered in log\n",
      "  \n"
     ]
    },
    {
     "name": "stdout",
     "output_type": "stream",
     "text": [
      "[CV]  learning_rate=0.7, max_depth=9, min_child_weight=3, subsample=1.0, score=-0.667806, total= 4.8min\n",
      "[CV] learning_rate=0.7, max_depth=9, min_child_weight=3, subsample=1.0 \n"
     ]
    },
    {
     "name": "stderr",
     "output_type": "stream",
     "text": [
      "/Applications/anaconda/envs/tensorflow/lib/python3.6/site-packages/ipykernel_launcher.py:2: RuntimeWarning: invalid value encountered in log\n",
      "  \n"
     ]
    },
    {
     "name": "stdout",
     "output_type": "stream",
     "text": [
      "[CV]  learning_rate=0.7, max_depth=9, min_child_weight=3, subsample=1.0, score=-0.529008, total= 6.8min\n",
      "[CV] learning_rate=0.7, max_depth=9, min_child_weight=5, subsample=0.6 \n"
     ]
    },
    {
     "name": "stderr",
     "output_type": "stream",
     "text": [
      "/Applications/anaconda/envs/tensorflow/lib/python3.6/site-packages/ipykernel_launcher.py:2: RuntimeWarning: invalid value encountered in log\n",
      "  \n"
     ]
    },
    {
     "name": "stdout",
     "output_type": "stream",
     "text": [
      "[CV]  learning_rate=0.7, max_depth=9, min_child_weight=3, subsample=1.0, score=-0.547018, total= 7.5min\n",
      "[CV] learning_rate=0.7, max_depth=9, min_child_weight=5, subsample=0.6 \n"
     ]
    },
    {
     "name": "stderr",
     "output_type": "stream",
     "text": [
      "/Applications/anaconda/envs/tensorflow/lib/python3.6/site-packages/ipykernel_launcher.py:2: RuntimeWarning: invalid value encountered in log\n",
      "  \n"
     ]
    },
    {
     "name": "stdout",
     "output_type": "stream",
     "text": [
      "[CV]  learning_rate=0.7, max_depth=9, min_child_weight=3, subsample=1.0, score=-0.527734, total= 8.1min\n",
      "[CV] learning_rate=0.7, max_depth=9, min_child_weight=5, subsample=0.6 \n"
     ]
    },
    {
     "name": "stderr",
     "output_type": "stream",
     "text": [
      "/Applications/anaconda/envs/tensorflow/lib/python3.6/site-packages/ipykernel_launcher.py:2: RuntimeWarning: invalid value encountered in log\n",
      "  \n"
     ]
    },
    {
     "name": "stdout",
     "output_type": "stream",
     "text": [
      "[CV]  learning_rate=0.7, max_depth=9, min_child_weight=3, subsample=1.0, score=-0.513269, total= 8.1min\n",
      "[CV] learning_rate=0.7, max_depth=9, min_child_weight=5, subsample=0.6 \n"
     ]
    },
    {
     "name": "stderr",
     "output_type": "stream",
     "text": [
      "[Parallel(n_jobs=-1)]: Done 120 tasks      | elapsed: 132.3min\n",
      "/Applications/anaconda/envs/tensorflow/lib/python3.6/site-packages/ipykernel_launcher.py:2: RuntimeWarning: invalid value encountered in log\n",
      "  \n"
     ]
    },
    {
     "name": "stdout",
     "output_type": "stream",
     "text": [
      "[CV]  learning_rate=0.7, max_depth=9, min_child_weight=5, subsample=0.6, score=-0.758241, total= 8.0min\n",
      "[CV] learning_rate=0.7, max_depth=9, min_child_weight=5, subsample=0.6 \n"
     ]
    },
    {
     "name": "stderr",
     "output_type": "stream",
     "text": [
      "/Applications/anaconda/envs/tensorflow/lib/python3.6/site-packages/ipykernel_launcher.py:2: RuntimeWarning: invalid value encountered in log\n",
      "  \n"
     ]
    },
    {
     "name": "stdout",
     "output_type": "stream",
     "text": [
      "[CV]  learning_rate=0.7, max_depth=9, min_child_weight=5, subsample=0.6, score=-0.581614, total= 8.1min\n",
      "[CV] learning_rate=0.7, max_depth=9, min_child_weight=5, subsample=0.8 \n"
     ]
    },
    {
     "name": "stderr",
     "output_type": "stream",
     "text": [
      "/Applications/anaconda/envs/tensorflow/lib/python3.6/site-packages/ipykernel_launcher.py:2: RuntimeWarning: invalid value encountered in log\n",
      "  \n"
     ]
    },
    {
     "name": "stdout",
     "output_type": "stream",
     "text": [
      "[CV]  learning_rate=0.7, max_depth=9, min_child_weight=5, subsample=0.6, score=-0.606677, total=113.3min\n",
      "[CV] learning_rate=0.7, max_depth=9, min_child_weight=5, subsample=0.8 \n"
     ]
    },
    {
     "name": "stderr",
     "output_type": "stream",
     "text": [
      "/Applications/anaconda/envs/tensorflow/lib/python3.6/site-packages/ipykernel_launcher.py:2: RuntimeWarning: invalid value encountered in log\n",
      "  \n"
     ]
    },
    {
     "name": "stdout",
     "output_type": "stream",
     "text": [
      "[CV]  learning_rate=0.7, max_depth=9, min_child_weight=5, subsample=0.6, score=-0.585139, total=113.4min\n",
      "[CV] learning_rate=0.7, max_depth=9, min_child_weight=5, subsample=0.8 \n"
     ]
    },
    {
     "name": "stderr",
     "output_type": "stream",
     "text": [
      "/Applications/anaconda/envs/tensorflow/lib/python3.6/site-packages/ipykernel_launcher.py:2: RuntimeWarning: invalid value encountered in log\n",
      "  \n"
     ]
    },
    {
     "name": "stdout",
     "output_type": "stream",
     "text": [
      "[CV]  learning_rate=0.7, max_depth=9, min_child_weight=5, subsample=0.6, score=-0.657155, total=111.5min\n",
      "[CV] learning_rate=0.7, max_depth=9, min_child_weight=5, subsample=0.8 \n"
     ]
    },
    {
     "name": "stderr",
     "output_type": "stream",
     "text": [
      "/Applications/anaconda/envs/tensorflow/lib/python3.6/site-packages/ipykernel_launcher.py:2: RuntimeWarning: invalid value encountered in log\n",
      "  \n"
     ]
    },
    {
     "name": "stdout",
     "output_type": "stream",
     "text": [
      "[CV]  learning_rate=0.7, max_depth=9, min_child_weight=5, subsample=0.8, score=-0.694425, total=110.7min\n",
      "[CV] learning_rate=0.7, max_depth=9, min_child_weight=5, subsample=0.8 \n"
     ]
    },
    {
     "name": "stderr",
     "output_type": "stream",
     "text": [
      "/Applications/anaconda/envs/tensorflow/lib/python3.6/site-packages/ipykernel_launcher.py:2: RuntimeWarning: invalid value encountered in log\n",
      "  \n"
     ]
    },
    {
     "name": "stdout",
     "output_type": "stream",
     "text": [
      "[CV]  learning_rate=0.7, max_depth=9, min_child_weight=5, subsample=0.8, score=-0.524152, total= 4.3min\n",
      "[CV] learning_rate=0.7, max_depth=9, min_child_weight=5, subsample=1.0 \n"
     ]
    },
    {
     "name": "stderr",
     "output_type": "stream",
     "text": [
      "/Applications/anaconda/envs/tensorflow/lib/python3.6/site-packages/ipykernel_launcher.py:2: RuntimeWarning: invalid value encountered in log\n",
      "  \n"
     ]
    },
    {
     "name": "stdout",
     "output_type": "stream",
     "text": [
      "[CV]  learning_rate=0.7, max_depth=9, min_child_weight=5, subsample=0.8, score=-0.550353, total= 4.2min\n",
      "[CV] learning_rate=0.7, max_depth=9, min_child_weight=5, subsample=1.0 \n"
     ]
    },
    {
     "name": "stderr",
     "output_type": "stream",
     "text": [
      "/Applications/anaconda/envs/tensorflow/lib/python3.6/site-packages/ipykernel_launcher.py:2: RuntimeWarning: invalid value encountered in log\n",
      "  \n"
     ]
    },
    {
     "name": "stdout",
     "output_type": "stream",
     "text": [
      "[CV]  learning_rate=0.7, max_depth=9, min_child_weight=5, subsample=0.8, score=-0.542341, total= 4.0min\n",
      "[CV] learning_rate=0.7, max_depth=9, min_child_weight=5, subsample=1.0 \n"
     ]
    },
    {
     "name": "stderr",
     "output_type": "stream",
     "text": [
      "/Applications/anaconda/envs/tensorflow/lib/python3.6/site-packages/ipykernel_launcher.py:2: RuntimeWarning: invalid value encountered in log\n",
      "  \n"
     ]
    },
    {
     "name": "stdout",
     "output_type": "stream",
     "text": [
      "[CV]  learning_rate=0.7, max_depth=9, min_child_weight=5, subsample=0.8, score=-0.577044, total= 4.1min\n",
      "[CV] learning_rate=0.7, max_depth=9, min_child_weight=5, subsample=1.0 \n"
     ]
    },
    {
     "name": "stderr",
     "output_type": "stream",
     "text": [
      "/Applications/anaconda/envs/tensorflow/lib/python3.6/site-packages/ipykernel_launcher.py:2: RuntimeWarning: invalid value encountered in log\n",
      "  \n"
     ]
    },
    {
     "name": "stdout",
     "output_type": "stream",
     "text": [
      "[CV]  learning_rate=0.7, max_depth=9, min_child_weight=5, subsample=1.0, score=-0.682756, total= 4.1min\n",
      "[CV] learning_rate=0.7, max_depth=9, min_child_weight=5, subsample=1.0 \n"
     ]
    },
    {
     "name": "stderr",
     "output_type": "stream",
     "text": [
      "/Applications/anaconda/envs/tensorflow/lib/python3.6/site-packages/ipykernel_launcher.py:2: RuntimeWarning: invalid value encountered in log\n",
      "  \n"
     ]
    },
    {
     "name": "stdout",
     "output_type": "stream",
     "text": [
      "[CV]  learning_rate=0.7, max_depth=9, min_child_weight=5, subsample=1.0, score=-0.517688, total= 4.1min\n",
      "[CV] learning_rate=0.8, max_depth=5, min_child_weight=1, subsample=0.6 \n"
     ]
    },
    {
     "name": "stderr",
     "output_type": "stream",
     "text": [
      "/Applications/anaconda/envs/tensorflow/lib/python3.6/site-packages/ipykernel_launcher.py:2: RuntimeWarning: invalid value encountered in log\n",
      "  \n"
     ]
    },
    {
     "name": "stdout",
     "output_type": "stream",
     "text": [
      "[CV]  learning_rate=0.7, max_depth=9, min_child_weight=5, subsample=1.0, score=-0.545896, total= 4.1min\n",
      "[CV] learning_rate=0.8, max_depth=5, min_child_weight=1, subsample=0.6 \n"
     ]
    },
    {
     "name": "stderr",
     "output_type": "stream",
     "text": [
      "/Applications/anaconda/envs/tensorflow/lib/python3.6/site-packages/ipykernel_launcher.py:2: RuntimeWarning: invalid value encountered in log\n",
      "  \n"
     ]
    },
    {
     "name": "stdout",
     "output_type": "stream",
     "text": [
      "[CV]  learning_rate=0.8, max_depth=5, min_child_weight=1, subsample=0.6, score=-0.690736, total= 2.2min\n",
      "[CV] learning_rate=0.8, max_depth=5, min_child_weight=1, subsample=0.6 \n"
     ]
    },
    {
     "name": "stderr",
     "output_type": "stream",
     "text": [
      "/Applications/anaconda/envs/tensorflow/lib/python3.6/site-packages/ipykernel_launcher.py:2: RuntimeWarning: invalid value encountered in log\n",
      "  \n"
     ]
    },
    {
     "name": "stdout",
     "output_type": "stream",
     "text": [
      "[CV]  learning_rate=0.7, max_depth=9, min_child_weight=5, subsample=1.0, score=-0.527381, total= 4.1min\n",
      "[CV] learning_rate=0.8, max_depth=5, min_child_weight=1, subsample=0.6 \n"
     ]
    },
    {
     "name": "stderr",
     "output_type": "stream",
     "text": [
      "/Applications/anaconda/envs/tensorflow/lib/python3.6/site-packages/ipykernel_launcher.py:2: RuntimeWarning: invalid value encountered in log\n",
      "  \n"
     ]
    },
    {
     "name": "stdout",
     "output_type": "stream",
     "text": [
      "[CV]  learning_rate=0.7, max_depth=9, min_child_weight=5, subsample=1.0, score=-0.578069, total= 4.1min\n",
      "[CV] learning_rate=0.8, max_depth=5, min_child_weight=1, subsample=0.6 \n"
     ]
    },
    {
     "name": "stderr",
     "output_type": "stream",
     "text": [
      "/Applications/anaconda/envs/tensorflow/lib/python3.6/site-packages/ipykernel_launcher.py:2: RuntimeWarning: invalid value encountered in log\n",
      "  \n"
     ]
    },
    {
     "name": "stdout",
     "output_type": "stream",
     "text": [
      "[CV]  learning_rate=0.8, max_depth=5, min_child_weight=1, subsample=0.6, score=-0.539573, total= 2.3min\n",
      "[CV] learning_rate=0.8, max_depth=5, min_child_weight=1, subsample=0.8 \n"
     ]
    },
    {
     "name": "stderr",
     "output_type": "stream",
     "text": [
      "[Parallel(n_jobs=-1)]: Done 137 tasks      | elapsed: 258.4min\n",
      "/Applications/anaconda/envs/tensorflow/lib/python3.6/site-packages/ipykernel_launcher.py:2: RuntimeWarning: invalid value encountered in log\n",
      "  \n"
     ]
    },
    {
     "name": "stdout",
     "output_type": "stream",
     "text": [
      "[CV]  learning_rate=0.8, max_depth=5, min_child_weight=1, subsample=0.6, score=-0.569722, total= 2.3min\n",
      "[CV] learning_rate=0.8, max_depth=5, min_child_weight=1, subsample=0.8 \n"
     ]
    },
    {
     "name": "stderr",
     "output_type": "stream",
     "text": [
      "/Applications/anaconda/envs/tensorflow/lib/python3.6/site-packages/ipykernel_launcher.py:2: RuntimeWarning: invalid value encountered in log\n",
      "  \n"
     ]
    },
    {
     "name": "stdout",
     "output_type": "stream",
     "text": [
      "[CV]  learning_rate=0.8, max_depth=5, min_child_weight=1, subsample=0.6, score=-0.526190, total= 2.3min\n",
      "[CV] learning_rate=0.8, max_depth=5, min_child_weight=1, subsample=0.8 \n"
     ]
    },
    {
     "name": "stderr",
     "output_type": "stream",
     "text": [
      "/Applications/anaconda/envs/tensorflow/lib/python3.6/site-packages/ipykernel_launcher.py:2: RuntimeWarning: invalid value encountered in log\n",
      "  \n"
     ]
    },
    {
     "name": "stdout",
     "output_type": "stream",
     "text": [
      "[CV]  learning_rate=0.8, max_depth=5, min_child_weight=1, subsample=0.6, score=-0.738946, total= 2.2min\n",
      "[CV] learning_rate=0.8, max_depth=5, min_child_weight=1, subsample=0.8 \n"
     ]
    },
    {
     "name": "stderr",
     "output_type": "stream",
     "text": [
      "/Applications/anaconda/envs/tensorflow/lib/python3.6/site-packages/ipykernel_launcher.py:2: RuntimeWarning: invalid value encountered in log\n",
      "  \n"
     ]
    },
    {
     "name": "stdout",
     "output_type": "stream",
     "text": [
      "[CV]  learning_rate=0.8, max_depth=5, min_child_weight=1, subsample=0.8, score=-0.674557, total= 2.3min\n",
      "[CV] learning_rate=0.8, max_depth=5, min_child_weight=1, subsample=0.8 \n"
     ]
    },
    {
     "name": "stderr",
     "output_type": "stream",
     "text": [
      "/Applications/anaconda/envs/tensorflow/lib/python3.6/site-packages/ipykernel_launcher.py:2: RuntimeWarning: invalid value encountered in log\n",
      "  \n"
     ]
    },
    {
     "name": "stdout",
     "output_type": "stream",
     "text": [
      "[CV]  learning_rate=0.8, max_depth=5, min_child_weight=1, subsample=0.8, score=-0.511365, total= 2.3min\n",
      "[CV] learning_rate=0.8, max_depth=5, min_child_weight=1, subsample=1.0 \n"
     ]
    },
    {
     "name": "stderr",
     "output_type": "stream",
     "text": [
      "/Applications/anaconda/envs/tensorflow/lib/python3.6/site-packages/ipykernel_launcher.py:2: RuntimeWarning: invalid value encountered in log\n",
      "  \n"
     ]
    },
    {
     "name": "stdout",
     "output_type": "stream",
     "text": [
      "[CV]  learning_rate=0.8, max_depth=5, min_child_weight=1, subsample=0.8, score=-0.537707, total= 2.3min\n",
      "[CV] learning_rate=0.8, max_depth=5, min_child_weight=1, subsample=1.0 \n"
     ]
    },
    {
     "name": "stderr",
     "output_type": "stream",
     "text": [
      "/Applications/anaconda/envs/tensorflow/lib/python3.6/site-packages/ipykernel_launcher.py:2: RuntimeWarning: invalid value encountered in log\n",
      "  \n"
     ]
    },
    {
     "name": "stdout",
     "output_type": "stream",
     "text": [
      "[CV]  learning_rate=0.8, max_depth=5, min_child_weight=1, subsample=0.8, score=-0.506166, total= 2.4min\n",
      "[CV] learning_rate=0.8, max_depth=5, min_child_weight=1, subsample=1.0 \n"
     ]
    },
    {
     "name": "stderr",
     "output_type": "stream",
     "text": [
      "/Applications/anaconda/envs/tensorflow/lib/python3.6/site-packages/ipykernel_launcher.py:2: RuntimeWarning: invalid value encountered in log\n",
      "  \n"
     ]
    },
    {
     "name": "stdout",
     "output_type": "stream",
     "text": [
      "[CV]  learning_rate=0.8, max_depth=5, min_child_weight=1, subsample=0.8, score=-0.539089, total= 2.5min\n",
      "[CV] learning_rate=0.8, max_depth=5, min_child_weight=1, subsample=1.0 \n"
     ]
    },
    {
     "name": "stderr",
     "output_type": "stream",
     "text": [
      "/Applications/anaconda/envs/tensorflow/lib/python3.6/site-packages/ipykernel_launcher.py:2: RuntimeWarning: invalid value encountered in log\n",
      "  \n"
     ]
    },
    {
     "name": "stdout",
     "output_type": "stream",
     "text": [
      "[CV]  learning_rate=0.8, max_depth=5, min_child_weight=1, subsample=1.0, score=-0.659461, total= 2.6min\n",
      "[CV] learning_rate=0.8, max_depth=5, min_child_weight=1, subsample=1.0 \n"
     ]
    },
    {
     "name": "stderr",
     "output_type": "stream",
     "text": [
      "/Applications/anaconda/envs/tensorflow/lib/python3.6/site-packages/ipykernel_launcher.py:2: RuntimeWarning: invalid value encountered in log\n",
      "  \n"
     ]
    },
    {
     "name": "stdout",
     "output_type": "stream",
     "text": [
      "[CV]  learning_rate=0.8, max_depth=5, min_child_weight=1, subsample=1.0, score=-0.495552, total= 2.8min\n",
      "[CV] learning_rate=0.8, max_depth=5, min_child_weight=3, subsample=0.6 \n"
     ]
    },
    {
     "name": "stderr",
     "output_type": "stream",
     "text": [
      "/Applications/anaconda/envs/tensorflow/lib/python3.6/site-packages/ipykernel_launcher.py:2: RuntimeWarning: invalid value encountered in log\n",
      "  \n"
     ]
    },
    {
     "name": "stdout",
     "output_type": "stream",
     "text": [
      "[CV]  learning_rate=0.8, max_depth=5, min_child_weight=1, subsample=1.0, score=-0.515939, total= 2.9min\n",
      "[CV] learning_rate=0.8, max_depth=5, min_child_weight=3, subsample=0.6 \n"
     ]
    },
    {
     "name": "stderr",
     "output_type": "stream",
     "text": [
      "/Applications/anaconda/envs/tensorflow/lib/python3.6/site-packages/ipykernel_launcher.py:2: RuntimeWarning: invalid value encountered in log\n",
      "  \n"
     ]
    },
    {
     "name": "stdout",
     "output_type": "stream",
     "text": [
      "[CV]  learning_rate=0.8, max_depth=5, min_child_weight=1, subsample=1.0, score=-0.522489, total= 3.0min\n",
      "[CV] learning_rate=0.8, max_depth=5, min_child_weight=3, subsample=0.6 \n"
     ]
    },
    {
     "name": "stderr",
     "output_type": "stream",
     "text": [
      "/Applications/anaconda/envs/tensorflow/lib/python3.6/site-packages/ipykernel_launcher.py:2: RuntimeWarning: invalid value encountered in log\n",
      "  \n"
     ]
    },
    {
     "name": "stdout",
     "output_type": "stream",
     "text": [
      "[CV]  learning_rate=0.8, max_depth=5, min_child_weight=1, subsample=1.0, score=-0.547679, total= 3.0min\n",
      "[CV] learning_rate=0.8, max_depth=5, min_child_weight=3, subsample=0.6 \n"
     ]
    },
    {
     "name": "stderr",
     "output_type": "stream",
     "text": [
      "/Applications/anaconda/envs/tensorflow/lib/python3.6/site-packages/ipykernel_launcher.py:2: RuntimeWarning: invalid value encountered in log\n",
      "  \n"
     ]
    },
    {
     "name": "stdout",
     "output_type": "stream",
     "text": [
      "[CV]  learning_rate=0.8, max_depth=5, min_child_weight=3, subsample=0.6, score=-0.706443, total= 3.0min\n",
      "[CV] learning_rate=0.8, max_depth=5, min_child_weight=3, subsample=0.6 \n"
     ]
    },
    {
     "name": "stderr",
     "output_type": "stream",
     "text": [
      "/Applications/anaconda/envs/tensorflow/lib/python3.6/site-packages/ipykernel_launcher.py:2: RuntimeWarning: invalid value encountered in log\n",
      "  \n"
     ]
    },
    {
     "name": "stdout",
     "output_type": "stream",
     "text": [
      "[CV]  learning_rate=0.8, max_depth=5, min_child_weight=3, subsample=0.6, score=-0.516759, total= 3.0min\n",
      "[CV] learning_rate=0.8, max_depth=5, min_child_weight=3, subsample=0.8 \n"
     ]
    },
    {
     "name": "stderr",
     "output_type": "stream",
     "text": [
      "/Applications/anaconda/envs/tensorflow/lib/python3.6/site-packages/ipykernel_launcher.py:2: RuntimeWarning: invalid value encountered in log\n",
      "  \n"
     ]
    },
    {
     "name": "stdout",
     "output_type": "stream",
     "text": [
      "[CV]  learning_rate=0.8, max_depth=5, min_child_weight=3, subsample=0.6, score=-0.564458, total= 2.9min\n",
      "[CV] learning_rate=0.8, max_depth=5, min_child_weight=3, subsample=0.8 \n"
     ]
    },
    {
     "name": "stderr",
     "output_type": "stream",
     "text": [
      "/Applications/anaconda/envs/tensorflow/lib/python3.6/site-packages/ipykernel_launcher.py:2: RuntimeWarning: invalid value encountered in log\n",
      "  \n"
     ]
    },
    {
     "name": "stdout",
     "output_type": "stream",
     "text": [
      "[CV]  learning_rate=0.8, max_depth=5, min_child_weight=3, subsample=0.6, score=-0.534818, total= 2.9min\n",
      "[CV] learning_rate=0.8, max_depth=5, min_child_weight=3, subsample=0.8 \n"
     ]
    },
    {
     "name": "stderr",
     "output_type": "stream",
     "text": [
      "[Parallel(n_jobs=-1)]: Done 154 tasks      | elapsed: 269.5min\n",
      "/Applications/anaconda/envs/tensorflow/lib/python3.6/site-packages/ipykernel_launcher.py:2: RuntimeWarning: invalid value encountered in log\n",
      "  \n"
     ]
    },
    {
     "name": "stdout",
     "output_type": "stream",
     "text": [
      "[CV]  learning_rate=0.8, max_depth=5, min_child_weight=3, subsample=0.6, score=-0.556374, total= 2.9min\n",
      "[CV] learning_rate=0.8, max_depth=5, min_child_weight=3, subsample=0.8 \n"
     ]
    },
    {
     "name": "stderr",
     "output_type": "stream",
     "text": [
      "/Applications/anaconda/envs/tensorflow/lib/python3.6/site-packages/ipykernel_launcher.py:2: RuntimeWarning: invalid value encountered in log\n",
      "  \n"
     ]
    },
    {
     "name": "stdout",
     "output_type": "stream",
     "text": [
      "[CV]  learning_rate=0.8, max_depth=5, min_child_weight=3, subsample=0.8, score=-0.693092, total= 2.9min\n",
      "[CV] learning_rate=0.8, max_depth=5, min_child_weight=3, subsample=0.8 \n"
     ]
    },
    {
     "name": "stderr",
     "output_type": "stream",
     "text": [
      "/Applications/anaconda/envs/tensorflow/lib/python3.6/site-packages/ipykernel_launcher.py:2: RuntimeWarning: invalid value encountered in log\n",
      "  \n"
     ]
    },
    {
     "name": "stdout",
     "output_type": "stream",
     "text": [
      "[CV]  learning_rate=0.8, max_depth=5, min_child_weight=3, subsample=0.8, score=-0.526343, total= 2.9min\n",
      "[CV] learning_rate=0.8, max_depth=5, min_child_weight=3, subsample=1.0 \n"
     ]
    },
    {
     "name": "stderr",
     "output_type": "stream",
     "text": [
      "/Applications/anaconda/envs/tensorflow/lib/python3.6/site-packages/ipykernel_launcher.py:2: RuntimeWarning: invalid value encountered in log\n",
      "  \n"
     ]
    },
    {
     "name": "stdout",
     "output_type": "stream",
     "text": [
      "[CV]  learning_rate=0.8, max_depth=5, min_child_weight=3, subsample=0.8, score=-0.553092, total= 2.9min\n",
      "[CV] learning_rate=0.8, max_depth=5, min_child_weight=3, subsample=1.0 \n"
     ]
    },
    {
     "name": "stderr",
     "output_type": "stream",
     "text": [
      "/Applications/anaconda/envs/tensorflow/lib/python3.6/site-packages/ipykernel_launcher.py:2: RuntimeWarning: invalid value encountered in log\n",
      "  \n"
     ]
    },
    {
     "name": "stdout",
     "output_type": "stream",
     "text": [
      "[CV]  learning_rate=0.8, max_depth=5, min_child_weight=3, subsample=0.8, score=-0.531245, total= 2.9min\n",
      "[CV] learning_rate=0.8, max_depth=5, min_child_weight=3, subsample=1.0 \n"
     ]
    },
    {
     "name": "stderr",
     "output_type": "stream",
     "text": [
      "/Applications/anaconda/envs/tensorflow/lib/python3.6/site-packages/ipykernel_launcher.py:2: RuntimeWarning: invalid value encountered in log\n",
      "  \n"
     ]
    },
    {
     "name": "stdout",
     "output_type": "stream",
     "text": [
      "[CV]  learning_rate=0.8, max_depth=5, min_child_weight=3, subsample=0.8, score=-0.556415, total= 2.9min\n",
      "[CV] learning_rate=0.8, max_depth=5, min_child_weight=3, subsample=1.0 \n"
     ]
    },
    {
     "name": "stderr",
     "output_type": "stream",
     "text": [
      "/Applications/anaconda/envs/tensorflow/lib/python3.6/site-packages/ipykernel_launcher.py:2: RuntimeWarning: invalid value encountered in log\n",
      "  \n"
     ]
    },
    {
     "name": "stdout",
     "output_type": "stream",
     "text": [
      "[CV]  learning_rate=0.8, max_depth=5, min_child_weight=3, subsample=1.0, score=-0.668148, total= 2.9min\n",
      "[CV] learning_rate=0.8, max_depth=5, min_child_weight=3, subsample=1.0 \n"
     ]
    },
    {
     "name": "stderr",
     "output_type": "stream",
     "text": [
      "/Applications/anaconda/envs/tensorflow/lib/python3.6/site-packages/ipykernel_launcher.py:2: RuntimeWarning: invalid value encountered in log\n",
      "  \n"
     ]
    },
    {
     "name": "stdout",
     "output_type": "stream",
     "text": [
      "[CV]  learning_rate=0.8, max_depth=5, min_child_weight=3, subsample=1.0, score=-0.492300, total= 2.9min\n",
      "[CV] learning_rate=0.8, max_depth=5, min_child_weight=5, subsample=0.6 \n"
     ]
    },
    {
     "name": "stderr",
     "output_type": "stream",
     "text": [
      "/Applications/anaconda/envs/tensorflow/lib/python3.6/site-packages/ipykernel_launcher.py:2: RuntimeWarning: invalid value encountered in log\n",
      "  \n"
     ]
    },
    {
     "name": "stdout",
     "output_type": "stream",
     "text": [
      "[CV]  learning_rate=0.8, max_depth=5, min_child_weight=3, subsample=1.0, score=-0.537181, total= 2.9min\n",
      "[CV] learning_rate=0.8, max_depth=5, min_child_weight=5, subsample=0.6 \n"
     ]
    },
    {
     "name": "stderr",
     "output_type": "stream",
     "text": [
      "/Applications/anaconda/envs/tensorflow/lib/python3.6/site-packages/ipykernel_launcher.py:2: RuntimeWarning: invalid value encountered in log\n",
      "  \n"
     ]
    },
    {
     "name": "stdout",
     "output_type": "stream",
     "text": [
      "[CV]  learning_rate=0.8, max_depth=5, min_child_weight=3, subsample=1.0, score=-0.501374, total= 2.9min\n",
      "[CV] learning_rate=0.8, max_depth=5, min_child_weight=5, subsample=0.6 \n"
     ]
    },
    {
     "name": "stderr",
     "output_type": "stream",
     "text": [
      "/Applications/anaconda/envs/tensorflow/lib/python3.6/site-packages/ipykernel_launcher.py:2: RuntimeWarning: invalid value encountered in log\n",
      "  \n"
     ]
    },
    {
     "name": "stdout",
     "output_type": "stream",
     "text": [
      "[CV]  learning_rate=0.8, max_depth=5, min_child_weight=3, subsample=1.0, score=-0.492932, total= 2.9min\n",
      "[CV] learning_rate=0.8, max_depth=5, min_child_weight=5, subsample=0.6 \n"
     ]
    },
    {
     "name": "stderr",
     "output_type": "stream",
     "text": [
      "/Applications/anaconda/envs/tensorflow/lib/python3.6/site-packages/ipykernel_launcher.py:2: RuntimeWarning: invalid value encountered in log\n",
      "  \n"
     ]
    },
    {
     "name": "stdout",
     "output_type": "stream",
     "text": [
      "[CV]  learning_rate=0.8, max_depth=5, min_child_weight=5, subsample=0.6, score=-0.698879, total= 2.9min\n",
      "[CV] learning_rate=0.8, max_depth=5, min_child_weight=5, subsample=0.6 \n"
     ]
    },
    {
     "name": "stderr",
     "output_type": "stream",
     "text": [
      "/Applications/anaconda/envs/tensorflow/lib/python3.6/site-packages/ipykernel_launcher.py:2: RuntimeWarning: invalid value encountered in log\n",
      "  \n"
     ]
    },
    {
     "name": "stdout",
     "output_type": "stream",
     "text": [
      "[CV]  learning_rate=0.8, max_depth=5, min_child_weight=5, subsample=0.6, score=-0.539766, total= 2.9min\n",
      "[CV] learning_rate=0.8, max_depth=5, min_child_weight=5, subsample=0.8 \n"
     ]
    },
    {
     "name": "stderr",
     "output_type": "stream",
     "text": [
      "/Applications/anaconda/envs/tensorflow/lib/python3.6/site-packages/ipykernel_launcher.py:2: RuntimeWarning: invalid value encountered in log\n",
      "  \n"
     ]
    },
    {
     "name": "stdout",
     "output_type": "stream",
     "text": [
      "[CV]  learning_rate=0.8, max_depth=5, min_child_weight=5, subsample=0.6, score=-0.573172, total= 2.9min\n",
      "[CV] learning_rate=0.8, max_depth=5, min_child_weight=5, subsample=0.8 \n"
     ]
    },
    {
     "name": "stderr",
     "output_type": "stream",
     "text": [
      "/Applications/anaconda/envs/tensorflow/lib/python3.6/site-packages/ipykernel_launcher.py:2: RuntimeWarning: invalid value encountered in log\n",
      "  \n"
     ]
    },
    {
     "name": "stdout",
     "output_type": "stream",
     "text": [
      "[CV]  learning_rate=0.8, max_depth=5, min_child_weight=5, subsample=0.6, score=-0.526481, total= 3.1min\n",
      "[CV] learning_rate=0.8, max_depth=5, min_child_weight=5, subsample=0.8 \n"
     ]
    },
    {
     "name": "stderr",
     "output_type": "stream",
     "text": [
      "/Applications/anaconda/envs/tensorflow/lib/python3.6/site-packages/ipykernel_launcher.py:2: RuntimeWarning: invalid value encountered in log\n",
      "  \n"
     ]
    },
    {
     "name": "stdout",
     "output_type": "stream",
     "text": [
      "[CV]  learning_rate=0.8, max_depth=5, min_child_weight=5, subsample=0.6, score=-0.545666, total= 3.1min\n",
      "[CV] learning_rate=0.8, max_depth=5, min_child_weight=5, subsample=0.8 \n"
     ]
    },
    {
     "name": "stderr",
     "output_type": "stream",
     "text": [
      "/Applications/anaconda/envs/tensorflow/lib/python3.6/site-packages/ipykernel_launcher.py:2: RuntimeWarning: invalid value encountered in log\n",
      "  \n"
     ]
    },
    {
     "name": "stdout",
     "output_type": "stream",
     "text": [
      "[CV]  learning_rate=0.8, max_depth=5, min_child_weight=5, subsample=0.8, score=-0.690302, total= 3.1min\n",
      "[CV] learning_rate=0.8, max_depth=5, min_child_weight=5, subsample=0.8 \n"
     ]
    },
    {
     "name": "stderr",
     "output_type": "stream",
     "text": [
      "/Applications/anaconda/envs/tensorflow/lib/python3.6/site-packages/ipykernel_launcher.py:2: RuntimeWarning: invalid value encountered in log\n",
      "  \n"
     ]
    },
    {
     "name": "stdout",
     "output_type": "stream",
     "text": [
      "[CV]  learning_rate=0.8, max_depth=5, min_child_weight=5, subsample=0.8, score=-0.490635, total= 2.8min\n",
      "[CV] learning_rate=0.8, max_depth=5, min_child_weight=5, subsample=1.0 \n"
     ]
    },
    {
     "name": "stderr",
     "output_type": "stream",
     "text": [
      "/Applications/anaconda/envs/tensorflow/lib/python3.6/site-packages/ipykernel_launcher.py:2: RuntimeWarning: invalid value encountered in log\n",
      "  \n"
     ]
    },
    {
     "name": "stdout",
     "output_type": "stream",
     "text": [
      "[CV]  learning_rate=0.8, max_depth=5, min_child_weight=5, subsample=0.8, score=-0.536825, total= 2.5min\n",
      "[CV] learning_rate=0.8, max_depth=5, min_child_weight=5, subsample=1.0 \n"
     ]
    },
    {
     "name": "stderr",
     "output_type": "stream",
     "text": [
      "[Parallel(n_jobs=-1)]: Done 173 tasks      | elapsed: 283.6min\n",
      "/Applications/anaconda/envs/tensorflow/lib/python3.6/site-packages/ipykernel_launcher.py:2: RuntimeWarning: invalid value encountered in log\n",
      "  \n"
     ]
    },
    {
     "name": "stdout",
     "output_type": "stream",
     "text": [
      "[CV]  learning_rate=0.8, max_depth=5, min_child_weight=5, subsample=0.8, score=-0.509260, total= 2.4min\n",
      "[CV] learning_rate=0.8, max_depth=5, min_child_weight=5, subsample=1.0 \n"
     ]
    },
    {
     "name": "stderr",
     "output_type": "stream",
     "text": [
      "/Applications/anaconda/envs/tensorflow/lib/python3.6/site-packages/ipykernel_launcher.py:2: RuntimeWarning: invalid value encountered in log\n",
      "  \n"
     ]
    },
    {
     "name": "stdout",
     "output_type": "stream",
     "text": [
      "[CV]  learning_rate=0.8, max_depth=5, min_child_weight=5, subsample=0.8, score=-0.492941, total= 2.3min\n",
      "[CV] learning_rate=0.8, max_depth=5, min_child_weight=5, subsample=1.0 \n"
     ]
    },
    {
     "name": "stderr",
     "output_type": "stream",
     "text": [
      "/Applications/anaconda/envs/tensorflow/lib/python3.6/site-packages/ipykernel_launcher.py:2: RuntimeWarning: invalid value encountered in log\n",
      "  \n"
     ]
    },
    {
     "name": "stdout",
     "output_type": "stream",
     "text": [
      "[CV]  learning_rate=0.8, max_depth=5, min_child_weight=5, subsample=1.0, score=-0.662229, total= 2.3min\n",
      "[CV] learning_rate=0.8, max_depth=5, min_child_weight=5, subsample=1.0 \n"
     ]
    },
    {
     "name": "stderr",
     "output_type": "stream",
     "text": [
      "/Applications/anaconda/envs/tensorflow/lib/python3.6/site-packages/ipykernel_launcher.py:2: RuntimeWarning: invalid value encountered in log\n",
      "  \n"
     ]
    },
    {
     "name": "stdout",
     "output_type": "stream",
     "text": [
      "[CV]  learning_rate=0.8, max_depth=5, min_child_weight=5, subsample=1.0, score=-0.479096, total= 2.3min\n",
      "[CV] learning_rate=0.8, max_depth=7, min_child_weight=1, subsample=0.6 \n"
     ]
    },
    {
     "name": "stderr",
     "output_type": "stream",
     "text": [
      "/Applications/anaconda/envs/tensorflow/lib/python3.6/site-packages/ipykernel_launcher.py:2: RuntimeWarning: invalid value encountered in log\n",
      "  \n"
     ]
    },
    {
     "name": "stdout",
     "output_type": "stream",
     "text": [
      "[CV]  learning_rate=0.8, max_depth=5, min_child_weight=5, subsample=1.0, score=-0.523585, total= 2.3min\n",
      "[CV] learning_rate=0.8, max_depth=7, min_child_weight=1, subsample=0.6 \n"
     ]
    },
    {
     "name": "stderr",
     "output_type": "stream",
     "text": [
      "/Applications/anaconda/envs/tensorflow/lib/python3.6/site-packages/ipykernel_launcher.py:2: RuntimeWarning: invalid value encountered in log\n",
      "  \n"
     ]
    },
    {
     "name": "stdout",
     "output_type": "stream",
     "text": [
      "[CV]  learning_rate=0.8, max_depth=5, min_child_weight=5, subsample=1.0, score=-0.498612, total= 2.3min\n",
      "[CV] learning_rate=0.8, max_depth=7, min_child_weight=1, subsample=0.6 \n"
     ]
    },
    {
     "name": "stderr",
     "output_type": "stream",
     "text": [
      "/Applications/anaconda/envs/tensorflow/lib/python3.6/site-packages/ipykernel_launcher.py:2: RuntimeWarning: invalid value encountered in log\n",
      "  \n"
     ]
    },
    {
     "name": "stdout",
     "output_type": "stream",
     "text": [
      "[CV]  learning_rate=0.8, max_depth=5, min_child_weight=5, subsample=1.0, score=-0.483920, total= 2.3min\n",
      "[CV] learning_rate=0.8, max_depth=7, min_child_weight=1, subsample=0.6 \n"
     ]
    },
    {
     "name": "stderr",
     "output_type": "stream",
     "text": [
      "/Applications/anaconda/envs/tensorflow/lib/python3.6/site-packages/ipykernel_launcher.py:2: RuntimeWarning: invalid value encountered in log\n",
      "  \n"
     ]
    },
    {
     "name": "stdout",
     "output_type": "stream",
     "text": [
      "[CV]  learning_rate=0.8, max_depth=7, min_child_weight=1, subsample=0.6, score=-0.736570, total= 3.2min\n",
      "[CV] learning_rate=0.8, max_depth=7, min_child_weight=1, subsample=0.6 \n"
     ]
    },
    {
     "name": "stderr",
     "output_type": "stream",
     "text": [
      "/Applications/anaconda/envs/tensorflow/lib/python3.6/site-packages/ipykernel_launcher.py:2: RuntimeWarning: invalid value encountered in log\n",
      "  \n"
     ]
    },
    {
     "name": "stdout",
     "output_type": "stream",
     "text": [
      "[CV]  learning_rate=0.8, max_depth=7, min_child_weight=1, subsample=0.6, score=-0.580103, total= 3.2min\n",
      "[CV] learning_rate=0.8, max_depth=7, min_child_weight=1, subsample=0.8 \n"
     ]
    },
    {
     "name": "stderr",
     "output_type": "stream",
     "text": [
      "/Applications/anaconda/envs/tensorflow/lib/python3.6/site-packages/ipykernel_launcher.py:2: RuntimeWarning: invalid value encountered in log\n",
      "  \n"
     ]
    },
    {
     "name": "stdout",
     "output_type": "stream",
     "text": [
      "[CV]  learning_rate=0.8, max_depth=7, min_child_weight=1, subsample=0.6, score=-0.615189, total= 3.2min\n",
      "[CV] learning_rate=0.8, max_depth=7, min_child_weight=1, subsample=0.8 \n"
     ]
    },
    {
     "name": "stderr",
     "output_type": "stream",
     "text": [
      "/Applications/anaconda/envs/tensorflow/lib/python3.6/site-packages/ipykernel_launcher.py:2: RuntimeWarning: invalid value encountered in log\n",
      "  \n"
     ]
    },
    {
     "name": "stdout",
     "output_type": "stream",
     "text": [
      "[CV]  learning_rate=0.8, max_depth=7, min_child_weight=1, subsample=0.6, score=-0.567920, total= 3.2min\n",
      "[CV] learning_rate=0.8, max_depth=7, min_child_weight=1, subsample=0.8 \n"
     ]
    },
    {
     "name": "stderr",
     "output_type": "stream",
     "text": [
      "/Applications/anaconda/envs/tensorflow/lib/python3.6/site-packages/ipykernel_launcher.py:2: RuntimeWarning: invalid value encountered in log\n",
      "  \n"
     ]
    },
    {
     "name": "stdout",
     "output_type": "stream",
     "text": [
      "[CV]  learning_rate=0.8, max_depth=7, min_child_weight=1, subsample=0.6, score=-0.674723, total= 3.1min\n",
      "[CV] learning_rate=0.8, max_depth=7, min_child_weight=1, subsample=0.8 \n"
     ]
    },
    {
     "name": "stderr",
     "output_type": "stream",
     "text": [
      "/Applications/anaconda/envs/tensorflow/lib/python3.6/site-packages/ipykernel_launcher.py:2: RuntimeWarning: invalid value encountered in log\n",
      "  \n"
     ]
    },
    {
     "name": "stdout",
     "output_type": "stream",
     "text": [
      "[CV]  learning_rate=0.8, max_depth=7, min_child_weight=1, subsample=0.8, score=-0.735985, total= 3.2min\n",
      "[CV] learning_rate=0.8, max_depth=7, min_child_weight=1, subsample=0.8 \n"
     ]
    },
    {
     "name": "stderr",
     "output_type": "stream",
     "text": [
      "/Applications/anaconda/envs/tensorflow/lib/python3.6/site-packages/ipykernel_launcher.py:2: RuntimeWarning: invalid value encountered in log\n",
      "  \n"
     ]
    },
    {
     "name": "stdout",
     "output_type": "stream",
     "text": [
      "[CV]  learning_rate=0.8, max_depth=7, min_child_weight=1, subsample=0.8, score=-0.544345, total= 3.2min\n",
      "[CV] learning_rate=0.8, max_depth=7, min_child_weight=1, subsample=1.0 \n"
     ]
    },
    {
     "name": "stderr",
     "output_type": "stream",
     "text": [
      "/Applications/anaconda/envs/tensorflow/lib/python3.6/site-packages/ipykernel_launcher.py:2: RuntimeWarning: invalid value encountered in log\n",
      "  \n"
     ]
    },
    {
     "name": "stdout",
     "output_type": "stream",
     "text": [
      "[CV]  learning_rate=0.8, max_depth=7, min_child_weight=1, subsample=0.8, score=-0.586025, total= 3.1min\n",
      "[CV] learning_rate=0.8, max_depth=7, min_child_weight=1, subsample=1.0 \n"
     ]
    },
    {
     "name": "stderr",
     "output_type": "stream",
     "text": [
      "/Applications/anaconda/envs/tensorflow/lib/python3.6/site-packages/ipykernel_launcher.py:2: RuntimeWarning: invalid value encountered in log\n",
      "  \n"
     ]
    },
    {
     "name": "stdout",
     "output_type": "stream",
     "text": [
      "[CV]  learning_rate=0.8, max_depth=7, min_child_weight=1, subsample=0.8, score=-0.549011, total= 3.1min\n",
      "[CV] learning_rate=0.8, max_depth=7, min_child_weight=1, subsample=1.0 \n"
     ]
    },
    {
     "name": "stderr",
     "output_type": "stream",
     "text": [
      "/Applications/anaconda/envs/tensorflow/lib/python3.6/site-packages/ipykernel_launcher.py:2: RuntimeWarning: invalid value encountered in log\n",
      "  \n"
     ]
    },
    {
     "name": "stdout",
     "output_type": "stream",
     "text": [
      "[CV]  learning_rate=0.8, max_depth=7, min_child_weight=1, subsample=0.8, score=-0.603625, total= 3.2min\n",
      "[CV] learning_rate=0.8, max_depth=7, min_child_weight=1, subsample=1.0 \n"
     ]
    },
    {
     "name": "stderr",
     "output_type": "stream",
     "text": [
      "/Applications/anaconda/envs/tensorflow/lib/python3.6/site-packages/ipykernel_launcher.py:2: RuntimeWarning: invalid value encountered in log\n",
      "  \n"
     ]
    },
    {
     "name": "stdout",
     "output_type": "stream",
     "text": [
      "[CV]  learning_rate=0.8, max_depth=7, min_child_weight=1, subsample=1.0, score=-0.702234, total= 3.2min\n",
      "[CV] learning_rate=0.8, max_depth=7, min_child_weight=1, subsample=1.0 \n"
     ]
    },
    {
     "name": "stderr",
     "output_type": "stream",
     "text": [
      "/Applications/anaconda/envs/tensorflow/lib/python3.6/site-packages/ipykernel_launcher.py:2: RuntimeWarning: invalid value encountered in log\n",
      "  \n"
     ]
    },
    {
     "name": "stdout",
     "output_type": "stream",
     "text": [
      "[CV]  learning_rate=0.8, max_depth=7, min_child_weight=1, subsample=1.0, score=-0.522950, total= 3.2min\n",
      "[CV] learning_rate=0.8, max_depth=7, min_child_weight=3, subsample=0.6 \n"
     ]
    },
    {
     "name": "stderr",
     "output_type": "stream",
     "text": [
      "[Parallel(n_jobs=-1)]: Done 192 tasks      | elapsed: 297.3min\n",
      "/Applications/anaconda/envs/tensorflow/lib/python3.6/site-packages/ipykernel_launcher.py:2: RuntimeWarning: invalid value encountered in log\n",
      "  \n"
     ]
    },
    {
     "name": "stdout",
     "output_type": "stream",
     "text": [
      "[CV]  learning_rate=0.8, max_depth=7, min_child_weight=1, subsample=1.0, score=-0.541217, total= 3.2min\n",
      "[CV] learning_rate=0.8, max_depth=7, min_child_weight=3, subsample=0.6 \n"
     ]
    },
    {
     "name": "stderr",
     "output_type": "stream",
     "text": [
      "/Applications/anaconda/envs/tensorflow/lib/python3.6/site-packages/ipykernel_launcher.py:2: RuntimeWarning: invalid value encountered in log\n",
      "  \n"
     ]
    },
    {
     "name": "stdout",
     "output_type": "stream",
     "text": [
      "[CV]  learning_rate=0.8, max_depth=7, min_child_weight=1, subsample=1.0, score=-0.520385, total= 3.2min\n",
      "[CV] learning_rate=0.8, max_depth=7, min_child_weight=3, subsample=0.6 \n"
     ]
    },
    {
     "name": "stderr",
     "output_type": "stream",
     "text": [
      "/Applications/anaconda/envs/tensorflow/lib/python3.6/site-packages/ipykernel_launcher.py:2: RuntimeWarning: invalid value encountered in log\n",
      "  \n"
     ]
    },
    {
     "name": "stdout",
     "output_type": "stream",
     "text": [
      "[CV]  learning_rate=0.8, max_depth=7, min_child_weight=1, subsample=1.0, score=-0.608599, total= 3.2min\n",
      "[CV] learning_rate=0.8, max_depth=7, min_child_weight=3, subsample=0.6 \n"
     ]
    },
    {
     "name": "stderr",
     "output_type": "stream",
     "text": [
      "/Applications/anaconda/envs/tensorflow/lib/python3.6/site-packages/ipykernel_launcher.py:2: RuntimeWarning: invalid value encountered in log\n",
      "  \n"
     ]
    },
    {
     "name": "stdout",
     "output_type": "stream",
     "text": [
      "[CV]  learning_rate=0.8, max_depth=7, min_child_weight=3, subsample=0.6, score=-0.741515, total= 3.1min\n",
      "[CV] learning_rate=0.8, max_depth=7, min_child_weight=3, subsample=0.6 \n"
     ]
    },
    {
     "name": "stderr",
     "output_type": "stream",
     "text": [
      "/Applications/anaconda/envs/tensorflow/lib/python3.6/site-packages/ipykernel_launcher.py:2: RuntimeWarning: invalid value encountered in log\n",
      "  \n"
     ]
    },
    {
     "name": "stdout",
     "output_type": "stream",
     "text": [
      "[CV]  learning_rate=0.8, max_depth=7, min_child_weight=3, subsample=0.6, score=-0.574179, total= 3.2min\n",
      "[CV] learning_rate=0.8, max_depth=7, min_child_weight=3, subsample=0.8 \n"
     ]
    },
    {
     "name": "stderr",
     "output_type": "stream",
     "text": [
      "/Applications/anaconda/envs/tensorflow/lib/python3.6/site-packages/ipykernel_launcher.py:2: RuntimeWarning: invalid value encountered in log\n",
      "  \n"
     ]
    },
    {
     "name": "stdout",
     "output_type": "stream",
     "text": [
      "[CV]  learning_rate=0.8, max_depth=7, min_child_weight=3, subsample=0.6, score=-0.632609, total= 3.2min\n",
      "[CV] learning_rate=0.8, max_depth=7, min_child_weight=3, subsample=0.8 \n"
     ]
    },
    {
     "name": "stderr",
     "output_type": "stream",
     "text": [
      "/Applications/anaconda/envs/tensorflow/lib/python3.6/site-packages/ipykernel_launcher.py:2: RuntimeWarning: invalid value encountered in log\n",
      "  \n"
     ]
    },
    {
     "name": "stdout",
     "output_type": "stream",
     "text": [
      "[CV]  learning_rate=0.8, max_depth=7, min_child_weight=3, subsample=0.6, score=-0.559614, total= 3.2min\n",
      "[CV] learning_rate=0.8, max_depth=7, min_child_weight=3, subsample=0.8 \n"
     ]
    },
    {
     "name": "stderr",
     "output_type": "stream",
     "text": [
      "/Applications/anaconda/envs/tensorflow/lib/python3.6/site-packages/ipykernel_launcher.py:2: RuntimeWarning: invalid value encountered in log\n",
      "  \n"
     ]
    },
    {
     "name": "stdout",
     "output_type": "stream",
     "text": [
      "[CV]  learning_rate=0.8, max_depth=7, min_child_weight=3, subsample=0.6, score=-0.708969, total= 3.3min\n",
      "[CV] learning_rate=0.8, max_depth=7, min_child_weight=3, subsample=0.8 \n"
     ]
    },
    {
     "name": "stderr",
     "output_type": "stream",
     "text": [
      "/Applications/anaconda/envs/tensorflow/lib/python3.6/site-packages/ipykernel_launcher.py:2: RuntimeWarning: invalid value encountered in log\n",
      "  \n"
     ]
    },
    {
     "name": "stdout",
     "output_type": "stream",
     "text": [
      "[CV]  learning_rate=0.8, max_depth=7, min_child_weight=3, subsample=0.8, score=-0.743286, total= 3.3min\n",
      "[CV] learning_rate=0.8, max_depth=7, min_child_weight=3, subsample=0.8 \n"
     ]
    },
    {
     "name": "stderr",
     "output_type": "stream",
     "text": [
      "/Applications/anaconda/envs/tensorflow/lib/python3.6/site-packages/ipykernel_launcher.py:2: RuntimeWarning: invalid value encountered in log\n",
      "  \n"
     ]
    },
    {
     "name": "stdout",
     "output_type": "stream",
     "text": [
      "[CV]  learning_rate=0.8, max_depth=7, min_child_weight=3, subsample=0.8, score=-0.546825, total= 3.3min\n",
      "[CV] learning_rate=0.8, max_depth=7, min_child_weight=3, subsample=1.0 \n"
     ]
    },
    {
     "name": "stderr",
     "output_type": "stream",
     "text": [
      "/Applications/anaconda/envs/tensorflow/lib/python3.6/site-packages/ipykernel_launcher.py:2: RuntimeWarning: invalid value encountered in log\n",
      "  \n"
     ]
    },
    {
     "name": "stdout",
     "output_type": "stream",
     "text": [
      "[CV]  learning_rate=0.8, max_depth=7, min_child_weight=3, subsample=0.8, score=-0.592975, total= 3.2min\n",
      "[CV] learning_rate=0.8, max_depth=7, min_child_weight=3, subsample=1.0 \n"
     ]
    },
    {
     "name": "stderr",
     "output_type": "stream",
     "text": [
      "/Applications/anaconda/envs/tensorflow/lib/python3.6/site-packages/ipykernel_launcher.py:2: RuntimeWarning: invalid value encountered in log\n",
      "  \n"
     ]
    },
    {
     "name": "stdout",
     "output_type": "stream",
     "text": [
      "[CV]  learning_rate=0.8, max_depth=7, min_child_weight=3, subsample=0.8, score=-0.560530, total= 3.2min\n",
      "[CV] learning_rate=0.8, max_depth=7, min_child_weight=3, subsample=1.0 \n"
     ]
    },
    {
     "name": "stderr",
     "output_type": "stream",
     "text": [
      "/Applications/anaconda/envs/tensorflow/lib/python3.6/site-packages/ipykernel_launcher.py:2: RuntimeWarning: invalid value encountered in log\n",
      "  \n"
     ]
    },
    {
     "name": "stdout",
     "output_type": "stream",
     "text": [
      "[CV]  learning_rate=0.8, max_depth=7, min_child_weight=3, subsample=0.8, score=-0.620330, total= 3.2min\n",
      "[CV] learning_rate=0.8, max_depth=7, min_child_weight=3, subsample=1.0 \n"
     ]
    },
    {
     "name": "stderr",
     "output_type": "stream",
     "text": [
      "/Applications/anaconda/envs/tensorflow/lib/python3.6/site-packages/ipykernel_launcher.py:2: RuntimeWarning: invalid value encountered in log\n",
      "  \n"
     ]
    },
    {
     "name": "stdout",
     "output_type": "stream",
     "text": [
      "[CV]  learning_rate=0.8, max_depth=7, min_child_weight=3, subsample=1.0, score=-0.732276, total= 3.2min\n",
      "[CV] learning_rate=0.8, max_depth=7, min_child_weight=3, subsample=1.0 \n"
     ]
    },
    {
     "name": "stderr",
     "output_type": "stream",
     "text": [
      "/Applications/anaconda/envs/tensorflow/lib/python3.6/site-packages/ipykernel_launcher.py:2: RuntimeWarning: invalid value encountered in log\n",
      "  \n"
     ]
    },
    {
     "name": "stdout",
     "output_type": "stream",
     "text": [
      "[CV]  learning_rate=0.8, max_depth=7, min_child_weight=3, subsample=1.0, score=-0.518470, total= 3.2min\n",
      "[CV] learning_rate=0.8, max_depth=7, min_child_weight=5, subsample=0.6 \n"
     ]
    },
    {
     "name": "stderr",
     "output_type": "stream",
     "text": [
      "/Applications/anaconda/envs/tensorflow/lib/python3.6/site-packages/ipykernel_launcher.py:2: RuntimeWarning: invalid value encountered in log\n",
      "  \n"
     ]
    },
    {
     "name": "stdout",
     "output_type": "stream",
     "text": [
      "[CV]  learning_rate=0.8, max_depth=7, min_child_weight=3, subsample=1.0, score=-0.565145, total= 3.2min\n",
      "[CV] learning_rate=0.8, max_depth=7, min_child_weight=5, subsample=0.6 \n"
     ]
    },
    {
     "name": "stderr",
     "output_type": "stream",
     "text": [
      "/Applications/anaconda/envs/tensorflow/lib/python3.6/site-packages/ipykernel_launcher.py:2: RuntimeWarning: invalid value encountered in log\n",
      "  \n"
     ]
    },
    {
     "name": "stdout",
     "output_type": "stream",
     "text": [
      "[CV]  learning_rate=0.8, max_depth=7, min_child_weight=3, subsample=1.0, score=-0.528628, total= 3.2min\n",
      "[CV] learning_rate=0.8, max_depth=7, min_child_weight=5, subsample=0.6 \n"
     ]
    },
    {
     "name": "stderr",
     "output_type": "stream",
     "text": [
      "/Applications/anaconda/envs/tensorflow/lib/python3.6/site-packages/ipykernel_launcher.py:2: RuntimeWarning: invalid value encountered in log\n",
      "  \n"
     ]
    },
    {
     "name": "stdout",
     "output_type": "stream",
     "text": [
      "[CV]  learning_rate=0.8, max_depth=7, min_child_weight=3, subsample=1.0, score=-0.550593, total= 3.2min\n",
      "[CV] learning_rate=0.8, max_depth=7, min_child_weight=5, subsample=0.6 \n"
     ]
    },
    {
     "name": "stderr",
     "output_type": "stream",
     "text": [
      "/Applications/anaconda/envs/tensorflow/lib/python3.6/site-packages/ipykernel_launcher.py:2: RuntimeWarning: invalid value encountered in log\n",
      "  \n"
     ]
    },
    {
     "name": "stdout",
     "output_type": "stream",
     "text": [
      "[CV]  learning_rate=0.8, max_depth=7, min_child_weight=5, subsample=0.6, score=-0.720951, total= 3.2min\n",
      "[CV] learning_rate=0.8, max_depth=7, min_child_weight=5, subsample=0.6 \n"
     ]
    },
    {
     "name": "stderr",
     "output_type": "stream",
     "text": [
      "/Applications/anaconda/envs/tensorflow/lib/python3.6/site-packages/ipykernel_launcher.py:2: RuntimeWarning: invalid value encountered in log\n",
      "  \n"
     ]
    },
    {
     "name": "stdout",
     "output_type": "stream",
     "text": [
      "[CV]  learning_rate=0.8, max_depth=7, min_child_weight=5, subsample=0.6, score=-0.566149, total= 3.2min\n",
      "[CV] learning_rate=0.8, max_depth=7, min_child_weight=5, subsample=0.8 \n"
     ]
    },
    {
     "name": "stderr",
     "output_type": "stream",
     "text": [
      "/Applications/anaconda/envs/tensorflow/lib/python3.6/site-packages/ipykernel_launcher.py:2: RuntimeWarning: invalid value encountered in log\n",
      "  \n"
     ]
    },
    {
     "name": "stdout",
     "output_type": "stream",
     "text": [
      "[CV]  learning_rate=0.8, max_depth=7, min_child_weight=5, subsample=0.6, score=-0.609606, total= 3.2min\n",
      "[CV] learning_rate=0.8, max_depth=7, min_child_weight=5, subsample=0.8 \n"
     ]
    },
    {
     "name": "stderr",
     "output_type": "stream",
     "text": [
      "[Parallel(n_jobs=-1)]: Done 213 tasks      | elapsed: 314.8min\n",
      "/Applications/anaconda/envs/tensorflow/lib/python3.6/site-packages/ipykernel_launcher.py:2: RuntimeWarning: invalid value encountered in log\n",
      "  \n"
     ]
    },
    {
     "name": "stdout",
     "output_type": "stream",
     "text": [
      "[CV]  learning_rate=0.8, max_depth=7, min_child_weight=5, subsample=0.6, score=-0.577539, total= 3.2min\n",
      "[CV] learning_rate=0.8, max_depth=7, min_child_weight=5, subsample=0.8 \n"
     ]
    },
    {
     "name": "stderr",
     "output_type": "stream",
     "text": [
      "/Applications/anaconda/envs/tensorflow/lib/python3.6/site-packages/ipykernel_launcher.py:2: RuntimeWarning: invalid value encountered in log\n",
      "  \n"
     ]
    },
    {
     "name": "stdout",
     "output_type": "stream",
     "text": [
      "[CV]  learning_rate=0.8, max_depth=7, min_child_weight=5, subsample=0.6, score=-0.609430, total= 3.2min\n",
      "[CV] learning_rate=0.8, max_depth=7, min_child_weight=5, subsample=0.8 \n"
     ]
    },
    {
     "name": "stderr",
     "output_type": "stream",
     "text": [
      "/Applications/anaconda/envs/tensorflow/lib/python3.6/site-packages/ipykernel_launcher.py:2: RuntimeWarning: invalid value encountered in log\n",
      "  \n"
     ]
    },
    {
     "name": "stdout",
     "output_type": "stream",
     "text": [
      "[CV]  learning_rate=0.8, max_depth=7, min_child_weight=5, subsample=0.8, score=-0.734607, total= 3.2min\n",
      "[CV] learning_rate=0.8, max_depth=7, min_child_weight=5, subsample=0.8 \n"
     ]
    },
    {
     "name": "stderr",
     "output_type": "stream",
     "text": [
      "/Applications/anaconda/envs/tensorflow/lib/python3.6/site-packages/ipykernel_launcher.py:2: RuntimeWarning: invalid value encountered in log\n",
      "  \n"
     ]
    },
    {
     "name": "stdout",
     "output_type": "stream",
     "text": [
      "[CV]  learning_rate=0.8, max_depth=7, min_child_weight=5, subsample=0.8, score=-0.535811, total= 3.4min\n",
      "[CV] learning_rate=0.8, max_depth=7, min_child_weight=5, subsample=1.0 \n"
     ]
    },
    {
     "name": "stderr",
     "output_type": "stream",
     "text": [
      "/Applications/anaconda/envs/tensorflow/lib/python3.6/site-packages/ipykernel_launcher.py:2: RuntimeWarning: invalid value encountered in log\n",
      "  \n"
     ]
    },
    {
     "name": "stdout",
     "output_type": "stream",
     "text": [
      "[CV]  learning_rate=0.8, max_depth=7, min_child_weight=5, subsample=0.8, score=-0.583005, total= 3.4min\n",
      "[CV] learning_rate=0.8, max_depth=7, min_child_weight=5, subsample=1.0 \n"
     ]
    },
    {
     "name": "stderr",
     "output_type": "stream",
     "text": [
      "/Applications/anaconda/envs/tensorflow/lib/python3.6/site-packages/ipykernel_launcher.py:2: RuntimeWarning: invalid value encountered in log\n",
      "  \n"
     ]
    },
    {
     "name": "stdout",
     "output_type": "stream",
     "text": [
      "[CV]  learning_rate=0.8, max_depth=7, min_child_weight=5, subsample=0.8, score=-0.549531, total= 3.4min\n",
      "[CV] learning_rate=0.8, max_depth=7, min_child_weight=5, subsample=1.0 \n"
     ]
    },
    {
     "name": "stderr",
     "output_type": "stream",
     "text": [
      "/Applications/anaconda/envs/tensorflow/lib/python3.6/site-packages/ipykernel_launcher.py:2: RuntimeWarning: invalid value encountered in log\n",
      "  \n"
     ]
    },
    {
     "name": "stdout",
     "output_type": "stream",
     "text": [
      "[CV]  learning_rate=0.8, max_depth=7, min_child_weight=5, subsample=0.8, score=-0.639581, total= 3.4min\n",
      "[CV] learning_rate=0.8, max_depth=7, min_child_weight=5, subsample=1.0 \n"
     ]
    },
    {
     "name": "stderr",
     "output_type": "stream",
     "text": [
      "/Applications/anaconda/envs/tensorflow/lib/python3.6/site-packages/ipykernel_launcher.py:2: RuntimeWarning: invalid value encountered in log\n",
      "  \n"
     ]
    },
    {
     "name": "stdout",
     "output_type": "stream",
     "text": [
      "[CV]  learning_rate=0.8, max_depth=7, min_child_weight=5, subsample=1.0, score=-0.704428, total= 3.2min\n",
      "[CV] learning_rate=0.8, max_depth=7, min_child_weight=5, subsample=1.0 \n"
     ]
    },
    {
     "name": "stderr",
     "output_type": "stream",
     "text": [
      "/Applications/anaconda/envs/tensorflow/lib/python3.6/site-packages/ipykernel_launcher.py:2: RuntimeWarning: invalid value encountered in log\n",
      "  \n"
     ]
    },
    {
     "name": "stdout",
     "output_type": "stream",
     "text": [
      "[CV]  learning_rate=0.8, max_depth=7, min_child_weight=5, subsample=1.0, score=-0.529069, total= 3.2min\n",
      "[CV] learning_rate=0.8, max_depth=9, min_child_weight=1, subsample=0.6 \n"
     ]
    },
    {
     "name": "stderr",
     "output_type": "stream",
     "text": [
      "/Applications/anaconda/envs/tensorflow/lib/python3.6/site-packages/ipykernel_launcher.py:2: RuntimeWarning: invalid value encountered in log\n",
      "  \n"
     ]
    },
    {
     "name": "stdout",
     "output_type": "stream",
     "text": [
      "[CV]  learning_rate=0.8, max_depth=7, min_child_weight=5, subsample=1.0, score=-0.553131, total= 3.1min\n",
      "[CV] learning_rate=0.8, max_depth=9, min_child_weight=1, subsample=0.6 \n"
     ]
    },
    {
     "name": "stderr",
     "output_type": "stream",
     "text": [
      "/Applications/anaconda/envs/tensorflow/lib/python3.6/site-packages/ipykernel_launcher.py:2: RuntimeWarning: invalid value encountered in log\n",
      "  \n"
     ]
    },
    {
     "name": "stdout",
     "output_type": "stream",
     "text": [
      "[CV]  learning_rate=0.8, max_depth=7, min_child_weight=5, subsample=1.0, score=-0.523332, total= 3.1min\n",
      "[CV] learning_rate=0.8, max_depth=9, min_child_weight=1, subsample=0.6 \n"
     ]
    },
    {
     "name": "stderr",
     "output_type": "stream",
     "text": [
      "/Applications/anaconda/envs/tensorflow/lib/python3.6/site-packages/ipykernel_launcher.py:2: RuntimeWarning: invalid value encountered in log\n",
      "  \n"
     ]
    },
    {
     "name": "stdout",
     "output_type": "stream",
     "text": [
      "[CV]  learning_rate=0.8, max_depth=7, min_child_weight=5, subsample=1.0, score=-0.552514, total= 3.2min\n",
      "[CV] learning_rate=0.8, max_depth=9, min_child_weight=1, subsample=0.6 \n"
     ]
    },
    {
     "name": "stderr",
     "output_type": "stream",
     "text": [
      "/Applications/anaconda/envs/tensorflow/lib/python3.6/site-packages/ipykernel_launcher.py:2: RuntimeWarning: invalid value encountered in log\n",
      "  \n"
     ]
    },
    {
     "name": "stdout",
     "output_type": "stream",
     "text": [
      "[CV]  learning_rate=0.8, max_depth=9, min_child_weight=1, subsample=0.6, score=-0.779929, total= 4.1min\n",
      "[CV] learning_rate=0.8, max_depth=9, min_child_weight=1, subsample=0.6 \n"
     ]
    },
    {
     "name": "stderr",
     "output_type": "stream",
     "text": [
      "/Applications/anaconda/envs/tensorflow/lib/python3.6/site-packages/ipykernel_launcher.py:2: RuntimeWarning: invalid value encountered in log\n",
      "  \n"
     ]
    },
    {
     "name": "stdout",
     "output_type": "stream",
     "text": [
      "[CV]  learning_rate=0.8, max_depth=9, min_child_weight=1, subsample=0.6, score=-0.603432, total= 4.1min\n",
      "[CV] learning_rate=0.8, max_depth=9, min_child_weight=1, subsample=0.8 \n"
     ]
    },
    {
     "name": "stderr",
     "output_type": "stream",
     "text": [
      "/Applications/anaconda/envs/tensorflow/lib/python3.6/site-packages/ipykernel_launcher.py:2: RuntimeWarning: invalid value encountered in log\n",
      "  \n"
     ]
    },
    {
     "name": "stdout",
     "output_type": "stream",
     "text": [
      "[CV]  learning_rate=0.8, max_depth=9, min_child_weight=1, subsample=0.6, score=-0.662856, total= 4.1min\n",
      "[CV] learning_rate=0.8, max_depth=9, min_child_weight=1, subsample=0.8 \n"
     ]
    },
    {
     "name": "stderr",
     "output_type": "stream",
     "text": [
      "/Applications/anaconda/envs/tensorflow/lib/python3.6/site-packages/ipykernel_launcher.py:2: RuntimeWarning: invalid value encountered in log\n",
      "  \n"
     ]
    },
    {
     "name": "stdout",
     "output_type": "stream",
     "text": [
      "[CV]  learning_rate=0.8, max_depth=9, min_child_weight=1, subsample=0.6, score=-0.614017, total= 4.1min\n",
      "[CV] learning_rate=0.8, max_depth=9, min_child_weight=1, subsample=0.8 \n"
     ]
    },
    {
     "name": "stderr",
     "output_type": "stream",
     "text": [
      "/Applications/anaconda/envs/tensorflow/lib/python3.6/site-packages/ipykernel_launcher.py:2: RuntimeWarning: invalid value encountered in log\n",
      "  \n"
     ]
    },
    {
     "name": "stdout",
     "output_type": "stream",
     "text": [
      "[CV]  learning_rate=0.8, max_depth=9, min_child_weight=1, subsample=0.6, score=-0.708068, total= 4.0min\n",
      "[CV] learning_rate=0.8, max_depth=9, min_child_weight=1, subsample=0.8 \n"
     ]
    },
    {
     "name": "stderr",
     "output_type": "stream",
     "text": [
      "/Applications/anaconda/envs/tensorflow/lib/python3.6/site-packages/ipykernel_launcher.py:2: RuntimeWarning: invalid value encountered in log\n",
      "  \n"
     ]
    },
    {
     "name": "stdout",
     "output_type": "stream",
     "text": [
      "[CV]  learning_rate=0.8, max_depth=9, min_child_weight=1, subsample=0.8, score=-0.715872, total= 4.1min\n",
      "[CV] learning_rate=0.8, max_depth=9, min_child_weight=1, subsample=0.8 \n"
     ]
    },
    {
     "name": "stderr",
     "output_type": "stream",
     "text": [
      "/Applications/anaconda/envs/tensorflow/lib/python3.6/site-packages/ipykernel_launcher.py:2: RuntimeWarning: invalid value encountered in log\n",
      "  \n"
     ]
    },
    {
     "name": "stdout",
     "output_type": "stream",
     "text": [
      "[CV]  learning_rate=0.8, max_depth=9, min_child_weight=1, subsample=0.8, score=-0.568307, total= 4.1min\n",
      "[CV] learning_rate=0.8, max_depth=9, min_child_weight=1, subsample=1.0 \n"
     ]
    },
    {
     "name": "stderr",
     "output_type": "stream",
     "text": [
      "/Applications/anaconda/envs/tensorflow/lib/python3.6/site-packages/ipykernel_launcher.py:2: RuntimeWarning: invalid value encountered in log\n",
      "  \n"
     ]
    },
    {
     "name": "stdout",
     "output_type": "stream",
     "text": [
      "[CV]  learning_rate=0.8, max_depth=9, min_child_weight=1, subsample=0.8, score=-0.597228, total= 4.1min\n",
      "[CV] learning_rate=0.8, max_depth=9, min_child_weight=1, subsample=1.0 \n"
     ]
    },
    {
     "name": "stderr",
     "output_type": "stream",
     "text": [
      "/Applications/anaconda/envs/tensorflow/lib/python3.6/site-packages/ipykernel_launcher.py:2: RuntimeWarning: invalid value encountered in log\n",
      "  \n"
     ]
    },
    {
     "name": "stdout",
     "output_type": "stream",
     "text": [
      "[CV]  learning_rate=0.8, max_depth=9, min_child_weight=1, subsample=0.8, score=-0.531867, total= 4.1min\n",
      "[CV] learning_rate=0.8, max_depth=9, min_child_weight=1, subsample=1.0 \n"
     ]
    },
    {
     "name": "stderr",
     "output_type": "stream",
     "text": [
      "[Parallel(n_jobs=-1)]: Done 234 tasks      | elapsed: 333.9min\n",
      "/Applications/anaconda/envs/tensorflow/lib/python3.6/site-packages/ipykernel_launcher.py:2: RuntimeWarning: invalid value encountered in log\n",
      "  \n"
     ]
    },
    {
     "name": "stdout",
     "output_type": "stream",
     "text": [
      "[CV]  learning_rate=0.8, max_depth=9, min_child_weight=1, subsample=0.8, score=-0.596702, total= 4.1min\n",
      "[CV] learning_rate=0.8, max_depth=9, min_child_weight=1, subsample=1.0 \n"
     ]
    },
    {
     "name": "stderr",
     "output_type": "stream",
     "text": [
      "/Applications/anaconda/envs/tensorflow/lib/python3.6/site-packages/ipykernel_launcher.py:2: RuntimeWarning: invalid value encountered in log\n",
      "  \n"
     ]
    },
    {
     "name": "stdout",
     "output_type": "stream",
     "text": [
      "[CV]  learning_rate=0.8, max_depth=9, min_child_weight=1, subsample=1.0, score=-0.691268, total= 4.1min\n",
      "[CV] learning_rate=0.8, max_depth=9, min_child_weight=1, subsample=1.0 \n"
     ]
    },
    {
     "name": "stderr",
     "output_type": "stream",
     "text": [
      "/Applications/anaconda/envs/tensorflow/lib/python3.6/site-packages/ipykernel_launcher.py:2: RuntimeWarning: invalid value encountered in log\n",
      "  \n"
     ]
    },
    {
     "name": "stdout",
     "output_type": "stream",
     "text": [
      "[CV]  learning_rate=0.8, max_depth=9, min_child_weight=1, subsample=1.0, score=-0.528184, total= 4.1min\n",
      "[CV] learning_rate=0.8, max_depth=9, min_child_weight=3, subsample=0.6 \n"
     ]
    },
    {
     "name": "stderr",
     "output_type": "stream",
     "text": [
      "/Applications/anaconda/envs/tensorflow/lib/python3.6/site-packages/ipykernel_launcher.py:2: RuntimeWarning: invalid value encountered in log\n",
      "  \n"
     ]
    },
    {
     "name": "stdout",
     "output_type": "stream",
     "text": [
      "[CV]  learning_rate=0.8, max_depth=9, min_child_weight=1, subsample=1.0, score=-0.564534, total= 4.1min\n",
      "[CV] learning_rate=0.8, max_depth=9, min_child_weight=3, subsample=0.6 \n"
     ]
    },
    {
     "name": "stderr",
     "output_type": "stream",
     "text": [
      "/Applications/anaconda/envs/tensorflow/lib/python3.6/site-packages/ipykernel_launcher.py:2: RuntimeWarning: invalid value encountered in log\n",
      "  \n"
     ]
    },
    {
     "name": "stdout",
     "output_type": "stream",
     "text": [
      "[CV]  learning_rate=0.8, max_depth=9, min_child_weight=1, subsample=1.0, score=-0.533927, total= 4.1min\n",
      "[CV] learning_rate=0.8, max_depth=9, min_child_weight=3, subsample=0.6 \n"
     ]
    },
    {
     "name": "stderr",
     "output_type": "stream",
     "text": [
      "/Applications/anaconda/envs/tensorflow/lib/python3.6/site-packages/ipykernel_launcher.py:2: RuntimeWarning: invalid value encountered in log\n",
      "  \n"
     ]
    },
    {
     "name": "stdout",
     "output_type": "stream",
     "text": [
      "[CV]  learning_rate=0.8, max_depth=9, min_child_weight=1, subsample=1.0, score=-0.590107, total= 4.1min\n",
      "[CV] learning_rate=0.8, max_depth=9, min_child_weight=3, subsample=0.6 \n"
     ]
    },
    {
     "name": "stderr",
     "output_type": "stream",
     "text": [
      "/Applications/anaconda/envs/tensorflow/lib/python3.6/site-packages/ipykernel_launcher.py:2: RuntimeWarning: invalid value encountered in log\n",
      "  \n"
     ]
    },
    {
     "name": "stdout",
     "output_type": "stream",
     "text": [
      "[CV]  learning_rate=0.8, max_depth=9, min_child_weight=3, subsample=0.6, score=-0.779650, total= 4.0min\n",
      "[CV] learning_rate=0.8, max_depth=9, min_child_weight=3, subsample=0.6 \n"
     ]
    },
    {
     "name": "stderr",
     "output_type": "stream",
     "text": [
      "/Applications/anaconda/envs/tensorflow/lib/python3.6/site-packages/ipykernel_launcher.py:2: RuntimeWarning: invalid value encountered in log\n",
      "  \n"
     ]
    },
    {
     "name": "stdout",
     "output_type": "stream",
     "text": [
      "[CV]  learning_rate=0.8, max_depth=9, min_child_weight=3, subsample=0.6, score=-0.642375, total= 4.0min\n",
      "[CV] learning_rate=0.8, max_depth=9, min_child_weight=3, subsample=0.8 \n"
     ]
    },
    {
     "name": "stderr",
     "output_type": "stream",
     "text": [
      "/Applications/anaconda/envs/tensorflow/lib/python3.6/site-packages/ipykernel_launcher.py:2: RuntimeWarning: invalid value encountered in log\n",
      "  \n"
     ]
    },
    {
     "name": "stdout",
     "output_type": "stream",
     "text": [
      "[CV]  learning_rate=0.8, max_depth=9, min_child_weight=3, subsample=0.6, score=-0.638485, total= 4.0min\n",
      "[CV] learning_rate=0.8, max_depth=9, min_child_weight=3, subsample=0.8 \n"
     ]
    },
    {
     "name": "stderr",
     "output_type": "stream",
     "text": [
      "/Applications/anaconda/envs/tensorflow/lib/python3.6/site-packages/ipykernel_launcher.py:2: RuntimeWarning: invalid value encountered in log\n",
      "  \n"
     ]
    },
    {
     "name": "stdout",
     "output_type": "stream",
     "text": [
      "[CV]  learning_rate=0.8, max_depth=9, min_child_weight=3, subsample=0.6, score=-0.628872, total= 4.1min\n",
      "[CV] learning_rate=0.8, max_depth=9, min_child_weight=3, subsample=0.8 \n"
     ]
    },
    {
     "name": "stderr",
     "output_type": "stream",
     "text": [
      "/Applications/anaconda/envs/tensorflow/lib/python3.6/site-packages/ipykernel_launcher.py:2: RuntimeWarning: invalid value encountered in log\n",
      "  \n"
     ]
    },
    {
     "name": "stdout",
     "output_type": "stream",
     "text": [
      "[CV]  learning_rate=0.8, max_depth=9, min_child_weight=3, subsample=0.6, score=-0.651172, total= 4.0min\n",
      "[CV] learning_rate=0.8, max_depth=9, min_child_weight=3, subsample=0.8 \n"
     ]
    },
    {
     "name": "stderr",
     "output_type": "stream",
     "text": [
      "/Applications/anaconda/envs/tensorflow/lib/python3.6/site-packages/ipykernel_launcher.py:2: RuntimeWarning: invalid value encountered in log\n",
      "  \n"
     ]
    },
    {
     "name": "stdout",
     "output_type": "stream",
     "text": [
      "[CV]  learning_rate=0.8, max_depth=9, min_child_weight=3, subsample=0.8, score=-0.752752, total= 4.1min\n",
      "[CV] learning_rate=0.8, max_depth=9, min_child_weight=3, subsample=0.8 \n"
     ]
    },
    {
     "name": "stderr",
     "output_type": "stream",
     "text": [
      "/Applications/anaconda/envs/tensorflow/lib/python3.6/site-packages/ipykernel_launcher.py:2: RuntimeWarning: invalid value encountered in log\n",
      "  \n"
     ]
    },
    {
     "name": "stdout",
     "output_type": "stream",
     "text": [
      "[CV]  learning_rate=0.8, max_depth=9, min_child_weight=3, subsample=0.8, score=-0.559970, total= 4.1min\n",
      "[CV] learning_rate=0.8, max_depth=9, min_child_weight=3, subsample=1.0 \n"
     ]
    },
    {
     "name": "stderr",
     "output_type": "stream",
     "text": [
      "/Applications/anaconda/envs/tensorflow/lib/python3.6/site-packages/ipykernel_launcher.py:2: RuntimeWarning: invalid value encountered in log\n",
      "  \n"
     ]
    },
    {
     "name": "stdout",
     "output_type": "stream",
     "text": [
      "[CV]  learning_rate=0.8, max_depth=9, min_child_weight=3, subsample=0.8, score=-0.602853, total= 4.1min\n",
      "[CV] learning_rate=0.8, max_depth=9, min_child_weight=3, subsample=1.0 \n"
     ]
    },
    {
     "name": "stderr",
     "output_type": "stream",
     "text": [
      "/Applications/anaconda/envs/tensorflow/lib/python3.6/site-packages/ipykernel_launcher.py:2: RuntimeWarning: invalid value encountered in log\n",
      "  \n"
     ]
    },
    {
     "name": "stdout",
     "output_type": "stream",
     "text": [
      "[CV]  learning_rate=0.8, max_depth=9, min_child_weight=3, subsample=0.8, score=-0.567244, total= 4.1min\n",
      "[CV] learning_rate=0.8, max_depth=9, min_child_weight=3, subsample=1.0 \n"
     ]
    },
    {
     "name": "stderr",
     "output_type": "stream",
     "text": [
      "/Applications/anaconda/envs/tensorflow/lib/python3.6/site-packages/ipykernel_launcher.py:2: RuntimeWarning: invalid value encountered in log\n",
      "  \n"
     ]
    },
    {
     "name": "stdout",
     "output_type": "stream",
     "text": [
      "[CV]  learning_rate=0.8, max_depth=9, min_child_weight=3, subsample=0.8, score=-0.690195, total= 4.0min\n",
      "[CV] learning_rate=0.8, max_depth=9, min_child_weight=3, subsample=1.0 \n"
     ]
    },
    {
     "name": "stderr",
     "output_type": "stream",
     "text": [
      "/Applications/anaconda/envs/tensorflow/lib/python3.6/site-packages/ipykernel_launcher.py:2: RuntimeWarning: invalid value encountered in log\n",
      "  \n"
     ]
    },
    {
     "name": "stdout",
     "output_type": "stream",
     "text": [
      "[CV]  learning_rate=0.8, max_depth=9, min_child_weight=3, subsample=1.0, score=-0.682782, total= 4.1min\n",
      "[CV] learning_rate=0.8, max_depth=9, min_child_weight=3, subsample=1.0 \n"
     ]
    },
    {
     "name": "stderr",
     "output_type": "stream",
     "text": [
      "/Applications/anaconda/envs/tensorflow/lib/python3.6/site-packages/ipykernel_launcher.py:2: RuntimeWarning: invalid value encountered in log\n",
      "  \n"
     ]
    },
    {
     "name": "stdout",
     "output_type": "stream",
     "text": [
      "[CV]  learning_rate=0.8, max_depth=9, min_child_weight=3, subsample=1.0, score=-0.517256, total= 4.1min\n",
      "[CV] learning_rate=0.8, max_depth=9, min_child_weight=5, subsample=0.6 \n"
     ]
    },
    {
     "name": "stderr",
     "output_type": "stream",
     "text": [
      "/Applications/anaconda/envs/tensorflow/lib/python3.6/site-packages/ipykernel_launcher.py:2: RuntimeWarning: invalid value encountered in log\n",
      "  \n"
     ]
    },
    {
     "name": "stdout",
     "output_type": "stream",
     "text": [
      "[CV]  learning_rate=0.8, max_depth=9, min_child_weight=3, subsample=1.0, score=-0.560863, total= 4.0min\n",
      "[CV] learning_rate=0.8, max_depth=9, min_child_weight=5, subsample=0.6 \n"
     ]
    },
    {
     "name": "stderr",
     "output_type": "stream",
     "text": [
      "/Applications/anaconda/envs/tensorflow/lib/python3.6/site-packages/ipykernel_launcher.py:2: RuntimeWarning: invalid value encountered in log\n",
      "  \n"
     ]
    },
    {
     "name": "stdout",
     "output_type": "stream",
     "text": [
      "[CV]  learning_rate=0.8, max_depth=9, min_child_weight=3, subsample=1.0, score=-0.558150, total= 4.0min\n",
      "[CV] learning_rate=0.8, max_depth=9, min_child_weight=5, subsample=0.6 \n"
     ]
    },
    {
     "name": "stderr",
     "output_type": "stream",
     "text": [
      "/Applications/anaconda/envs/tensorflow/lib/python3.6/site-packages/ipykernel_launcher.py:2: RuntimeWarning: invalid value encountered in log\n",
      "  \n"
     ]
    },
    {
     "name": "stdout",
     "output_type": "stream",
     "text": [
      "[CV]  learning_rate=0.8, max_depth=9, min_child_weight=3, subsample=1.0, score=-0.576196, total= 4.1min\n",
      "[CV] learning_rate=0.8, max_depth=9, min_child_weight=5, subsample=0.6 \n"
     ]
    },
    {
     "name": "stderr",
     "output_type": "stream",
     "text": [
      "/Applications/anaconda/envs/tensorflow/lib/python3.6/site-packages/ipykernel_launcher.py:2: RuntimeWarning: invalid value encountered in log\n",
      "  \n"
     ]
    },
    {
     "name": "stdout",
     "output_type": "stream",
     "text": [
      "[CV]  learning_rate=0.8, max_depth=9, min_child_weight=5, subsample=0.6, score=-0.759239, total= 4.0min\n",
      "[CV] learning_rate=0.8, max_depth=9, min_child_weight=5, subsample=0.6 \n"
     ]
    },
    {
     "name": "stderr",
     "output_type": "stream",
     "text": [
      "/Applications/anaconda/envs/tensorflow/lib/python3.6/site-packages/ipykernel_launcher.py:2: RuntimeWarning: invalid value encountered in log\n",
      "  \n"
     ]
    },
    {
     "name": "stdout",
     "output_type": "stream",
     "text": [
      "[CV]  learning_rate=0.8, max_depth=9, min_child_weight=5, subsample=0.6, score=-0.609037, total= 4.2min\n",
      "[CV] learning_rate=0.8, max_depth=9, min_child_weight=5, subsample=0.8 \n"
     ]
    },
    {
     "name": "stderr",
     "output_type": "stream",
     "text": [
      "[Parallel(n_jobs=-1)]: Done 257 tasks      | elapsed: 357.5min\n",
      "/Applications/anaconda/envs/tensorflow/lib/python3.6/site-packages/ipykernel_launcher.py:2: RuntimeWarning: invalid value encountered in log\n",
      "  \n"
     ]
    },
    {
     "name": "stdout",
     "output_type": "stream",
     "text": [
      "[CV]  learning_rate=0.8, max_depth=9, min_child_weight=5, subsample=0.6, score=-0.648368, total= 4.3min\n",
      "[CV] learning_rate=0.8, max_depth=9, min_child_weight=5, subsample=0.8 \n"
     ]
    },
    {
     "name": "stderr",
     "output_type": "stream",
     "text": [
      "/Applications/anaconda/envs/tensorflow/lib/python3.6/site-packages/ipykernel_launcher.py:2: RuntimeWarning: invalid value encountered in log\n",
      "  \n"
     ]
    },
    {
     "name": "stdout",
     "output_type": "stream",
     "text": [
      "[CV]  learning_rate=0.8, max_depth=9, min_child_weight=5, subsample=0.6, score=-0.603138, total= 4.4min\n",
      "[CV] learning_rate=0.8, max_depth=9, min_child_weight=5, subsample=0.8 \n"
     ]
    },
    {
     "name": "stderr",
     "output_type": "stream",
     "text": [
      "/Applications/anaconda/envs/tensorflow/lib/python3.6/site-packages/ipykernel_launcher.py:2: RuntimeWarning: invalid value encountered in log\n",
      "  \n"
     ]
    },
    {
     "name": "stdout",
     "output_type": "stream",
     "text": [
      "[CV]  learning_rate=0.8, max_depth=9, min_child_weight=5, subsample=0.6, score=-0.758533, total= 4.4min\n",
      "[CV] learning_rate=0.8, max_depth=9, min_child_weight=5, subsample=0.8 \n"
     ]
    },
    {
     "name": "stderr",
     "output_type": "stream",
     "text": [
      "/Applications/anaconda/envs/tensorflow/lib/python3.6/site-packages/ipykernel_launcher.py:2: RuntimeWarning: invalid value encountered in log\n",
      "  \n"
     ]
    },
    {
     "name": "stdout",
     "output_type": "stream",
     "text": [
      "[CV]  learning_rate=0.8, max_depth=9, min_child_weight=5, subsample=0.8, score=-0.723540, total= 4.5min\n",
      "[CV] learning_rate=0.8, max_depth=9, min_child_weight=5, subsample=0.8 \n"
     ]
    },
    {
     "name": "stderr",
     "output_type": "stream",
     "text": [
      "/Applications/anaconda/envs/tensorflow/lib/python3.6/site-packages/ipykernel_launcher.py:2: RuntimeWarning: invalid value encountered in log\n",
      "  \n"
     ]
    },
    {
     "name": "stdout",
     "output_type": "stream",
     "text": [
      "[CV]  learning_rate=0.8, max_depth=9, min_child_weight=5, subsample=0.8, score=-0.556736, total= 4.4min\n",
      "[CV] learning_rate=0.8, max_depth=9, min_child_weight=5, subsample=1.0 \n"
     ]
    },
    {
     "name": "stderr",
     "output_type": "stream",
     "text": [
      "/Applications/anaconda/envs/tensorflow/lib/python3.6/site-packages/ipykernel_launcher.py:2: RuntimeWarning: invalid value encountered in log\n",
      "  \n"
     ]
    },
    {
     "name": "stdout",
     "output_type": "stream",
     "text": [
      "[CV]  learning_rate=0.8, max_depth=9, min_child_weight=5, subsample=0.8, score=-0.592310, total= 4.3min\n",
      "[CV] learning_rate=0.8, max_depth=9, min_child_weight=5, subsample=1.0 \n"
     ]
    },
    {
     "name": "stderr",
     "output_type": "stream",
     "text": [
      "/Applications/anaconda/envs/tensorflow/lib/python3.6/site-packages/ipykernel_launcher.py:2: RuntimeWarning: invalid value encountered in log\n",
      "  \n"
     ]
    },
    {
     "name": "stdout",
     "output_type": "stream",
     "text": [
      "[CV]  learning_rate=0.8, max_depth=9, min_child_weight=5, subsample=0.8, score=-0.568702, total= 4.5min\n",
      "[CV] learning_rate=0.8, max_depth=9, min_child_weight=5, subsample=1.0 \n"
     ]
    },
    {
     "name": "stderr",
     "output_type": "stream",
     "text": [
      "/Applications/anaconda/envs/tensorflow/lib/python3.6/site-packages/ipykernel_launcher.py:2: RuntimeWarning: invalid value encountered in log\n",
      "  \n"
     ]
    },
    {
     "name": "stdout",
     "output_type": "stream",
     "text": [
      "[CV]  learning_rate=0.8, max_depth=9, min_child_weight=5, subsample=0.8, score=-0.606606, total= 4.5min\n",
      "[CV] learning_rate=0.8, max_depth=9, min_child_weight=5, subsample=1.0 \n"
     ]
    },
    {
     "name": "stderr",
     "output_type": "stream",
     "text": [
      "/Applications/anaconda/envs/tensorflow/lib/python3.6/site-packages/ipykernel_launcher.py:2: RuntimeWarning: invalid value encountered in log\n",
      "  \n"
     ]
    },
    {
     "name": "stdout",
     "output_type": "stream",
     "text": [
      "[CV]  learning_rate=0.8, max_depth=9, min_child_weight=5, subsample=1.0, score=-0.727770, total= 4.5min\n",
      "[CV] learning_rate=0.8, max_depth=9, min_child_weight=5, subsample=1.0 \n"
     ]
    },
    {
     "name": "stderr",
     "output_type": "stream",
     "text": [
      "/Applications/anaconda/envs/tensorflow/lib/python3.6/site-packages/ipykernel_launcher.py:2: RuntimeWarning: invalid value encountered in log\n",
      "  \n"
     ]
    },
    {
     "name": "stdout",
     "output_type": "stream",
     "text": [
      "[CV]  learning_rate=0.8, max_depth=9, min_child_weight=5, subsample=1.0, score=-0.525502, total= 4.5min\n",
      "[CV] learning_rate=1.0, max_depth=5, min_child_weight=1, subsample=0.6 \n"
     ]
    },
    {
     "name": "stderr",
     "output_type": "stream",
     "text": [
      "/Applications/anaconda/envs/tensorflow/lib/python3.6/site-packages/ipykernel_launcher.py:2: RuntimeWarning: invalid value encountered in log\n",
      "  \n"
     ]
    },
    {
     "name": "stdout",
     "output_type": "stream",
     "text": [
      "[CV]  learning_rate=0.8, max_depth=9, min_child_weight=5, subsample=1.0, score=-0.544920, total= 4.3min\n",
      "[CV] learning_rate=1.0, max_depth=5, min_child_weight=1, subsample=0.6 \n"
     ]
    },
    {
     "name": "stderr",
     "output_type": "stream",
     "text": [
      "/Applications/anaconda/envs/tensorflow/lib/python3.6/site-packages/ipykernel_launcher.py:2: RuntimeWarning: invalid value encountered in log\n",
      "  \n"
     ]
    },
    {
     "name": "stdout",
     "output_type": "stream",
     "text": [
      "[CV]  learning_rate=1.0, max_depth=5, min_child_weight=1, subsample=0.6, score=-0.736175, total= 2.3min\n",
      "[CV] learning_rate=1.0, max_depth=5, min_child_weight=1, subsample=0.6 \n"
     ]
    },
    {
     "name": "stderr",
     "output_type": "stream",
     "text": [
      "/Applications/anaconda/envs/tensorflow/lib/python3.6/site-packages/ipykernel_launcher.py:2: RuntimeWarning: invalid value encountered in log\n",
      "  \n"
     ]
    },
    {
     "name": "stdout",
     "output_type": "stream",
     "text": [
      "[CV]  learning_rate=0.8, max_depth=9, min_child_weight=5, subsample=1.0, score=-0.535456, total= 4.3min\n",
      "[CV] learning_rate=1.0, max_depth=5, min_child_weight=1, subsample=0.6 \n"
     ]
    },
    {
     "name": "stderr",
     "output_type": "stream",
     "text": [
      "/Applications/anaconda/envs/tensorflow/lib/python3.6/site-packages/ipykernel_launcher.py:2: RuntimeWarning: invalid value encountered in log\n",
      "  \n"
     ]
    },
    {
     "name": "stdout",
     "output_type": "stream",
     "text": [
      "[CV]  learning_rate=1.0, max_depth=5, min_child_weight=1, subsample=0.6, score=-0.570102, total= 2.4min\n",
      "[CV] learning_rate=1.0, max_depth=5, min_child_weight=1, subsample=0.6 \n"
     ]
    },
    {
     "name": "stderr",
     "output_type": "stream",
     "text": [
      "/Applications/anaconda/envs/tensorflow/lib/python3.6/site-packages/ipykernel_launcher.py:2: RuntimeWarning: invalid value encountered in log\n",
      "  \n"
     ]
    },
    {
     "name": "stdout",
     "output_type": "stream",
     "text": [
      "[CV]  learning_rate=0.8, max_depth=9, min_child_weight=5, subsample=1.0, score=-0.597368, total= 4.3min\n",
      "[CV] learning_rate=1.0, max_depth=5, min_child_weight=1, subsample=0.8 \n"
     ]
    },
    {
     "name": "stderr",
     "output_type": "stream",
     "text": [
      "/Applications/anaconda/envs/tensorflow/lib/python3.6/site-packages/ipykernel_launcher.py:2: RuntimeWarning: invalid value encountered in log\n",
      "  \n"
     ]
    },
    {
     "name": "stdout",
     "output_type": "stream",
     "text": [
      "[CV]  learning_rate=1.0, max_depth=5, min_child_weight=1, subsample=0.6, score=-0.584800, total= 2.4min\n",
      "[CV] learning_rate=1.0, max_depth=5, min_child_weight=1, subsample=0.8 \n"
     ]
    },
    {
     "name": "stderr",
     "output_type": "stream",
     "text": [
      "/Applications/anaconda/envs/tensorflow/lib/python3.6/site-packages/ipykernel_launcher.py:2: RuntimeWarning: invalid value encountered in log\n",
      "  \n"
     ]
    },
    {
     "name": "stdout",
     "output_type": "stream",
     "text": [
      "[CV]  learning_rate=1.0, max_depth=5, min_child_weight=1, subsample=0.6, score=-0.559164, total= 2.5min\n",
      "[CV] learning_rate=1.0, max_depth=5, min_child_weight=1, subsample=0.8 \n"
     ]
    },
    {
     "name": "stderr",
     "output_type": "stream",
     "text": [
      "/Applications/anaconda/envs/tensorflow/lib/python3.6/site-packages/ipykernel_launcher.py:2: RuntimeWarning: invalid value encountered in log\n",
      "  \n"
     ]
    },
    {
     "name": "stdout",
     "output_type": "stream",
     "text": [
      "[CV]  learning_rate=1.0, max_depth=5, min_child_weight=1, subsample=0.6, score=-0.615614, total= 2.7min\n",
      "[CV] learning_rate=1.0, max_depth=5, min_child_weight=1, subsample=0.8 \n"
     ]
    },
    {
     "name": "stderr",
     "output_type": "stream",
     "text": [
      "/Applications/anaconda/envs/tensorflow/lib/python3.6/site-packages/ipykernel_launcher.py:2: RuntimeWarning: invalid value encountered in log\n",
      "  \n"
     ]
    },
    {
     "name": "stdout",
     "output_type": "stream",
     "text": [
      "[CV]  learning_rate=1.0, max_depth=5, min_child_weight=1, subsample=0.8, score=-0.738826, total= 2.8min\n",
      "[CV] learning_rate=1.0, max_depth=5, min_child_weight=1, subsample=0.8 \n"
     ]
    },
    {
     "name": "stderr",
     "output_type": "stream",
     "text": [
      "/Applications/anaconda/envs/tensorflow/lib/python3.6/site-packages/ipykernel_launcher.py:2: RuntimeWarning: invalid value encountered in log\n",
      "  \n"
     ]
    },
    {
     "name": "stdout",
     "output_type": "stream",
     "text": [
      "[CV]  learning_rate=1.0, max_depth=5, min_child_weight=1, subsample=0.8, score=-0.543631, total= 3.1min\n",
      "[CV] learning_rate=1.0, max_depth=5, min_child_weight=1, subsample=1.0 \n"
     ]
    },
    {
     "name": "stderr",
     "output_type": "stream",
     "text": [
      "/Applications/anaconda/envs/tensorflow/lib/python3.6/site-packages/ipykernel_launcher.py:2: RuntimeWarning: invalid value encountered in log\n",
      "  \n"
     ]
    },
    {
     "name": "stdout",
     "output_type": "stream",
     "text": [
      "[CV]  learning_rate=1.0, max_depth=5, min_child_weight=1, subsample=0.8, score=-0.566365, total= 3.1min\n",
      "[CV] learning_rate=1.0, max_depth=5, min_child_weight=1, subsample=1.0 \n"
     ]
    },
    {
     "name": "stderr",
     "output_type": "stream",
     "text": [
      "/Applications/anaconda/envs/tensorflow/lib/python3.6/site-packages/ipykernel_launcher.py:2: RuntimeWarning: invalid value encountered in log\n",
      "  \n"
     ]
    },
    {
     "name": "stdout",
     "output_type": "stream",
     "text": [
      "[CV]  learning_rate=1.0, max_depth=5, min_child_weight=1, subsample=0.8, score=-0.528975, total= 3.1min\n",
      "[CV] learning_rate=1.0, max_depth=5, min_child_weight=1, subsample=1.0 \n"
     ]
    },
    {
     "name": "stderr",
     "output_type": "stream",
     "text": [
      "/Applications/anaconda/envs/tensorflow/lib/python3.6/site-packages/ipykernel_launcher.py:2: RuntimeWarning: invalid value encountered in log\n",
      "  \n"
     ]
    },
    {
     "name": "stdout",
     "output_type": "stream",
     "text": [
      "[CV]  learning_rate=1.0, max_depth=5, min_child_weight=1, subsample=0.8, score=-0.595897, total= 3.0min\n",
      "[CV] learning_rate=1.0, max_depth=5, min_child_weight=1, subsample=1.0 \n"
     ]
    },
    {
     "name": "stderr",
     "output_type": "stream",
     "text": [
      "[Parallel(n_jobs=-1)]: Done 280 tasks      | elapsed: 377.8min\n",
      "/Applications/anaconda/envs/tensorflow/lib/python3.6/site-packages/ipykernel_launcher.py:2: RuntimeWarning: invalid value encountered in log\n",
      "  \n"
     ]
    },
    {
     "name": "stdout",
     "output_type": "stream",
     "text": [
      "[CV]  learning_rate=1.0, max_depth=5, min_child_weight=1, subsample=1.0, score=-0.710374, total= 2.9min\n",
      "[CV] learning_rate=1.0, max_depth=5, min_child_weight=1, subsample=1.0 \n"
     ]
    },
    {
     "name": "stderr",
     "output_type": "stream",
     "text": [
      "/Applications/anaconda/envs/tensorflow/lib/python3.6/site-packages/ipykernel_launcher.py:2: RuntimeWarning: invalid value encountered in log\n",
      "  \n"
     ]
    },
    {
     "name": "stdout",
     "output_type": "stream",
     "text": [
      "[CV]  learning_rate=1.0, max_depth=5, min_child_weight=1, subsample=1.0, score=-0.518851, total= 2.9min\n",
      "[CV] learning_rate=1.0, max_depth=5, min_child_weight=3, subsample=0.6 \n"
     ]
    },
    {
     "name": "stderr",
     "output_type": "stream",
     "text": [
      "/Applications/anaconda/envs/tensorflow/lib/python3.6/site-packages/ipykernel_launcher.py:2: RuntimeWarning: invalid value encountered in log\n",
      "  \n"
     ]
    },
    {
     "name": "stdout",
     "output_type": "stream",
     "text": [
      "[CV]  learning_rate=1.0, max_depth=5, min_child_weight=1, subsample=1.0, score=-0.566602, total= 2.8min\n",
      "[CV] learning_rate=1.0, max_depth=5, min_child_weight=3, subsample=0.6 \n"
     ]
    },
    {
     "name": "stderr",
     "output_type": "stream",
     "text": [
      "/Applications/anaconda/envs/tensorflow/lib/python3.6/site-packages/ipykernel_launcher.py:2: RuntimeWarning: invalid value encountered in log\n",
      "  \n"
     ]
    },
    {
     "name": "stdout",
     "output_type": "stream",
     "text": [
      "[CV]  learning_rate=1.0, max_depth=5, min_child_weight=1, subsample=1.0, score=-0.523688, total= 2.9min\n",
      "[CV] learning_rate=1.0, max_depth=5, min_child_weight=3, subsample=0.6 \n"
     ]
    },
    {
     "name": "stderr",
     "output_type": "stream",
     "text": [
      "/Applications/anaconda/envs/tensorflow/lib/python3.6/site-packages/ipykernel_launcher.py:2: RuntimeWarning: invalid value encountered in log\n",
      "  \n"
     ]
    },
    {
     "name": "stdout",
     "output_type": "stream",
     "text": [
      "[CV]  learning_rate=1.0, max_depth=5, min_child_weight=1, subsample=1.0, score=-0.552809, total= 2.9min\n",
      "[CV] learning_rate=1.0, max_depth=5, min_child_weight=3, subsample=0.6 \n"
     ]
    },
    {
     "name": "stderr",
     "output_type": "stream",
     "text": [
      "/Applications/anaconda/envs/tensorflow/lib/python3.6/site-packages/ipykernel_launcher.py:2: RuntimeWarning: invalid value encountered in log\n",
      "  \n"
     ]
    },
    {
     "name": "stdout",
     "output_type": "stream",
     "text": [
      "[CV]  learning_rate=1.0, max_depth=5, min_child_weight=3, subsample=0.6, score=-0.703395, total= 2.9min\n",
      "[CV] learning_rate=1.0, max_depth=5, min_child_weight=3, subsample=0.6 \n"
     ]
    },
    {
     "name": "stderr",
     "output_type": "stream",
     "text": [
      "/Applications/anaconda/envs/tensorflow/lib/python3.6/site-packages/ipykernel_launcher.py:2: RuntimeWarning: invalid value encountered in log\n",
      "  \n"
     ]
    },
    {
     "name": "stdout",
     "output_type": "stream",
     "text": [
      "[CV]  learning_rate=1.0, max_depth=5, min_child_weight=3, subsample=0.6, score=-0.546546, total= 2.9min\n",
      "[CV] learning_rate=1.0, max_depth=5, min_child_weight=3, subsample=0.8 \n"
     ]
    },
    {
     "name": "stderr",
     "output_type": "stream",
     "text": [
      "/Applications/anaconda/envs/tensorflow/lib/python3.6/site-packages/ipykernel_launcher.py:2: RuntimeWarning: invalid value encountered in log\n",
      "  \n"
     ]
    },
    {
     "name": "stdout",
     "output_type": "stream",
     "text": [
      "[CV]  learning_rate=1.0, max_depth=5, min_child_weight=3, subsample=0.6, score=-0.584082, total= 2.9min\n",
      "[CV] learning_rate=1.0, max_depth=5, min_child_weight=3, subsample=0.8 \n"
     ]
    },
    {
     "name": "stderr",
     "output_type": "stream",
     "text": [
      "/Applications/anaconda/envs/tensorflow/lib/python3.6/site-packages/ipykernel_launcher.py:2: RuntimeWarning: invalid value encountered in log\n",
      "  \n"
     ]
    },
    {
     "name": "stdout",
     "output_type": "stream",
     "text": [
      "[CV]  learning_rate=1.0, max_depth=5, min_child_weight=3, subsample=0.6, score=-0.555433, total= 2.8min\n",
      "[CV] learning_rate=1.0, max_depth=5, min_child_weight=3, subsample=0.8 \n"
     ]
    },
    {
     "name": "stderr",
     "output_type": "stream",
     "text": [
      "/Applications/anaconda/envs/tensorflow/lib/python3.6/site-packages/ipykernel_launcher.py:2: RuntimeWarning: invalid value encountered in log\n",
      "  \n"
     ]
    },
    {
     "name": "stdout",
     "output_type": "stream",
     "text": [
      "[CV]  learning_rate=1.0, max_depth=5, min_child_weight=3, subsample=0.6, score=-0.568306, total= 2.9min\n",
      "[CV] learning_rate=1.0, max_depth=5, min_child_weight=3, subsample=0.8 \n"
     ]
    },
    {
     "name": "stderr",
     "output_type": "stream",
     "text": [
      "/Applications/anaconda/envs/tensorflow/lib/python3.6/site-packages/ipykernel_launcher.py:2: RuntimeWarning: invalid value encountered in log\n",
      "  \n"
     ]
    },
    {
     "name": "stdout",
     "output_type": "stream",
     "text": [
      "[CV]  learning_rate=1.0, max_depth=5, min_child_weight=3, subsample=0.8, score=-0.693122, total= 2.9min\n",
      "[CV] learning_rate=1.0, max_depth=5, min_child_weight=3, subsample=0.8 \n"
     ]
    },
    {
     "name": "stderr",
     "output_type": "stream",
     "text": [
      "/Applications/anaconda/envs/tensorflow/lib/python3.6/site-packages/ipykernel_launcher.py:2: RuntimeWarning: invalid value encountered in log\n",
      "  \n"
     ]
    },
    {
     "name": "stdout",
     "output_type": "stream",
     "text": [
      "[CV]  learning_rate=1.0, max_depth=5, min_child_weight=3, subsample=0.8, score=-0.566104, total= 2.9min\n",
      "[CV] learning_rate=1.0, max_depth=5, min_child_weight=3, subsample=1.0 \n"
     ]
    },
    {
     "name": "stderr",
     "output_type": "stream",
     "text": [
      "/Applications/anaconda/envs/tensorflow/lib/python3.6/site-packages/ipykernel_launcher.py:2: RuntimeWarning: invalid value encountered in log\n",
      "  \n"
     ]
    },
    {
     "name": "stdout",
     "output_type": "stream",
     "text": [
      "[CV]  learning_rate=1.0, max_depth=5, min_child_weight=3, subsample=0.8, score=-0.562204, total= 2.9min\n",
      "[CV] learning_rate=1.0, max_depth=5, min_child_weight=3, subsample=1.0 \n"
     ]
    },
    {
     "name": "stderr",
     "output_type": "stream",
     "text": [
      "/Applications/anaconda/envs/tensorflow/lib/python3.6/site-packages/ipykernel_launcher.py:2: RuntimeWarning: invalid value encountered in log\n",
      "  \n"
     ]
    },
    {
     "name": "stdout",
     "output_type": "stream",
     "text": [
      "[CV]  learning_rate=1.0, max_depth=5, min_child_weight=3, subsample=0.8, score=-0.539788, total= 2.9min\n",
      "[CV] learning_rate=1.0, max_depth=5, min_child_weight=3, subsample=1.0 \n"
     ]
    },
    {
     "name": "stderr",
     "output_type": "stream",
     "text": [
      "/Applications/anaconda/envs/tensorflow/lib/python3.6/site-packages/ipykernel_launcher.py:2: RuntimeWarning: invalid value encountered in log\n",
      "  \n"
     ]
    },
    {
     "name": "stdout",
     "output_type": "stream",
     "text": [
      "[CV]  learning_rate=1.0, max_depth=5, min_child_weight=3, subsample=0.8, score=-0.528678, total= 2.9min\n",
      "[CV] learning_rate=1.0, max_depth=5, min_child_weight=3, subsample=1.0 \n"
     ]
    },
    {
     "name": "stderr",
     "output_type": "stream",
     "text": [
      "/Applications/anaconda/envs/tensorflow/lib/python3.6/site-packages/ipykernel_launcher.py:2: RuntimeWarning: invalid value encountered in log\n",
      "  \n"
     ]
    },
    {
     "name": "stdout",
     "output_type": "stream",
     "text": [
      "[CV]  learning_rate=1.0, max_depth=5, min_child_weight=3, subsample=1.0, score=-0.731338, total= 2.9min\n",
      "[CV] learning_rate=1.0, max_depth=5, min_child_weight=3, subsample=1.0 \n"
     ]
    },
    {
     "name": "stderr",
     "output_type": "stream",
     "text": [
      "/Applications/anaconda/envs/tensorflow/lib/python3.6/site-packages/ipykernel_launcher.py:2: RuntimeWarning: invalid value encountered in log\n",
      "  \n"
     ]
    },
    {
     "name": "stdout",
     "output_type": "stream",
     "text": [
      "[CV]  learning_rate=1.0, max_depth=5, min_child_weight=3, subsample=1.0, score=-0.529494, total= 2.9min\n",
      "[CV] learning_rate=1.0, max_depth=5, min_child_weight=5, subsample=0.6 \n"
     ]
    },
    {
     "name": "stderr",
     "output_type": "stream",
     "text": [
      "/Applications/anaconda/envs/tensorflow/lib/python3.6/site-packages/ipykernel_launcher.py:2: RuntimeWarning: invalid value encountered in log\n",
      "  \n"
     ]
    },
    {
     "name": "stdout",
     "output_type": "stream",
     "text": [
      "[CV]  learning_rate=1.0, max_depth=5, min_child_weight=3, subsample=1.0, score=-0.541525, total= 2.9min\n",
      "[CV] learning_rate=1.0, max_depth=5, min_child_weight=5, subsample=0.6 \n"
     ]
    },
    {
     "name": "stderr",
     "output_type": "stream",
     "text": [
      "/Applications/anaconda/envs/tensorflow/lib/python3.6/site-packages/ipykernel_launcher.py:2: RuntimeWarning: invalid value encountered in log\n",
      "  \n"
     ]
    },
    {
     "name": "stdout",
     "output_type": "stream",
     "text": [
      "[CV]  learning_rate=1.0, max_depth=5, min_child_weight=3, subsample=1.0, score=-0.517997, total= 2.9min\n",
      "[CV] learning_rate=1.0, max_depth=5, min_child_weight=5, subsample=0.6 \n"
     ]
    },
    {
     "name": "stderr",
     "output_type": "stream",
     "text": [
      "/Applications/anaconda/envs/tensorflow/lib/python3.6/site-packages/ipykernel_launcher.py:2: RuntimeWarning: invalid value encountered in log\n",
      "  \n"
     ]
    },
    {
     "name": "stdout",
     "output_type": "stream",
     "text": [
      "[CV]  learning_rate=1.0, max_depth=5, min_child_weight=3, subsample=1.0, score=-0.662091, total= 2.9min\n",
      "[CV] learning_rate=1.0, max_depth=5, min_child_weight=5, subsample=0.6 \n"
     ]
    },
    {
     "name": "stderr",
     "output_type": "stream",
     "text": [
      "/Applications/anaconda/envs/tensorflow/lib/python3.6/site-packages/ipykernel_launcher.py:2: RuntimeWarning: invalid value encountered in log\n",
      "  \n"
     ]
    },
    {
     "name": "stdout",
     "output_type": "stream",
     "text": [
      "[CV]  learning_rate=1.0, max_depth=5, min_child_weight=5, subsample=0.6, score=-0.715581, total= 2.8min\n",
      "[CV] learning_rate=1.0, max_depth=5, min_child_weight=5, subsample=0.6 \n"
     ]
    },
    {
     "name": "stderr",
     "output_type": "stream",
     "text": [
      "/Applications/anaconda/envs/tensorflow/lib/python3.6/site-packages/ipykernel_launcher.py:2: RuntimeWarning: invalid value encountered in log\n",
      "  \n"
     ]
    },
    {
     "name": "stdout",
     "output_type": "stream",
     "text": [
      "[CV]  learning_rate=1.0, max_depth=5, min_child_weight=5, subsample=0.6, score=-0.572266, total= 2.8min\n",
      "[CV] learning_rate=1.0, max_depth=5, min_child_weight=5, subsample=0.8 \n"
     ]
    },
    {
     "name": "stderr",
     "output_type": "stream",
     "text": [
      "/Applications/anaconda/envs/tensorflow/lib/python3.6/site-packages/ipykernel_launcher.py:2: RuntimeWarning: invalid value encountered in log\n",
      "  \n"
     ]
    },
    {
     "name": "stdout",
     "output_type": "stream",
     "text": [
      "[CV]  learning_rate=1.0, max_depth=5, min_child_weight=5, subsample=0.6, score=-0.595205, total= 2.9min\n",
      "[CV] learning_rate=1.0, max_depth=5, min_child_weight=5, subsample=0.8 \n"
     ]
    },
    {
     "name": "stderr",
     "output_type": "stream",
     "text": [
      "/Applications/anaconda/envs/tensorflow/lib/python3.6/site-packages/ipykernel_launcher.py:2: RuntimeWarning: invalid value encountered in log\n",
      "  \n"
     ]
    },
    {
     "name": "stdout",
     "output_type": "stream",
     "text": [
      "[CV]  learning_rate=1.0, max_depth=5, min_child_weight=5, subsample=0.6, score=-0.576491, total= 2.9min\n",
      "[CV] learning_rate=1.0, max_depth=5, min_child_weight=5, subsample=0.8 \n"
     ]
    },
    {
     "name": "stderr",
     "output_type": "stream",
     "text": [
      "/Applications/anaconda/envs/tensorflow/lib/python3.6/site-packages/ipykernel_launcher.py:2: RuntimeWarning: invalid value encountered in log\n",
      "  \n"
     ]
    },
    {
     "name": "stdout",
     "output_type": "stream",
     "text": [
      "[CV]  learning_rate=1.0, max_depth=5, min_child_weight=5, subsample=0.6, score=-0.542974, total= 2.9min\n",
      "[CV] learning_rate=1.0, max_depth=5, min_child_weight=5, subsample=0.8 \n"
     ]
    },
    {
     "name": "stderr",
     "output_type": "stream",
     "text": [
      "[Parallel(n_jobs=-1)]: Done 305 tasks      | elapsed: 396.5min\n",
      "/Applications/anaconda/envs/tensorflow/lib/python3.6/site-packages/ipykernel_launcher.py:2: RuntimeWarning: invalid value encountered in log\n",
      "  \n"
     ]
    },
    {
     "name": "stdout",
     "output_type": "stream",
     "text": [
      "[CV]  learning_rate=1.0, max_depth=5, min_child_weight=5, subsample=0.8, score=-0.707468, total= 2.9min\n",
      "[CV] learning_rate=1.0, max_depth=5, min_child_weight=5, subsample=0.8 \n"
     ]
    },
    {
     "name": "stderr",
     "output_type": "stream",
     "text": [
      "/Applications/anaconda/envs/tensorflow/lib/python3.6/site-packages/ipykernel_launcher.py:2: RuntimeWarning: invalid value encountered in log\n",
      "  \n"
     ]
    },
    {
     "name": "stdout",
     "output_type": "stream",
     "text": [
      "[CV]  learning_rate=1.0, max_depth=5, min_child_weight=5, subsample=0.8, score=-0.538630, total= 2.9min\n",
      "[CV] learning_rate=1.0, max_depth=5, min_child_weight=5, subsample=1.0 \n"
     ]
    },
    {
     "name": "stderr",
     "output_type": "stream",
     "text": [
      "/Applications/anaconda/envs/tensorflow/lib/python3.6/site-packages/ipykernel_launcher.py:2: RuntimeWarning: invalid value encountered in log\n",
      "  \n"
     ]
    },
    {
     "name": "stdout",
     "output_type": "stream",
     "text": [
      "[CV]  learning_rate=1.0, max_depth=5, min_child_weight=5, subsample=0.8, score=-0.575126, total= 3.0min\n",
      "[CV] learning_rate=1.0, max_depth=5, min_child_weight=5, subsample=1.0 \n"
     ]
    },
    {
     "name": "stderr",
     "output_type": "stream",
     "text": [
      "/Applications/anaconda/envs/tensorflow/lib/python3.6/site-packages/ipykernel_launcher.py:2: RuntimeWarning: invalid value encountered in log\n",
      "  \n"
     ]
    },
    {
     "name": "stdout",
     "output_type": "stream",
     "text": [
      "[CV]  learning_rate=1.0, max_depth=5, min_child_weight=5, subsample=0.8, score=-0.548334, total= 3.2min\n",
      "[CV] learning_rate=1.0, max_depth=5, min_child_weight=5, subsample=1.0 \n"
     ]
    },
    {
     "name": "stderr",
     "output_type": "stream",
     "text": [
      "/Applications/anaconda/envs/tensorflow/lib/python3.6/site-packages/ipykernel_launcher.py:2: RuntimeWarning: invalid value encountered in log\n",
      "  \n"
     ]
    },
    {
     "name": "stdout",
     "output_type": "stream",
     "text": [
      "[CV]  learning_rate=1.0, max_depth=5, min_child_weight=5, subsample=0.8, score=-0.629052, total= 3.3min\n",
      "[CV] learning_rate=1.0, max_depth=5, min_child_weight=5, subsample=1.0 \n"
     ]
    },
    {
     "name": "stderr",
     "output_type": "stream",
     "text": [
      "/Applications/anaconda/envs/tensorflow/lib/python3.6/site-packages/ipykernel_launcher.py:2: RuntimeWarning: invalid value encountered in log\n",
      "  \n"
     ]
    },
    {
     "name": "stdout",
     "output_type": "stream",
     "text": [
      "[CV]  learning_rate=1.0, max_depth=5, min_child_weight=5, subsample=1.0, score=-0.672301, total= 3.5min\n",
      "[CV] learning_rate=1.0, max_depth=5, min_child_weight=5, subsample=1.0 \n"
     ]
    },
    {
     "name": "stderr",
     "output_type": "stream",
     "text": [
      "/Applications/anaconda/envs/tensorflow/lib/python3.6/site-packages/ipykernel_launcher.py:2: RuntimeWarning: invalid value encountered in log\n",
      "  \n"
     ]
    },
    {
     "name": "stdout",
     "output_type": "stream",
     "text": [
      "[CV]  learning_rate=1.0, max_depth=5, min_child_weight=5, subsample=1.0, score=-0.529792, total= 3.5min\n",
      "[CV] learning_rate=1.0, max_depth=7, min_child_weight=1, subsample=0.6 \n"
     ]
    },
    {
     "name": "stderr",
     "output_type": "stream",
     "text": [
      "/Applications/anaconda/envs/tensorflow/lib/python3.6/site-packages/ipykernel_launcher.py:2: RuntimeWarning: invalid value encountered in log\n",
      "  \n"
     ]
    },
    {
     "name": "stdout",
     "output_type": "stream",
     "text": [
      "[CV]  learning_rate=1.0, max_depth=5, min_child_weight=5, subsample=1.0, score=-0.604237, total= 3.5min\n",
      "[CV] learning_rate=1.0, max_depth=7, min_child_weight=1, subsample=0.6 \n"
     ]
    },
    {
     "name": "stderr",
     "output_type": "stream",
     "text": [
      "/Applications/anaconda/envs/tensorflow/lib/python3.6/site-packages/ipykernel_launcher.py:2: RuntimeWarning: invalid value encountered in log\n",
      "  \n"
     ]
    },
    {
     "name": "stdout",
     "output_type": "stream",
     "text": [
      "[CV]  learning_rate=1.0, max_depth=5, min_child_weight=5, subsample=1.0, score=-0.536884, total= 3.3min\n",
      "[CV] learning_rate=1.0, max_depth=7, min_child_weight=1, subsample=0.6 \n"
     ]
    },
    {
     "name": "stderr",
     "output_type": "stream",
     "text": [
      "/Applications/anaconda/envs/tensorflow/lib/python3.6/site-packages/ipykernel_launcher.py:2: RuntimeWarning: invalid value encountered in log\n",
      "  \n"
     ]
    },
    {
     "name": "stdout",
     "output_type": "stream",
     "text": [
      "[CV]  learning_rate=1.0, max_depth=5, min_child_weight=5, subsample=1.0, score=-0.531717, total= 3.4min\n",
      "[CV] learning_rate=1.0, max_depth=7, min_child_weight=1, subsample=0.6 \n"
     ]
    },
    {
     "name": "stderr",
     "output_type": "stream",
     "text": [
      "/Applications/anaconda/envs/tensorflow/lib/python3.6/site-packages/ipykernel_launcher.py:2: RuntimeWarning: invalid value encountered in log\n",
      "  \n"
     ]
    },
    {
     "name": "stdout",
     "output_type": "stream",
     "text": [
      "[CV]  learning_rate=1.0, max_depth=7, min_child_weight=1, subsample=0.6, score=-0.790341, total= 4.5min\n",
      "[CV] learning_rate=1.0, max_depth=7, min_child_weight=1, subsample=0.6 \n"
     ]
    },
    {
     "name": "stderr",
     "output_type": "stream",
     "text": [
      "/Applications/anaconda/envs/tensorflow/lib/python3.6/site-packages/ipykernel_launcher.py:2: RuntimeWarning: invalid value encountered in log\n",
      "  \n"
     ]
    },
    {
     "name": "stdout",
     "output_type": "stream",
     "text": [
      "[CV]  learning_rate=1.0, max_depth=7, min_child_weight=1, subsample=0.6, score=-0.659592, total= 4.8min\n",
      "[CV] learning_rate=1.0, max_depth=7, min_child_weight=1, subsample=0.8 \n"
     ]
    },
    {
     "name": "stderr",
     "output_type": "stream",
     "text": [
      "/Applications/anaconda/envs/tensorflow/lib/python3.6/site-packages/ipykernel_launcher.py:2: RuntimeWarning: invalid value encountered in log\n",
      "  \n"
     ]
    },
    {
     "name": "stdout",
     "output_type": "stream",
     "text": [
      "[CV]  learning_rate=1.0, max_depth=7, min_child_weight=1, subsample=0.6, score=-0.657311, total= 4.7min\n",
      "[CV] learning_rate=1.0, max_depth=7, min_child_weight=1, subsample=0.8 \n"
     ]
    },
    {
     "name": "stderr",
     "output_type": "stream",
     "text": [
      "/Applications/anaconda/envs/tensorflow/lib/python3.6/site-packages/ipykernel_launcher.py:2: RuntimeWarning: invalid value encountered in log\n",
      "  \n"
     ]
    },
    {
     "name": "stdout",
     "output_type": "stream",
     "text": [
      "[CV]  learning_rate=1.0, max_depth=7, min_child_weight=1, subsample=0.6, score=-0.629155, total= 4.8min\n",
      "[CV] learning_rate=1.0, max_depth=7, min_child_weight=1, subsample=0.8 \n"
     ]
    },
    {
     "name": "stderr",
     "output_type": "stream",
     "text": [
      "/Applications/anaconda/envs/tensorflow/lib/python3.6/site-packages/ipykernel_launcher.py:2: RuntimeWarning: invalid value encountered in log\n",
      "  \n"
     ]
    },
    {
     "name": "stdout",
     "output_type": "stream",
     "text": [
      "[CV]  learning_rate=1.0, max_depth=7, min_child_weight=1, subsample=0.6, score=-0.710709, total= 5.0min\n",
      "[CV] learning_rate=1.0, max_depth=7, min_child_weight=1, subsample=0.8 \n"
     ]
    },
    {
     "name": "stderr",
     "output_type": "stream",
     "text": [
      "/Applications/anaconda/envs/tensorflow/lib/python3.6/site-packages/ipykernel_launcher.py:2: RuntimeWarning: invalid value encountered in log\n",
      "  \n"
     ]
    },
    {
     "name": "stdout",
     "output_type": "stream",
     "text": [
      "[CV]  learning_rate=1.0, max_depth=7, min_child_weight=1, subsample=0.8, score=-0.784231, total= 4.8min\n",
      "[CV] learning_rate=1.0, max_depth=7, min_child_weight=1, subsample=0.8 \n"
     ]
    },
    {
     "name": "stderr",
     "output_type": "stream",
     "text": [
      "/Applications/anaconda/envs/tensorflow/lib/python3.6/site-packages/ipykernel_launcher.py:2: RuntimeWarning: invalid value encountered in log\n",
      "  \n"
     ]
    },
    {
     "name": "stdout",
     "output_type": "stream",
     "text": [
      "[CV]  learning_rate=1.0, max_depth=7, min_child_weight=1, subsample=0.8, score=-0.562621, total= 4.8min\n",
      "[CV] learning_rate=1.0, max_depth=7, min_child_weight=1, subsample=1.0 \n"
     ]
    },
    {
     "name": "stderr",
     "output_type": "stream",
     "text": [
      "/Applications/anaconda/envs/tensorflow/lib/python3.6/site-packages/ipykernel_launcher.py:2: RuntimeWarning: invalid value encountered in log\n",
      "  \n"
     ]
    },
    {
     "name": "stdout",
     "output_type": "stream",
     "text": [
      "[CV]  learning_rate=1.0, max_depth=7, min_child_weight=1, subsample=0.8, score=-0.603658, total= 4.6min\n",
      "[CV] learning_rate=1.0, max_depth=7, min_child_weight=1, subsample=1.0 \n"
     ]
    },
    {
     "name": "stderr",
     "output_type": "stream",
     "text": [
      "/Applications/anaconda/envs/tensorflow/lib/python3.6/site-packages/ipykernel_launcher.py:2: RuntimeWarning: invalid value encountered in log\n",
      "  \n"
     ]
    },
    {
     "name": "stdout",
     "output_type": "stream",
     "text": [
      "[CV]  learning_rate=1.0, max_depth=7, min_child_weight=1, subsample=0.8, score=-0.621612, total= 4.5min\n",
      "[CV] learning_rate=1.0, max_depth=7, min_child_weight=1, subsample=1.0 \n"
     ]
    },
    {
     "name": "stderr",
     "output_type": "stream",
     "text": [
      "/Applications/anaconda/envs/tensorflow/lib/python3.6/site-packages/ipykernel_launcher.py:2: RuntimeWarning: invalid value encountered in log\n",
      "  \n"
     ]
    },
    {
     "name": "stdout",
     "output_type": "stream",
     "text": [
      "[CV]  learning_rate=1.0, max_depth=7, min_child_weight=1, subsample=0.8, score=-0.685506, total= 4.3min\n",
      "[CV] learning_rate=1.0, max_depth=7, min_child_weight=1, subsample=1.0 \n"
     ]
    },
    {
     "name": "stderr",
     "output_type": "stream",
     "text": [
      "/Applications/anaconda/envs/tensorflow/lib/python3.6/site-packages/ipykernel_launcher.py:2: RuntimeWarning: invalid value encountered in log\n",
      "  \n"
     ]
    },
    {
     "name": "stdout",
     "output_type": "stream",
     "text": [
      "[CV]  learning_rate=1.0, max_depth=7, min_child_weight=1, subsample=1.0, score=-0.718071, total= 4.3min\n",
      "[CV] learning_rate=1.0, max_depth=7, min_child_weight=1, subsample=1.0 \n"
     ]
    },
    {
     "name": "stderr",
     "output_type": "stream",
     "text": [
      "/Applications/anaconda/envs/tensorflow/lib/python3.6/site-packages/ipykernel_launcher.py:2: RuntimeWarning: invalid value encountered in log\n",
      "  \n"
     ]
    },
    {
     "name": "stdout",
     "output_type": "stream",
     "text": [
      "[CV]  learning_rate=1.0, max_depth=7, min_child_weight=1, subsample=1.0, score=-0.549639, total= 4.2min\n",
      "[CV] learning_rate=1.0, max_depth=7, min_child_weight=3, subsample=0.6 \n"
     ]
    },
    {
     "name": "stderr",
     "output_type": "stream",
     "text": [
      "/Applications/anaconda/envs/tensorflow/lib/python3.6/site-packages/ipykernel_launcher.py:2: RuntimeWarning: invalid value encountered in log\n",
      "  \n"
     ]
    },
    {
     "name": "stdout",
     "output_type": "stream",
     "text": [
      "[CV]  learning_rate=1.0, max_depth=7, min_child_weight=1, subsample=1.0, score=-0.588686, total= 4.5min\n",
      "[CV] learning_rate=1.0, max_depth=7, min_child_weight=3, subsample=0.6 \n"
     ]
    },
    {
     "name": "stderr",
     "output_type": "stream",
     "text": [
      "/Applications/anaconda/envs/tensorflow/lib/python3.6/site-packages/ipykernel_launcher.py:2: RuntimeWarning: invalid value encountered in log\n",
      "  \n"
     ]
    },
    {
     "name": "stdout",
     "output_type": "stream",
     "text": [
      "[CV]  learning_rate=1.0, max_depth=7, min_child_weight=1, subsample=1.0, score=-0.560538, total= 4.5min\n",
      "[CV] learning_rate=1.0, max_depth=7, min_child_weight=3, subsample=0.6 \n"
     ]
    },
    {
     "name": "stderr",
     "output_type": "stream",
     "text": [
      "/Applications/anaconda/envs/tensorflow/lib/python3.6/site-packages/ipykernel_launcher.py:2: RuntimeWarning: invalid value encountered in log\n",
      "  \n"
     ]
    },
    {
     "name": "stdout",
     "output_type": "stream",
     "text": [
      "[CV]  learning_rate=1.0, max_depth=7, min_child_weight=1, subsample=1.0, score=-0.586272, total= 4.6min\n"
     ]
    },
    {
     "name": "stderr",
     "output_type": "stream",
     "text": [
      "[Parallel(n_jobs=-1)]: Done 330 tasks      | elapsed: 422.1min\n"
     ]
    },
    {
     "name": "stdout",
     "output_type": "stream",
     "text": [
      "[CV] learning_rate=1.0, max_depth=7, min_child_weight=3, subsample=0.6 \n"
     ]
    },
    {
     "name": "stderr",
     "output_type": "stream",
     "text": [
      "/Applications/anaconda/envs/tensorflow/lib/python3.6/site-packages/ipykernel_launcher.py:2: RuntimeWarning: invalid value encountered in log\n",
      "  \n"
     ]
    },
    {
     "name": "stdout",
     "output_type": "stream",
     "text": [
      "[CV]  learning_rate=1.0, max_depth=7, min_child_weight=3, subsample=0.6, score=-0.784188, total= 4.5min\n",
      "[CV] learning_rate=1.0, max_depth=7, min_child_weight=3, subsample=0.6 \n"
     ]
    },
    {
     "name": "stderr",
     "output_type": "stream",
     "text": [
      "/Applications/anaconda/envs/tensorflow/lib/python3.6/site-packages/ipykernel_launcher.py:2: RuntimeWarning: invalid value encountered in log\n",
      "  \n"
     ]
    },
    {
     "name": "stdout",
     "output_type": "stream",
     "text": [
      "[CV]  learning_rate=1.0, max_depth=7, min_child_weight=3, subsample=0.6, score=-0.649653, total= 4.2min\n",
      "[CV] learning_rate=1.0, max_depth=7, min_child_weight=3, subsample=0.8 \n"
     ]
    },
    {
     "name": "stderr",
     "output_type": "stream",
     "text": [
      "/Applications/anaconda/envs/tensorflow/lib/python3.6/site-packages/ipykernel_launcher.py:2: RuntimeWarning: invalid value encountered in log\n",
      "  \n"
     ]
    },
    {
     "name": "stdout",
     "output_type": "stream",
     "text": [
      "[CV]  learning_rate=1.0, max_depth=7, min_child_weight=3, subsample=0.6, score=-0.719168, total= 4.3min\n",
      "[CV] learning_rate=1.0, max_depth=7, min_child_weight=3, subsample=0.8 \n"
     ]
    },
    {
     "name": "stderr",
     "output_type": "stream",
     "text": [
      "/Applications/anaconda/envs/tensorflow/lib/python3.6/site-packages/ipykernel_launcher.py:2: RuntimeWarning: invalid value encountered in log\n",
      "  \n"
     ]
    },
    {
     "name": "stdout",
     "output_type": "stream",
     "text": [
      "[CV]  learning_rate=1.0, max_depth=7, min_child_weight=3, subsample=0.6, score=-0.660227, total= 4.4min\n",
      "[CV] learning_rate=1.0, max_depth=7, min_child_weight=3, subsample=0.8 \n"
     ]
    },
    {
     "name": "stderr",
     "output_type": "stream",
     "text": [
      "/Applications/anaconda/envs/tensorflow/lib/python3.6/site-packages/ipykernel_launcher.py:2: RuntimeWarning: invalid value encountered in log\n",
      "  \n"
     ]
    },
    {
     "name": "stdout",
     "output_type": "stream",
     "text": [
      "[CV]  learning_rate=1.0, max_depth=7, min_child_weight=3, subsample=0.6, score=-0.728720, total= 4.6min\n",
      "[CV] learning_rate=1.0, max_depth=7, min_child_weight=3, subsample=0.8 \n"
     ]
    },
    {
     "name": "stderr",
     "output_type": "stream",
     "text": [
      "/Applications/anaconda/envs/tensorflow/lib/python3.6/site-packages/ipykernel_launcher.py:2: RuntimeWarning: invalid value encountered in log\n",
      "  \n"
     ]
    },
    {
     "name": "stdout",
     "output_type": "stream",
     "text": [
      "[CV]  learning_rate=1.0, max_depth=7, min_child_weight=3, subsample=0.8, score=-0.759938, total= 4.6min\n",
      "[CV] learning_rate=1.0, max_depth=7, min_child_weight=3, subsample=0.8 \n"
     ]
    },
    {
     "name": "stderr",
     "output_type": "stream",
     "text": [
      "/Applications/anaconda/envs/tensorflow/lib/python3.6/site-packages/ipykernel_launcher.py:2: RuntimeWarning: invalid value encountered in log\n",
      "  \n"
     ]
    },
    {
     "name": "stdout",
     "output_type": "stream",
     "text": [
      "[CV]  learning_rate=1.0, max_depth=7, min_child_weight=3, subsample=0.8, score=-0.607791, total= 4.5min\n",
      "[CV] learning_rate=1.0, max_depth=7, min_child_weight=3, subsample=1.0 \n"
     ]
    },
    {
     "name": "stderr",
     "output_type": "stream",
     "text": [
      "/Applications/anaconda/envs/tensorflow/lib/python3.6/site-packages/ipykernel_launcher.py:2: RuntimeWarning: invalid value encountered in log\n",
      "  \n"
     ]
    },
    {
     "name": "stdout",
     "output_type": "stream",
     "text": [
      "[CV]  learning_rate=1.0, max_depth=7, min_child_weight=3, subsample=0.8, score=-0.628337, total= 4.3min\n",
      "[CV] learning_rate=1.0, max_depth=7, min_child_weight=3, subsample=1.0 \n"
     ]
    },
    {
     "name": "stderr",
     "output_type": "stream",
     "text": [
      "/Applications/anaconda/envs/tensorflow/lib/python3.6/site-packages/ipykernel_launcher.py:2: RuntimeWarning: invalid value encountered in log\n",
      "  \n"
     ]
    },
    {
     "name": "stdout",
     "output_type": "stream",
     "text": [
      "[CV]  learning_rate=1.0, max_depth=7, min_child_weight=3, subsample=0.8, score=-0.599341, total= 4.1min\n",
      "[CV] learning_rate=1.0, max_depth=7, min_child_weight=3, subsample=1.0 \n"
     ]
    },
    {
     "name": "stderr",
     "output_type": "stream",
     "text": [
      "/Applications/anaconda/envs/tensorflow/lib/python3.6/site-packages/ipykernel_launcher.py:2: RuntimeWarning: invalid value encountered in log\n",
      "  \n"
     ]
    },
    {
     "name": "stdout",
     "output_type": "stream",
     "text": [
      "[CV]  learning_rate=1.0, max_depth=7, min_child_weight=3, subsample=0.8, score=-0.680623, total= 4.2min\n",
      "[CV] learning_rate=1.0, max_depth=7, min_child_weight=3, subsample=1.0 \n"
     ]
    },
    {
     "name": "stderr",
     "output_type": "stream",
     "text": [
      "/Applications/anaconda/envs/tensorflow/lib/python3.6/site-packages/ipykernel_launcher.py:2: RuntimeWarning: invalid value encountered in log\n",
      "  \n"
     ]
    },
    {
     "name": "stdout",
     "output_type": "stream",
     "text": [
      "[CV]  learning_rate=1.0, max_depth=7, min_child_weight=3, subsample=1.0, score=-0.750623, total= 4.4min\n",
      "[CV] learning_rate=1.0, max_depth=7, min_child_weight=3, subsample=1.0 \n"
     ]
    },
    {
     "name": "stderr",
     "output_type": "stream",
     "text": [
      "/Applications/anaconda/envs/tensorflow/lib/python3.6/site-packages/ipykernel_launcher.py:2: RuntimeWarning: invalid value encountered in log\n",
      "  \n"
     ]
    },
    {
     "name": "stdout",
     "output_type": "stream",
     "text": [
      "[CV]  learning_rate=1.0, max_depth=7, min_child_weight=3, subsample=1.0, score=-0.572854, total= 4.5min\n",
      "[CV] learning_rate=1.0, max_depth=7, min_child_weight=5, subsample=0.6 \n"
     ]
    },
    {
     "name": "stderr",
     "output_type": "stream",
     "text": [
      "/Applications/anaconda/envs/tensorflow/lib/python3.6/site-packages/ipykernel_launcher.py:2: RuntimeWarning: invalid value encountered in log\n",
      "  \n"
     ]
    },
    {
     "name": "stdout",
     "output_type": "stream",
     "text": [
      "[CV]  learning_rate=1.0, max_depth=7, min_child_weight=3, subsample=1.0, score=-0.605114, total= 4.5min\n",
      "[CV] learning_rate=1.0, max_depth=7, min_child_weight=5, subsample=0.6 \n"
     ]
    },
    {
     "name": "stderr",
     "output_type": "stream",
     "text": [
      "/Applications/anaconda/envs/tensorflow/lib/python3.6/site-packages/ipykernel_launcher.py:2: RuntimeWarning: invalid value encountered in log\n",
      "  \n"
     ]
    },
    {
     "name": "stdout",
     "output_type": "stream",
     "text": [
      "[CV]  learning_rate=1.0, max_depth=7, min_child_weight=3, subsample=1.0, score=-0.559385, total= 4.4min\n",
      "[CV] learning_rate=1.0, max_depth=7, min_child_weight=5, subsample=0.6 \n"
     ]
    },
    {
     "name": "stderr",
     "output_type": "stream",
     "text": [
      "/Applications/anaconda/envs/tensorflow/lib/python3.6/site-packages/ipykernel_launcher.py:2: RuntimeWarning: invalid value encountered in log\n",
      "  \n"
     ]
    },
    {
     "name": "stdout",
     "output_type": "stream",
     "text": [
      "[CV]  learning_rate=1.0, max_depth=7, min_child_weight=3, subsample=1.0, score=-0.564627, total= 4.2min\n",
      "[CV] learning_rate=1.0, max_depth=7, min_child_weight=5, subsample=0.6 \n"
     ]
    },
    {
     "name": "stderr",
     "output_type": "stream",
     "text": [
      "/Applications/anaconda/envs/tensorflow/lib/python3.6/site-packages/ipykernel_launcher.py:2: RuntimeWarning: invalid value encountered in log\n",
      "  \n"
     ]
    },
    {
     "name": "stdout",
     "output_type": "stream",
     "text": [
      "[CV]  learning_rate=1.0, max_depth=7, min_child_weight=5, subsample=0.6, score=-0.805526, total= 4.0min\n",
      "[CV] learning_rate=1.0, max_depth=7, min_child_weight=5, subsample=0.6 \n"
     ]
    },
    {
     "name": "stderr",
     "output_type": "stream",
     "text": [
      "/Applications/anaconda/envs/tensorflow/lib/python3.6/site-packages/ipykernel_launcher.py:2: RuntimeWarning: invalid value encountered in log\n",
      "  \n"
     ]
    },
    {
     "name": "stdout",
     "output_type": "stream",
     "text": [
      "[CV]  learning_rate=1.0, max_depth=7, min_child_weight=5, subsample=0.6, score=-0.646905, total= 4.0min\n",
      "[CV] learning_rate=1.0, max_depth=7, min_child_weight=5, subsample=0.8 \n"
     ]
    },
    {
     "name": "stderr",
     "output_type": "stream",
     "text": [
      "/Applications/anaconda/envs/tensorflow/lib/python3.6/site-packages/ipykernel_launcher.py:2: RuntimeWarning: invalid value encountered in log\n",
      "  \n"
     ]
    },
    {
     "name": "stdout",
     "output_type": "stream",
     "text": [
      "[CV]  learning_rate=1.0, max_depth=7, min_child_weight=5, subsample=0.6, score=-0.692259, total= 4.0min\n",
      "[CV] learning_rate=1.0, max_depth=7, min_child_weight=5, subsample=0.8 \n"
     ]
    },
    {
     "name": "stderr",
     "output_type": "stream",
     "text": [
      "/Applications/anaconda/envs/tensorflow/lib/python3.6/site-packages/ipykernel_launcher.py:2: RuntimeWarning: invalid value encountered in log\n",
      "  \n"
     ]
    },
    {
     "name": "stdout",
     "output_type": "stream",
     "text": [
      "[CV]  learning_rate=1.0, max_depth=7, min_child_weight=5, subsample=0.6, score=-0.648045, total= 4.0min\n",
      "[CV] learning_rate=1.0, max_depth=7, min_child_weight=5, subsample=0.8 \n"
     ]
    },
    {
     "name": "stderr",
     "output_type": "stream",
     "text": [
      "/Applications/anaconda/envs/tensorflow/lib/python3.6/site-packages/ipykernel_launcher.py:2: RuntimeWarning: invalid value encountered in log\n",
      "  \n"
     ]
    },
    {
     "name": "stdout",
     "output_type": "stream",
     "text": [
      "[CV]  learning_rate=1.0, max_depth=7, min_child_weight=5, subsample=0.6, score=-0.813140, total= 4.0min\n",
      "[CV] learning_rate=1.0, max_depth=7, min_child_weight=5, subsample=0.8 \n"
     ]
    },
    {
     "name": "stderr",
     "output_type": "stream",
     "text": [
      "/Applications/anaconda/envs/tensorflow/lib/python3.6/site-packages/ipykernel_launcher.py:2: RuntimeWarning: invalid value encountered in log\n",
      "  \n"
     ]
    },
    {
     "name": "stdout",
     "output_type": "stream",
     "text": [
      "[CV]  learning_rate=1.0, max_depth=7, min_child_weight=5, subsample=0.8, score=-0.745969, total= 4.0min\n",
      "[CV] learning_rate=1.0, max_depth=7, min_child_weight=5, subsample=0.8 \n"
     ]
    },
    {
     "name": "stderr",
     "output_type": "stream",
     "text": [
      "/Applications/anaconda/envs/tensorflow/lib/python3.6/site-packages/ipykernel_launcher.py:2: RuntimeWarning: invalid value encountered in log\n",
      "  \n"
     ]
    },
    {
     "name": "stdout",
     "output_type": "stream",
     "text": [
      "[CV]  learning_rate=1.0, max_depth=7, min_child_weight=5, subsample=0.8, score=-0.613583, total= 4.0min\n",
      "[CV] learning_rate=1.0, max_depth=7, min_child_weight=5, subsample=1.0 \n"
     ]
    },
    {
     "name": "stderr",
     "output_type": "stream",
     "text": [
      "/Applications/anaconda/envs/tensorflow/lib/python3.6/site-packages/ipykernel_launcher.py:2: RuntimeWarning: invalid value encountered in log\n",
      "  \n"
     ]
    },
    {
     "name": "stdout",
     "output_type": "stream",
     "text": [
      "[CV]  learning_rate=1.0, max_depth=7, min_child_weight=5, subsample=0.8, score=-0.593735, total= 4.0min\n",
      "[CV] learning_rate=1.0, max_depth=7, min_child_weight=5, subsample=1.0 \n"
     ]
    },
    {
     "name": "stderr",
     "output_type": "stream",
     "text": [
      "/Applications/anaconda/envs/tensorflow/lib/python3.6/site-packages/ipykernel_launcher.py:2: RuntimeWarning: invalid value encountered in log\n",
      "  \n"
     ]
    },
    {
     "name": "stdout",
     "output_type": "stream",
     "text": [
      "[CV]  learning_rate=1.0, max_depth=7, min_child_weight=5, subsample=0.8, score=-0.622781, total= 4.1min\n",
      "[CV] learning_rate=1.0, max_depth=7, min_child_weight=5, subsample=1.0 \n"
     ]
    },
    {
     "name": "stderr",
     "output_type": "stream",
     "text": [
      "/Applications/anaconda/envs/tensorflow/lib/python3.6/site-packages/ipykernel_launcher.py:2: RuntimeWarning: invalid value encountered in log\n",
      "  \n"
     ]
    },
    {
     "name": "stdout",
     "output_type": "stream",
     "text": [
      "[CV]  learning_rate=1.0, max_depth=7, min_child_weight=5, subsample=0.8, score=-0.646260, total= 3.9min\n",
      "[CV] learning_rate=1.0, max_depth=7, min_child_weight=5, subsample=1.0 \n"
     ]
    },
    {
     "name": "stderr",
     "output_type": "stream",
     "text": [
      "/Applications/anaconda/envs/tensorflow/lib/python3.6/site-packages/ipykernel_launcher.py:2: RuntimeWarning: invalid value encountered in log\n",
      "  \n"
     ]
    },
    {
     "name": "stdout",
     "output_type": "stream",
     "text": [
      "[CV]  learning_rate=1.0, max_depth=7, min_child_weight=5, subsample=1.0, score=-0.777288, total= 3.9min\n",
      "[CV] learning_rate=1.0, max_depth=7, min_child_weight=5, subsample=1.0 \n"
     ]
    },
    {
     "name": "stderr",
     "output_type": "stream",
     "text": [
      "/Applications/anaconda/envs/tensorflow/lib/python3.6/site-packages/ipykernel_launcher.py:2: RuntimeWarning: invalid value encountered in log\n",
      "  \n",
      "/Applications/anaconda/envs/tensorflow/lib/python3.6/site-packages/ipykernel_launcher.py:2: RuntimeWarning: invalid value encountered in log\n",
      "  \n"
     ]
    },
    {
     "name": "stdout",
     "output_type": "stream",
     "text": [
      "[CV]  learning_rate=1.0, max_depth=7, min_child_weight=5, subsample=1.0, score=-0.533373, total= 3.9min\n",
      "[CV] learning_rate=1.0, max_depth=9, min_child_weight=1, subsample=0.6 \n"
     ]
    },
    {
     "name": "stderr",
     "output_type": "stream",
     "text": [
      "[Parallel(n_jobs=-1)]: Done 357 tasks      | elapsed: 451.6min\n"
     ]
    },
    {
     "name": "stdout",
     "output_type": "stream",
     "text": [
      "[CV]  learning_rate=1.0, max_depth=7, min_child_weight=5, subsample=1.0, score=-0.594617, total= 3.9min\n",
      "[CV] learning_rate=1.0, max_depth=9, min_child_weight=1, subsample=0.6 \n"
     ]
    },
    {
     "name": "stderr",
     "output_type": "stream",
     "text": [
      "/Applications/anaconda/envs/tensorflow/lib/python3.6/site-packages/ipykernel_launcher.py:2: RuntimeWarning: invalid value encountered in log\n",
      "  \n"
     ]
    },
    {
     "name": "stdout",
     "output_type": "stream",
     "text": [
      "[CV]  learning_rate=1.0, max_depth=7, min_child_weight=5, subsample=1.0, score=-0.564653, total= 3.9min\n",
      "[CV] learning_rate=1.0, max_depth=9, min_child_weight=1, subsample=0.6 \n"
     ]
    },
    {
     "name": "stderr",
     "output_type": "stream",
     "text": [
      "/Applications/anaconda/envs/tensorflow/lib/python3.6/site-packages/ipykernel_launcher.py:2: RuntimeWarning: invalid value encountered in log\n",
      "  \n"
     ]
    },
    {
     "name": "stdout",
     "output_type": "stream",
     "text": [
      "[CV]  learning_rate=1.0, max_depth=7, min_child_weight=5, subsample=1.0, score=-0.588701, total= 4.2min\n",
      "[CV] learning_rate=1.0, max_depth=9, min_child_weight=1, subsample=0.6 \n"
     ]
    },
    {
     "name": "stderr",
     "output_type": "stream",
     "text": [
      "/Applications/anaconda/envs/tensorflow/lib/python3.6/site-packages/ipykernel_launcher.py:2: RuntimeWarning: invalid value encountered in log\n",
      "  \n"
     ]
    },
    {
     "name": "stdout",
     "output_type": "stream",
     "text": [
      "[CV]  learning_rate=1.0, max_depth=9, min_child_weight=1, subsample=0.6, score=-0.859995, total= 5.6min\n",
      "[CV] learning_rate=1.0, max_depth=9, min_child_weight=1, subsample=0.6 \n"
     ]
    },
    {
     "name": "stderr",
     "output_type": "stream",
     "text": [
      "/Applications/anaconda/envs/tensorflow/lib/python3.6/site-packages/ipykernel_launcher.py:2: RuntimeWarning: invalid value encountered in log\n",
      "  \n"
     ]
    },
    {
     "name": "stdout",
     "output_type": "stream",
     "text": [
      "[CV]  learning_rate=1.0, max_depth=9, min_child_weight=1, subsample=0.6, score=-0.713805, total= 5.6min\n",
      "[CV] learning_rate=1.0, max_depth=9, min_child_weight=1, subsample=0.8 \n"
     ]
    },
    {
     "name": "stderr",
     "output_type": "stream",
     "text": [
      "/Applications/anaconda/envs/tensorflow/lib/python3.6/site-packages/ipykernel_launcher.py:2: RuntimeWarning: invalid value encountered in log\n",
      "  \n"
     ]
    },
    {
     "name": "stdout",
     "output_type": "stream",
     "text": [
      "[CV]  learning_rate=1.0, max_depth=9, min_child_weight=1, subsample=0.6, score=-0.693485, total= 5.9min\n",
      "[CV] learning_rate=1.0, max_depth=9, min_child_weight=1, subsample=0.8 \n"
     ]
    },
    {
     "name": "stderr",
     "output_type": "stream",
     "text": [
      "/Applications/anaconda/envs/tensorflow/lib/python3.6/site-packages/ipykernel_launcher.py:2: RuntimeWarning: invalid value encountered in log\n",
      "  \n"
     ]
    },
    {
     "name": "stdout",
     "output_type": "stream",
     "text": [
      "[CV]  learning_rate=1.0, max_depth=9, min_child_weight=1, subsample=0.6, score=-0.713763, total= 6.2min\n",
      "[CV] learning_rate=1.0, max_depth=9, min_child_weight=1, subsample=0.8 \n"
     ]
    },
    {
     "name": "stderr",
     "output_type": "stream",
     "text": [
      "/Applications/anaconda/envs/tensorflow/lib/python3.6/site-packages/ipykernel_launcher.py:2: RuntimeWarning: invalid value encountered in log\n",
      "  \n"
     ]
    },
    {
     "name": "stdout",
     "output_type": "stream",
     "text": [
      "[CV]  learning_rate=1.0, max_depth=9, min_child_weight=1, subsample=0.6, score=-0.764017, total= 6.4min\n",
      "[CV] learning_rate=1.0, max_depth=9, min_child_weight=1, subsample=0.8 \n"
     ]
    },
    {
     "name": "stderr",
     "output_type": "stream",
     "text": [
      "/Applications/anaconda/envs/tensorflow/lib/python3.6/site-packages/ipykernel_launcher.py:2: RuntimeWarning: invalid value encountered in log\n",
      "  \n"
     ]
    },
    {
     "name": "stdout",
     "output_type": "stream",
     "text": [
      "[CV]  learning_rate=1.0, max_depth=9, min_child_weight=1, subsample=0.8, score=-0.799298, total= 6.5min\n",
      "[CV] learning_rate=1.0, max_depth=9, min_child_weight=1, subsample=0.8 \n"
     ]
    },
    {
     "name": "stderr",
     "output_type": "stream",
     "text": [
      "/Applications/anaconda/envs/tensorflow/lib/python3.6/site-packages/ipykernel_launcher.py:2: RuntimeWarning: invalid value encountered in log\n",
      "  \n"
     ]
    },
    {
     "name": "stdout",
     "output_type": "stream",
     "text": [
      "[CV]  learning_rate=1.0, max_depth=9, min_child_weight=1, subsample=0.8, score=-0.624622, total=11.4min\n",
      "[CV] learning_rate=1.0, max_depth=9, min_child_weight=1, subsample=1.0 \n"
     ]
    },
    {
     "name": "stderr",
     "output_type": "stream",
     "text": [
      "/Applications/anaconda/envs/tensorflow/lib/python3.6/site-packages/ipykernel_launcher.py:2: RuntimeWarning: invalid value encountered in log\n",
      "  \n"
     ]
    },
    {
     "name": "stdout",
     "output_type": "stream",
     "text": [
      "[CV]  learning_rate=1.0, max_depth=9, min_child_weight=1, subsample=0.8, score=-0.657830, total=13.5min\n",
      "[CV] learning_rate=1.0, max_depth=9, min_child_weight=1, subsample=1.0 \n"
     ]
    },
    {
     "name": "stderr",
     "output_type": "stream",
     "text": [
      "/Applications/anaconda/envs/tensorflow/lib/python3.6/site-packages/ipykernel_launcher.py:2: RuntimeWarning: invalid value encountered in log\n",
      "  \n"
     ]
    },
    {
     "name": "stdout",
     "output_type": "stream",
     "text": [
      "[CV]  learning_rate=1.0, max_depth=9, min_child_weight=1, subsample=0.8, score=-0.626443, total=12.9min\n",
      "[CV] learning_rate=1.0, max_depth=9, min_child_weight=1, subsample=1.0 \n"
     ]
    },
    {
     "name": "stderr",
     "output_type": "stream",
     "text": [
      "/Applications/anaconda/envs/tensorflow/lib/python3.6/site-packages/ipykernel_launcher.py:2: RuntimeWarning: invalid value encountered in log\n",
      "  \n"
     ]
    },
    {
     "name": "stdout",
     "output_type": "stream",
     "text": [
      "[CV]  learning_rate=1.0, max_depth=9, min_child_weight=1, subsample=0.8, score=-0.684981, total=12.8min\n",
      "[CV] learning_rate=1.0, max_depth=9, min_child_weight=1, subsample=1.0 \n"
     ]
    },
    {
     "name": "stderr",
     "output_type": "stream",
     "text": [
      "/Applications/anaconda/envs/tensorflow/lib/python3.6/site-packages/ipykernel_launcher.py:2: RuntimeWarning: invalid value encountered in log\n",
      "  \n"
     ]
    },
    {
     "name": "stdout",
     "output_type": "stream",
     "text": [
      "[CV]  learning_rate=1.0, max_depth=9, min_child_weight=1, subsample=1.0, score=-0.752692, total= 7.5min\n",
      "[CV] learning_rate=1.0, max_depth=9, min_child_weight=1, subsample=1.0 \n"
     ]
    },
    {
     "name": "stderr",
     "output_type": "stream",
     "text": [
      "/Applications/anaconda/envs/tensorflow/lib/python3.6/site-packages/ipykernel_launcher.py:2: RuntimeWarning: invalid value encountered in log\n",
      "  \n"
     ]
    },
    {
     "name": "stdout",
     "output_type": "stream",
     "text": [
      "[CV]  learning_rate=1.0, max_depth=9, min_child_weight=1, subsample=1.0, score=-0.570461, total= 5.0min\n",
      "[CV] learning_rate=1.0, max_depth=9, min_child_weight=3, subsample=0.6 \n"
     ]
    },
    {
     "name": "stderr",
     "output_type": "stream",
     "text": [
      "/Applications/anaconda/envs/tensorflow/lib/python3.6/site-packages/ipykernel_launcher.py:2: RuntimeWarning: invalid value encountered in log\n",
      "  \n"
     ]
    },
    {
     "name": "stdout",
     "output_type": "stream",
     "text": [
      "[CV]  learning_rate=1.0, max_depth=9, min_child_weight=1, subsample=1.0, score=-0.602331, total= 4.8min\n",
      "[CV] learning_rate=1.0, max_depth=9, min_child_weight=3, subsample=0.6 \n"
     ]
    },
    {
     "name": "stderr",
     "output_type": "stream",
     "text": [
      "/Applications/anaconda/envs/tensorflow/lib/python3.6/site-packages/ipykernel_launcher.py:2: RuntimeWarning: invalid value encountered in log\n",
      "  \n"
     ]
    },
    {
     "name": "stdout",
     "output_type": "stream",
     "text": [
      "[CV]  learning_rate=1.0, max_depth=9, min_child_weight=1, subsample=1.0, score=-0.584149, total= 4.8min\n",
      "[CV] learning_rate=1.0, max_depth=9, min_child_weight=3, subsample=0.6 \n"
     ]
    },
    {
     "name": "stderr",
     "output_type": "stream",
     "text": [
      "/Applications/anaconda/envs/tensorflow/lib/python3.6/site-packages/ipykernel_launcher.py:2: RuntimeWarning: invalid value encountered in log\n",
      "  \n"
     ]
    },
    {
     "name": "stdout",
     "output_type": "stream",
     "text": [
      "[CV]  learning_rate=1.0, max_depth=9, min_child_weight=1, subsample=1.0, score=-0.617400, total= 5.5min\n",
      "[CV] learning_rate=1.0, max_depth=9, min_child_weight=3, subsample=0.6 \n"
     ]
    },
    {
     "name": "stderr",
     "output_type": "stream",
     "text": [
      "/Applications/anaconda/envs/tensorflow/lib/python3.6/site-packages/ipykernel_launcher.py:2: RuntimeWarning: invalid value encountered in log\n",
      "  \n"
     ]
    },
    {
     "name": "stdout",
     "output_type": "stream",
     "text": [
      "[CV]  learning_rate=1.0, max_depth=9, min_child_weight=3, subsample=0.6, score=-0.817345, total= 5.5min\n",
      "[CV] learning_rate=1.0, max_depth=9, min_child_weight=3, subsample=0.6 \n"
     ]
    },
    {
     "name": "stderr",
     "output_type": "stream",
     "text": [
      "/Applications/anaconda/envs/tensorflow/lib/python3.6/site-packages/ipykernel_launcher.py:2: RuntimeWarning: invalid value encountered in log\n",
      "  \n"
     ]
    },
    {
     "name": "stdout",
     "output_type": "stream",
     "text": [
      "[CV]  learning_rate=1.0, max_depth=9, min_child_weight=3, subsample=0.6, score=-0.687805, total= 9.0min\n",
      "[CV] learning_rate=1.0, max_depth=9, min_child_weight=3, subsample=0.8 \n"
     ]
    },
    {
     "name": "stderr",
     "output_type": "stream",
     "text": [
      "/Applications/anaconda/envs/tensorflow/lib/python3.6/site-packages/ipykernel_launcher.py:2: RuntimeWarning: invalid value encountered in log\n",
      "  \n"
     ]
    },
    {
     "name": "stdout",
     "output_type": "stream",
     "text": [
      "[CV]  learning_rate=1.0, max_depth=9, min_child_weight=3, subsample=0.6, score=-0.734391, total= 9.0min\n",
      "[CV] learning_rate=1.0, max_depth=9, min_child_weight=3, subsample=0.8 \n"
     ]
    },
    {
     "name": "stderr",
     "output_type": "stream",
     "text": [
      "/Applications/anaconda/envs/tensorflow/lib/python3.6/site-packages/ipykernel_launcher.py:2: RuntimeWarning: invalid value encountered in log\n",
      "  \n"
     ]
    },
    {
     "name": "stdout",
     "output_type": "stream",
     "text": [
      "[CV]  learning_rate=1.0, max_depth=9, min_child_weight=3, subsample=0.6, score=-0.688317, total= 8.7min\n",
      "[CV] learning_rate=1.0, max_depth=9, min_child_weight=3, subsample=0.8 \n"
     ]
    },
    {
     "name": "stderr",
     "output_type": "stream",
     "text": [
      "/Applications/anaconda/envs/tensorflow/lib/python3.6/site-packages/ipykernel_launcher.py:2: RuntimeWarning: invalid value encountered in log\n",
      "  \n"
     ]
    },
    {
     "name": "stdout",
     "output_type": "stream",
     "text": [
      "[CV]  learning_rate=1.0, max_depth=9, min_child_weight=3, subsample=0.6, score=-0.737866, total= 8.8min\n",
      "[CV] learning_rate=1.0, max_depth=9, min_child_weight=3, subsample=0.8 \n"
     ]
    },
    {
     "name": "stderr",
     "output_type": "stream",
     "text": [
      "/Applications/anaconda/envs/tensorflow/lib/python3.6/site-packages/ipykernel_launcher.py:2: RuntimeWarning: invalid value encountered in log\n",
      "  \n"
     ]
    },
    {
     "name": "stdout",
     "output_type": "stream",
     "text": [
      "[CV]  learning_rate=1.0, max_depth=9, min_child_weight=3, subsample=0.8, score=-0.774951, total= 6.0min\n",
      "[CV] learning_rate=1.0, max_depth=9, min_child_weight=3, subsample=0.8 \n"
     ]
    },
    {
     "name": "stderr",
     "output_type": "stream",
     "text": [
      "/Applications/anaconda/envs/tensorflow/lib/python3.6/site-packages/ipykernel_launcher.py:2: RuntimeWarning: invalid value encountered in log\n",
      "  \n"
     ]
    },
    {
     "name": "stdout",
     "output_type": "stream",
     "text": [
      "[CV]  learning_rate=1.0, max_depth=9, min_child_weight=3, subsample=0.8, score=-0.581365, total= 6.0min\n",
      "[CV] learning_rate=1.0, max_depth=9, min_child_weight=3, subsample=1.0 \n"
     ]
    },
    {
     "name": "stderr",
     "output_type": "stream",
     "text": [
      "/Applications/anaconda/envs/tensorflow/lib/python3.6/site-packages/ipykernel_launcher.py:2: RuntimeWarning: invalid value encountered in log\n",
      "  \n"
     ]
    },
    {
     "name": "stdout",
     "output_type": "stream",
     "text": [
      "[CV]  learning_rate=1.0, max_depth=9, min_child_weight=3, subsample=0.8, score=-0.635695, total= 6.0min\n",
      "[CV] learning_rate=1.0, max_depth=9, min_child_weight=3, subsample=1.0 \n"
     ]
    },
    {
     "name": "stderr",
     "output_type": "stream",
     "text": [
      "/Applications/anaconda/envs/tensorflow/lib/python3.6/site-packages/ipykernel_launcher.py:2: RuntimeWarning: invalid value encountered in log\n",
      "  \n"
     ]
    },
    {
     "name": "stdout",
     "output_type": "stream",
     "text": [
      "[CV]  learning_rate=1.0, max_depth=9, min_child_weight=3, subsample=0.8, score=-0.592428, total= 6.1min\n",
      "[CV] learning_rate=1.0, max_depth=9, min_child_weight=3, subsample=1.0 \n"
     ]
    },
    {
     "name": "stderr",
     "output_type": "stream",
     "text": [
      "[Parallel(n_jobs=-1)]: Done 384 tasks      | elapsed: 499.7min\n",
      "/Applications/anaconda/envs/tensorflow/lib/python3.6/site-packages/ipykernel_launcher.py:2: RuntimeWarning: invalid value encountered in log\n",
      "  \n"
     ]
    },
    {
     "name": "stdout",
     "output_type": "stream",
     "text": [
      "[CV]  learning_rate=1.0, max_depth=9, min_child_weight=3, subsample=0.8, score=-0.673430, total= 5.6min\n",
      "[CV] learning_rate=1.0, max_depth=9, min_child_weight=3, subsample=1.0 \n"
     ]
    },
    {
     "name": "stderr",
     "output_type": "stream",
     "text": [
      "/Applications/anaconda/envs/tensorflow/lib/python3.6/site-packages/ipykernel_launcher.py:2: RuntimeWarning: invalid value encountered in log\n",
      "  \n"
     ]
    },
    {
     "name": "stdout",
     "output_type": "stream",
     "text": [
      "[CV]  learning_rate=1.0, max_depth=9, min_child_weight=3, subsample=1.0, score=-0.699115, total= 5.6min\n",
      "[CV] learning_rate=1.0, max_depth=9, min_child_weight=3, subsample=1.0 \n"
     ]
    },
    {
     "name": "stderr",
     "output_type": "stream",
     "text": [
      "/Applications/anaconda/envs/tensorflow/lib/python3.6/site-packages/ipykernel_launcher.py:2: RuntimeWarning: invalid value encountered in log\n",
      "  \n"
     ]
    },
    {
     "name": "stdout",
     "output_type": "stream",
     "text": [
      "[CV]  learning_rate=1.0, max_depth=9, min_child_weight=3, subsample=1.0, score=-0.604883, total= 5.2min\n",
      "[CV] learning_rate=1.0, max_depth=9, min_child_weight=5, subsample=0.6 \n"
     ]
    },
    {
     "name": "stderr",
     "output_type": "stream",
     "text": [
      "/Applications/anaconda/envs/tensorflow/lib/python3.6/site-packages/ipykernel_launcher.py:2: RuntimeWarning: invalid value encountered in log\n",
      "  \n"
     ]
    },
    {
     "name": "stdout",
     "output_type": "stream",
     "text": [
      "[CV]  learning_rate=1.0, max_depth=9, min_child_weight=3, subsample=1.0, score=-0.602462, total= 4.6min\n",
      "[CV] learning_rate=1.0, max_depth=9, min_child_weight=5, subsample=0.6 \n"
     ]
    },
    {
     "name": "stderr",
     "output_type": "stream",
     "text": [
      "/Applications/anaconda/envs/tensorflow/lib/python3.6/site-packages/ipykernel_launcher.py:2: RuntimeWarning: invalid value encountered in log\n",
      "  \n"
     ]
    },
    {
     "name": "stdout",
     "output_type": "stream",
     "text": [
      "[CV]  learning_rate=1.0, max_depth=9, min_child_weight=3, subsample=1.0, score=-0.587192, total= 4.2min\n",
      "[CV] learning_rate=1.0, max_depth=9, min_child_weight=5, subsample=0.6 \n"
     ]
    },
    {
     "name": "stderr",
     "output_type": "stream",
     "text": [
      "/Applications/anaconda/envs/tensorflow/lib/python3.6/site-packages/ipykernel_launcher.py:2: RuntimeWarning: invalid value encountered in log\n",
      "  \n"
     ]
    },
    {
     "name": "stdout",
     "output_type": "stream",
     "text": [
      "[CV]  learning_rate=1.0, max_depth=9, min_child_weight=3, subsample=1.0, score=-0.649406, total= 4.2min\n",
      "[CV] learning_rate=1.0, max_depth=9, min_child_weight=5, subsample=0.6 \n"
     ]
    },
    {
     "name": "stderr",
     "output_type": "stream",
     "text": [
      "/Applications/anaconda/envs/tensorflow/lib/python3.6/site-packages/ipykernel_launcher.py:2: RuntimeWarning: invalid value encountered in log\n",
      "  \n"
     ]
    },
    {
     "name": "stdout",
     "output_type": "stream",
     "text": [
      "[CV]  learning_rate=1.0, max_depth=9, min_child_weight=5, subsample=0.6, score=-0.833352, total= 4.1min\n",
      "[CV] learning_rate=1.0, max_depth=9, min_child_weight=5, subsample=0.6 \n"
     ]
    },
    {
     "name": "stderr",
     "output_type": "stream",
     "text": [
      "/Applications/anaconda/envs/tensorflow/lib/python3.6/site-packages/ipykernel_launcher.py:2: RuntimeWarning: invalid value encountered in log\n",
      "  \n"
     ]
    },
    {
     "name": "stdout",
     "output_type": "stream",
     "text": [
      "[CV]  learning_rate=1.0, max_depth=9, min_child_weight=5, subsample=0.6, score=-0.702287, total= 4.1min\n",
      "[CV] learning_rate=1.0, max_depth=9, min_child_weight=5, subsample=0.8 \n"
     ]
    },
    {
     "name": "stderr",
     "output_type": "stream",
     "text": [
      "/Applications/anaconda/envs/tensorflow/lib/python3.6/site-packages/ipykernel_launcher.py:2: RuntimeWarning: invalid value encountered in log\n",
      "  \n"
     ]
    },
    {
     "name": "stdout",
     "output_type": "stream",
     "text": [
      "[CV]  learning_rate=1.0, max_depth=9, min_child_weight=5, subsample=0.6, score=-0.737638, total= 4.1min\n",
      "[CV] learning_rate=1.0, max_depth=9, min_child_weight=5, subsample=0.8 \n"
     ]
    },
    {
     "name": "stderr",
     "output_type": "stream",
     "text": [
      "/Applications/anaconda/envs/tensorflow/lib/python3.6/site-packages/ipykernel_launcher.py:2: RuntimeWarning: invalid value encountered in log\n",
      "  \n"
     ]
    },
    {
     "name": "stdout",
     "output_type": "stream",
     "text": [
      "[CV]  learning_rate=1.0, max_depth=9, min_child_weight=5, subsample=0.6, score=-0.686497, total= 4.1min\n",
      "[CV] learning_rate=1.0, max_depth=9, min_child_weight=5, subsample=0.8 \n"
     ]
    },
    {
     "name": "stderr",
     "output_type": "stream",
     "text": [
      "/Applications/anaconda/envs/tensorflow/lib/python3.6/site-packages/ipykernel_launcher.py:2: RuntimeWarning: invalid value encountered in log\n",
      "  \n"
     ]
    },
    {
     "name": "stdout",
     "output_type": "stream",
     "text": [
      "[CV]  learning_rate=1.0, max_depth=9, min_child_weight=5, subsample=0.6, score=-0.861105, total= 4.1min\n",
      "[CV] learning_rate=1.0, max_depth=9, min_child_weight=5, subsample=0.8 \n"
     ]
    },
    {
     "name": "stderr",
     "output_type": "stream",
     "text": [
      "/Applications/anaconda/envs/tensorflow/lib/python3.6/site-packages/ipykernel_launcher.py:2: RuntimeWarning: invalid value encountered in log\n",
      "  \n"
     ]
    },
    {
     "name": "stdout",
     "output_type": "stream",
     "text": [
      "[CV]  learning_rate=1.0, max_depth=9, min_child_weight=5, subsample=0.8, score=-0.829518, total= 4.1min\n",
      "[CV] learning_rate=1.0, max_depth=9, min_child_weight=5, subsample=0.8 \n"
     ]
    },
    {
     "name": "stderr",
     "output_type": "stream",
     "text": [
      "/Applications/anaconda/envs/tensorflow/lib/python3.6/site-packages/ipykernel_launcher.py:2: RuntimeWarning: invalid value encountered in log\n",
      "  \n"
     ]
    },
    {
     "name": "stdout",
     "output_type": "stream",
     "text": [
      "[CV]  learning_rate=1.0, max_depth=9, min_child_weight=5, subsample=0.8, score=-0.609911, total= 4.2min\n",
      "[CV] learning_rate=1.0, max_depth=9, min_child_weight=5, subsample=1.0 \n"
     ]
    },
    {
     "name": "stderr",
     "output_type": "stream",
     "text": [
      "/Applications/anaconda/envs/tensorflow/lib/python3.6/site-packages/ipykernel_launcher.py:2: RuntimeWarning: invalid value encountered in log\n",
      "  \n"
     ]
    },
    {
     "name": "stdout",
     "output_type": "stream",
     "text": [
      "[CV]  learning_rate=1.0, max_depth=9, min_child_weight=5, subsample=0.8, score=-0.672699, total= 4.2min\n",
      "[CV] learning_rate=1.0, max_depth=9, min_child_weight=5, subsample=1.0 \n"
     ]
    },
    {
     "name": "stderr",
     "output_type": "stream",
     "text": [
      "/Applications/anaconda/envs/tensorflow/lib/python3.6/site-packages/ipykernel_launcher.py:2: RuntimeWarning: invalid value encountered in log\n",
      "  \n"
     ]
    },
    {
     "name": "stdout",
     "output_type": "stream",
     "text": [
      "[CV]  learning_rate=1.0, max_depth=9, min_child_weight=5, subsample=0.8, score=-0.611788, total= 4.5min\n",
      "[CV] learning_rate=1.0, max_depth=9, min_child_weight=5, subsample=1.0 \n"
     ]
    },
    {
     "name": "stderr",
     "output_type": "stream",
     "text": [
      "/Applications/anaconda/envs/tensorflow/lib/python3.6/site-packages/ipykernel_launcher.py:2: RuntimeWarning: invalid value encountered in log\n",
      "  \n"
     ]
    },
    {
     "name": "stdout",
     "output_type": "stream",
     "text": [
      "[CV]  learning_rate=1.0, max_depth=9, min_child_weight=5, subsample=0.8, score=-0.683581, total= 4.8min\n",
      "[CV] learning_rate=1.0, max_depth=9, min_child_weight=5, subsample=1.0 \n"
     ]
    },
    {
     "name": "stderr",
     "output_type": "stream",
     "text": [
      "/Applications/anaconda/envs/tensorflow/lib/python3.6/site-packages/ipykernel_launcher.py:2: RuntimeWarning: invalid value encountered in log\n",
      "  \n"
     ]
    },
    {
     "name": "stdout",
     "output_type": "stream",
     "text": [
      "[CV]  learning_rate=1.0, max_depth=9, min_child_weight=5, subsample=1.0, score=-0.774988, total= 5.2min\n",
      "[CV] learning_rate=1.0, max_depth=9, min_child_weight=5, subsample=1.0 \n"
     ]
    },
    {
     "name": "stderr",
     "output_type": "stream",
     "text": [
      "/Applications/anaconda/envs/tensorflow/lib/python3.6/site-packages/ipykernel_launcher.py:2: RuntimeWarning: invalid value encountered in log\n",
      "  \n"
     ]
    },
    {
     "name": "stdout",
     "output_type": "stream",
     "text": [
      "[CV]  learning_rate=1.0, max_depth=9, min_child_weight=5, subsample=1.0, score=-0.564616, total= 5.2min\n"
     ]
    },
    {
     "name": "stderr",
     "output_type": "stream",
     "text": [
      "/Applications/anaconda/envs/tensorflow/lib/python3.6/site-packages/ipykernel_launcher.py:2: RuntimeWarning: invalid value encountered in log\n",
      "  \n"
     ]
    },
    {
     "name": "stdout",
     "output_type": "stream",
     "text": [
      "[CV]  learning_rate=1.0, max_depth=9, min_child_weight=5, subsample=1.0, score=-0.626797, total= 5.0min\n"
     ]
    },
    {
     "name": "stderr",
     "output_type": "stream",
     "text": [
      "/Applications/anaconda/envs/tensorflow/lib/python3.6/site-packages/ipykernel_launcher.py:2: RuntimeWarning: invalid value encountered in log\n",
      "  \n"
     ]
    },
    {
     "name": "stdout",
     "output_type": "stream",
     "text": [
      "[CV]  learning_rate=1.0, max_depth=9, min_child_weight=5, subsample=1.0, score=-0.580182, total= 4.4min\n"
     ]
    },
    {
     "name": "stderr",
     "output_type": "stream",
     "text": [
      "/Applications/anaconda/envs/tensorflow/lib/python3.6/site-packages/ipykernel_launcher.py:2: RuntimeWarning: invalid value encountered in log\n",
      "  \n"
     ]
    },
    {
     "name": "stdout",
     "output_type": "stream",
     "text": [
      "[CV]  learning_rate=1.0, max_depth=9, min_child_weight=5, subsample=1.0, score=-0.611458, total= 3.1min\n"
     ]
    },
    {
     "name": "stderr",
     "output_type": "stream",
     "text": [
      "[Parallel(n_jobs=-1)]: Done 405 out of 405 | elapsed: 523.0min finished\n"
     ]
    },
    {
     "name": "stdout",
     "output_type": "stream",
     "text": [
      "Best: -0.518587 using {'learning_rate': 0.7, 'max_depth': 5, 'min_child_weight': 1, 'subsample': 1.0}\n",
      "-0.559749 (0.074844) with: {'learning_rate': 0.7, 'max_depth': 5, 'min_child_weight': 1, 'subsample': 0.6}\n",
      "-0.534305 (0.066594) with: {'learning_rate': 0.7, 'max_depth': 5, 'min_child_weight': 1, 'subsample': 0.8}\n",
      "-0.518583 (0.069426) with: {'learning_rate': 0.7, 'max_depth': 5, 'min_child_weight': 1, 'subsample': 1.0}\n",
      "-0.551740 (0.058935) with: {'learning_rate': 0.7, 'max_depth': 5, 'min_child_weight': 3, 'subsample': 0.6}\n",
      "-0.535549 (0.065882) with: {'learning_rate': 0.7, 'max_depth': 5, 'min_child_weight': 3, 'subsample': 0.8}\n",
      "-0.526388 (0.060136) with: {'learning_rate': 0.7, 'max_depth': 5, 'min_child_weight': 3, 'subsample': 1.0}\n",
      "-0.555443 (0.063707) with: {'learning_rate': 0.7, 'max_depth': 5, 'min_child_weight': 5, 'subsample': 0.6}\n",
      "-0.531923 (0.066778) with: {'learning_rate': 0.7, 'max_depth': 5, 'min_child_weight': 5, 'subsample': 0.8}\n",
      "-0.524696 (0.079370) with: {'learning_rate': 0.7, 'max_depth': 5, 'min_child_weight': 5, 'subsample': 1.0}\n",
      "-0.608436 (0.077051) with: {'learning_rate': 0.7, 'max_depth': 7, 'min_child_weight': 1, 'subsample': 0.6}\n",
      "-0.582770 (0.074976) with: {'learning_rate': 0.7, 'max_depth': 7, 'min_child_weight': 1, 'subsample': 0.8}\n",
      "-0.553462 (0.077043) with: {'learning_rate': 0.7, 'max_depth': 7, 'min_child_weight': 1, 'subsample': 1.0}\n",
      "-0.602936 (0.068239) with: {'learning_rate': 0.7, 'max_depth': 7, 'min_child_weight': 3, 'subsample': 0.6}\n",
      "-0.576219 (0.057085) with: {'learning_rate': 0.7, 'max_depth': 7, 'min_child_weight': 3, 'subsample': 0.8}\n",
      "-0.554263 (0.073433) with: {'learning_rate': 0.7, 'max_depth': 7, 'min_child_weight': 3, 'subsample': 1.0}\n",
      "-0.599773 (0.052430) with: {'learning_rate': 0.7, 'max_depth': 7, 'min_child_weight': 5, 'subsample': 0.6}\n",
      "-0.569348 (0.060400) with: {'learning_rate': 0.7, 'max_depth': 7, 'min_child_weight': 5, 'subsample': 0.8}\n",
      "-0.544554 (0.063278) with: {'learning_rate': 0.7, 'max_depth': 7, 'min_child_weight': 5, 'subsample': 1.0}\n",
      "-0.633222 (0.066392) with: {'learning_rate': 0.7, 'max_depth': 9, 'min_child_weight': 1, 'subsample': 0.6}\n",
      "-0.592634 (0.057272) with: {'learning_rate': 0.7, 'max_depth': 9, 'min_child_weight': 1, 'subsample': 0.8}\n",
      "-0.566919 (0.072919) with: {'learning_rate': 0.7, 'max_depth': 9, 'min_child_weight': 1, 'subsample': 1.0}\n",
      "-0.621631 (0.066466) with: {'learning_rate': 0.7, 'max_depth': 9, 'min_child_weight': 3, 'subsample': 0.6}\n",
      "-0.588404 (0.072727) with: {'learning_rate': 0.7, 'max_depth': 9, 'min_child_weight': 3, 'subsample': 0.8}\n",
      "-0.556967 (0.056445) with: {'learning_rate': 0.7, 'max_depth': 9, 'min_child_weight': 3, 'subsample': 1.0}\n",
      "-0.637765 (0.065999) with: {'learning_rate': 0.7, 'max_depth': 9, 'min_child_weight': 5, 'subsample': 0.6}\n",
      "-0.577663 (0.060812) with: {'learning_rate': 0.7, 'max_depth': 9, 'min_child_weight': 5, 'subsample': 0.8}\n",
      "-0.570358 (0.059854) with: {'learning_rate': 0.7, 'max_depth': 9, 'min_child_weight': 5, 'subsample': 1.0}\n",
      "-0.613033 (0.085681) with: {'learning_rate': 0.8, 'max_depth': 5, 'min_child_weight': 1, 'subsample': 0.6}\n",
      "-0.553777 (0.061851) with: {'learning_rate': 0.8, 'max_depth': 5, 'min_child_weight': 1, 'subsample': 0.8}\n",
      "-0.548224 (0.058057) with: {'learning_rate': 0.8, 'max_depth': 5, 'min_child_weight': 1, 'subsample': 1.0}\n",
      "-0.575770 (0.067437) with: {'learning_rate': 0.8, 'max_depth': 5, 'min_child_weight': 3, 'subsample': 0.6}\n",
      "-0.572037 (0.061659) with: {'learning_rate': 0.8, 'max_depth': 5, 'min_child_weight': 3, 'subsample': 0.8}\n",
      "-0.538387 (0.066932) with: {'learning_rate': 0.8, 'max_depth': 5, 'min_child_weight': 3, 'subsample': 1.0}\n",
      "-0.576793 (0.062911) with: {'learning_rate': 0.8, 'max_depth': 5, 'min_child_weight': 5, 'subsample': 0.6}\n",
      "-0.543992 (0.074990) with: {'learning_rate': 0.8, 'max_depth': 5, 'min_child_weight': 5, 'subsample': 0.8}\n",
      "-0.529488 (0.068153) with: {'learning_rate': 0.8, 'max_depth': 5, 'min_child_weight': 5, 'subsample': 1.0}\n",
      "-0.634901 (0.062929) with: {'learning_rate': 0.8, 'max_depth': 7, 'min_child_weight': 1, 'subsample': 0.6}\n",
      "-0.603798 (0.069750) with: {'learning_rate': 0.8, 'max_depth': 7, 'min_child_weight': 1, 'subsample': 0.8}\n",
      "-0.579077 (0.069379) with: {'learning_rate': 0.8, 'max_depth': 7, 'min_child_weight': 1, 'subsample': 1.0}\n",
      "-0.643377 (0.071908) with: {'learning_rate': 0.8, 'max_depth': 7, 'min_child_weight': 3, 'subsample': 0.6}\n",
      "-0.612789 (0.070087) with: {'learning_rate': 0.8, 'max_depth': 7, 'min_child_weight': 3, 'subsample': 0.8}\n",
      "-0.579022 (0.078350) with: {'learning_rate': 0.8, 'max_depth': 7, 'min_child_weight': 3, 'subsample': 1.0}\n",
      "-0.616735 (0.054882) with: {'learning_rate': 0.8, 'max_depth': 7, 'min_child_weight': 5, 'subsample': 0.6}\n",
      "-0.608507 (0.072498) with: {'learning_rate': 0.8, 'max_depth': 7, 'min_child_weight': 5, 'subsample': 0.8}\n",
      "-0.572495 (0.067057) with: {'learning_rate': 0.8, 'max_depth': 7, 'min_child_weight': 5, 'subsample': 1.0}\n",
      "-0.673660 (0.064935) with: {'learning_rate': 0.8, 'max_depth': 9, 'min_child_weight': 1, 'subsample': 0.6}\n",
      "-0.601995 (0.061760) with: {'learning_rate': 0.8, 'max_depth': 9, 'min_child_weight': 1, 'subsample': 0.8}\n",
      "-0.581604 (0.059189) with: {'learning_rate': 0.8, 'max_depth': 9, 'min_child_weight': 1, 'subsample': 1.0}\n",
      "-0.668111 (0.056227) with: {'learning_rate': 0.8, 'max_depth': 9, 'min_child_weight': 3, 'subsample': 0.6}\n",
      "-0.634603 (0.075053) with: {'learning_rate': 0.8, 'max_depth': 9, 'min_child_weight': 3, 'subsample': 0.8}\n",
      "-0.579049 (0.055416) with: {'learning_rate': 0.8, 'max_depth': 9, 'min_child_weight': 3, 'subsample': 1.0}\n",
      "-0.675663 (0.069708) with: {'learning_rate': 0.8, 'max_depth': 9, 'min_child_weight': 5, 'subsample': 0.6}\n",
      "-0.609579 (0.059595) with: {'learning_rate': 0.8, 'max_depth': 9, 'min_child_weight': 5, 'subsample': 0.8}\n",
      "-0.586203 (0.075007) with: {'learning_rate': 0.8, 'max_depth': 9, 'min_child_weight': 5, 'subsample': 1.0}\n",
      "-0.613171 (0.064362) with: {'learning_rate': 1.0, 'max_depth': 5, 'min_child_weight': 1, 'subsample': 0.6}\n",
      "-0.594739 (0.075504) with: {'learning_rate': 1.0, 'max_depth': 5, 'min_child_weight': 1, 'subsample': 0.8}\n",
      "-0.574465 (0.070247) with: {'learning_rate': 1.0, 'max_depth': 5, 'min_child_weight': 1, 'subsample': 1.0}\n",
      "-0.591552 (0.057333) with: {'learning_rate': 1.0, 'max_depth': 5, 'min_child_weight': 3, 'subsample': 0.6}\n",
      "-0.577979 (0.059223) with: {'learning_rate': 1.0, 'max_depth': 5, 'min_child_weight': 3, 'subsample': 0.8}\n",
      "-0.596489 (0.085039) with: {'learning_rate': 1.0, 'max_depth': 5, 'min_child_weight': 3, 'subsample': 1.0}\n",
      "-0.600504 (0.059924) with: {'learning_rate': 1.0, 'max_depth': 5, 'min_child_weight': 5, 'subsample': 0.6}"
     ]
    },
    {
     "name": "stderr",
     "output_type": "stream",
     "text": [
      "/Applications/anaconda/envs/tensorflow/lib/python3.6/site-packages/sklearn/model_selection/_search.py:667: DeprecationWarning: The grid_scores_ attribute was deprecated in version 0.18 in favor of the more elaborate cv_results_ attribute. The grid_scores_ attribute will not be available from 0.20\n",
      "  DeprecationWarning)\n"
     ]
    },
    {
     "name": "stdout",
     "output_type": "stream",
     "text": [
      "\n",
      "-0.599722 (0.062366) with: {'learning_rate': 1.0, 'max_depth': 5, 'min_child_weight': 5, 'subsample': 0.8}\n",
      "-0.574986 (0.056022) with: {'learning_rate': 1.0, 'max_depth': 5, 'min_child_weight': 5, 'subsample': 1.0}\n",
      "-0.689422 (0.056905) with: {'learning_rate': 1.0, 'max_depth': 7, 'min_child_weight': 1, 'subsample': 0.6}\n",
      "-0.651526 (0.077273) with: {'learning_rate': 1.0, 'max_depth': 7, 'min_child_weight': 1, 'subsample': 0.8}\n",
      "-0.600641 (0.060578) with: {'learning_rate': 1.0, 'max_depth': 7, 'min_child_weight': 1, 'subsample': 1.0}\n",
      "-0.708391 (0.049081) with: {'learning_rate': 1.0, 'max_depth': 7, 'min_child_weight': 3, 'subsample': 0.6}\n",
      "-0.655206 (0.059508) with: {'learning_rate': 1.0, 'max_depth': 7, 'min_child_weight': 3, 'subsample': 0.8}\n",
      "-0.610521 (0.071830) with: {'learning_rate': 1.0, 'max_depth': 7, 'min_child_weight': 3, 'subsample': 1.0}\n",
      "-0.721175 (0.073855) with: {'learning_rate': 1.0, 'max_depth': 7, 'min_child_weight': 5, 'subsample': 0.6}\n",
      "-0.644466 (0.053486) with: {'learning_rate': 1.0, 'max_depth': 7, 'min_child_weight': 5, 'subsample': 0.8}\n",
      "-0.611726 (0.085544) with: {'learning_rate': 1.0, 'max_depth': 7, 'min_child_weight': 5, 'subsample': 1.0}\n",
      "-0.749013 (0.060179) with: {'learning_rate': 1.0, 'max_depth': 9, 'min_child_weight': 1, 'subsample': 0.6}\n",
      "-0.678635 (0.064303) with: {'learning_rate': 1.0, 'max_depth': 9, 'min_child_weight': 1, 'subsample': 0.8}\n",
      "-0.625406 (0.065604) with: {'learning_rate': 1.0, 'max_depth': 9, 'min_child_weight': 1, 'subsample': 1.0}\n",
      "-0.733145 (0.047284) with: {'learning_rate': 1.0, 'max_depth': 9, 'min_child_weight': 3, 'subsample': 0.6}\n",
      "-0.651574 (0.069827) with: {'learning_rate': 1.0, 'max_depth': 9, 'min_child_weight': 3, 'subsample': 0.8}\n",
      "-0.628612 (0.040904) with: {'learning_rate': 1.0, 'max_depth': 9, 'min_child_weight': 3, 'subsample': 1.0}\n",
      "-0.764176 (0.070355) with: {'learning_rate': 1.0, 'max_depth': 9, 'min_child_weight': 5, 'subsample': 0.6}\n",
      "-0.681499 (0.079970) with: {'learning_rate': 1.0, 'max_depth': 9, 'min_child_weight': 5, 'subsample': 0.8}\n",
      "-0.631608 (0.074993) with: {'learning_rate': 1.0, 'max_depth': 9, 'min_child_weight': 5, 'subsample': 1.0}\n"
     ]
    }
   ],
   "source": [
    "xgb_parameters = {'learning_rate' : [0.7, 0.8, 1.0], \n",
    "         'min_child_weight' : [1, 3, 5],\n",
    "         'max_depth' : [5, 7 ,9],\n",
    "         'subsample' : [0.6, 0.8, 1.0]}\n",
    "\n",
    "score, best_parameters, best_xgb_model = AutoGridSearch(xgb_parameters,xgb_regressor, train_data_X, train_data_y)"
   ]
  },
  {
   "cell_type": "code",
   "execution_count": null,
   "metadata": {
    "collapsed": true
   },
   "outputs": [],
   "source": [
    "print (score)\n",
    "best_xgb_parameters = {'learning_rate' : 0.8, \n",
    "         'min_child_weight' : 1,\n",
    "         'max_depth' : 7,\n",
    "         'subsample' : 0.8}"
   ]
  },
  {
   "cell_type": "markdown",
   "metadata": {},
   "source": [
    "----\n",
    "## PART 4: Result Comparsion with Simple Linear Regression"
   ]
  },
  {
   "cell_type": "code",
   "execution_count": 39,
   "metadata": {
    "collapsed": true
   },
   "outputs": [],
   "source": [
    "lr_regressor = lr()"
   ]
  },
  {
   "cell_type": "code",
   "execution_count": 40,
   "metadata": {},
   "outputs": [
    {
     "name": "stdout",
     "output_type": "stream",
     "text": [
      "[CV]  ................................................................\n"
     ]
    },
    {
     "name": "stderr",
     "output_type": "stream",
     "text": [
      "/Applications/anaconda/envs/tensorflow/lib/python3.6/site-packages/ipykernel_launcher.py:2: RuntimeWarning: invalid value encountered in log\n",
      "  \n",
      "[Parallel(n_jobs=1)]: Done   1 out of   1 | elapsed:    2.6s remaining:    0.0s\n"
     ]
    },
    {
     "name": "stdout",
     "output_type": "stream",
     "text": [
      "[CV] ................................ , score=-0.266111, total=   2.6s\n",
      "[CV]  ................................................................\n"
     ]
    },
    {
     "name": "stderr",
     "output_type": "stream",
     "text": [
      "/Applications/anaconda/envs/tensorflow/lib/python3.6/site-packages/ipykernel_launcher.py:2: RuntimeWarning: invalid value encountered in log\n",
      "  \n",
      "[Parallel(n_jobs=1)]: Done   2 out of   2 | elapsed:    5.0s remaining:    0.0s\n"
     ]
    },
    {
     "name": "stdout",
     "output_type": "stream",
     "text": [
      "[CV] ................................ , score=-0.591429, total=   2.4s\n",
      "[CV]  ................................................................\n"
     ]
    },
    {
     "name": "stderr",
     "output_type": "stream",
     "text": [
      "/Applications/anaconda/envs/tensorflow/lib/python3.6/site-packages/ipykernel_launcher.py:2: RuntimeWarning: invalid value encountered in log\n",
      "  \n",
      "[Parallel(n_jobs=1)]: Done   3 out of   3 | elapsed:    7.2s remaining:    0.0s\n"
     ]
    },
    {
     "name": "stdout",
     "output_type": "stream",
     "text": [
      "[CV] ................................ , score=-0.685187, total=   2.2s\n",
      "[CV]  ................................................................\n"
     ]
    },
    {
     "name": "stderr",
     "output_type": "stream",
     "text": [
      "/Applications/anaconda/envs/tensorflow/lib/python3.6/site-packages/ipykernel_launcher.py:2: RuntimeWarning: invalid value encountered in log\n",
      "  \n",
      "[Parallel(n_jobs=1)]: Done   4 out of   4 | elapsed:    9.6s remaining:    0.0s\n"
     ]
    },
    {
     "name": "stdout",
     "output_type": "stream",
     "text": [
      "[CV] ................................ , score=-0.510681, total=   2.4s\n",
      "[CV]  ................................................................\n",
      "[CV] ................................ , score=-0.584983, total=   2.6s\n",
      "Linear Regression without optimization will have rmsle score of : -0.527678379994\n"
     ]
    },
    {
     "name": "stderr",
     "output_type": "stream",
     "text": [
      "/Applications/anaconda/envs/tensorflow/lib/python3.6/site-packages/ipykernel_launcher.py:2: RuntimeWarning: invalid value encountered in log\n",
      "  \n",
      "[Parallel(n_jobs=1)]: Done   5 out of   5 | elapsed:   12.2s remaining:    0.0s\n",
      "[Parallel(n_jobs=1)]: Done   5 out of   5 | elapsed:   12.2s finished\n"
     ]
    }
   ],
   "source": [
    "lr_score = cross_val_score(lr_regressor, train_data_X, train_data_y, cv = 5, verbose = 10, scoring = scorer)\n",
    "lr_score = np.mean(lr_score)\n",
    "print (\"Linear Regression without optimization will have rmsle score of : \" + str(lr_score))"
   ]
  },
  {
   "cell_type": "markdown",
   "metadata": {},
   "source": [
    "#### Results:\n",
    "\n",
    "|     Rmsle Score   | Linear Regression | Deep Learning (ANN) | Gradient Boosting (XGBoost) |\n",
    "| :------------: | :-----------------: | :---------------: | :-------------: | \n",
    "| Un-optimized Model |       -0.528        |      -0.591       |     -0.481      |\n",
    "| Optimized Model       |       Not Applicable        |      0.0       |     0.0      |"
   ]
  },
  {
   "cell_type": "code",
   "execution_count": null,
   "metadata": {
    "collapsed": true
   },
   "outputs": [],
   "source": [
    "def submit(test_data, y_pred, filename, training, model, scores = 0):\n",
    "\n",
    "    results = pd.DataFrame({\n",
    "    'id' : test_data['id'].astype(np.int32),\n",
    "    'price_doc' : y_pred\n",
    "    })\n",
    "\n",
    "    scoreStr = \"{:.3f}\".format(scores)\n",
    "    \n",
    "    if(training):\n",
    "        results.to_csv(\"./training_\" + model + \"_\" + filename + \"_\" + scoreStr + \".csv\", index=False)\n",
    "    else:\n",
    "        results.to_csv(\"./test_\" + model + \"_\" + filename + \"_\" + scoreStr + \".csv\", index=False)\n"
   ]
  },
  {
   "cell_type": "code",
   "execution_count": null,
   "metadata": {
    "collapsed": true
   },
   "outputs": [],
   "source": []
  }
 ],
 "metadata": {
  "kernelspec": {
   "display_name": "Python 3",
   "language": "python",
   "name": "python3"
  },
  "language_info": {
   "codemirror_mode": {
    "name": "ipython",
    "version": 3
   },
   "file_extension": ".py",
   "mimetype": "text/x-python",
   "name": "python",
   "nbconvert_exporter": "python",
   "pygments_lexer": "ipython3",
   "version": "3.6.1"
  }
 },
 "nbformat": 4,
 "nbformat_minor": 1
}
